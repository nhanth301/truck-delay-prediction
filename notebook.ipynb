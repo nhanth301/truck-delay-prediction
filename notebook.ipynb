{
 "cells": [
  {
   "cell_type": "markdown",
   "id": "4bcf7852",
   "metadata": {},
   "source": [
    "# Data Summary\n",
    "\n",
    "The dataset consists of **seven tables** as follows:\n",
    "\n",
    "---"
   ]
  },
  {
   "cell_type": "markdown",
   "id": "4553c6d7",
   "metadata": {},
   "source": [
    "#### 1. `drivers_table`\n",
    "Contains information about truck drivers (9 fields):\n",
    "- **driver_id**: unique identification for each driver  \n",
    "- **name**: name of the truck driver  \n",
    "- **gender**: gender of the truck driver  \n",
    "- **age**: age of the truck driver  \n",
    "- **experience**: experience of the truck driver in years  \n",
    "- **driving_style**: driving style (`conservative` or `proactive`)  \n",
    "- **ratings**: average rating on a scale of 1 to 10  \n",
    "- **vehicle_no**: the truck number  \n",
    "- **average_speed_mph**: average speed in miles per hour  "
   ]
  },
  {
   "cell_type": "markdown",
   "id": "e66cee8c",
   "metadata": {},
   "source": [
    "#### 2. `trucks_table`\n",
    "Contains information about trucks (5 fields):\n",
    "- **truck_id**: unique truck identifier  \n",
    "- **truck_age**: age of the truck in years  \n",
    "- **load_capacity_pounds**: loading capacity in pounds  \n",
    "- **mileage_mpg**: mileage in miles per gallon  \n",
    "- **fuel_type**: type of fuel  "
   ]
  },
  {
   "cell_type": "markdown",
   "id": "d76db75c",
   "metadata": {},
   "source": [
    "#### 3. `routes_table`\n",
    "Contains route details (5 fields):\n",
    "- **route_id**: unique route identifier  \n",
    "- **origin_id**: city ID for the origin city  \n",
    "- **destination_id**: city ID for the destination city  \n",
    "- **distance**: distance between origin and destination (miles)  \n",
    "- **average_hours**: average travel time (hours) "
   ]
  },
  {
   "cell_type": "markdown",
   "id": "e5921f12",
   "metadata": {},
   "source": [
    "#### 4. `traffic_data`\n",
    "Contains traffic information for routes on an hourly basis (5 fields):\n",
    "- **route_id**: route identifier  \n",
    "- **date**: observation date  \n",
    "- **hour**: hour of observation (0-23)  \n",
    "- **no_of_vehicles**: number of vehicles observed  \n",
    "- **accident**: binary variable indicating if an accident occurred  "
   ]
  },
  {
   "cell_type": "markdown",
   "id": "b70696bd",
   "metadata": {},
   "source": [
    "#### 5. `truck_schedule_table`\n",
    "Contains historical truck schedule data and delays (5 fields):\n",
    "- **truck_id**: truck identifier  \n",
    "- **route_id**: route identifier  \n",
    "- **departure_date**: departure datetime  \n",
    "- **estimated_arrival**: estimated arrival datetime  \n",
    "- **delay**: binary variable (0 = on-time, 1 = delayed)  "
   ]
  },
  {
   "cell_type": "markdown",
   "id": "c69dcf15",
   "metadata": {},
   "source": [
    "#### 6. `city_weather`\n",
    "Contains historical city weather data (14 fields):\n",
    "- **city_id**: city identifier  \n",
    "- **date**: observation date  \n",
    "- **hour**: hour of observation (0-23)  \n",
    "- **temp(°F)**: temperature in Fahrenheit  \n",
    "- **wind_speed**: wind speed (mph)  \n",
    "- **description**: weather description (Clear, Cloudy, etc.)  \n",
    "- **precip**: precipitation in inches  \n",
    "- **humidity**: humidity observed  \n",
    "- **visibility**: visibility in miles  \n",
    "- **pressure**: pressure in millibar  \n",
    "- **chanceofrain**: chance of rain  \n",
    "- **chanceoffog**: chance of fog  \n",
    "- **chanceofsnow**: chance of snow  \n",
    "- **chanceofthunder**: chance of thunder  "
   ]
  },
  {
   "cell_type": "markdown",
   "id": "f7b6495a",
   "metadata": {},
   "source": [
    "#### 7. `routes_weather`\n",
    "Contains historical route weather data (13 fields):\n",
    "- **route_id**: unique route identifier  \n",
    "- **date**: datetime of observation  \n",
    "- **temp(°F)**: temperature in Fahrenheit  \n",
    "- **wind_speed**: wind speed (mph)  \n",
    "- **description**: weather description  \n",
    "- **precip**: precipitation in inches  \n",
    "- **humidity**: humidity observed  \n",
    "- **visibility**: visibility in miles  \n",
    "- **pressure**: pressure in millibar  \n",
    "- **chanceofrain**: chance of rain  \n",
    "- **chanceoffog**: chance of fog  \n",
    "- **chanceofsnow**: chance of snow  \n",
    "- **chanceofthunder**: chance of thunder  "
   ]
  },
  {
   "cell_type": "code",
   "execution_count": 1,
   "id": "13d9c5d6",
   "metadata": {},
   "outputs": [],
   "source": [
    "import warnings\n",
    "warnings.filterwarnings('ignore')"
   ]
  },
  {
   "cell_type": "markdown",
   "id": "e1245034",
   "metadata": {},
   "source": [
    "# Postgres"
   ]
  },
  {
   "cell_type": "code",
   "execution_count": 2,
   "id": "5de15933",
   "metadata": {},
   "outputs": [],
   "source": [
    "import psycopg2\n",
    "import pandas as pd\n",
    "\n",
    "postgres_connection = psycopg2.connect(\n",
    "    user=\"postgres\",           \n",
    "    password=\"root\",    \n",
    "    host=\"localhost\",  \n",
    "    database=\"truckDB\",              \n",
    "    port=\"5432\"                  \n",
    ")"
   ]
  },
  {
   "cell_type": "code",
   "execution_count": 3,
   "id": "1601c839",
   "metadata": {},
   "outputs": [
    {
     "data": {
      "text/html": [
       "<div>\n",
       "<style scoped>\n",
       "    .dataframe tbody tr th:only-of-type {\n",
       "        vertical-align: middle;\n",
       "    }\n",
       "\n",
       "    .dataframe tbody tr th {\n",
       "        vertical-align: top;\n",
       "    }\n",
       "\n",
       "    .dataframe thead th {\n",
       "        text-align: right;\n",
       "    }\n",
       "</style>\n",
       "<table border=\"1\" class=\"dataframe\">\n",
       "  <thead>\n",
       "    <tr style=\"text-align: right;\">\n",
       "      <th></th>\n",
       "      <th>route_id</th>\n",
       "      <th>origin_id</th>\n",
       "      <th>destination_id</th>\n",
       "      <th>distance</th>\n",
       "      <th>average_hours</th>\n",
       "    </tr>\n",
       "  </thead>\n",
       "  <tbody>\n",
       "    <tr>\n",
       "      <th>0</th>\n",
       "      <td>R-ada2a391</td>\n",
       "      <td>C-927ceb5e</td>\n",
       "      <td>C-56e39a5e</td>\n",
       "      <td>1735.06</td>\n",
       "      <td>34.70</td>\n",
       "    </tr>\n",
       "    <tr>\n",
       "      <th>1</th>\n",
       "      <td>R-ae0ef31f</td>\n",
       "      <td>C-927ceb5e</td>\n",
       "      <td>C-73ae5412</td>\n",
       "      <td>1498.24</td>\n",
       "      <td>29.96</td>\n",
       "    </tr>\n",
       "    <tr>\n",
       "      <th>2</th>\n",
       "      <td>R-4beec5fd</td>\n",
       "      <td>C-927ceb5e</td>\n",
       "      <td>C-4fe0fa24</td>\n",
       "      <td>6078.46</td>\n",
       "      <td>121.57</td>\n",
       "    </tr>\n",
       "    <tr>\n",
       "      <th>3</th>\n",
       "      <td>R-8d7a7fb2</td>\n",
       "      <td>C-927ceb5e</td>\n",
       "      <td>C-451776b7</td>\n",
       "      <td>1543.01</td>\n",
       "      <td>30.86</td>\n",
       "    </tr>\n",
       "    <tr>\n",
       "      <th>4</th>\n",
       "      <td>R-b236e347</td>\n",
       "      <td>C-927ceb5e</td>\n",
       "      <td>C-d80a1e7d</td>\n",
       "      <td>310.75</td>\n",
       "      <td>6.22</td>\n",
       "    </tr>\n",
       "  </tbody>\n",
       "</table>\n",
       "</div>"
      ],
      "text/plain": [
       "     route_id   origin_id destination_id  distance  average_hours\n",
       "0  R-ada2a391  C-927ceb5e     C-56e39a5e   1735.06          34.70\n",
       "1  R-ae0ef31f  C-927ceb5e     C-73ae5412   1498.24          29.96\n",
       "2  R-4beec5fd  C-927ceb5e     C-4fe0fa24   6078.46         121.57\n",
       "3  R-8d7a7fb2  C-927ceb5e     C-451776b7   1543.01          30.86\n",
       "4  R-b236e347  C-927ceb5e     C-d80a1e7d    310.75           6.22"
      ]
     },
     "execution_count": 3,
     "metadata": {},
     "output_type": "execute_result"
    }
   ],
   "source": [
    "routes_df = pd.read_sql(\"select * from routes_details\", postgres_connection)\n",
    "routes_df.head()"
   ]
  },
  {
   "cell_type": "code",
   "execution_count": 4,
   "id": "d2a9f24c",
   "metadata": {},
   "outputs": [
    {
     "data": {
      "text/html": [
       "<div>\n",
       "<style scoped>\n",
       "    .dataframe tbody tr th:only-of-type {\n",
       "        vertical-align: middle;\n",
       "    }\n",
       "\n",
       "    .dataframe tbody tr th {\n",
       "        vertical-align: top;\n",
       "    }\n",
       "\n",
       "    .dataframe thead th {\n",
       "        text-align: right;\n",
       "    }\n",
       "</style>\n",
       "<table border=\"1\" class=\"dataframe\">\n",
       "  <thead>\n",
       "    <tr style=\"text-align: right;\">\n",
       "      <th></th>\n",
       "      <th>route_id</th>\n",
       "      <th>Date</th>\n",
       "      <th>temp</th>\n",
       "      <th>wind_speed</th>\n",
       "      <th>description</th>\n",
       "      <th>precip</th>\n",
       "      <th>humidity</th>\n",
       "      <th>visibility</th>\n",
       "      <th>pressure</th>\n",
       "      <th>chanceofrain</th>\n",
       "      <th>chanceoffog</th>\n",
       "      <th>chanceofsnow</th>\n",
       "      <th>chanceofthunder</th>\n",
       "    </tr>\n",
       "  </thead>\n",
       "  <tbody>\n",
       "    <tr>\n",
       "      <th>0</th>\n",
       "      <td>R-ada2a391</td>\n",
       "      <td>2019-01-01 00:00:00</td>\n",
       "      <td>30.0</td>\n",
       "      <td>11.0</td>\n",
       "      <td>Heavy snow</td>\n",
       "      <td>0.0</td>\n",
       "      <td>90</td>\n",
       "      <td>1.0</td>\n",
       "      <td>1010</td>\n",
       "      <td>0</td>\n",
       "      <td>0</td>\n",
       "      <td>0</td>\n",
       "      <td>0</td>\n",
       "    </tr>\n",
       "    <tr>\n",
       "      <th>1</th>\n",
       "      <td>R-ada2a391</td>\n",
       "      <td>2019-01-01 06:00:00</td>\n",
       "      <td>30.0</td>\n",
       "      <td>11.0</td>\n",
       "      <td>Heavy snow</td>\n",
       "      <td>0.0</td>\n",
       "      <td>91</td>\n",
       "      <td>3.0</td>\n",
       "      <td>1012</td>\n",
       "      <td>0</td>\n",
       "      <td>0</td>\n",
       "      <td>0</td>\n",
       "      <td>0</td>\n",
       "    </tr>\n",
       "    <tr>\n",
       "      <th>2</th>\n",
       "      <td>R-ada2a391</td>\n",
       "      <td>2019-01-02 00:00:00</td>\n",
       "      <td>28.0</td>\n",
       "      <td>11.0</td>\n",
       "      <td>Cloudy</td>\n",
       "      <td>0.0</td>\n",
       "      <td>91</td>\n",
       "      <td>4.0</td>\n",
       "      <td>1013</td>\n",
       "      <td>0</td>\n",
       "      <td>0</td>\n",
       "      <td>0</td>\n",
       "      <td>0</td>\n",
       "    </tr>\n",
       "    <tr>\n",
       "      <th>3</th>\n",
       "      <td>R-ada2a391</td>\n",
       "      <td>2019-01-02 06:00:00</td>\n",
       "      <td>27.0</td>\n",
       "      <td>11.0</td>\n",
       "      <td>Cloudy</td>\n",
       "      <td>0.0</td>\n",
       "      <td>92</td>\n",
       "      <td>6.0</td>\n",
       "      <td>1015</td>\n",
       "      <td>0</td>\n",
       "      <td>0</td>\n",
       "      <td>0</td>\n",
       "      <td>0</td>\n",
       "    </tr>\n",
       "    <tr>\n",
       "      <th>4</th>\n",
       "      <td>R-ada2a391</td>\n",
       "      <td>2019-01-03 00:00:00</td>\n",
       "      <td>27.0</td>\n",
       "      <td>9.0</td>\n",
       "      <td>Cloudy</td>\n",
       "      <td>0.0</td>\n",
       "      <td>93</td>\n",
       "      <td>6.0</td>\n",
       "      <td>1016</td>\n",
       "      <td>0</td>\n",
       "      <td>0</td>\n",
       "      <td>0</td>\n",
       "      <td>0</td>\n",
       "    </tr>\n",
       "  </tbody>\n",
       "</table>\n",
       "</div>"
      ],
      "text/plain": [
       "     route_id                Date  temp  wind_speed description  precip  \\\n",
       "0  R-ada2a391 2019-01-01 00:00:00  30.0        11.0  Heavy snow     0.0   \n",
       "1  R-ada2a391 2019-01-01 06:00:00  30.0        11.0  Heavy snow     0.0   \n",
       "2  R-ada2a391 2019-01-02 00:00:00  28.0        11.0      Cloudy     0.0   \n",
       "3  R-ada2a391 2019-01-02 06:00:00  27.0        11.0      Cloudy     0.0   \n",
       "4  R-ada2a391 2019-01-03 00:00:00  27.0         9.0      Cloudy     0.0   \n",
       "\n",
       "   humidity  visibility  pressure  chanceofrain  chanceoffog  chanceofsnow  \\\n",
       "0        90         1.0      1010             0            0             0   \n",
       "1        91         3.0      1012             0            0             0   \n",
       "2        91         4.0      1013             0            0             0   \n",
       "3        92         6.0      1015             0            0             0   \n",
       "4        93         6.0      1016             0            0             0   \n",
       "\n",
       "   chanceofthunder  \n",
       "0                0  \n",
       "1                0  \n",
       "2                0  \n",
       "3                0  \n",
       "4                0  "
      ]
     },
     "execution_count": 4,
     "metadata": {},
     "output_type": "execute_result"
    }
   ],
   "source": [
    "route_weather = pd.read_sql(\"Select * from routes_weather\", postgres_connection)\n",
    "route_weather.head()"
   ]
  },
  {
   "cell_type": "markdown",
   "id": "d0c1afe0",
   "metadata": {},
   "source": [
    "# MySQL"
   ]
  },
  {
   "cell_type": "code",
   "execution_count": 5,
   "id": "e79e85d6",
   "metadata": {},
   "outputs": [],
   "source": [
    "import pymysql\n",
    "import numpy as np\n",
    "\n",
    "mysql_connection = pymysql.connect(\n",
    "     host = \"localhost\",  \n",
    "     user = \"root\",                       \n",
    "     password = \"123456\",           \n",
    "     database = \"truckDB\"                 \n",
    ")\n"
   ]
  },
  {
   "cell_type": "code",
   "execution_count": 6,
   "id": "3f2bad8f",
   "metadata": {},
   "outputs": [
    {
     "data": {
      "text/html": [
       "<div>\n",
       "<style scoped>\n",
       "    .dataframe tbody tr th:only-of-type {\n",
       "        vertical-align: middle;\n",
       "    }\n",
       "\n",
       "    .dataframe tbody tr th {\n",
       "        vertical-align: top;\n",
       "    }\n",
       "\n",
       "    .dataframe thead th {\n",
       "        text-align: right;\n",
       "    }\n",
       "</style>\n",
       "<table border=\"1\" class=\"dataframe\">\n",
       "  <thead>\n",
       "    <tr style=\"text-align: right;\">\n",
       "      <th></th>\n",
       "      <th>truck_id</th>\n",
       "      <th>truck_age</th>\n",
       "      <th>load_capacity_pounds</th>\n",
       "      <th>mileage_mpg</th>\n",
       "      <th>fuel_type</th>\n",
       "    </tr>\n",
       "  </thead>\n",
       "  <tbody>\n",
       "    <tr>\n",
       "      <th>0</th>\n",
       "      <td>42302347</td>\n",
       "      <td>10</td>\n",
       "      <td>3000.0</td>\n",
       "      <td>17</td>\n",
       "      <td>gas</td>\n",
       "    </tr>\n",
       "    <tr>\n",
       "      <th>1</th>\n",
       "      <td>27867488</td>\n",
       "      <td>14</td>\n",
       "      <td>10000.0</td>\n",
       "      <td>22</td>\n",
       "      <td>diesel</td>\n",
       "    </tr>\n",
       "    <tr>\n",
       "      <th>2</th>\n",
       "      <td>13927774</td>\n",
       "      <td>8</td>\n",
       "      <td>10000.0</td>\n",
       "      <td>19</td>\n",
       "      <td>gas</td>\n",
       "    </tr>\n",
       "    <tr>\n",
       "      <th>3</th>\n",
       "      <td>69577118</td>\n",
       "      <td>8</td>\n",
       "      <td>20000.0</td>\n",
       "      <td>19</td>\n",
       "      <td>gas</td>\n",
       "    </tr>\n",
       "    <tr>\n",
       "      <th>4</th>\n",
       "      <td>28650047</td>\n",
       "      <td>10</td>\n",
       "      <td>4000.0</td>\n",
       "      <td>21</td>\n",
       "      <td>diesel</td>\n",
       "    </tr>\n",
       "  </tbody>\n",
       "</table>\n",
       "</div>"
      ],
      "text/plain": [
       "   truck_id  truck_age  load_capacity_pounds  mileage_mpg fuel_type\n",
       "0  42302347         10                3000.0           17       gas\n",
       "1  27867488         14               10000.0           22    diesel\n",
       "2  13927774          8               10000.0           19       gas\n",
       "3  69577118          8               20000.0           19       gas\n",
       "4  28650047         10                4000.0           21    diesel"
      ]
     },
     "execution_count": 6,
     "metadata": {},
     "output_type": "execute_result"
    }
   ],
   "source": [
    "trucks_df = pd.read_sql(\"select * from truck_details\", mysql_connection)\n",
    "trucks_df.head()"
   ]
  },
  {
   "cell_type": "code",
   "execution_count": 7,
   "id": "9e419c3e",
   "metadata": {},
   "outputs": [
    {
     "data": {
      "text/html": [
       "<div>\n",
       "<style scoped>\n",
       "    .dataframe tbody tr th:only-of-type {\n",
       "        vertical-align: middle;\n",
       "    }\n",
       "\n",
       "    .dataframe tbody tr th {\n",
       "        vertical-align: top;\n",
       "    }\n",
       "\n",
       "    .dataframe thead th {\n",
       "        text-align: right;\n",
       "    }\n",
       "</style>\n",
       "<table border=\"1\" class=\"dataframe\">\n",
       "  <thead>\n",
       "    <tr style=\"text-align: right;\">\n",
       "      <th></th>\n",
       "      <th>route_id</th>\n",
       "      <th>date</th>\n",
       "      <th>hour</th>\n",
       "      <th>no_of_vehicles</th>\n",
       "      <th>accident</th>\n",
       "    </tr>\n",
       "  </thead>\n",
       "  <tbody>\n",
       "    <tr>\n",
       "      <th>0</th>\n",
       "      <td>R-ada2a391</td>\n",
       "      <td>2019-01-01</td>\n",
       "      <td>0</td>\n",
       "      <td>669.0</td>\n",
       "      <td>0</td>\n",
       "    </tr>\n",
       "    <tr>\n",
       "      <th>1</th>\n",
       "      <td>R-ada2a391</td>\n",
       "      <td>2019-01-01</td>\n",
       "      <td>100</td>\n",
       "      <td>628.0</td>\n",
       "      <td>0</td>\n",
       "    </tr>\n",
       "    <tr>\n",
       "      <th>2</th>\n",
       "      <td>R-ada2a391</td>\n",
       "      <td>2019-01-01</td>\n",
       "      <td>200</td>\n",
       "      <td>516.0</td>\n",
       "      <td>0</td>\n",
       "    </tr>\n",
       "    <tr>\n",
       "      <th>3</th>\n",
       "      <td>R-ada2a391</td>\n",
       "      <td>2019-01-01</td>\n",
       "      <td>300</td>\n",
       "      <td>582.0</td>\n",
       "      <td>0</td>\n",
       "    </tr>\n",
       "    <tr>\n",
       "      <th>4</th>\n",
       "      <td>R-ada2a391</td>\n",
       "      <td>2019-01-01</td>\n",
       "      <td>400</td>\n",
       "      <td>564.0</td>\n",
       "      <td>0</td>\n",
       "    </tr>\n",
       "  </tbody>\n",
       "</table>\n",
       "</div>"
      ],
      "text/plain": [
       "     route_id        date  hour  no_of_vehicles  accident\n",
       "0  R-ada2a391  2019-01-01     0           669.0         0\n",
       "1  R-ada2a391  2019-01-01   100           628.0         0\n",
       "2  R-ada2a391  2019-01-01   200           516.0         0\n",
       "3  R-ada2a391  2019-01-01   300           582.0         0\n",
       "4  R-ada2a391  2019-01-01   400           564.0         0"
      ]
     },
     "execution_count": 7,
     "metadata": {},
     "output_type": "execute_result"
    }
   ],
   "source": [
    "traffic_df = pd.read_sql(\"select * from traffic_details\", mysql_connection)\n",
    "traffic_df.head()"
   ]
  },
  {
   "cell_type": "code",
   "execution_count": 8,
   "id": "c4cae9fd",
   "metadata": {},
   "outputs": [
    {
     "data": {
      "text/html": [
       "<div>\n",
       "<style scoped>\n",
       "    .dataframe tbody tr th:only-of-type {\n",
       "        vertical-align: middle;\n",
       "    }\n",
       "\n",
       "    .dataframe tbody tr th {\n",
       "        vertical-align: top;\n",
       "    }\n",
       "\n",
       "    .dataframe thead th {\n",
       "        text-align: right;\n",
       "    }\n",
       "</style>\n",
       "<table border=\"1\" class=\"dataframe\">\n",
       "  <thead>\n",
       "    <tr style=\"text-align: right;\">\n",
       "      <th></th>\n",
       "      <th>truck_id</th>\n",
       "      <th>route_id</th>\n",
       "      <th>departure_date</th>\n",
       "      <th>estimated_arrival</th>\n",
       "      <th>delay</th>\n",
       "    </tr>\n",
       "  </thead>\n",
       "  <tbody>\n",
       "    <tr>\n",
       "      <th>0</th>\n",
       "      <td>30312694</td>\n",
       "      <td>R-b236e347</td>\n",
       "      <td>2019-01-01 07:00:00</td>\n",
       "      <td>2019-01-01 13:13:12.</td>\n",
       "      <td>0</td>\n",
       "    </tr>\n",
       "    <tr>\n",
       "      <th>1</th>\n",
       "      <td>59856374</td>\n",
       "      <td>R-29ea762e</td>\n",
       "      <td>2019-01-01 07:00:00</td>\n",
       "      <td>2019-01-02 04:01:12.</td>\n",
       "      <td>0</td>\n",
       "    </tr>\n",
       "    <tr>\n",
       "      <th>2</th>\n",
       "      <td>12602955</td>\n",
       "      <td>R-a3d67783</td>\n",
       "      <td>2019-01-01 07:00:00</td>\n",
       "      <td>2019-01-01 07:45:36.</td>\n",
       "      <td>0</td>\n",
       "    </tr>\n",
       "    <tr>\n",
       "      <th>3</th>\n",
       "      <td>46619422</td>\n",
       "      <td>R-31ec9310</td>\n",
       "      <td>2019-01-01 07:00:00</td>\n",
       "      <td>2019-01-01 20:46:48.</td>\n",
       "      <td>0</td>\n",
       "    </tr>\n",
       "    <tr>\n",
       "      <th>4</th>\n",
       "      <td>10140178</td>\n",
       "      <td>R-a07c5dbd</td>\n",
       "      <td>2019-01-01 07:00:00</td>\n",
       "      <td>2019-01-01 21:34:11.</td>\n",
       "      <td>0</td>\n",
       "    </tr>\n",
       "  </tbody>\n",
       "</table>\n",
       "</div>"
      ],
      "text/plain": [
       "   truck_id    route_id      departure_date     estimated_arrival  delay\n",
       "0  30312694  R-b236e347 2019-01-01 07:00:00  2019-01-01 13:13:12.      0\n",
       "1  59856374  R-29ea762e 2019-01-01 07:00:00  2019-01-02 04:01:12.      0\n",
       "2  12602955  R-a3d67783 2019-01-01 07:00:00  2019-01-01 07:45:36.      0\n",
       "3  46619422  R-31ec9310 2019-01-01 07:00:00  2019-01-01 20:46:48.      0\n",
       "4  10140178  R-a07c5dbd 2019-01-01 07:00:00  2019-01-01 21:34:11.      0"
      ]
     },
     "execution_count": 8,
     "metadata": {},
     "output_type": "execute_result"
    }
   ],
   "source": [
    "schedule_df = pd.read_sql(\"select * from truck_schedule_data\", mysql_connection)\n",
    "schedule_df.head()"
   ]
  },
  {
   "cell_type": "code",
   "execution_count": 9,
   "id": "aafbff5d",
   "metadata": {},
   "outputs": [
    {
     "data": {
      "text/html": [
       "<div>\n",
       "<style scoped>\n",
       "    .dataframe tbody tr th:only-of-type {\n",
       "        vertical-align: middle;\n",
       "    }\n",
       "\n",
       "    .dataframe tbody tr th {\n",
       "        vertical-align: top;\n",
       "    }\n",
       "\n",
       "    .dataframe thead th {\n",
       "        text-align: right;\n",
       "    }\n",
       "</style>\n",
       "<table border=\"1\" class=\"dataframe\">\n",
       "  <thead>\n",
       "    <tr style=\"text-align: right;\">\n",
       "      <th></th>\n",
       "      <th>city_id</th>\n",
       "      <th>date</th>\n",
       "      <th>hour</th>\n",
       "      <th>temp</th>\n",
       "      <th>wind_speed</th>\n",
       "      <th>description</th>\n",
       "      <th>precip</th>\n",
       "      <th>humidity</th>\n",
       "      <th>visibility</th>\n",
       "      <th>pressure</th>\n",
       "      <th>chanceofrain</th>\n",
       "      <th>chanceoffog</th>\n",
       "      <th>chanceofsnow</th>\n",
       "      <th>chanceofthunder</th>\n",
       "    </tr>\n",
       "  </thead>\n",
       "  <tbody>\n",
       "    <tr>\n",
       "      <th>0</th>\n",
       "      <td>C-927ceb5e</td>\n",
       "      <td>2019-01-01</td>\n",
       "      <td>0</td>\n",
       "      <td>30.0</td>\n",
       "      <td>11.0</td>\n",
       "      <td>Light snow</td>\n",
       "      <td>0.0</td>\n",
       "      <td>86</td>\n",
       "      <td>6.0</td>\n",
       "      <td>1019.0</td>\n",
       "      <td>0.0</td>\n",
       "      <td>0.0</td>\n",
       "      <td>0.0</td>\n",
       "      <td>0.0</td>\n",
       "    </tr>\n",
       "    <tr>\n",
       "      <th>1</th>\n",
       "      <td>C-927ceb5e</td>\n",
       "      <td>2019-01-01</td>\n",
       "      <td>100</td>\n",
       "      <td>28.0</td>\n",
       "      <td>12.0</td>\n",
       "      <td>Light snow</td>\n",
       "      <td>0.0</td>\n",
       "      <td>86</td>\n",
       "      <td>5.0</td>\n",
       "      <td>1021.0</td>\n",
       "      <td>0.0</td>\n",
       "      <td>0.0</td>\n",
       "      <td>0.0</td>\n",
       "      <td>0.0</td>\n",
       "    </tr>\n",
       "    <tr>\n",
       "      <th>2</th>\n",
       "      <td>C-927ceb5e</td>\n",
       "      <td>2019-01-01</td>\n",
       "      <td>200</td>\n",
       "      <td>28.0</td>\n",
       "      <td>13.0</td>\n",
       "      <td>Moderate snow</td>\n",
       "      <td>0.0</td>\n",
       "      <td>85</td>\n",
       "      <td>4.0</td>\n",
       "      <td>1022.0</td>\n",
       "      <td>0.0</td>\n",
       "      <td>0.0</td>\n",
       "      <td>0.0</td>\n",
       "      <td>0.0</td>\n",
       "    </tr>\n",
       "    <tr>\n",
       "      <th>3</th>\n",
       "      <td>C-927ceb5e</td>\n",
       "      <td>2019-01-01</td>\n",
       "      <td>300</td>\n",
       "      <td>28.0</td>\n",
       "      <td>14.0</td>\n",
       "      <td>Moderate snow</td>\n",
       "      <td>0.0</td>\n",
       "      <td>84</td>\n",
       "      <td>3.0</td>\n",
       "      <td>1024.0</td>\n",
       "      <td>0.0</td>\n",
       "      <td>0.0</td>\n",
       "      <td>0.0</td>\n",
       "      <td>0.0</td>\n",
       "    </tr>\n",
       "    <tr>\n",
       "      <th>4</th>\n",
       "      <td>C-927ceb5e</td>\n",
       "      <td>2019-01-01</td>\n",
       "      <td>400</td>\n",
       "      <td>28.0</td>\n",
       "      <td>13.0</td>\n",
       "      <td>Moderate snow</td>\n",
       "      <td>0.0</td>\n",
       "      <td>84</td>\n",
       "      <td>3.0</td>\n",
       "      <td>1025.0</td>\n",
       "      <td>0.0</td>\n",
       "      <td>0.0</td>\n",
       "      <td>0.0</td>\n",
       "      <td>0.0</td>\n",
       "    </tr>\n",
       "  </tbody>\n",
       "</table>\n",
       "</div>"
      ],
      "text/plain": [
       "      city_id        date  hour  temp  wind_speed    description  precip  \\\n",
       "0  C-927ceb5e  2019-01-01     0  30.0        11.0     Light snow     0.0   \n",
       "1  C-927ceb5e  2019-01-01   100  28.0        12.0     Light snow     0.0   \n",
       "2  C-927ceb5e  2019-01-01   200  28.0        13.0  Moderate snow     0.0   \n",
       "3  C-927ceb5e  2019-01-01   300  28.0        14.0  Moderate snow     0.0   \n",
       "4  C-927ceb5e  2019-01-01   400  28.0        13.0  Moderate snow     0.0   \n",
       "\n",
       "   humidity  visibility  pressure  chanceofrain  chanceoffog  chanceofsnow  \\\n",
       "0        86         6.0    1019.0           0.0          0.0           0.0   \n",
       "1        86         5.0    1021.0           0.0          0.0           0.0   \n",
       "2        85         4.0    1022.0           0.0          0.0           0.0   \n",
       "3        84         3.0    1024.0           0.0          0.0           0.0   \n",
       "4        84         3.0    1025.0           0.0          0.0           0.0   \n",
       "\n",
       "   chanceofthunder  \n",
       "0              0.0  \n",
       "1              0.0  \n",
       "2              0.0  \n",
       "3              0.0  \n",
       "4              0.0  "
      ]
     },
     "execution_count": 9,
     "metadata": {},
     "output_type": "execute_result"
    }
   ],
   "source": [
    "weather_df = pd.read_sql(\"select * from city_weather\", mysql_connection)\n",
    "weather_df.head()"
   ]
  },
  {
   "cell_type": "code",
   "execution_count": 10,
   "id": "c765816c",
   "metadata": {},
   "outputs": [
    {
     "data": {
      "text/html": [
       "<div>\n",
       "<style scoped>\n",
       "    .dataframe tbody tr th:only-of-type {\n",
       "        vertical-align: middle;\n",
       "    }\n",
       "\n",
       "    .dataframe tbody tr th {\n",
       "        vertical-align: top;\n",
       "    }\n",
       "\n",
       "    .dataframe thead th {\n",
       "        text-align: right;\n",
       "    }\n",
       "</style>\n",
       "<table border=\"1\" class=\"dataframe\">\n",
       "  <thead>\n",
       "    <tr style=\"text-align: right;\">\n",
       "      <th></th>\n",
       "      <th>driver_id</th>\n",
       "      <th>name</th>\n",
       "      <th>gender</th>\n",
       "      <th>age</th>\n",
       "      <th>experience</th>\n",
       "      <th>driving_style</th>\n",
       "      <th>ratings</th>\n",
       "      <th>vehicle_no</th>\n",
       "      <th>average_speed_mph</th>\n",
       "    </tr>\n",
       "  </thead>\n",
       "  <tbody>\n",
       "    <tr>\n",
       "      <th>0</th>\n",
       "      <td>d9f30553-6</td>\n",
       "      <td>Daniel Marks</td>\n",
       "      <td>male</td>\n",
       "      <td>47</td>\n",
       "      <td>5</td>\n",
       "      <td>proactive</td>\n",
       "      <td>7</td>\n",
       "      <td>42302347</td>\n",
       "      <td>62.22</td>\n",
       "    </tr>\n",
       "    <tr>\n",
       "      <th>1</th>\n",
       "      <td>82de7bb8-2</td>\n",
       "      <td>Clifford Carr</td>\n",
       "      <td>male</td>\n",
       "      <td>47</td>\n",
       "      <td>14</td>\n",
       "      <td>proactive</td>\n",
       "      <td>4</td>\n",
       "      <td>27867488</td>\n",
       "      <td>60.89</td>\n",
       "    </tr>\n",
       "    <tr>\n",
       "      <th>2</th>\n",
       "      <td>7e789842-4</td>\n",
       "      <td>Terry Faulkner MD</td>\n",
       "      <td>male</td>\n",
       "      <td>41</td>\n",
       "      <td>9</td>\n",
       "      <td>conservative</td>\n",
       "      <td>2</td>\n",
       "      <td>13927774</td>\n",
       "      <td>53.67</td>\n",
       "    </tr>\n",
       "    <tr>\n",
       "      <th>3</th>\n",
       "      <td>b2555587-8</td>\n",
       "      <td>Brendan Jacobs</td>\n",
       "      <td>male</td>\n",
       "      <td>44</td>\n",
       "      <td>10</td>\n",
       "      <td>proactive</td>\n",
       "      <td>2</td>\n",
       "      <td>69577118</td>\n",
       "      <td>59.82</td>\n",
       "    </tr>\n",
       "    <tr>\n",
       "      <th>4</th>\n",
       "      <td>b2e58421-d</td>\n",
       "      <td>Vincent Davis</td>\n",
       "      <td>male</td>\n",
       "      <td>41</td>\n",
       "      <td>10</td>\n",
       "      <td>proactive</td>\n",
       "      <td>7</td>\n",
       "      <td>28650047</td>\n",
       "      <td>62.65</td>\n",
       "    </tr>\n",
       "  </tbody>\n",
       "</table>\n",
       "</div>"
      ],
      "text/plain": [
       "    driver_id               name gender  age  experience driving_style  \\\n",
       "0  d9f30553-6       Daniel Marks   male   47           5     proactive   \n",
       "1  82de7bb8-2      Clifford Carr   male   47          14     proactive   \n",
       "2  7e789842-4  Terry Faulkner MD   male   41           9  conservative   \n",
       "3  b2555587-8     Brendan Jacobs   male   44          10     proactive   \n",
       "4  b2e58421-d      Vincent Davis   male   41          10     proactive   \n",
       "\n",
       "   ratings  vehicle_no  average_speed_mph  \n",
       "0        7    42302347              62.22  \n",
       "1        4    27867488              60.89  \n",
       "2        2    13927774              53.67  \n",
       "3        2    69577118              59.82  \n",
       "4        7    28650047              62.65  "
      ]
     },
     "execution_count": 10,
     "metadata": {},
     "output_type": "execute_result"
    }
   ],
   "source": [
    "drivers_df = pd.read_sql(\"select * from drivers_details\", mysql_connection)\n",
    "drivers_df.head()"
   ]
  },
  {
   "cell_type": "markdown",
   "id": "e87ec0b9",
   "metadata": {},
   "source": [
    "# Data Exploration"
   ]
  },
  {
   "cell_type": "code",
   "execution_count": 11,
   "id": "75f99c03",
   "metadata": {},
   "outputs": [],
   "source": [
    "import matplotlib.pyplot as plt\n",
    "import seaborn as sns"
   ]
  },
  {
   "cell_type": "code",
   "execution_count": 12,
   "id": "d9a2ad81",
   "metadata": {},
   "outputs": [],
   "source": [
    "weather_df['date'] = pd.to_datetime(weather_df['date'])\n",
    "route_weather['Date'] = pd.to_datetime(route_weather['Date'])\n",
    "traffic_df['date'] = pd.to_datetime(traffic_df['date'])\n",
    "schedule_df['departure_date'] = pd.to_datetime(schedule_df['departure_date'])\n",
    "schedule_df['estimated_arrival'] = pd.to_datetime(schedule_df['estimated_arrival'])"
   ]
  },
  {
   "cell_type": "markdown",
   "id": "d2f7557e",
   "metadata": {},
   "source": [
    "### Driver's Data Analysis"
   ]
  },
  {
   "cell_type": "code",
   "execution_count": 13,
   "id": "8abbac73",
   "metadata": {},
   "outputs": [
    {
     "data": {
      "text/html": [
       "<div>\n",
       "<style scoped>\n",
       "    .dataframe tbody tr th:only-of-type {\n",
       "        vertical-align: middle;\n",
       "    }\n",
       "\n",
       "    .dataframe tbody tr th {\n",
       "        vertical-align: top;\n",
       "    }\n",
       "\n",
       "    .dataframe thead th {\n",
       "        text-align: right;\n",
       "    }\n",
       "</style>\n",
       "<table border=\"1\" class=\"dataframe\">\n",
       "  <thead>\n",
       "    <tr style=\"text-align: right;\">\n",
       "      <th></th>\n",
       "      <th>driver_id</th>\n",
       "      <th>name</th>\n",
       "      <th>gender</th>\n",
       "      <th>age</th>\n",
       "      <th>experience</th>\n",
       "      <th>driving_style</th>\n",
       "      <th>ratings</th>\n",
       "      <th>vehicle_no</th>\n",
       "      <th>average_speed_mph</th>\n",
       "    </tr>\n",
       "  </thead>\n",
       "  <tbody>\n",
       "    <tr>\n",
       "      <th>0</th>\n",
       "      <td>d9f30553-6</td>\n",
       "      <td>Daniel Marks</td>\n",
       "      <td>male</td>\n",
       "      <td>47</td>\n",
       "      <td>5</td>\n",
       "      <td>proactive</td>\n",
       "      <td>7</td>\n",
       "      <td>42302347</td>\n",
       "      <td>62.22</td>\n",
       "    </tr>\n",
       "    <tr>\n",
       "      <th>1</th>\n",
       "      <td>82de7bb8-2</td>\n",
       "      <td>Clifford Carr</td>\n",
       "      <td>male</td>\n",
       "      <td>47</td>\n",
       "      <td>14</td>\n",
       "      <td>proactive</td>\n",
       "      <td>4</td>\n",
       "      <td>27867488</td>\n",
       "      <td>60.89</td>\n",
       "    </tr>\n",
       "  </tbody>\n",
       "</table>\n",
       "</div>"
      ],
      "text/plain": [
       "    driver_id           name gender  age  experience driving_style  ratings  \\\n",
       "0  d9f30553-6   Daniel Marks   male   47           5     proactive        7   \n",
       "1  82de7bb8-2  Clifford Carr   male   47          14     proactive        4   \n",
       "\n",
       "   vehicle_no  average_speed_mph  \n",
       "0    42302347              62.22  \n",
       "1    27867488              60.89  "
      ]
     },
     "execution_count": 13,
     "metadata": {},
     "output_type": "execute_result"
    }
   ],
   "source": [
    "drivers_df.head(2)"
   ]
  },
  {
   "cell_type": "code",
   "execution_count": 14,
   "id": "8ed7b167",
   "metadata": {},
   "outputs": [
    {
     "name": "stdout",
     "output_type": "stream",
     "text": [
      "<class 'pandas.core.frame.DataFrame'>\n",
      "RangeIndex: 1300 entries, 0 to 1299\n",
      "Data columns (total 9 columns):\n",
      " #   Column             Non-Null Count  Dtype  \n",
      "---  ------             --------------  -----  \n",
      " 0   driver_id          1300 non-null   object \n",
      " 1   name               1300 non-null   object \n",
      " 2   gender             1277 non-null   object \n",
      " 3   age                1300 non-null   int64  \n",
      " 4   experience         1300 non-null   int64  \n",
      " 5   driving_style      1248 non-null   object \n",
      " 6   ratings            1300 non-null   int64  \n",
      " 7   vehicle_no         1300 non-null   int64  \n",
      " 8   average_speed_mph  1300 non-null   float64\n",
      "dtypes: float64(1), int64(4), object(4)\n",
      "memory usage: 91.5+ KB\n"
     ]
    }
   ],
   "source": [
    "drivers_df.info()"
   ]
  },
  {
   "cell_type": "code",
   "execution_count": 15,
   "id": "c5b872f8",
   "metadata": {},
   "outputs": [
    {
     "data": {
      "text/html": [
       "<div>\n",
       "<style scoped>\n",
       "    .dataframe tbody tr th:only-of-type {\n",
       "        vertical-align: middle;\n",
       "    }\n",
       "\n",
       "    .dataframe tbody tr th {\n",
       "        vertical-align: top;\n",
       "    }\n",
       "\n",
       "    .dataframe thead th {\n",
       "        text-align: right;\n",
       "    }\n",
       "</style>\n",
       "<table border=\"1\" class=\"dataframe\">\n",
       "  <thead>\n",
       "    <tr style=\"text-align: right;\">\n",
       "      <th></th>\n",
       "      <th>driver_id</th>\n",
       "      <th>name</th>\n",
       "      <th>gender</th>\n",
       "      <th>age</th>\n",
       "      <th>experience</th>\n",
       "      <th>driving_style</th>\n",
       "      <th>ratings</th>\n",
       "      <th>vehicle_no</th>\n",
       "      <th>average_speed_mph</th>\n",
       "    </tr>\n",
       "  </thead>\n",
       "  <tbody>\n",
       "    <tr>\n",
       "      <th>count</th>\n",
       "      <td>1300</td>\n",
       "      <td>1300</td>\n",
       "      <td>1277</td>\n",
       "      <td>1300.000000</td>\n",
       "      <td>1300.000000</td>\n",
       "      <td>1248</td>\n",
       "      <td>1300.000000</td>\n",
       "      <td>1.300000e+03</td>\n",
       "      <td>1300.000000</td>\n",
       "    </tr>\n",
       "    <tr>\n",
       "      <th>unique</th>\n",
       "      <td>1300</td>\n",
       "      <td>1274</td>\n",
       "      <td>2</td>\n",
       "      <td>NaN</td>\n",
       "      <td>NaN</td>\n",
       "      <td>2</td>\n",
       "      <td>NaN</td>\n",
       "      <td>NaN</td>\n",
       "      <td>NaN</td>\n",
       "    </tr>\n",
       "    <tr>\n",
       "      <th>top</th>\n",
       "      <td>d9f30553-6</td>\n",
       "      <td>Michael Parker</td>\n",
       "      <td>male</td>\n",
       "      <td>NaN</td>\n",
       "      <td>NaN</td>\n",
       "      <td>proactive</td>\n",
       "      <td>NaN</td>\n",
       "      <td>NaN</td>\n",
       "      <td>NaN</td>\n",
       "    </tr>\n",
       "    <tr>\n",
       "      <th>freq</th>\n",
       "      <td>1</td>\n",
       "      <td>3</td>\n",
       "      <td>1198</td>\n",
       "      <td>NaN</td>\n",
       "      <td>NaN</td>\n",
       "      <td>648</td>\n",
       "      <td>NaN</td>\n",
       "      <td>NaN</td>\n",
       "      <td>NaN</td>\n",
       "    </tr>\n",
       "    <tr>\n",
       "      <th>mean</th>\n",
       "      <td>NaN</td>\n",
       "      <td>NaN</td>\n",
       "      <td>NaN</td>\n",
       "      <td>47.814615</td>\n",
       "      <td>11.988462</td>\n",
       "      <td>NaN</td>\n",
       "      <td>5.633846</td>\n",
       "      <td>3.263242e+07</td>\n",
       "      <td>53.262854</td>\n",
       "    </tr>\n",
       "    <tr>\n",
       "      <th>std</th>\n",
       "      <td>NaN</td>\n",
       "      <td>NaN</td>\n",
       "      <td>NaN</td>\n",
       "      <td>4.973240</td>\n",
       "      <td>6.951765</td>\n",
       "      <td>NaN</td>\n",
       "      <td>2.137266</td>\n",
       "      <td>2.205390e+07</td>\n",
       "      <td>8.504282</td>\n",
       "    </tr>\n",
       "    <tr>\n",
       "      <th>min</th>\n",
       "      <td>NaN</td>\n",
       "      <td>NaN</td>\n",
       "      <td>NaN</td>\n",
       "      <td>28.000000</td>\n",
       "      <td>-8.000000</td>\n",
       "      <td>NaN</td>\n",
       "      <td>2.000000</td>\n",
       "      <td>1.000839e+07</td>\n",
       "      <td>29.150000</td>\n",
       "    </tr>\n",
       "    <tr>\n",
       "      <th>25%</th>\n",
       "      <td>NaN</td>\n",
       "      <td>NaN</td>\n",
       "      <td>NaN</td>\n",
       "      <td>45.000000</td>\n",
       "      <td>7.000000</td>\n",
       "      <td>NaN</td>\n",
       "      <td>4.000000</td>\n",
       "      <td>1.817244e+07</td>\n",
       "      <td>45.427500</td>\n",
       "    </tr>\n",
       "    <tr>\n",
       "      <th>50%</th>\n",
       "      <td>NaN</td>\n",
       "      <td>NaN</td>\n",
       "      <td>NaN</td>\n",
       "      <td>48.000000</td>\n",
       "      <td>11.000000</td>\n",
       "      <td>NaN</td>\n",
       "      <td>6.000000</td>\n",
       "      <td>2.584212e+07</td>\n",
       "      <td>57.340000</td>\n",
       "    </tr>\n",
       "    <tr>\n",
       "      <th>75%</th>\n",
       "      <td>NaN</td>\n",
       "      <td>NaN</td>\n",
       "      <td>NaN</td>\n",
       "      <td>51.000000</td>\n",
       "      <td>17.000000</td>\n",
       "      <td>NaN</td>\n",
       "      <td>8.000000</td>\n",
       "      <td>3.340052e+07</td>\n",
       "      <td>60.350000</td>\n",
       "    </tr>\n",
       "    <tr>\n",
       "      <th>max</th>\n",
       "      <td>NaN</td>\n",
       "      <td>NaN</td>\n",
       "      <td>NaN</td>\n",
       "      <td>65.000000</td>\n",
       "      <td>35.000000</td>\n",
       "      <td>NaN</td>\n",
       "      <td>9.000000</td>\n",
       "      <td>9.998167e+07</td>\n",
       "      <td>67.240000</td>\n",
       "    </tr>\n",
       "  </tbody>\n",
       "</table>\n",
       "</div>"
      ],
      "text/plain": [
       "         driver_id            name gender          age   experience  \\\n",
       "count         1300            1300   1277  1300.000000  1300.000000   \n",
       "unique        1300            1274      2          NaN          NaN   \n",
       "top     d9f30553-6  Michael Parker   male          NaN          NaN   \n",
       "freq             1               3   1198          NaN          NaN   \n",
       "mean           NaN             NaN    NaN    47.814615    11.988462   \n",
       "std            NaN             NaN    NaN     4.973240     6.951765   \n",
       "min            NaN             NaN    NaN    28.000000    -8.000000   \n",
       "25%            NaN             NaN    NaN    45.000000     7.000000   \n",
       "50%            NaN             NaN    NaN    48.000000    11.000000   \n",
       "75%            NaN             NaN    NaN    51.000000    17.000000   \n",
       "max            NaN             NaN    NaN    65.000000    35.000000   \n",
       "\n",
       "       driving_style      ratings    vehicle_no  average_speed_mph  \n",
       "count           1248  1300.000000  1.300000e+03        1300.000000  \n",
       "unique             2          NaN           NaN                NaN  \n",
       "top        proactive          NaN           NaN                NaN  \n",
       "freq             648          NaN           NaN                NaN  \n",
       "mean             NaN     5.633846  3.263242e+07          53.262854  \n",
       "std              NaN     2.137266  2.205390e+07           8.504282  \n",
       "min              NaN     2.000000  1.000839e+07          29.150000  \n",
       "25%              NaN     4.000000  1.817244e+07          45.427500  \n",
       "50%              NaN     6.000000  2.584212e+07          57.340000  \n",
       "75%              NaN     8.000000  3.340052e+07          60.350000  \n",
       "max              NaN     9.000000  9.998167e+07          67.240000  "
      ]
     },
     "execution_count": 15,
     "metadata": {},
     "output_type": "execute_result"
    }
   ],
   "source": [
    "drivers_df.describe(include='all')"
   ]
  },
  {
   "cell_type": "code",
   "execution_count": 16,
   "id": "8c30b98b",
   "metadata": {},
   "outputs": [
    {
     "data": {
      "image/png": "[encoded data removed]",
      "text/plain": [
       "<Figure size 1000x500 with 1 Axes>"
      ]
     },
     "metadata": {},
     "output_type": "display_data"
    },
    {
     "data": {
      "image/png": "[encoded data removed]",
      "text/plain": [
       "<Figure size 1000x500 with 1 Axes>"
      ]
     },
     "metadata": {},
     "output_type": "display_data"
    },
    {
     "data": {
      "image/png": "[encoded data removed]",
      "text/plain": [
       "<Figure size 1000x500 with 1 Axes>"
      ]
     },
     "metadata": {},
     "output_type": "display_data"
    },
    {
     "data": {
      "image/png": "[encoded data removed]",
      "text/plain": [
       "<Figure size 1000x500 with 1 Axes>"
      ]
     },
     "metadata": {},
     "output_type": "display_data"
    }
   ],
   "source": [
    "drivers_num_cols = ['age', 'experience', 'ratings', 'average_speed_mph']\n",
    "for col in drivers_num_cols:\n",
    "    plt.figure(figsize=(10, 5))\n",
    "    sns.histplot(drivers_df[col], bins=30, kde=True)\n",
    "    plt.title(f'{col} distribution')\n",
    "    plt.xlabel(f'{col}')\n",
    "    plt.show()"
   ]
  },
  {
   "cell_type": "code",
   "execution_count": 17,
   "id": "4f17c6b3",
   "metadata": {},
   "outputs": [
    {
     "data": {
      "image/png": "[encoded data removed]",
      "text/plain": [
       "<Figure size 640x480 with 1 Axes>"
      ]
     },
     "metadata": {},
     "output_type": "display_data"
    }
   ],
   "source": [
    "\n",
    "numeric_col = 'average_speed_mph' \n",
    "category_col = 'driving_style'     \n",
    "sns.histplot(\n",
    "    data=drivers_df,\n",
    "    x=numeric_col,\n",
    "    hue=category_col,  \n",
    "    bins=30,\n",
    "    kde=True,\n",
    "    multiple=\"stack\"     \n",
    ")\n",
    "plt.title(f\"Distribution of {numeric_col} by {category_col}\")\n",
    "plt.show()"
   ]
  },
  {
   "cell_type": "code",
   "execution_count": 18,
   "id": "e0dc4dd1",
   "metadata": {},
   "outputs": [
    {
     "data": {
      "image/png": "[encoded data removed]",
      "text/plain": [
       "<Figure size 640x480 with 1 Axes>"
      ]
     },
     "metadata": {},
     "output_type": "display_data"
    }
   ],
   "source": [
    "sns.scatterplot(x='ratings', y='average_speed_mph', data=drivers_df)\n",
    "plt.title('Ratings vs. Average Speed')\n",
    "plt.xlabel('Ratings (out of 10)')\n",
    "plt.ylabel('Average Speed (mph)')\n",
    "plt.show()"
   ]
  },
  {
   "cell_type": "code",
   "execution_count": 19,
   "id": "a33d9817",
   "metadata": {},
   "outputs": [
    {
     "data": {
      "image/png": "[encoded data removed]",
      "text/plain": [
       "<Figure size 640x480 with 1 Axes>"
      ]
     },
     "metadata": {},
     "output_type": "display_data"
    }
   ],
   "source": [
    "sns.boxplot(x='gender', y='ratings', data=drivers_df, palette='Set2')\n",
    "plt.title('Driver Ratings by Gender')\n",
    "plt.xlabel('Gender')\n",
    "plt.ylabel('Ratings (out of 10)')\n",
    "plt.show()"
   ]
  },
  {
   "cell_type": "markdown",
   "id": "8dcda587",
   "metadata": {},
   "source": [
    "### Truck's Data Analysis"
   ]
  },
  {
   "cell_type": "code",
   "execution_count": 20,
   "id": "54227634",
   "metadata": {},
   "outputs": [
    {
     "data": {
      "text/html": [
       "<div>\n",
       "<style scoped>\n",
       "    .dataframe tbody tr th:only-of-type {\n",
       "        vertical-align: middle;\n",
       "    }\n",
       "\n",
       "    .dataframe tbody tr th {\n",
       "        vertical-align: top;\n",
       "    }\n",
       "\n",
       "    .dataframe thead th {\n",
       "        text-align: right;\n",
       "    }\n",
       "</style>\n",
       "<table border=\"1\" class=\"dataframe\">\n",
       "  <thead>\n",
       "    <tr style=\"text-align: right;\">\n",
       "      <th></th>\n",
       "      <th>truck_id</th>\n",
       "      <th>truck_age</th>\n",
       "      <th>load_capacity_pounds</th>\n",
       "      <th>mileage_mpg</th>\n",
       "      <th>fuel_type</th>\n",
       "    </tr>\n",
       "  </thead>\n",
       "  <tbody>\n",
       "    <tr>\n",
       "      <th>0</th>\n",
       "      <td>42302347</td>\n",
       "      <td>10</td>\n",
       "      <td>3000.0</td>\n",
       "      <td>17</td>\n",
       "      <td>gas</td>\n",
       "    </tr>\n",
       "    <tr>\n",
       "      <th>1</th>\n",
       "      <td>27867488</td>\n",
       "      <td>14</td>\n",
       "      <td>10000.0</td>\n",
       "      <td>22</td>\n",
       "      <td>diesel</td>\n",
       "    </tr>\n",
       "    <tr>\n",
       "      <th>2</th>\n",
       "      <td>13927774</td>\n",
       "      <td>8</td>\n",
       "      <td>10000.0</td>\n",
       "      <td>19</td>\n",
       "      <td>gas</td>\n",
       "    </tr>\n",
       "    <tr>\n",
       "      <th>3</th>\n",
       "      <td>69577118</td>\n",
       "      <td>8</td>\n",
       "      <td>20000.0</td>\n",
       "      <td>19</td>\n",
       "      <td>gas</td>\n",
       "    </tr>\n",
       "    <tr>\n",
       "      <th>4</th>\n",
       "      <td>28650047</td>\n",
       "      <td>10</td>\n",
       "      <td>4000.0</td>\n",
       "      <td>21</td>\n",
       "      <td>diesel</td>\n",
       "    </tr>\n",
       "  </tbody>\n",
       "</table>\n",
       "</div>"
      ],
      "text/plain": [
       "   truck_id  truck_age  load_capacity_pounds  mileage_mpg fuel_type\n",
       "0  42302347         10                3000.0           17       gas\n",
       "1  27867488         14               10000.0           22    diesel\n",
       "2  13927774          8               10000.0           19       gas\n",
       "3  69577118          8               20000.0           19       gas\n",
       "4  28650047         10                4000.0           21    diesel"
      ]
     },
     "execution_count": 20,
     "metadata": {},
     "output_type": "execute_result"
    }
   ],
   "source": [
    "trucks_df.head()"
   ]
  },
  {
   "cell_type": "code",
   "execution_count": 21,
   "id": "a132c908",
   "metadata": {},
   "outputs": [
    {
     "name": "stdout",
     "output_type": "stream",
     "text": [
      "<class 'pandas.core.frame.DataFrame'>\n",
      "RangeIndex: 1300 entries, 0 to 1299\n",
      "Data columns (total 5 columns):\n",
      " #   Column                Non-Null Count  Dtype  \n",
      "---  ------                --------------  -----  \n",
      " 0   truck_id              1300 non-null   int64  \n",
      " 1   truck_age             1300 non-null   int64  \n",
      " 2   load_capacity_pounds  1243 non-null   float64\n",
      " 3   mileage_mpg           1300 non-null   int64  \n",
      " 4   fuel_type             1300 non-null   object \n",
      "dtypes: float64(1), int64(3), object(1)\n",
      "memory usage: 50.9+ KB\n"
     ]
    }
   ],
   "source": [
    "trucks_df.info()"
   ]
  },
  {
   "cell_type": "code",
   "execution_count": 22,
   "id": "f3b664a8",
   "metadata": {},
   "outputs": [
    {
     "data": {
      "text/html": [
       "<div>\n",
       "<style scoped>\n",
       "    .dataframe tbody tr th:only-of-type {\n",
       "        vertical-align: middle;\n",
       "    }\n",
       "\n",
       "    .dataframe tbody tr th {\n",
       "        vertical-align: top;\n",
       "    }\n",
       "\n",
       "    .dataframe thead th {\n",
       "        text-align: right;\n",
       "    }\n",
       "</style>\n",
       "<table border=\"1\" class=\"dataframe\">\n",
       "  <thead>\n",
       "    <tr style=\"text-align: right;\">\n",
       "      <th></th>\n",
       "      <th>truck_id</th>\n",
       "      <th>truck_age</th>\n",
       "      <th>load_capacity_pounds</th>\n",
       "      <th>mileage_mpg</th>\n",
       "      <th>fuel_type</th>\n",
       "    </tr>\n",
       "  </thead>\n",
       "  <tbody>\n",
       "    <tr>\n",
       "      <th>count</th>\n",
       "      <td>1.300000e+03</td>\n",
       "      <td>1300.000000</td>\n",
       "      <td>1243.000000</td>\n",
       "      <td>1300.000000</td>\n",
       "      <td>1300</td>\n",
       "    </tr>\n",
       "    <tr>\n",
       "      <th>unique</th>\n",
       "      <td>NaN</td>\n",
       "      <td>NaN</td>\n",
       "      <td>NaN</td>\n",
       "      <td>NaN</td>\n",
       "      <td>3</td>\n",
       "    </tr>\n",
       "    <tr>\n",
       "      <th>top</th>\n",
       "      <td>NaN</td>\n",
       "      <td>NaN</td>\n",
       "      <td>NaN</td>\n",
       "      <td>NaN</td>\n",
       "      <td>diesel</td>\n",
       "    </tr>\n",
       "    <tr>\n",
       "      <th>freq</th>\n",
       "      <td>NaN</td>\n",
       "      <td>NaN</td>\n",
       "      <td>NaN</td>\n",
       "      <td>NaN</td>\n",
       "      <td>692</td>\n",
       "    </tr>\n",
       "    <tr>\n",
       "      <th>mean</th>\n",
       "      <td>3.263242e+07</td>\n",
       "      <td>9.513077</td>\n",
       "      <td>8610.619469</td>\n",
       "      <td>20.784615</td>\n",
       "      <td>NaN</td>\n",
       "    </tr>\n",
       "    <tr>\n",
       "      <th>std</th>\n",
       "      <td>2.205390e+07</td>\n",
       "      <td>2.039030</td>\n",
       "      <td>5583.759795</td>\n",
       "      <td>3.655876</td>\n",
       "      <td>NaN</td>\n",
       "    </tr>\n",
       "    <tr>\n",
       "      <th>min</th>\n",
       "      <td>1.000839e+07</td>\n",
       "      <td>3.000000</td>\n",
       "      <td>3000.000000</td>\n",
       "      <td>11.000000</td>\n",
       "      <td>NaN</td>\n",
       "    </tr>\n",
       "    <tr>\n",
       "      <th>25%</th>\n",
       "      <td>1.817244e+07</td>\n",
       "      <td>8.000000</td>\n",
       "      <td>4000.000000</td>\n",
       "      <td>18.000000</td>\n",
       "      <td>NaN</td>\n",
       "    </tr>\n",
       "    <tr>\n",
       "      <th>50%</th>\n",
       "      <td>2.584212e+07</td>\n",
       "      <td>10.000000</td>\n",
       "      <td>6000.000000</td>\n",
       "      <td>21.000000</td>\n",
       "      <td>NaN</td>\n",
       "    </tr>\n",
       "    <tr>\n",
       "      <th>75%</th>\n",
       "      <td>3.340052e+07</td>\n",
       "      <td>11.000000</td>\n",
       "      <td>15000.000000</td>\n",
       "      <td>24.000000</td>\n",
       "      <td>NaN</td>\n",
       "    </tr>\n",
       "    <tr>\n",
       "      <th>max</th>\n",
       "      <td>9.998167e+07</td>\n",
       "      <td>15.000000</td>\n",
       "      <td>20000.000000</td>\n",
       "      <td>29.000000</td>\n",
       "      <td>NaN</td>\n",
       "    </tr>\n",
       "  </tbody>\n",
       "</table>\n",
       "</div>"
      ],
      "text/plain": [
       "            truck_id    truck_age  load_capacity_pounds  mileage_mpg fuel_type\n",
       "count   1.300000e+03  1300.000000           1243.000000  1300.000000      1300\n",
       "unique           NaN          NaN                   NaN          NaN         3\n",
       "top              NaN          NaN                   NaN          NaN    diesel\n",
       "freq             NaN          NaN                   NaN          NaN       692\n",
       "mean    3.263242e+07     9.513077           8610.619469    20.784615       NaN\n",
       "std     2.205390e+07     2.039030           5583.759795     3.655876       NaN\n",
       "min     1.000839e+07     3.000000           3000.000000    11.000000       NaN\n",
       "25%     1.817244e+07     8.000000           4000.000000    18.000000       NaN\n",
       "50%     2.584212e+07    10.000000           6000.000000    21.000000       NaN\n",
       "75%     3.340052e+07    11.000000          15000.000000    24.000000       NaN\n",
       "max     9.998167e+07    15.000000          20000.000000    29.000000       NaN"
      ]
     },
     "execution_count": 22,
     "metadata": {},
     "output_type": "execute_result"
    }
   ],
   "source": [
    "trucks_df.describe(include='all')"
   ]
  },
  {
   "cell_type": "code",
   "execution_count": 23,
   "id": "94b20d52",
   "metadata": {},
   "outputs": [
    {
     "data": {
      "image/png": "[encoded data removed]",
      "text/plain": [
       "<Figure size 640x480 with 1 Axes>"
      ]
     },
     "metadata": {},
     "output_type": "display_data"
    }
   ],
   "source": [
    "sns.histplot(\n",
    "    x='mileage_mpg',\n",
    "    hue=pd.cut(trucks_df['truck_age'], bins=[0,3,7,20], labels=['New','Mid-age','Old']),\n",
    "    data=trucks_df,\n",
    "    bins=30,\n",
    "    kde=True,\n",
    "    multiple=\"stack\"\n",
    ")\n",
    "\n",
    "plt.title(\"Distribution of Truck Mileage by Age Group\")\n",
    "plt.xlabel(\"Mileage (mpg)\")\n",
    "plt.ylabel(\"Count\")\n",
    "plt.show()"
   ]
  },
  {
   "cell_type": "code",
   "execution_count": 24,
   "id": "0351667c",
   "metadata": {},
   "outputs": [],
   "source": [
    "low_mileage_threshold = 15\n",
    "low_mileage_trucks = trucks_df[trucks_df['mileage_mpg'] <= low_mileage_threshold]"
   ]
  },
  {
   "cell_type": "code",
   "execution_count": 25,
   "id": "ddbbc73e",
   "metadata": {},
   "outputs": [
    {
     "data": {
      "text/plain": [
       "<Axes: xlabel='truck_age', ylabel='proportion'>"
      ]
     },
     "execution_count": 25,
     "metadata": {},
     "output_type": "execute_result"
    },
    {
     "data": {
      "image/png": "[encoded data removed]",
      "text/plain": [
       "<Figure size 640x480 with 1 Axes>"
      ]
     },
     "metadata": {},
     "output_type": "display_data"
    }
   ],
   "source": [
    "sns.lineplot(low_mileage_trucks['truck_age'].value_counts(normalize=True).sort_index())"
   ]
  },
  {
   "cell_type": "markdown",
   "id": "caa580bc",
   "metadata": {},
   "source": [
    "### Routers Data Analyst"
   ]
  },
  {
   "cell_type": "code",
   "execution_count": 26,
   "id": "90764014",
   "metadata": {},
   "outputs": [
    {
     "data": {
      "text/html": [
       "<div>\n",
       "<style scoped>\n",
       "    .dataframe tbody tr th:only-of-type {\n",
       "        vertical-align: middle;\n",
       "    }\n",
       "\n",
       "    .dataframe tbody tr th {\n",
       "        vertical-align: top;\n",
       "    }\n",
       "\n",
       "    .dataframe thead th {\n",
       "        text-align: right;\n",
       "    }\n",
       "</style>\n",
       "<table border=\"1\" class=\"dataframe\">\n",
       "  <thead>\n",
       "    <tr style=\"text-align: right;\">\n",
       "      <th></th>\n",
       "      <th>route_id</th>\n",
       "      <th>origin_id</th>\n",
       "      <th>destination_id</th>\n",
       "      <th>distance</th>\n",
       "      <th>average_hours</th>\n",
       "    </tr>\n",
       "  </thead>\n",
       "  <tbody>\n",
       "    <tr>\n",
       "      <th>0</th>\n",
       "      <td>R-ada2a391</td>\n",
       "      <td>C-927ceb5e</td>\n",
       "      <td>C-56e39a5e</td>\n",
       "      <td>1735.06</td>\n",
       "      <td>34.70</td>\n",
       "    </tr>\n",
       "    <tr>\n",
       "      <th>1</th>\n",
       "      <td>R-ae0ef31f</td>\n",
       "      <td>C-927ceb5e</td>\n",
       "      <td>C-73ae5412</td>\n",
       "      <td>1498.24</td>\n",
       "      <td>29.96</td>\n",
       "    </tr>\n",
       "    <tr>\n",
       "      <th>2</th>\n",
       "      <td>R-4beec5fd</td>\n",
       "      <td>C-927ceb5e</td>\n",
       "      <td>C-4fe0fa24</td>\n",
       "      <td>6078.46</td>\n",
       "      <td>121.57</td>\n",
       "    </tr>\n",
       "    <tr>\n",
       "      <th>3</th>\n",
       "      <td>R-8d7a7fb2</td>\n",
       "      <td>C-927ceb5e</td>\n",
       "      <td>C-451776b7</td>\n",
       "      <td>1543.01</td>\n",
       "      <td>30.86</td>\n",
       "    </tr>\n",
       "    <tr>\n",
       "      <th>4</th>\n",
       "      <td>R-b236e347</td>\n",
       "      <td>C-927ceb5e</td>\n",
       "      <td>C-d80a1e7d</td>\n",
       "      <td>310.75</td>\n",
       "      <td>6.22</td>\n",
       "    </tr>\n",
       "  </tbody>\n",
       "</table>\n",
       "</div>"
      ],
      "text/plain": [
       "     route_id   origin_id destination_id  distance  average_hours\n",
       "0  R-ada2a391  C-927ceb5e     C-56e39a5e   1735.06          34.70\n",
       "1  R-ae0ef31f  C-927ceb5e     C-73ae5412   1498.24          29.96\n",
       "2  R-4beec5fd  C-927ceb5e     C-4fe0fa24   6078.46         121.57\n",
       "3  R-8d7a7fb2  C-927ceb5e     C-451776b7   1543.01          30.86\n",
       "4  R-b236e347  C-927ceb5e     C-d80a1e7d    310.75           6.22"
      ]
     },
     "execution_count": 26,
     "metadata": {},
     "output_type": "execute_result"
    }
   ],
   "source": [
    "routes_df.head()"
   ]
  },
  {
   "cell_type": "code",
   "execution_count": 27,
   "id": "1f5e71bd",
   "metadata": {},
   "outputs": [
    {
     "name": "stdout",
     "output_type": "stream",
     "text": [
      "<class 'pandas.core.frame.DataFrame'>\n",
      "RangeIndex: 2352 entries, 0 to 2351\n",
      "Data columns (total 5 columns):\n",
      " #   Column          Non-Null Count  Dtype  \n",
      "---  ------          --------------  -----  \n",
      " 0   route_id        2352 non-null   object \n",
      " 1   origin_id       2352 non-null   object \n",
      " 2   destination_id  2352 non-null   object \n",
      " 3   distance        2352 non-null   float64\n",
      " 4   average_hours   2352 non-null   float64\n",
      "dtypes: float64(2), object(3)\n",
      "memory usage: 92.0+ KB\n"
     ]
    }
   ],
   "source": [
    "routes_df.info()"
   ]
  },
  {
   "cell_type": "markdown",
   "id": "dd03737e",
   "metadata": {},
   "source": [
    "### Traffic Data Analysis"
   ]
  },
  {
   "cell_type": "code",
   "execution_count": 28,
   "id": "400f419b",
   "metadata": {},
   "outputs": [
    {
     "data": {
      "text/html": [
       "<div>\n",
       "<style scoped>\n",
       "    .dataframe tbody tr th:only-of-type {\n",
       "        vertical-align: middle;\n",
       "    }\n",
       "\n",
       "    .dataframe tbody tr th {\n",
       "        vertical-align: top;\n",
       "    }\n",
       "\n",
       "    .dataframe thead th {\n",
       "        text-align: right;\n",
       "    }\n",
       "</style>\n",
       "<table border=\"1\" class=\"dataframe\">\n",
       "  <thead>\n",
       "    <tr style=\"text-align: right;\">\n",
       "      <th></th>\n",
       "      <th>route_id</th>\n",
       "      <th>date</th>\n",
       "      <th>hour</th>\n",
       "      <th>no_of_vehicles</th>\n",
       "      <th>accident</th>\n",
       "    </tr>\n",
       "  </thead>\n",
       "  <tbody>\n",
       "    <tr>\n",
       "      <th>0</th>\n",
       "      <td>R-ada2a391</td>\n",
       "      <td>2019-01-01</td>\n",
       "      <td>0</td>\n",
       "      <td>669.0</td>\n",
       "      <td>0</td>\n",
       "    </tr>\n",
       "    <tr>\n",
       "      <th>1</th>\n",
       "      <td>R-ada2a391</td>\n",
       "      <td>2019-01-01</td>\n",
       "      <td>100</td>\n",
       "      <td>628.0</td>\n",
       "      <td>0</td>\n",
       "    </tr>\n",
       "    <tr>\n",
       "      <th>2</th>\n",
       "      <td>R-ada2a391</td>\n",
       "      <td>2019-01-01</td>\n",
       "      <td>200</td>\n",
       "      <td>516.0</td>\n",
       "      <td>0</td>\n",
       "    </tr>\n",
       "    <tr>\n",
       "      <th>3</th>\n",
       "      <td>R-ada2a391</td>\n",
       "      <td>2019-01-01</td>\n",
       "      <td>300</td>\n",
       "      <td>582.0</td>\n",
       "      <td>0</td>\n",
       "    </tr>\n",
       "    <tr>\n",
       "      <th>4</th>\n",
       "      <td>R-ada2a391</td>\n",
       "      <td>2019-01-01</td>\n",
       "      <td>400</td>\n",
       "      <td>564.0</td>\n",
       "      <td>0</td>\n",
       "    </tr>\n",
       "  </tbody>\n",
       "</table>\n",
       "</div>"
      ],
      "text/plain": [
       "     route_id       date  hour  no_of_vehicles  accident\n",
       "0  R-ada2a391 2019-01-01     0           669.0         0\n",
       "1  R-ada2a391 2019-01-01   100           628.0         0\n",
       "2  R-ada2a391 2019-01-01   200           516.0         0\n",
       "3  R-ada2a391 2019-01-01   300           582.0         0\n",
       "4  R-ada2a391 2019-01-01   400           564.0         0"
      ]
     },
     "execution_count": 28,
     "metadata": {},
     "output_type": "execute_result"
    }
   ],
   "source": [
    "traffic_df.head()   "
   ]
  },
  {
   "cell_type": "code",
   "execution_count": 29,
   "id": "a12e8f5e",
   "metadata": {},
   "outputs": [
    {
     "name": "stdout",
     "output_type": "stream",
     "text": [
      "<class 'pandas.core.frame.DataFrame'>\n",
      "RangeIndex: 2597913 entries, 0 to 2597912\n",
      "Data columns (total 5 columns):\n",
      " #   Column          Dtype         \n",
      "---  ------          -----         \n",
      " 0   route_id        object        \n",
      " 1   date            datetime64[ns]\n",
      " 2   hour            int64         \n",
      " 3   no_of_vehicles  float64       \n",
      " 4   accident        int64         \n",
      "dtypes: datetime64[ns](1), float64(1), int64(2), object(1)\n",
      "memory usage: 99.1+ MB\n"
     ]
    }
   ],
   "source": [
    "traffic_df.info()"
   ]
  },
  {
   "cell_type": "code",
   "execution_count": 30,
   "id": "93cd5202",
   "metadata": {},
   "outputs": [
    {
     "data": {
      "text/plain": [
       "route_id             0\n",
       "date                 0\n",
       "hour                 0\n",
       "no_of_vehicles    1152\n",
       "accident             0\n",
       "dtype: int64"
      ]
     },
     "execution_count": 30,
     "metadata": {},
     "output_type": "execute_result"
    }
   ],
   "source": [
    "traffic_df.isnull().sum()"
   ]
  },
  {
   "cell_type": "code",
   "execution_count": 31,
   "id": "ff6b6bb9",
   "metadata": {},
   "outputs": [
    {
     "data": {
      "text/html": [
       "<div>\n",
       "<style scoped>\n",
       "    .dataframe tbody tr th:only-of-type {\n",
       "        vertical-align: middle;\n",
       "    }\n",
       "\n",
       "    .dataframe tbody tr th {\n",
       "        vertical-align: top;\n",
       "    }\n",
       "\n",
       "    .dataframe thead th {\n",
       "        text-align: right;\n",
       "    }\n",
       "</style>\n",
       "<table border=\"1\" class=\"dataframe\">\n",
       "  <thead>\n",
       "    <tr style=\"text-align: right;\">\n",
       "      <th></th>\n",
       "      <th>date</th>\n",
       "      <th>hour</th>\n",
       "      <th>no_of_vehicles</th>\n",
       "      <th>accident</th>\n",
       "    </tr>\n",
       "  </thead>\n",
       "  <tbody>\n",
       "    <tr>\n",
       "      <th>count</th>\n",
       "      <td>2597913</td>\n",
       "      <td>2.597913e+06</td>\n",
       "      <td>2.596761e+06</td>\n",
       "      <td>2.597913e+06</td>\n",
       "    </tr>\n",
       "    <tr>\n",
       "      <th>mean</th>\n",
       "      <td>2019-01-23 12:00:26.256767232</td>\n",
       "      <td>1.150021e+03</td>\n",
       "      <td>1.566776e+03</td>\n",
       "      <td>5.320848e-02</td>\n",
       "    </tr>\n",
       "    <tr>\n",
       "      <th>min</th>\n",
       "      <td>2019-01-01 00:00:00</td>\n",
       "      <td>0.000000e+00</td>\n",
       "      <td>1.000000e+02</td>\n",
       "      <td>0.000000e+00</td>\n",
       "    </tr>\n",
       "    <tr>\n",
       "      <th>25%</th>\n",
       "      <td>2019-01-12 00:00:00</td>\n",
       "      <td>6.000000e+02</td>\n",
       "      <td>6.060000e+02</td>\n",
       "      <td>0.000000e+00</td>\n",
       "    </tr>\n",
       "    <tr>\n",
       "      <th>50%</th>\n",
       "      <td>2019-01-24 00:00:00</td>\n",
       "      <td>1.200000e+03</td>\n",
       "      <td>1.969000e+03</td>\n",
       "      <td>0.000000e+00</td>\n",
       "    </tr>\n",
       "    <tr>\n",
       "      <th>75%</th>\n",
       "      <td>2019-02-04 00:00:00</td>\n",
       "      <td>1.800000e+03</td>\n",
       "      <td>2.326000e+03</td>\n",
       "      <td>0.000000e+00</td>\n",
       "    </tr>\n",
       "    <tr>\n",
       "      <th>max</th>\n",
       "      <td>2019-02-15 00:00:00</td>\n",
       "      <td>2.300000e+03</td>\n",
       "      <td>3.636000e+03</td>\n",
       "      <td>1.000000e+00</td>\n",
       "    </tr>\n",
       "    <tr>\n",
       "      <th>std</th>\n",
       "      <td>NaN</td>\n",
       "      <td>6.922211e+02</td>\n",
       "      <td>8.959424e+02</td>\n",
       "      <td>2.244490e-01</td>\n",
       "    </tr>\n",
       "  </tbody>\n",
       "</table>\n",
       "</div>"
      ],
      "text/plain": [
       "                                date          hour  no_of_vehicles  \\\n",
       "count                        2597913  2.597913e+06    2.596761e+06   \n",
       "mean   2019-01-23 12:00:26.256767232  1.150021e+03    1.566776e+03   \n",
       "min              2019-01-01 00:00:00  0.000000e+00    1.000000e+02   \n",
       "25%              2019-01-12 00:00:00  6.000000e+02    6.060000e+02   \n",
       "50%              2019-01-24 00:00:00  1.200000e+03    1.969000e+03   \n",
       "75%              2019-02-04 00:00:00  1.800000e+03    2.326000e+03   \n",
       "max              2019-02-15 00:00:00  2.300000e+03    3.636000e+03   \n",
       "std                              NaN  6.922211e+02    8.959424e+02   \n",
       "\n",
       "           accident  \n",
       "count  2.597913e+06  \n",
       "mean   5.320848e-02  \n",
       "min    0.000000e+00  \n",
       "25%    0.000000e+00  \n",
       "50%    0.000000e+00  \n",
       "75%    0.000000e+00  \n",
       "max    1.000000e+00  \n",
       "std    2.244490e-01  "
      ]
     },
     "execution_count": 31,
     "metadata": {},
     "output_type": "execute_result"
    }
   ],
   "source": [
    "traffic_df.describe()"
   ]
  },
  {
   "cell_type": "code",
   "execution_count": 32,
   "id": "cfb598ec",
   "metadata": {},
   "outputs": [],
   "source": [
    "def categorize_time(hour):\n",
    "    \"\"\"\n",
    "    Categorizes hours of the day into time periods.\n",
    "\n",
    "    Args:\n",
    "    hour (int): Hour in 24-hour format.\n",
    "\n",
    "    Returns:\n",
    "    str: Categorized time period.\n",
    "    \"\"\"\n",
    "    if 300 <= hour < 600:\n",
    "        return 'Early Morning'\n",
    "    elif 600 <= hour < 1200:\n",
    "        return 'Morning'\n",
    "    elif 1200 <= hour < 1600:\n",
    "        return 'Noon'\n",
    "    elif 1600 <= hour < 2000:\n",
    "        return 'Evening'\n",
    "    elif 2000 <= hour < 2300:\n",
    "        return 'Night'\n",
    "    elif 0 <= hour < 300:\n",
    "        return 'Night'\n",
    "\n",
    "traffic = traffic_df.copy()\n",
    "\n",
    "traffic['time_category'] = traffic['hour'].apply(categorize_time)\n",
    "\n",
    "mean_vehicles_by_time = traffic.groupby('time_category')['no_of_vehicles'].mean()"
   ]
  },
  {
   "cell_type": "code",
   "execution_count": 33,
   "id": "1ddc9921",
   "metadata": {},
   "outputs": [
    {
     "data": {
      "text/plain": [
       "time_category\n",
       "Early Morning     563.030071\n",
       "Evening          1999.185426\n",
       "Morning          1735.696694\n",
       "Night            1263.594675\n",
       "Noon             1990.786218\n",
       "Name: no_of_vehicles, dtype: float64"
      ]
     },
     "execution_count": 33,
     "metadata": {},
     "output_type": "execute_result"
    }
   ],
   "source": [
    "mean_vehicles_by_time"
   ]
  },
  {
   "cell_type": "code",
   "execution_count": 34,
   "id": "10fee13b",
   "metadata": {},
   "outputs": [
    {
     "data": {
      "text/plain": [
       "<Axes: xlabel='time_category', ylabel='no_of_vehicles'>"
      ]
     },
     "execution_count": 34,
     "metadata": {},
     "output_type": "execute_result"
    },
    {
     "data": {
      "image/png": "[encoded data removed]",
      "text/plain": [
       "<Figure size 640x480 with 1 Axes>"
      ]
     },
     "metadata": {},
     "output_type": "display_data"
    }
   ],
   "source": [
    "sns.barplot(mean_vehicles_by_time)"
   ]
  },
  {
   "cell_type": "markdown",
   "id": "1893211d",
   "metadata": {},
   "source": [
    "# Feature Store"
   ]
  },
  {
   "cell_type": "code",
   "execution_count": 35,
   "id": "d6944dfe",
   "metadata": {},
   "outputs": [
    {
     "name": "stdout",
     "output_type": "stream",
     "text": [
      "2025-08-27 14:11:00,131 INFO: Initializing external client\n",
      "2025-08-27 14:11:00,131 INFO: Base URL: https://c.app.hopsworks.ai:443\n"
     ]
    },
    {
     "name": "stderr",
     "output_type": "stream",
     "text": [
      "\n",
      "\n"
     ]
    },
    {
     "name": "stdout",
     "output_type": "stream",
     "text": [
      "2025-08-27 14:11:02,847 INFO: Python Engine initialized.\n",
      "\n",
      "Logged in to project, explore it here https://c.app.hopsworks.ai:443/p/1247380\n"
     ]
    }
   ],
   "source": [
    "import hopsworks\n",
    "project = hopsworks.login()\n",
    "fs = project.get_feature_store()"
   ]
  },
  {
   "cell_type": "markdown",
   "id": "64b7130a",
   "metadata": {},
   "source": [
    "### Driver Data FS"
   ]
  },
  {
   "cell_type": "code",
   "execution_count": 36,
   "id": "a2af68ba",
   "metadata": {},
   "outputs": [
    {
     "data": {
      "text/html": [
       "<div>\n",
       "<style scoped>\n",
       "    .dataframe tbody tr th:only-of-type {\n",
       "        vertical-align: middle;\n",
       "    }\n",
       "\n",
       "    .dataframe tbody tr th {\n",
       "        vertical-align: top;\n",
       "    }\n",
       "\n",
       "    .dataframe thead th {\n",
       "        text-align: right;\n",
       "    }\n",
       "</style>\n",
       "<table border=\"1\" class=\"dataframe\">\n",
       "  <thead>\n",
       "    <tr style=\"text-align: right;\">\n",
       "      <th></th>\n",
       "      <th>driver_id</th>\n",
       "      <th>name</th>\n",
       "      <th>gender</th>\n",
       "      <th>age</th>\n",
       "      <th>experience</th>\n",
       "      <th>driving_style</th>\n",
       "      <th>ratings</th>\n",
       "      <th>vehicle_no</th>\n",
       "      <th>average_speed_mph</th>\n",
       "    </tr>\n",
       "  </thead>\n",
       "  <tbody>\n",
       "    <tr>\n",
       "      <th>0</th>\n",
       "      <td>d9f30553-6</td>\n",
       "      <td>Daniel Marks</td>\n",
       "      <td>male</td>\n",
       "      <td>47</td>\n",
       "      <td>5</td>\n",
       "      <td>proactive</td>\n",
       "      <td>7</td>\n",
       "      <td>42302347</td>\n",
       "      <td>62.22</td>\n",
       "    </tr>\n",
       "    <tr>\n",
       "      <th>1</th>\n",
       "      <td>82de7bb8-2</td>\n",
       "      <td>Clifford Carr</td>\n",
       "      <td>male</td>\n",
       "      <td>47</td>\n",
       "      <td>14</td>\n",
       "      <td>proactive</td>\n",
       "      <td>4</td>\n",
       "      <td>27867488</td>\n",
       "      <td>60.89</td>\n",
       "    </tr>\n",
       "  </tbody>\n",
       "</table>\n",
       "</div>"
      ],
      "text/plain": [
       "    driver_id           name gender  age  experience driving_style  ratings  \\\n",
       "0  d9f30553-6   Daniel Marks   male   47           5     proactive        7   \n",
       "1  82de7bb8-2  Clifford Carr   male   47          14     proactive        4   \n",
       "\n",
       "   vehicle_no  average_speed_mph  \n",
       "0    42302347              62.22  \n",
       "1    27867488              60.89  "
      ]
     },
     "execution_count": 36,
     "metadata": {},
     "output_type": "execute_result"
    }
   ],
   "source": [
    "drivers_df.head(2)"
   ]
  },
  {
   "cell_type": "code",
   "execution_count": 37,
   "id": "95900be7",
   "metadata": {},
   "outputs": [
    {
     "name": "stdout",
     "output_type": "stream",
     "text": [
      "<class 'pandas.core.frame.DataFrame'>\n",
      "RangeIndex: 1300 entries, 0 to 1299\n",
      "Data columns (total 9 columns):\n",
      " #   Column             Non-Null Count  Dtype  \n",
      "---  ------             --------------  -----  \n",
      " 0   driver_id          1300 non-null   object \n",
      " 1   name               1300 non-null   object \n",
      " 2   gender             1277 non-null   object \n",
      " 3   age                1300 non-null   int64  \n",
      " 4   experience         1300 non-null   int64  \n",
      " 5   driving_style      1248 non-null   object \n",
      " 6   ratings            1300 non-null   int64  \n",
      " 7   vehicle_no         1300 non-null   int64  \n",
      " 8   average_speed_mph  1300 non-null   float64\n",
      "dtypes: float64(1), int64(4), object(4)\n",
      "memory usage: 91.5+ KB\n"
     ]
    }
   ],
   "source": [
    "drivers_df.info()"
   ]
  },
  {
   "cell_type": "code",
   "execution_count": 38,
   "id": "e4769601",
   "metadata": {},
   "outputs": [],
   "source": [
    "drivers_df['event_time'] = pd.to_datetime('2025-07-01')"
   ]
  },
  {
   "cell_type": "code",
   "execution_count": 39,
   "id": "215542c2",
   "metadata": {},
   "outputs": [
    {
     "data": {
      "text/plain": [
       "driver_id             0\n",
       "name                  0\n",
       "gender               23\n",
       "age                   0\n",
       "experience            0\n",
       "driving_style        52\n",
       "ratings               0\n",
       "vehicle_no            0\n",
       "average_speed_mph     0\n",
       "event_time            0\n",
       "dtype: int64"
      ]
     },
     "execution_count": 39,
     "metadata": {},
     "output_type": "execute_result"
    }
   ],
   "source": [
    "drivers_df.isna().sum()"
   ]
  },
  {
   "cell_type": "code",
   "execution_count": 40,
   "id": "b544ba6a",
   "metadata": {},
   "outputs": [],
   "source": [
    "drivers_df['driving_style']=drivers_df['driving_style'].fillna('Unknown')\n",
    "drivers_df['gender']=drivers_df['gender'].fillna('Unknown')"
   ]
  },
  {
   "cell_type": "code",
   "execution_count": 41,
   "id": "a85bdd7f",
   "metadata": {},
   "outputs": [
    {
     "data": {
      "text/plain": [
       "Index(['driver_id', 'name', 'gender', 'age', 'experience', 'driving_style',\n",
       "       'ratings', 'vehicle_no', 'average_speed_mph', 'event_time'],\n",
       "      dtype='object')"
      ]
     },
     "execution_count": 41,
     "metadata": {},
     "output_type": "execute_result"
    }
   ],
   "source": [
    "drivers_df.columns"
   ]
  },
  {
   "cell_type": "code",
   "execution_count": 42,
   "id": "5ecf32f7",
   "metadata": {},
   "outputs": [
    {
     "name": "stderr",
     "output_type": "stream",
     "text": [
      "Uploading Dataframe: 100.00% |██████████| Rows 1300/1300 | Elapsed Time: 00:03 | Remaining Time: 00:00\n"
     ]
    },
    {
     "name": "stdout",
     "output_type": "stream",
     "text": [
      "Launching job: drivers_details_fg_1_offline_fg_materialization\n",
      "Job started successfully, you can follow the progress at \n",
      "https://c.app.hopsworks.ai:443/p/1247380/jobs/named/drivers_details_fg_1_offline_fg_materialization/executions\n"
     ]
    },
    {
     "data": {
      "text/plain": [
       "(Job('drivers_details_fg_1_offline_fg_materialization', 'SPARK'), None)"
      ]
     },
     "execution_count": 42,
     "metadata": {},
     "output_type": "execute_result"
    }
   ],
   "source": [
    "drivers_fg = fs.get_or_create_feature_group(\n",
    "    name=\"drivers_details_fg\",                # Name of the feature group\n",
    "    version=1,                                # Version number\n",
    "    description=\"Drivers data\",               # Description of the feature group\n",
    "    primary_key=['driver_id'],                # Primary key(s) for the feature group\n",
    "    event_time='event_time',                  # Event time column\n",
    "    online_enabled=False                      # Online feature store capability\n",
    ")\n",
    "\n",
    "# Insert the drivers DataFrame into the feature group\n",
    "drivers_fg.insert(drivers_df)"
   ]
  },
  {
   "cell_type": "code",
   "execution_count": 43,
   "id": "08349a3c",
   "metadata": {},
   "outputs": [],
   "source": [
    "drivers_df=drivers_df.sort_values([\"event_time\",\"driver_id\"])"
   ]
  },
  {
   "cell_type": "code",
   "execution_count": 44,
   "id": "3147fe48",
   "metadata": {},
   "outputs": [],
   "source": [
    "feature_descriptions_drivers = [\n",
    "\n",
    "    {\"name\": \"driver_id\", \"description\": \"unique identification for each driver\"},\n",
    "    {\"name\": \"name\", \"description\": \"name of the truck driver\"},\n",
    "    {\"name\": \"gender\", \"description\": \"gender of the truck driver\"},\n",
    "    {\"name\": \"age\", \"description\": \"age of the truck driver\"},\n",
    "    {\"name\": \"experience\", \"description\": \"experience of the truck driver in years\"},\n",
    "    {\"name\": \"driving_style\", \"description\": \"driving style of the truck driver, conservative or proactive\"},\n",
    "    {\"name\": \"ratings\", \"description\": \"average rating of the truck driver on a scale of 1 to 5\"},\n",
    "    {\"name\": \"vehicle_no\", \"description\": \"the number of the driver’s truck\"},\n",
    "    {\"name\": \"average_speed_mph\", \"description\": \"average speed of the truck driver in miles per hour\"},\n",
    "    {\"name\": \"event_time\", \"description\": \"dummy event time\"}\n",
    "\n",
    "]\n",
    "\n",
    "for desc in feature_descriptions_drivers:\n",
    "    drivers_fg.update_feature_description(desc[\"name\"], desc[\"description\"])"
   ]
  },
  {
   "cell_type": "code",
   "execution_count": 45,
   "id": "abeb7a9e",
   "metadata": {},
   "outputs": [
    {
     "name": "stdout",
     "output_type": "stream",
     "text": [
      "Statistics Job started successfully, you can follow the progress at \n",
      "http://c.app.hopsworks.ai/p/1247380/jobs/named/drivers_details_fg_1_compute_stats_27082025071311/executions\n",
      "2025-08-27 14:13:21,203 INFO: Waiting for execution to finish. Current state: SUBMITTED. Final status: UNDEFINED\n",
      "2025-08-27 14:13:24,548 INFO: Waiting for execution to finish. Current state: RUNNING. Final status: UNDEFINED\n",
      "2025-08-27 14:14:31,132 INFO: Waiting for execution to finish. Current state: AGGREGATING_LOGS. Final status: SUCCEEDED\n",
      "2025-08-27 14:14:31,423 INFO: Waiting for log aggregation to finish.\n",
      "2025-08-27 14:14:44,154 INFO: Execution finished successfully.\n"
     ]
    },
    {
     "data": {
      "text/plain": [
       "Job('drivers_details_fg_1_compute_stats_27082025071311', 'PYSPARK')"
      ]
     },
     "execution_count": 45,
     "metadata": {},
     "output_type": "execute_result"
    }
   ],
   "source": [
    "drivers_fg.statistics_config = {\n",
    "    \"enabled\": True,        # Enable statistics calculation\n",
    "    \"histograms\": True,     # Include histograms in the statistics\n",
    "    \"correlations\": True    # Include correlations in the statistics\n",
    "}\n",
    "\n",
    "# Update the statistics configuration for the feature group\n",
    "drivers_fg.update_statistics_config()\n",
    "\n",
    "# Compute statistics for the feature group\n",
    "drivers_fg.compute_statistics()"
   ]
  },
  {
   "cell_type": "markdown",
   "id": "030b5563",
   "metadata": {},
   "source": [
    "### Truck Data FS"
   ]
  },
  {
   "cell_type": "code",
   "execution_count": 46,
   "id": "f4041bcd",
   "metadata": {},
   "outputs": [
    {
     "data": {
      "text/html": [
       "<div>\n",
       "<style scoped>\n",
       "    .dataframe tbody tr th:only-of-type {\n",
       "        vertical-align: middle;\n",
       "    }\n",
       "\n",
       "    .dataframe tbody tr th {\n",
       "        vertical-align: top;\n",
       "    }\n",
       "\n",
       "    .dataframe thead th {\n",
       "        text-align: right;\n",
       "    }\n",
       "</style>\n",
       "<table border=\"1\" class=\"dataframe\">\n",
       "  <thead>\n",
       "    <tr style=\"text-align: right;\">\n",
       "      <th></th>\n",
       "      <th>truck_id</th>\n",
       "      <th>truck_age</th>\n",
       "      <th>load_capacity_pounds</th>\n",
       "      <th>mileage_mpg</th>\n",
       "      <th>fuel_type</th>\n",
       "    </tr>\n",
       "  </thead>\n",
       "  <tbody>\n",
       "    <tr>\n",
       "      <th>0</th>\n",
       "      <td>42302347</td>\n",
       "      <td>10</td>\n",
       "      <td>3000.0</td>\n",
       "      <td>17</td>\n",
       "      <td>gas</td>\n",
       "    </tr>\n",
       "    <tr>\n",
       "      <th>1</th>\n",
       "      <td>27867488</td>\n",
       "      <td>14</td>\n",
       "      <td>10000.0</td>\n",
       "      <td>22</td>\n",
       "      <td>diesel</td>\n",
       "    </tr>\n",
       "  </tbody>\n",
       "</table>\n",
       "</div>"
      ],
      "text/plain": [
       "   truck_id  truck_age  load_capacity_pounds  mileage_mpg fuel_type\n",
       "0  42302347         10                3000.0           17       gas\n",
       "1  27867488         14               10000.0           22    diesel"
      ]
     },
     "execution_count": 46,
     "metadata": {},
     "output_type": "execute_result"
    }
   ],
   "source": [
    "trucks_df.head(2)"
   ]
  },
  {
   "cell_type": "code",
   "execution_count": 47,
   "id": "ad723b07",
   "metadata": {},
   "outputs": [
    {
     "name": "stdout",
     "output_type": "stream",
     "text": [
      "<class 'pandas.core.frame.DataFrame'>\n",
      "RangeIndex: 1300 entries, 0 to 1299\n",
      "Data columns (total 5 columns):\n",
      " #   Column                Non-Null Count  Dtype  \n",
      "---  ------                --------------  -----  \n",
      " 0   truck_id              1300 non-null   int64  \n",
      " 1   truck_age             1300 non-null   int64  \n",
      " 2   load_capacity_pounds  1243 non-null   float64\n",
      " 3   mileage_mpg           1300 non-null   int64  \n",
      " 4   fuel_type             1300 non-null   object \n",
      "dtypes: float64(1), int64(3), object(1)\n",
      "memory usage: 50.9+ KB\n"
     ]
    }
   ],
   "source": [
    "trucks_df.info()"
   ]
  },
  {
   "cell_type": "code",
   "execution_count": 48,
   "id": "89fd3ca2",
   "metadata": {},
   "outputs": [
    {
     "data": {
      "text/plain": [
       "truck_id                 0\n",
       "truck_age                0\n",
       "load_capacity_pounds    57\n",
       "mileage_mpg              0\n",
       "fuel_type                0\n",
       "dtype: int64"
      ]
     },
     "execution_count": 48,
     "metadata": {},
     "output_type": "execute_result"
    }
   ],
   "source": [
    "trucks_df.isna().sum()"
   ]
  },
  {
   "cell_type": "code",
   "execution_count": 49,
   "id": "50848e2c",
   "metadata": {},
   "outputs": [
    {
     "data": {
      "text/plain": [
       "array(['gas', 'diesel', ''], dtype=object)"
      ]
     },
     "execution_count": 49,
     "metadata": {},
     "output_type": "execute_result"
    }
   ],
   "source": [
    "trucks_df['fuel_type'].unique()"
   ]
  },
  {
   "cell_type": "code",
   "execution_count": 50,
   "id": "22e04584",
   "metadata": {},
   "outputs": [],
   "source": [
    "trucks_df['fuel_type']=trucks_df['fuel_type'].replace(\"\",'Unknown')"
   ]
  },
  {
   "cell_type": "code",
   "execution_count": 52,
   "id": "aad429bd",
   "metadata": {},
   "outputs": [
    {
     "data": {
      "text/plain": [
       "fuel_type\n",
       "diesel     692\n",
       "gas        568\n",
       "Unknown     40\n",
       "Name: count, dtype: int64"
      ]
     },
     "execution_count": 52,
     "metadata": {},
     "output_type": "execute_result"
    }
   ],
   "source": [
    "trucks_df['fuel_type'].value_counts()"
   ]
  },
  {
   "cell_type": "code",
   "execution_count": 53,
   "id": "827d1164",
   "metadata": {},
   "outputs": [],
   "source": [
    "trucks_df['event_time'] = pd.to_datetime('2025-07-01')\n",
    "trucks_df=trucks_df.sort_values([\"event_time\",\"truck_id\"])"
   ]
  },
  {
   "cell_type": "code",
   "execution_count": 54,
   "id": "05c8a0c9",
   "metadata": {},
   "outputs": [],
   "source": [
    "truck_fg = fs.get_or_create_feature_group(\n",
    "    name=\"truck_details_fg\",          # Name of the feature group\n",
    "    version=1,                        # Version number\n",
    "    description=\"Truck data\",         # Description of the feature group\n",
    "    primary_key=['truck_id'],         # Primary key(s) for the feature group\n",
    "    event_time='event_time',          # Event time column\n",
    "    online_enabled=False              # Online feature store capability (set to False)\n",
    ")"
   ]
  },
  {
   "cell_type": "code",
   "execution_count": 55,
   "id": "ed73abec",
   "metadata": {},
   "outputs": [
    {
     "name": "stdout",
     "output_type": "stream",
     "text": [
      "Feature Group created successfully, explore it at \n",
      "https://c.app.hopsworks.ai:443/p/1247380/fs/1230915/fg/1506644\n"
     ]
    },
    {
     "name": "stderr",
     "output_type": "stream",
     "text": [
      "Uploading Dataframe: 100.00% |██████████| Rows 1300/1300 | Elapsed Time: 00:02 | Remaining Time: 00:00\n"
     ]
    },
    {
     "name": "stdout",
     "output_type": "stream",
     "text": [
      "Launching job: truck_details_fg_1_offline_fg_materialization\n",
      "Job started successfully, you can follow the progress at \n",
      "https://c.app.hopsworks.ai:443/p/1247380/jobs/named/truck_details_fg_1_offline_fg_materialization/executions\n"
     ]
    },
    {
     "data": {
      "text/plain": [
       "(Job('truck_details_fg_1_offline_fg_materialization', 'SPARK'), None)"
      ]
     },
     "execution_count": 55,
     "metadata": {},
     "output_type": "execute_result"
    }
   ],
   "source": [
    "truck_fg.insert(trucks_df)"
   ]
  },
  {
   "cell_type": "code",
   "execution_count": 56,
   "id": "cca0ff83",
   "metadata": {},
   "outputs": [],
   "source": [
    "feature_descriptions_trucks = [\n",
    "    {\"name\":'truck_id',\"description\":\"the unique identification number of the truck\"},\n",
    "    {\"name\":'truck_age',\"description\":\"age of the truck in years\"},\n",
    "    {\"name\":'load_capacity_pounds',\"description\":\"loading capacity of the truck in years\"},\n",
    "    {\"name\":'mileage_mpg',\"description\": \"mileage of the truck in miles per gallon\"},\n",
    "    {\"name\":'fuel_type',\"description\":\"fuel type of the truck\"},\n",
    "    {\"name\": \"event_time\", \"description\": \"dummy event time\"}\n",
    "\n",
    "]\n",
    "\n",
    "for desc in feature_descriptions_trucks:\n",
    "    truck_fg.update_feature_description(desc[\"name\"], desc[\"description\"])"
   ]
  },
  {
   "cell_type": "code",
   "execution_count": null,
   "id": "963c551a",
   "metadata": {},
   "outputs": [],
   "source": [
    "truck_fg.statistics_config = {\n",
    "    \"enabled\": True,\n",
    "    \"histograms\": True,\n",
    "    \"correlations\": True\n",
    "}\n",
    "\n",
    "truck_fg.update_statistics_config()\n",
    "truck_fg.compute_statistics()"
   ]
  },
  {
   "cell_type": "markdown",
   "id": "f1ff6a43",
   "metadata": {},
   "source": [
    "### Routes Data FS"
   ]
  },
  {
   "cell_type": "code",
   "execution_count": 58,
   "id": "f33eeaff",
   "metadata": {},
   "outputs": [
    {
     "data": {
      "text/html": [
       "<div>\n",
       "<style scoped>\n",
       "    .dataframe tbody tr th:only-of-type {\n",
       "        vertical-align: middle;\n",
       "    }\n",
       "\n",
       "    .dataframe tbody tr th {\n",
       "        vertical-align: top;\n",
       "    }\n",
       "\n",
       "    .dataframe thead th {\n",
       "        text-align: right;\n",
       "    }\n",
       "</style>\n",
       "<table border=\"1\" class=\"dataframe\">\n",
       "  <thead>\n",
       "    <tr style=\"text-align: right;\">\n",
       "      <th></th>\n",
       "      <th>route_id</th>\n",
       "      <th>origin_id</th>\n",
       "      <th>destination_id</th>\n",
       "      <th>distance</th>\n",
       "      <th>average_hours</th>\n",
       "    </tr>\n",
       "  </thead>\n",
       "  <tbody>\n",
       "    <tr>\n",
       "      <th>0</th>\n",
       "      <td>R-ada2a391</td>\n",
       "      <td>C-927ceb5e</td>\n",
       "      <td>C-56e39a5e</td>\n",
       "      <td>1735.06</td>\n",
       "      <td>34.70</td>\n",
       "    </tr>\n",
       "    <tr>\n",
       "      <th>1</th>\n",
       "      <td>R-ae0ef31f</td>\n",
       "      <td>C-927ceb5e</td>\n",
       "      <td>C-73ae5412</td>\n",
       "      <td>1498.24</td>\n",
       "      <td>29.96</td>\n",
       "    </tr>\n",
       "    <tr>\n",
       "      <th>2</th>\n",
       "      <td>R-4beec5fd</td>\n",
       "      <td>C-927ceb5e</td>\n",
       "      <td>C-4fe0fa24</td>\n",
       "      <td>6078.46</td>\n",
       "      <td>121.57</td>\n",
       "    </tr>\n",
       "    <tr>\n",
       "      <th>3</th>\n",
       "      <td>R-8d7a7fb2</td>\n",
       "      <td>C-927ceb5e</td>\n",
       "      <td>C-451776b7</td>\n",
       "      <td>1543.01</td>\n",
       "      <td>30.86</td>\n",
       "    </tr>\n",
       "    <tr>\n",
       "      <th>4</th>\n",
       "      <td>R-b236e347</td>\n",
       "      <td>C-927ceb5e</td>\n",
       "      <td>C-d80a1e7d</td>\n",
       "      <td>310.75</td>\n",
       "      <td>6.22</td>\n",
       "    </tr>\n",
       "  </tbody>\n",
       "</table>\n",
       "</div>"
      ],
      "text/plain": [
       "     route_id   origin_id destination_id  distance  average_hours\n",
       "0  R-ada2a391  C-927ceb5e     C-56e39a5e   1735.06          34.70\n",
       "1  R-ae0ef31f  C-927ceb5e     C-73ae5412   1498.24          29.96\n",
       "2  R-4beec5fd  C-927ceb5e     C-4fe0fa24   6078.46         121.57\n",
       "3  R-8d7a7fb2  C-927ceb5e     C-451776b7   1543.01          30.86\n",
       "4  R-b236e347  C-927ceb5e     C-d80a1e7d    310.75           6.22"
      ]
     },
     "execution_count": 58,
     "metadata": {},
     "output_type": "execute_result"
    }
   ],
   "source": [
    "routes_df.head()"
   ]
  },
  {
   "cell_type": "code",
   "execution_count": 59,
   "id": "74d22284",
   "metadata": {},
   "outputs": [
    {
     "name": "stdout",
     "output_type": "stream",
     "text": [
      "<class 'pandas.core.frame.DataFrame'>\n",
      "RangeIndex: 2352 entries, 0 to 2351\n",
      "Data columns (total 5 columns):\n",
      " #   Column          Non-Null Count  Dtype  \n",
      "---  ------          --------------  -----  \n",
      " 0   route_id        2352 non-null   object \n",
      " 1   origin_id       2352 non-null   object \n",
      " 2   destination_id  2352 non-null   object \n",
      " 3   distance        2352 non-null   float64\n",
      " 4   average_hours   2352 non-null   float64\n",
      "dtypes: float64(2), object(3)\n",
      "memory usage: 92.0+ KB\n"
     ]
    }
   ],
   "source": [
    "routes_df.info()"
   ]
  },
  {
   "cell_type": "code",
   "execution_count": 60,
   "id": "087720eb",
   "metadata": {},
   "outputs": [],
   "source": [
    "routes_df['event_time'] = pd.to_datetime('2025-07-01')\n",
    "routes_df=routes_df.sort_values([\"event_time\",\"route_id\"])"
   ]
  },
  {
   "cell_type": "code",
   "execution_count": 61,
   "id": "6284e9c1",
   "metadata": {},
   "outputs": [],
   "source": [
    "routes_fg = fs.get_or_create_feature_group(\n",
    "    name=\"routes_details_fg\",         # Name of the feature group\n",
    "    version=1,                        # Version number\n",
    "    description=\"Routes data\",        # Description of the feature group\n",
    "    primary_key=['route_id'],         # Primary key(s) for the feature group\n",
    "    event_time='event_time',          # Event time column\n",
    "    online_enabled=False              # Online feature store capability (set to False)\n",
    ")"
   ]
  },
  {
   "cell_type": "code",
   "execution_count": 62,
   "id": "d6511580",
   "metadata": {},
   "outputs": [
    {
     "name": "stdout",
     "output_type": "stream",
     "text": [
      "Feature Group created successfully, explore it at \n",
      "https://c.app.hopsworks.ai:443/p/1247380/fs/1230915/fg/1506645\n"
     ]
    },
    {
     "name": "stderr",
     "output_type": "stream",
     "text": [
      "Uploading Dataframe: 100.00% |██████████| Rows 2352/2352 | Elapsed Time: 00:03 | Remaining Time: 00:00\n"
     ]
    },
    {
     "name": "stdout",
     "output_type": "stream",
     "text": [
      "Launching job: routes_details_fg_1_offline_fg_materialization\n",
      "Job started successfully, you can follow the progress at \n",
      "https://c.app.hopsworks.ai:443/p/1247380/jobs/named/routes_details_fg_1_offline_fg_materialization/executions\n"
     ]
    },
    {
     "data": {
      "text/plain": [
       "(Job('routes_details_fg_1_offline_fg_materialization', 'SPARK'), None)"
      ]
     },
     "execution_count": 62,
     "metadata": {},
     "output_type": "execute_result"
    }
   ],
   "source": [
    "routes_fg.insert(routes_df)"
   ]
  },
  {
   "cell_type": "code",
   "execution_count": 63,
   "id": "d797afb9",
   "metadata": {},
   "outputs": [],
   "source": [
    "feature_descriptions_routes = [\n",
    "    {\"name\": 'route_id', \"description\": \"the unique identifier of the routes\"},\n",
    "    {\"name\": 'origin_id', \"description\": \"the city identification number for the origin city\"},\n",
    "    {\"name\": 'destination_id', \"description\": \" the city identification number for the destination\"},\n",
    "    {\"name\": 'distance', \"description\": \" the distance between the origin and destination cities in miles\"},\n",
    "    {\"name\": 'average_hours', \"description\": \"average time needed to travel from the origin to the destination in hours\"},\n",
    "    {\"name\": \"event_time\", \"description\": \"dummy event time\"}\n",
    "\n",
    "]\n",
    "\n",
    "for desc in feature_descriptions_routes:\n",
    "    routes_fg.update_feature_description(desc[\"name\"], desc[\"description\"])"
   ]
  },
  {
   "cell_type": "code",
   "execution_count": null,
   "id": "2bc055da",
   "metadata": {},
   "outputs": [],
   "source": [
    "routes_fg.statistics_config = {\n",
    "    \"enabled\": True,\n",
    "    \"histograms\": True,\n",
    "    \"correlations\": True\n",
    "}\n",
    "\n",
    "routes_fg.update_statistics_config()\n",
    "routes_fg.compute_statistics()"
   ]
  },
  {
   "cell_type": "code",
   "execution_count": null,
   "id": "e62f1133",
   "metadata": {},
   "outputs": [],
   "source": []
  }
 ],
 "metadata": {
  "kernelspec": {
   "display_name": "llm",
   "language": "python",
   "name": "python3"
  },
  "language_info": {
   "codemirror_mode": {
    "name": "ipython",
    "version": 3
   },
   "file_extension": ".py",
   "mimetype": "text/x-python",
   "name": "python",
   "nbconvert_exporter": "python",
   "pygments_lexer": "ipython3",
   "version": "3.10.18"
  }
 },
 "nbformat": 4,
 "nbformat_minor": 5
}
