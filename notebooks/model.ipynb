{
 "cells": [
  {
   "cell_type": "markdown",
   "id": "6534eb8b",
   "metadata": {},
   "source": [
    "# Data Retrieval From Feature Store"
   ]
  },
  {
   "cell_type": "code",
   "execution_count": 1,
   "id": "cefdb446",
   "metadata": {},
   "outputs": [],
   "source": [
    "import pandas as pd\n",
    "import warnings\n",
    "warnings.filterwarnings(\"ignore\")\n",
    "import hopsworks"
   ]
  },
  {
   "cell_type": "code",
   "execution_count": 2,
   "id": "bd48aec5",
   "metadata": {},
   "outputs": [
    {
     "name": "stdout",
     "output_type": "stream",
     "text": [
      "2025-08-30 11:03:06,598 INFO: Initializing external client\n",
      "2025-08-30 11:03:06,599 INFO: Base URL: https://c.app.hopsworks.ai:443\n"
     ]
    },
    {
     "name": "stderr",
     "output_type": "stream",
     "text": [
      "\n",
      "\n"
     ]
    },
    {
     "name": "stdout",
     "output_type": "stream",
     "text": [
      "2025-08-30 11:03:09,675 INFO: Python Engine initialized.\n",
      "\n",
      "Logged in to project, explore it here https://c.app.hopsworks.ai:443/p/1247380\n"
     ]
    }
   ],
   "source": [
    "project = hopsworks.login()"
   ]
  },
  {
   "cell_type": "code",
   "execution_count": 3,
   "id": "3be3dffc",
   "metadata": {},
   "outputs": [],
   "source": [
    "fs = project.get_feature_store()"
   ]
  },
  {
   "cell_type": "code",
   "execution_count": 4,
   "id": "3c15b312",
   "metadata": {},
   "outputs": [
    {
     "name": "stdout",
     "output_type": "stream",
     "text": [
      "Finished: Reading data from Hopsworks, using Hopsworks Feature Query Service (17.25s) \n"
     ]
    }
   ],
   "source": [
    "final_data = fs.get_feature_group('final_data', version=1)\n",
    "query = final_data.select_all()\n",
    "final_merge = query.read(read_options={\"use_hive\": True})"
   ]
  },
  {
   "cell_type": "code",
   "execution_count": 5,
   "id": "c97829c0",
   "metadata": {},
   "outputs": [
    {
     "data": {
      "text/html": [
       "<div>\n",
       "<style scoped>\n",
       "    .dataframe tbody tr th:only-of-type {\n",
       "        vertical-align: middle;\n",
       "    }\n",
       "\n",
       "    .dataframe tbody tr th {\n",
       "        vertical-align: top;\n",
       "    }\n",
       "\n",
       "    .dataframe thead th {\n",
       "        text-align: right;\n",
       "    }\n",
       "</style>\n",
       "<table border=\"1\" class=\"dataframe\">\n",
       "  <thead>\n",
       "    <tr style=\"text-align: right;\">\n",
       "      <th></th>\n",
       "      <th>unique_id</th>\n",
       "      <th>truck_id</th>\n",
       "      <th>route_id</th>\n",
       "      <th>departure_date</th>\n",
       "      <th>estimated_arrival</th>\n",
       "      <th>delay</th>\n",
       "      <th>route_avg_temp</th>\n",
       "      <th>route_avg_wind_speed</th>\n",
       "      <th>route_avg_precip</th>\n",
       "      <th>route_avg_humidity</th>\n",
       "      <th>...</th>\n",
       "      <th>driver_id</th>\n",
       "      <th>name</th>\n",
       "      <th>gender</th>\n",
       "      <th>age</th>\n",
       "      <th>experience</th>\n",
       "      <th>driving_style</th>\n",
       "      <th>ratings</th>\n",
       "      <th>vehicle_no</th>\n",
       "      <th>average_speed_mph</th>\n",
       "      <th>is_midnight</th>\n",
       "    </tr>\n",
       "  </thead>\n",
       "  <tbody>\n",
       "    <tr>\n",
       "      <th>0</th>\n",
       "      <td>3725</td>\n",
       "      <td>10497416</td>\n",
       "      <td>R-2c5432ed</td>\n",
       "      <td>2019-02-10 07:00:00+00:00</td>\n",
       "      <td>2019-02-12 16:54:00+00:00</td>\n",
       "      <td>1</td>\n",
       "      <td>28.818182</td>\n",
       "      <td>6.727273</td>\n",
       "      <td>0.0</td>\n",
       "      <td>51.272727</td>\n",
       "      <td>...</td>\n",
       "      <td>3fff1b6e-e</td>\n",
       "      <td>Brandon Cruz</td>\n",
       "      <td>male</td>\n",
       "      <td>53</td>\n",
       "      <td>23</td>\n",
       "      <td>proactive</td>\n",
       "      <td>6</td>\n",
       "      <td>10497416</td>\n",
       "      <td>59.77</td>\n",
       "      <td>1</td>\n",
       "    </tr>\n",
       "    <tr>\n",
       "      <th>1</th>\n",
       "      <td>4299</td>\n",
       "      <td>28978466</td>\n",
       "      <td>R-f8640cff</td>\n",
       "      <td>2019-01-19 07:00:00+00:00</td>\n",
       "      <td>2019-01-19 12:44:24+00:00</td>\n",
       "      <td>0</td>\n",
       "      <td>46.000000</td>\n",
       "      <td>9.000000</td>\n",
       "      <td>0.0</td>\n",
       "      <td>75.000000</td>\n",
       "      <td>...</td>\n",
       "      <td>c3362ffc-f</td>\n",
       "      <td>Brian Garcia</td>\n",
       "      <td>male</td>\n",
       "      <td>49</td>\n",
       "      <td>5</td>\n",
       "      <td>conservative</td>\n",
       "      <td>8</td>\n",
       "      <td>28978466</td>\n",
       "      <td>45.73</td>\n",
       "      <td>0</td>\n",
       "    </tr>\n",
       "    <tr>\n",
       "      <th>2</th>\n",
       "      <td>5674</td>\n",
       "      <td>13363106</td>\n",
       "      <td>R-07d2544a</td>\n",
       "      <td>2019-02-02 07:00:00+00:00</td>\n",
       "      <td>2019-02-04 03:04:48+00:00</td>\n",
       "      <td>0</td>\n",
       "      <td>49.888889</td>\n",
       "      <td>5.777778</td>\n",
       "      <td>0.0</td>\n",
       "      <td>67.444444</td>\n",
       "      <td>...</td>\n",
       "      <td>93e44ec9-5</td>\n",
       "      <td>Joel Howard</td>\n",
       "      <td>male</td>\n",
       "      <td>52</td>\n",
       "      <td>17</td>\n",
       "      <td>conservative</td>\n",
       "      <td>7</td>\n",
       "      <td>13363106</td>\n",
       "      <td>52.25</td>\n",
       "      <td>1</td>\n",
       "    </tr>\n",
       "    <tr>\n",
       "      <th>3</th>\n",
       "      <td>9783</td>\n",
       "      <td>61984883</td>\n",
       "      <td>R-d87e53cd</td>\n",
       "      <td>2019-02-09 07:00:00+00:00</td>\n",
       "      <td>2019-02-09 20:38:24+00:00</td>\n",
       "      <td>0</td>\n",
       "      <td>80.500000</td>\n",
       "      <td>10.000000</td>\n",
       "      <td>0.0</td>\n",
       "      <td>63.500000</td>\n",
       "      <td>...</td>\n",
       "      <td>42aa7479-5</td>\n",
       "      <td>Jerry Powers</td>\n",
       "      <td>male</td>\n",
       "      <td>41</td>\n",
       "      <td>7</td>\n",
       "      <td>conservative</td>\n",
       "      <td>2</td>\n",
       "      <td>61984883</td>\n",
       "      <td>56.94</td>\n",
       "      <td>0</td>\n",
       "    </tr>\n",
       "    <tr>\n",
       "      <th>4</th>\n",
       "      <td>4088</td>\n",
       "      <td>18855810</td>\n",
       "      <td>R-c061582f</td>\n",
       "      <td>2019-02-06 07:00:00+00:00</td>\n",
       "      <td>2019-02-06 19:22:48+00:00</td>\n",
       "      <td>0</td>\n",
       "      <td>22.000000</td>\n",
       "      <td>10.000000</td>\n",
       "      <td>0.0</td>\n",
       "      <td>73.500000</td>\n",
       "      <td>...</td>\n",
       "      <td>728ab9fc-f</td>\n",
       "      <td>John Vasquez</td>\n",
       "      <td>male</td>\n",
       "      <td>47</td>\n",
       "      <td>4</td>\n",
       "      <td>conservative</td>\n",
       "      <td>4</td>\n",
       "      <td>18855810</td>\n",
       "      <td>48.03</td>\n",
       "      <td>0</td>\n",
       "    </tr>\n",
       "  </tbody>\n",
       "</table>\n",
       "<p>5 rows × 49 columns</p>\n",
       "</div>"
      ],
      "text/plain": [
       "   unique_id  truck_id    route_id            departure_date  \\\n",
       "0       3725  10497416  R-2c5432ed 2019-02-10 07:00:00+00:00   \n",
       "1       4299  28978466  R-f8640cff 2019-01-19 07:00:00+00:00   \n",
       "2       5674  13363106  R-07d2544a 2019-02-02 07:00:00+00:00   \n",
       "3       9783  61984883  R-d87e53cd 2019-02-09 07:00:00+00:00   \n",
       "4       4088  18855810  R-c061582f 2019-02-06 07:00:00+00:00   \n",
       "\n",
       "          estimated_arrival  delay  route_avg_temp  route_avg_wind_speed  \\\n",
       "0 2019-02-12 16:54:00+00:00      1       28.818182              6.727273   \n",
       "1 2019-01-19 12:44:24+00:00      0       46.000000              9.000000   \n",
       "2 2019-02-04 03:04:48+00:00      0       49.888889              5.777778   \n",
       "3 2019-02-09 20:38:24+00:00      0       80.500000             10.000000   \n",
       "4 2019-02-06 19:22:48+00:00      0       22.000000             10.000000   \n",
       "\n",
       "   route_avg_precip  route_avg_humidity  ...   driver_id          name gender  \\\n",
       "0               0.0           51.272727  ...  3fff1b6e-e  Brandon Cruz   male   \n",
       "1               0.0           75.000000  ...  c3362ffc-f  Brian Garcia   male   \n",
       "2               0.0           67.444444  ...  93e44ec9-5   Joel Howard   male   \n",
       "3               0.0           63.500000  ...  42aa7479-5  Jerry Powers   male   \n",
       "4               0.0           73.500000  ...  728ab9fc-f  John Vasquez   male   \n",
       "\n",
       "  age experience driving_style ratings  vehicle_no  average_speed_mph  \\\n",
       "0  53         23     proactive       6    10497416              59.77   \n",
       "1  49          5  conservative       8    28978466              45.73   \n",
       "2  52         17  conservative       7    13363106              52.25   \n",
       "3  41          7  conservative       2    61984883              56.94   \n",
       "4  47          4  conservative       4    18855810              48.03   \n",
       "\n",
       "   is_midnight  \n",
       "0            1  \n",
       "1            0  \n",
       "2            1  \n",
       "3            0  \n",
       "4            0  \n",
       "\n",
       "[5 rows x 49 columns]"
      ]
     },
     "execution_count": 5,
     "metadata": {},
     "output_type": "execute_result"
    }
   ],
   "source": [
    "final_merge.head()"
   ]
  },
  {
   "cell_type": "markdown",
   "id": "b26dfc44",
   "metadata": {},
   "source": [
    "# Data Processing"
   ]
  },
  {
   "cell_type": "code",
   "execution_count": 6,
   "id": "12a95e2d",
   "metadata": {},
   "outputs": [
    {
     "name": "stdout",
     "output_type": "stream",
     "text": [
      "<class 'pandas.core.frame.DataFrame'>\n",
      "RangeIndex: 12308 entries, 0 to 12307\n",
      "Data columns (total 49 columns):\n",
      " #   Column                          Non-Null Count  Dtype                  \n",
      "---  ------                          --------------  -----                  \n",
      " 0   unique_id                       12308 non-null  int64                  \n",
      " 1   truck_id                        12308 non-null  int64                  \n",
      " 2   route_id                        12308 non-null  object                 \n",
      " 3   departure_date                  12308 non-null  datetime64[us, Etc/UTC]\n",
      " 4   estimated_arrival               12308 non-null  datetime64[us, Etc/UTC]\n",
      " 5   delay                           12308 non-null  int64                  \n",
      " 6   route_avg_temp                  12308 non-null  float64                \n",
      " 7   route_avg_wind_speed            12308 non-null  float64                \n",
      " 8   route_avg_precip                12308 non-null  float64                \n",
      " 9   route_avg_humidity              12308 non-null  float64                \n",
      " 10  route_avg_visibility            12308 non-null  float64                \n",
      " 11  route_avg_pressure              12308 non-null  float64                \n",
      " 12  route_description               12308 non-null  object                 \n",
      " 13  estimated_arrival_nearest_hour  12308 non-null  datetime64[us, Etc/UTC]\n",
      " 14  departure_date_nearest_hour     12308 non-null  datetime64[us, Etc/UTC]\n",
      " 15  origin_id                       12308 non-null  object                 \n",
      " 16  destination_id                  12308 non-null  object                 \n",
      " 17  distance                        12308 non-null  float64                \n",
      " 18  average_hours                   12308 non-null  float64                \n",
      " 19  origin_temp                     12304 non-null  float64                \n",
      " 20  origin_wind_speed               12304 non-null  float64                \n",
      " 21  origin_description              12308 non-null  object                 \n",
      " 22  origin_precip                   12304 non-null  float64                \n",
      " 23  origin_humidity                 12304 non-null  float64                \n",
      " 24  origin_visibility               12304 non-null  float64                \n",
      " 25  origin_pressure                 12304 non-null  float64                \n",
      " 26  destination_temp                12308 non-null  float64                \n",
      " 27  destination_wind_speed          12308 non-null  float64                \n",
      " 28  destination_description         12308 non-null  object                 \n",
      " 29  destination_precip              12308 non-null  float64                \n",
      " 30  destination_humidity            12308 non-null  int64                  \n",
      " 31  destination_visibility          12308 non-null  float64                \n",
      " 32  destination_pressure            12308 non-null  float64                \n",
      " 33  avg_no_of_vehicles              12308 non-null  float64                \n",
      " 34  accident                        12308 non-null  int64                  \n",
      " 35  truck_age                       12308 non-null  int64                  \n",
      " 36  load_capacity_pounds            11704 non-null  float64                \n",
      " 37  mileage_mpg                     12308 non-null  int64                  \n",
      " 38  fuel_type                       12308 non-null  object                 \n",
      " 39  driver_id                       12308 non-null  object                 \n",
      " 40  name                            12308 non-null  object                 \n",
      " 41  gender                          12308 non-null  object                 \n",
      " 42  age                             12308 non-null  int64                  \n",
      " 43  experience                      12308 non-null  int64                  \n",
      " 44  driving_style                   12308 non-null  object                 \n",
      " 45  ratings                         12308 non-null  int64                  \n",
      " 46  vehicle_no                      12308 non-null  int64                  \n",
      " 47  average_speed_mph               12308 non-null  float64                \n",
      " 48  is_midnight                     12308 non-null  int64                  \n",
      "dtypes: datetime64[us, Etc/UTC](4), float64(22), int64(12), object(11)\n",
      "memory usage: 4.6+ MB\n"
     ]
    }
   ],
   "source": [
    "final_merge.info()"
   ]
  },
  {
   "cell_type": "code",
   "execution_count": 7,
   "id": "da9289b3",
   "metadata": {},
   "outputs": [
    {
     "data": {
      "text/plain": [
       "unique_id                           0\n",
       "truck_id                            0\n",
       "route_id                            0\n",
       "departure_date                      0\n",
       "estimated_arrival                   0\n",
       "delay                               0\n",
       "route_avg_temp                      0\n",
       "route_avg_wind_speed                0\n",
       "route_avg_precip                    0\n",
       "route_avg_humidity                  0\n",
       "route_avg_visibility                0\n",
       "route_avg_pressure                  0\n",
       "route_description                   0\n",
       "estimated_arrival_nearest_hour      0\n",
       "departure_date_nearest_hour         0\n",
       "origin_id                           0\n",
       "destination_id                      0\n",
       "distance                            0\n",
       "average_hours                       0\n",
       "origin_temp                         4\n",
       "origin_wind_speed                   4\n",
       "origin_description                  0\n",
       "origin_precip                       4\n",
       "origin_humidity                     4\n",
       "origin_visibility                   4\n",
       "origin_pressure                     4\n",
       "destination_temp                    0\n",
       "destination_wind_speed              0\n",
       "destination_description             0\n",
       "destination_precip                  0\n",
       "destination_humidity                0\n",
       "destination_visibility              0\n",
       "destination_pressure                0\n",
       "avg_no_of_vehicles                  0\n",
       "accident                            0\n",
       "truck_age                           0\n",
       "load_capacity_pounds              604\n",
       "mileage_mpg                         0\n",
       "fuel_type                           0\n",
       "driver_id                           0\n",
       "name                                0\n",
       "gender                              0\n",
       "age                                 0\n",
       "experience                          0\n",
       "driving_style                       0\n",
       "ratings                             0\n",
       "vehicle_no                          0\n",
       "average_speed_mph                   0\n",
       "is_midnight                         0\n",
       "dtype: int64"
      ]
     },
     "execution_count": 7,
     "metadata": {},
     "output_type": "execute_result"
    }
   ],
   "source": [
    "final_merge.isna().sum()"
   ]
  },
  {
   "cell_type": "code",
   "execution_count": 8,
   "id": "8c405b5f",
   "metadata": {},
   "outputs": [
    {
     "data": {
      "text/html": [
       "<div>\n",
       "<style scoped>\n",
       "    .dataframe tbody tr th:only-of-type {\n",
       "        vertical-align: middle;\n",
       "    }\n",
       "\n",
       "    .dataframe tbody tr th {\n",
       "        vertical-align: top;\n",
       "    }\n",
       "\n",
       "    .dataframe thead th {\n",
       "        text-align: right;\n",
       "    }\n",
       "</style>\n",
       "<table border=\"1\" class=\"dataframe\">\n",
       "  <thead>\n",
       "    <tr style=\"text-align: right;\">\n",
       "      <th></th>\n",
       "      <th>unique_id</th>\n",
       "      <th>truck_id</th>\n",
       "      <th>route_id</th>\n",
       "      <th>departure_date</th>\n",
       "      <th>estimated_arrival</th>\n",
       "      <th>delay</th>\n",
       "      <th>route_avg_temp</th>\n",
       "      <th>route_avg_wind_speed</th>\n",
       "      <th>route_avg_precip</th>\n",
       "      <th>route_avg_humidity</th>\n",
       "      <th>...</th>\n",
       "      <th>driver_id</th>\n",
       "      <th>name</th>\n",
       "      <th>gender</th>\n",
       "      <th>age</th>\n",
       "      <th>experience</th>\n",
       "      <th>driving_style</th>\n",
       "      <th>ratings</th>\n",
       "      <th>vehicle_no</th>\n",
       "      <th>average_speed_mph</th>\n",
       "      <th>is_midnight</th>\n",
       "    </tr>\n",
       "  </thead>\n",
       "  <tbody>\n",
       "    <tr>\n",
       "      <th>559</th>\n",
       "      <td>7661</td>\n",
       "      <td>18091756</td>\n",
       "      <td>R-112b790b</td>\n",
       "      <td>2019-01-25 07:00:00+00:00</td>\n",
       "      <td>2019-01-27 02:40:48+00:00</td>\n",
       "      <td>1</td>\n",
       "      <td>66.555556</td>\n",
       "      <td>6.888889</td>\n",
       "      <td>0.000000</td>\n",
       "      <td>90.888889</td>\n",
       "      <td>...</td>\n",
       "      <td>e975a383-c</td>\n",
       "      <td>Neil Herring</td>\n",
       "      <td>male</td>\n",
       "      <td>45</td>\n",
       "      <td>7</td>\n",
       "      <td>proactive</td>\n",
       "      <td>3</td>\n",
       "      <td>18091756</td>\n",
       "      <td>58.02</td>\n",
       "      <td>1</td>\n",
       "    </tr>\n",
       "    <tr>\n",
       "      <th>3782</th>\n",
       "      <td>8163</td>\n",
       "      <td>24746768</td>\n",
       "      <td>R-b5f9418a</td>\n",
       "      <td>2019-01-25 07:00:00+00:00</td>\n",
       "      <td>2019-01-27 14:35:24+00:00</td>\n",
       "      <td>0</td>\n",
       "      <td>47.454545</td>\n",
       "      <td>9.090909</td>\n",
       "      <td>0.000000</td>\n",
       "      <td>70.636364</td>\n",
       "      <td>...</td>\n",
       "      <td>3d91387f-2</td>\n",
       "      <td>William Anderson III</td>\n",
       "      <td>male</td>\n",
       "      <td>50</td>\n",
       "      <td>0</td>\n",
       "      <td>conservative</td>\n",
       "      <td>4</td>\n",
       "      <td>24746768</td>\n",
       "      <td>40.69</td>\n",
       "      <td>1</td>\n",
       "    </tr>\n",
       "    <tr>\n",
       "      <th>8379</th>\n",
       "      <td>11360</td>\n",
       "      <td>22916520</td>\n",
       "      <td>R-78ee1f97</td>\n",
       "      <td>2019-01-25 07:00:00+00:00</td>\n",
       "      <td>2019-01-28 10:08:24+00:00</td>\n",
       "      <td>0</td>\n",
       "      <td>57.500000</td>\n",
       "      <td>10.142857</td>\n",
       "      <td>0.000000</td>\n",
       "      <td>78.214286</td>\n",
       "      <td>...</td>\n",
       "      <td>ffedbf74-a</td>\n",
       "      <td>Thomas Ochoa</td>\n",
       "      <td>male</td>\n",
       "      <td>57</td>\n",
       "      <td>19</td>\n",
       "      <td>proactive</td>\n",
       "      <td>6</td>\n",
       "      <td>22916520</td>\n",
       "      <td>63.64</td>\n",
       "      <td>1</td>\n",
       "    </tr>\n",
       "    <tr>\n",
       "      <th>12077</th>\n",
       "      <td>7721</td>\n",
       "      <td>24654257</td>\n",
       "      <td>R-21472caf</td>\n",
       "      <td>2019-01-25 07:00:00+00:00</td>\n",
       "      <td>2019-01-27 16:50:24+00:00</td>\n",
       "      <td>0</td>\n",
       "      <td>69.000000</td>\n",
       "      <td>12.363636</td>\n",
       "      <td>0.018182</td>\n",
       "      <td>79.181818</td>\n",
       "      <td>...</td>\n",
       "      <td>f110642c-1</td>\n",
       "      <td>Marc Walters</td>\n",
       "      <td>male</td>\n",
       "      <td>47</td>\n",
       "      <td>5</td>\n",
       "      <td>proactive</td>\n",
       "      <td>3</td>\n",
       "      <td>24654257</td>\n",
       "      <td>61.93</td>\n",
       "      <td>1</td>\n",
       "    </tr>\n",
       "  </tbody>\n",
       "</table>\n",
       "<p>4 rows × 49 columns</p>\n",
       "</div>"
      ],
      "text/plain": [
       "       unique_id  truck_id    route_id            departure_date  \\\n",
       "559         7661  18091756  R-112b790b 2019-01-25 07:00:00+00:00   \n",
       "3782        8163  24746768  R-b5f9418a 2019-01-25 07:00:00+00:00   \n",
       "8379       11360  22916520  R-78ee1f97 2019-01-25 07:00:00+00:00   \n",
       "12077       7721  24654257  R-21472caf 2019-01-25 07:00:00+00:00   \n",
       "\n",
       "              estimated_arrival  delay  route_avg_temp  route_avg_wind_speed  \\\n",
       "559   2019-01-27 02:40:48+00:00      1       66.555556              6.888889   \n",
       "3782  2019-01-27 14:35:24+00:00      0       47.454545              9.090909   \n",
       "8379  2019-01-28 10:08:24+00:00      0       57.500000             10.142857   \n",
       "12077 2019-01-27 16:50:24+00:00      0       69.000000             12.363636   \n",
       "\n",
       "       route_avg_precip  route_avg_humidity  ...   driver_id  \\\n",
       "559            0.000000           90.888889  ...  e975a383-c   \n",
       "3782           0.000000           70.636364  ...  3d91387f-2   \n",
       "8379           0.000000           78.214286  ...  ffedbf74-a   \n",
       "12077          0.018182           79.181818  ...  f110642c-1   \n",
       "\n",
       "                       name gender age experience driving_style ratings  \\\n",
       "559            Neil Herring   male  45          7     proactive       3   \n",
       "3782   William Anderson III   male  50          0  conservative       4   \n",
       "8379           Thomas Ochoa   male  57         19     proactive       6   \n",
       "12077          Marc Walters   male  47          5     proactive       3   \n",
       "\n",
       "       vehicle_no  average_speed_mph  is_midnight  \n",
       "559      18091756              58.02            1  \n",
       "3782     24746768              40.69            1  \n",
       "8379     22916520              63.64            1  \n",
       "12077    24654257              61.93            1  \n",
       "\n",
       "[4 rows x 49 columns]"
      ]
     },
     "execution_count": 8,
     "metadata": {},
     "output_type": "execute_result"
    }
   ],
   "source": [
    "final_merge[final_merge['origin_temp'].isnull()]"
   ]
  },
  {
   "cell_type": "code",
   "execution_count": 9,
   "id": "6b61b344",
   "metadata": {},
   "outputs": [
    {
     "data": {
      "text/html": [
       "<div>\n",
       "<style scoped>\n",
       "    .dataframe tbody tr th:only-of-type {\n",
       "        vertical-align: middle;\n",
       "    }\n",
       "\n",
       "    .dataframe tbody tr th {\n",
       "        vertical-align: top;\n",
       "    }\n",
       "\n",
       "    .dataframe thead th {\n",
       "        text-align: right;\n",
       "    }\n",
       "</style>\n",
       "<table border=\"1\" class=\"dataframe\">\n",
       "  <thead>\n",
       "    <tr style=\"text-align: right;\">\n",
       "      <th></th>\n",
       "      <th>unique_id</th>\n",
       "      <th>truck_id</th>\n",
       "      <th>route_id</th>\n",
       "      <th>departure_date</th>\n",
       "      <th>estimated_arrival</th>\n",
       "      <th>delay</th>\n",
       "      <th>route_avg_temp</th>\n",
       "      <th>route_avg_wind_speed</th>\n",
       "      <th>route_avg_precip</th>\n",
       "      <th>route_avg_humidity</th>\n",
       "      <th>...</th>\n",
       "      <th>driver_id</th>\n",
       "      <th>name</th>\n",
       "      <th>gender</th>\n",
       "      <th>age</th>\n",
       "      <th>experience</th>\n",
       "      <th>driving_style</th>\n",
       "      <th>ratings</th>\n",
       "      <th>vehicle_no</th>\n",
       "      <th>average_speed_mph</th>\n",
       "      <th>is_midnight</th>\n",
       "    </tr>\n",
       "  </thead>\n",
       "  <tbody>\n",
       "    <tr>\n",
       "      <th>559</th>\n",
       "      <td>7661</td>\n",
       "      <td>18091756</td>\n",
       "      <td>R-112b790b</td>\n",
       "      <td>2019-01-25 07:00:00+00:00</td>\n",
       "      <td>2019-01-27 02:40:48+00:00</td>\n",
       "      <td>1</td>\n",
       "      <td>66.555556</td>\n",
       "      <td>6.888889</td>\n",
       "      <td>0.000000</td>\n",
       "      <td>90.888889</td>\n",
       "      <td>...</td>\n",
       "      <td>e975a383-c</td>\n",
       "      <td>Neil Herring</td>\n",
       "      <td>male</td>\n",
       "      <td>45</td>\n",
       "      <td>7</td>\n",
       "      <td>proactive</td>\n",
       "      <td>3</td>\n",
       "      <td>18091756</td>\n",
       "      <td>58.02</td>\n",
       "      <td>1</td>\n",
       "    </tr>\n",
       "    <tr>\n",
       "      <th>3782</th>\n",
       "      <td>8163</td>\n",
       "      <td>24746768</td>\n",
       "      <td>R-b5f9418a</td>\n",
       "      <td>2019-01-25 07:00:00+00:00</td>\n",
       "      <td>2019-01-27 14:35:24+00:00</td>\n",
       "      <td>0</td>\n",
       "      <td>47.454545</td>\n",
       "      <td>9.090909</td>\n",
       "      <td>0.000000</td>\n",
       "      <td>70.636364</td>\n",
       "      <td>...</td>\n",
       "      <td>3d91387f-2</td>\n",
       "      <td>William Anderson III</td>\n",
       "      <td>male</td>\n",
       "      <td>50</td>\n",
       "      <td>0</td>\n",
       "      <td>conservative</td>\n",
       "      <td>4</td>\n",
       "      <td>24746768</td>\n",
       "      <td>40.69</td>\n",
       "      <td>1</td>\n",
       "    </tr>\n",
       "    <tr>\n",
       "      <th>8379</th>\n",
       "      <td>11360</td>\n",
       "      <td>22916520</td>\n",
       "      <td>R-78ee1f97</td>\n",
       "      <td>2019-01-25 07:00:00+00:00</td>\n",
       "      <td>2019-01-28 10:08:24+00:00</td>\n",
       "      <td>0</td>\n",
       "      <td>57.500000</td>\n",
       "      <td>10.142857</td>\n",
       "      <td>0.000000</td>\n",
       "      <td>78.214286</td>\n",
       "      <td>...</td>\n",
       "      <td>ffedbf74-a</td>\n",
       "      <td>Thomas Ochoa</td>\n",
       "      <td>male</td>\n",
       "      <td>57</td>\n",
       "      <td>19</td>\n",
       "      <td>proactive</td>\n",
       "      <td>6</td>\n",
       "      <td>22916520</td>\n",
       "      <td>63.64</td>\n",
       "      <td>1</td>\n",
       "    </tr>\n",
       "    <tr>\n",
       "      <th>12077</th>\n",
       "      <td>7721</td>\n",
       "      <td>24654257</td>\n",
       "      <td>R-21472caf</td>\n",
       "      <td>2019-01-25 07:00:00+00:00</td>\n",
       "      <td>2019-01-27 16:50:24+00:00</td>\n",
       "      <td>0</td>\n",
       "      <td>69.000000</td>\n",
       "      <td>12.363636</td>\n",
       "      <td>0.018182</td>\n",
       "      <td>79.181818</td>\n",
       "      <td>...</td>\n",
       "      <td>f110642c-1</td>\n",
       "      <td>Marc Walters</td>\n",
       "      <td>male</td>\n",
       "      <td>47</td>\n",
       "      <td>5</td>\n",
       "      <td>proactive</td>\n",
       "      <td>3</td>\n",
       "      <td>24654257</td>\n",
       "      <td>61.93</td>\n",
       "      <td>1</td>\n",
       "    </tr>\n",
       "  </tbody>\n",
       "</table>\n",
       "<p>4 rows × 49 columns</p>\n",
       "</div>"
      ],
      "text/plain": [
       "       unique_id  truck_id    route_id            departure_date  \\\n",
       "559         7661  18091756  R-112b790b 2019-01-25 07:00:00+00:00   \n",
       "3782        8163  24746768  R-b5f9418a 2019-01-25 07:00:00+00:00   \n",
       "8379       11360  22916520  R-78ee1f97 2019-01-25 07:00:00+00:00   \n",
       "12077       7721  24654257  R-21472caf 2019-01-25 07:00:00+00:00   \n",
       "\n",
       "              estimated_arrival  delay  route_avg_temp  route_avg_wind_speed  \\\n",
       "559   2019-01-27 02:40:48+00:00      1       66.555556              6.888889   \n",
       "3782  2019-01-27 14:35:24+00:00      0       47.454545              9.090909   \n",
       "8379  2019-01-28 10:08:24+00:00      0       57.500000             10.142857   \n",
       "12077 2019-01-27 16:50:24+00:00      0       69.000000             12.363636   \n",
       "\n",
       "       route_avg_precip  route_avg_humidity  ...   driver_id  \\\n",
       "559            0.000000           90.888889  ...  e975a383-c   \n",
       "3782           0.000000           70.636364  ...  3d91387f-2   \n",
       "8379           0.000000           78.214286  ...  ffedbf74-a   \n",
       "12077          0.018182           79.181818  ...  f110642c-1   \n",
       "\n",
       "                       name gender age experience driving_style ratings  \\\n",
       "559            Neil Herring   male  45          7     proactive       3   \n",
       "3782   William Anderson III   male  50          0  conservative       4   \n",
       "8379           Thomas Ochoa   male  57         19     proactive       6   \n",
       "12077          Marc Walters   male  47          5     proactive       3   \n",
       "\n",
       "       vehicle_no  average_speed_mph  is_midnight  \n",
       "559      18091756              58.02            1  \n",
       "3782     24746768              40.69            1  \n",
       "8379     22916520              63.64            1  \n",
       "12077    24654257              61.93            1  \n",
       "\n",
       "[4 rows x 49 columns]"
      ]
     },
     "execution_count": 9,
     "metadata": {},
     "output_type": "execute_result"
    }
   ],
   "source": [
    "final_merge[final_merge['origin_humidity'].isnull()]"
   ]
  },
  {
   "cell_type": "code",
   "execution_count": 10,
   "id": "7c5b68e7",
   "metadata": {},
   "outputs": [
    {
     "name": "stdout",
     "output_type": "stream",
     "text": [
      "Finished: Reading data from Hopsworks, using Hopsworks Feature Query Service (2.72s) \n"
     ]
    }
   ],
   "source": [
    "routes_data = fs.get_feature_group('routes_details_fg', version=1)\n",
    "\n",
    "routes_data_query = routes_data.select_all()\n",
    "\n",
    "routes_df = routes_data_query.read(read_options={\"use_hive\": True})"
   ]
  },
  {
   "cell_type": "code",
   "execution_count": 11,
   "id": "394bd42b",
   "metadata": {},
   "outputs": [
    {
     "data": {
      "text/html": [
       "<div>\n",
       "<style scoped>\n",
       "    .dataframe tbody tr th:only-of-type {\n",
       "        vertical-align: middle;\n",
       "    }\n",
       "\n",
       "    .dataframe tbody tr th {\n",
       "        vertical-align: top;\n",
       "    }\n",
       "\n",
       "    .dataframe thead th {\n",
       "        text-align: right;\n",
       "    }\n",
       "</style>\n",
       "<table border=\"1\" class=\"dataframe\">\n",
       "  <thead>\n",
       "    <tr style=\"text-align: right;\">\n",
       "      <th></th>\n",
       "      <th>route_id</th>\n",
       "      <th>origin_id</th>\n",
       "      <th>destination_id</th>\n",
       "      <th>distance</th>\n",
       "      <th>average_hours</th>\n",
       "      <th>event_time</th>\n",
       "    </tr>\n",
       "  </thead>\n",
       "  <tbody>\n",
       "    <tr>\n",
       "      <th>30</th>\n",
       "      <td>R-78ee1f97</td>\n",
       "      <td>C-f8f01604</td>\n",
       "      <td>C-f5ed4c15</td>\n",
       "      <td>3757.02</td>\n",
       "      <td>75.14</td>\n",
       "      <td>2025-07-01 00:00:00+00:00</td>\n",
       "    </tr>\n",
       "    <tr>\n",
       "      <th>1460</th>\n",
       "      <td>R-21472caf</td>\n",
       "      <td>C-f8f01604</td>\n",
       "      <td>C-2e349ccd</td>\n",
       "      <td>2892.14</td>\n",
       "      <td>57.84</td>\n",
       "      <td>2025-07-01 00:00:00+00:00</td>\n",
       "    </tr>\n",
       "    <tr>\n",
       "      <th>1596</th>\n",
       "      <td>R-112b790b</td>\n",
       "      <td>C-f8f01604</td>\n",
       "      <td>C-d3bb431c</td>\n",
       "      <td>2183.94</td>\n",
       "      <td>43.68</td>\n",
       "      <td>2025-07-01 00:00:00+00:00</td>\n",
       "    </tr>\n",
       "    <tr>\n",
       "      <th>1725</th>\n",
       "      <td>R-b5f9418a</td>\n",
       "      <td>C-f8f01604</td>\n",
       "      <td>C-4fe0fa24</td>\n",
       "      <td>2779.33</td>\n",
       "      <td>55.59</td>\n",
       "      <td>2025-07-01 00:00:00+00:00</td>\n",
       "    </tr>\n",
       "  </tbody>\n",
       "</table>\n",
       "</div>"
      ],
      "text/plain": [
       "        route_id   origin_id destination_id  distance  average_hours  \\\n",
       "30    R-78ee1f97  C-f8f01604     C-f5ed4c15   3757.02          75.14   \n",
       "1460  R-21472caf  C-f8f01604     C-2e349ccd   2892.14          57.84   \n",
       "1596  R-112b790b  C-f8f01604     C-d3bb431c   2183.94          43.68   \n",
       "1725  R-b5f9418a  C-f8f01604     C-4fe0fa24   2779.33          55.59   \n",
       "\n",
       "                    event_time  \n",
       "30   2025-07-01 00:00:00+00:00  \n",
       "1460 2025-07-01 00:00:00+00:00  \n",
       "1596 2025-07-01 00:00:00+00:00  \n",
       "1725 2025-07-01 00:00:00+00:00  "
      ]
     },
     "execution_count": 11,
     "metadata": {},
     "output_type": "execute_result"
    }
   ],
   "source": [
    "routes_df[routes_df.route_id.isin(['R-112b790b', 'R-78ee1f97','R-b5f9418a', 'R-21472caf'])]"
   ]
  },
  {
   "cell_type": "code",
   "execution_count": 12,
   "id": "ec3650cf",
   "metadata": {},
   "outputs": [
    {
     "name": "stdout",
     "output_type": "stream",
     "text": [
      "Finished: Reading data from Hopsworks, using Hopsworks Feature Query Service (25.23s) \n"
     ]
    }
   ],
   "source": [
    "weather_data = fs.get_feature_group('city_weather_details_fg', version=1)\n",
    "\n",
    "weather_query = weather_data.select_all()\n",
    "\n",
    "weather_df = weather_query.read(read_options={\"use_hive\": True})"
   ]
  },
  {
   "cell_type": "code",
   "execution_count": 15,
   "id": "2431ed1d",
   "metadata": {},
   "outputs": [
    {
     "data": {
      "text/html": [
       "<div>\n",
       "<style scoped>\n",
       "    .dataframe tbody tr th:only-of-type {\n",
       "        vertical-align: middle;\n",
       "    }\n",
       "\n",
       "    .dataframe tbody tr th {\n",
       "        vertical-align: top;\n",
       "    }\n",
       "\n",
       "    .dataframe thead th {\n",
       "        text-align: right;\n",
       "    }\n",
       "</style>\n",
       "<table border=\"1\" class=\"dataframe\">\n",
       "  <thead>\n",
       "    <tr style=\"text-align: right;\">\n",
       "      <th></th>\n",
       "      <th>city_id</th>\n",
       "      <th>date</th>\n",
       "      <th>hour</th>\n",
       "      <th>temp</th>\n",
       "      <th>wind_speed</th>\n",
       "      <th>description</th>\n",
       "      <th>precip</th>\n",
       "      <th>humidity</th>\n",
       "      <th>visibility</th>\n",
       "      <th>pressure</th>\n",
       "      <th>chanceofrain</th>\n",
       "      <th>chanceoffog</th>\n",
       "      <th>chanceofsnow</th>\n",
       "      <th>chanceofthunder</th>\n",
       "    </tr>\n",
       "  </thead>\n",
       "  <tbody>\n",
       "    <tr>\n",
       "      <th>173</th>\n",
       "      <td>C-f8f01604</td>\n",
       "      <td>2019-01-17 00:00:00+00:00</td>\n",
       "      <td>1200</td>\n",
       "      <td>82.0</td>\n",
       "      <td>11.0</td>\n",
       "      <td>Sunny</td>\n",
       "      <td>0.0</td>\n",
       "      <td>11</td>\n",
       "      <td>6.0</td>\n",
       "      <td>1015.0</td>\n",
       "      <td>0.0</td>\n",
       "      <td>0.0</td>\n",
       "      <td>0.0</td>\n",
       "      <td>0.0</td>\n",
       "    </tr>\n",
       "    <tr>\n",
       "      <th>204</th>\n",
       "      <td>C-f8f01604</td>\n",
       "      <td>2019-02-08 00:00:00+00:00</td>\n",
       "      <td>600</td>\n",
       "      <td>59.0</td>\n",
       "      <td>11.0</td>\n",
       "      <td>Sunny</td>\n",
       "      <td>0.0</td>\n",
       "      <td>13</td>\n",
       "      <td>6.0</td>\n",
       "      <td>1015.0</td>\n",
       "      <td>0.0</td>\n",
       "      <td>0.0</td>\n",
       "      <td>0.0</td>\n",
       "      <td>0.0</td>\n",
       "    </tr>\n",
       "    <tr>\n",
       "      <th>306</th>\n",
       "      <td>C-f8f01604</td>\n",
       "      <td>2019-01-30 00:00:00+00:00</td>\n",
       "      <td>2200</td>\n",
       "      <td>75.0</td>\n",
       "      <td>7.0</td>\n",
       "      <td>Partly cloudy</td>\n",
       "      <td>0.0</td>\n",
       "      <td>8</td>\n",
       "      <td>6.0</td>\n",
       "      <td>1014.0</td>\n",
       "      <td>0.0</td>\n",
       "      <td>0.0</td>\n",
       "      <td>0.0</td>\n",
       "      <td>0.0</td>\n",
       "    </tr>\n",
       "    <tr>\n",
       "      <th>343</th>\n",
       "      <td>C-f8f01604</td>\n",
       "      <td>2019-01-18 00:00:00+00:00</td>\n",
       "      <td>1800</td>\n",
       "      <td>75.0</td>\n",
       "      <td>11.0</td>\n",
       "      <td>Clear</td>\n",
       "      <td>0.0</td>\n",
       "      <td>13</td>\n",
       "      <td>6.0</td>\n",
       "      <td>1013.0</td>\n",
       "      <td>0.0</td>\n",
       "      <td>0.0</td>\n",
       "      <td>0.0</td>\n",
       "      <td>0.0</td>\n",
       "    </tr>\n",
       "    <tr>\n",
       "      <th>392</th>\n",
       "      <td>C-f8f01604</td>\n",
       "      <td>2019-02-07 00:00:00+00:00</td>\n",
       "      <td>1800</td>\n",
       "      <td>70.0</td>\n",
       "      <td>9.0</td>\n",
       "      <td>Clear</td>\n",
       "      <td>0.0</td>\n",
       "      <td>9</td>\n",
       "      <td>6.0</td>\n",
       "      <td>1013.0</td>\n",
       "      <td>0.0</td>\n",
       "      <td>0.0</td>\n",
       "      <td>0.0</td>\n",
       "      <td>0.0</td>\n",
       "    </tr>\n",
       "    <tr>\n",
       "      <th>...</th>\n",
       "      <td>...</td>\n",
       "      <td>...</td>\n",
       "      <td>...</td>\n",
       "      <td>...</td>\n",
       "      <td>...</td>\n",
       "      <td>...</td>\n",
       "      <td>...</td>\n",
       "      <td>...</td>\n",
       "      <td>...</td>\n",
       "      <td>...</td>\n",
       "      <td>...</td>\n",
       "      <td>...</td>\n",
       "      <td>...</td>\n",
       "      <td>...</td>\n",
       "    </tr>\n",
       "    <tr>\n",
       "      <th>53905</th>\n",
       "      <td>C-f8f01604</td>\n",
       "      <td>2019-01-22 00:00:00+00:00</td>\n",
       "      <td>200</td>\n",
       "      <td>73.0</td>\n",
       "      <td>8.0</td>\n",
       "      <td>Clear</td>\n",
       "      <td>0.0</td>\n",
       "      <td>14</td>\n",
       "      <td>6.0</td>\n",
       "      <td>1012.0</td>\n",
       "      <td>0.0</td>\n",
       "      <td>0.0</td>\n",
       "      <td>0.0</td>\n",
       "      <td>0.0</td>\n",
       "    </tr>\n",
       "    <tr>\n",
       "      <th>53912</th>\n",
       "      <td>C-f8f01604</td>\n",
       "      <td>2019-01-17 00:00:00+00:00</td>\n",
       "      <td>1400</td>\n",
       "      <td>84.0</td>\n",
       "      <td>11.0</td>\n",
       "      <td>Sunny</td>\n",
       "      <td>0.0</td>\n",
       "      <td>10</td>\n",
       "      <td>6.0</td>\n",
       "      <td>1013.0</td>\n",
       "      <td>0.0</td>\n",
       "      <td>0.0</td>\n",
       "      <td>0.0</td>\n",
       "      <td>0.0</td>\n",
       "    </tr>\n",
       "    <tr>\n",
       "      <th>53918</th>\n",
       "      <td>C-f8f01604</td>\n",
       "      <td>2019-02-02 00:00:00+00:00</td>\n",
       "      <td>100</td>\n",
       "      <td>73.0</td>\n",
       "      <td>9.0</td>\n",
       "      <td>Partly cloudy</td>\n",
       "      <td>0.0</td>\n",
       "      <td>10</td>\n",
       "      <td>6.0</td>\n",
       "      <td>1012.0</td>\n",
       "      <td>0.0</td>\n",
       "      <td>0.0</td>\n",
       "      <td>0.0</td>\n",
       "      <td>0.0</td>\n",
       "    </tr>\n",
       "    <tr>\n",
       "      <th>54012</th>\n",
       "      <td>C-f8f01604</td>\n",
       "      <td>2019-01-31 00:00:00+00:00</td>\n",
       "      <td>1700</td>\n",
       "      <td>86.0</td>\n",
       "      <td>10.0</td>\n",
       "      <td>Partly cloudy</td>\n",
       "      <td>0.0</td>\n",
       "      <td>7</td>\n",
       "      <td>6.0</td>\n",
       "      <td>1012.0</td>\n",
       "      <td>0.0</td>\n",
       "      <td>0.0</td>\n",
       "      <td>0.0</td>\n",
       "      <td>0.0</td>\n",
       "    </tr>\n",
       "    <tr>\n",
       "      <th>54051</th>\n",
       "      <td>C-f8f01604</td>\n",
       "      <td>2019-02-03 00:00:00+00:00</td>\n",
       "      <td>400</td>\n",
       "      <td>73.0</td>\n",
       "      <td>7.0</td>\n",
       "      <td>Clear</td>\n",
       "      <td>0.0</td>\n",
       "      <td>10</td>\n",
       "      <td>6.0</td>\n",
       "      <td>1011.0</td>\n",
       "      <td>0.0</td>\n",
       "      <td>0.0</td>\n",
       "      <td>0.0</td>\n",
       "      <td>0.0</td>\n",
       "    </tr>\n",
       "  </tbody>\n",
       "</table>\n",
       "<p>1080 rows × 14 columns</p>\n",
       "</div>"
      ],
      "text/plain": [
       "          city_id                      date  hour  temp  wind_speed  \\\n",
       "173    C-f8f01604 2019-01-17 00:00:00+00:00  1200  82.0        11.0   \n",
       "204    C-f8f01604 2019-02-08 00:00:00+00:00   600  59.0        11.0   \n",
       "306    C-f8f01604 2019-01-30 00:00:00+00:00  2200  75.0         7.0   \n",
       "343    C-f8f01604 2019-01-18 00:00:00+00:00  1800  75.0        11.0   \n",
       "392    C-f8f01604 2019-02-07 00:00:00+00:00  1800  70.0         9.0   \n",
       "...           ...                       ...   ...   ...         ...   \n",
       "53905  C-f8f01604 2019-01-22 00:00:00+00:00   200  73.0         8.0   \n",
       "53912  C-f8f01604 2019-01-17 00:00:00+00:00  1400  84.0        11.0   \n",
       "53918  C-f8f01604 2019-02-02 00:00:00+00:00   100  73.0         9.0   \n",
       "54012  C-f8f01604 2019-01-31 00:00:00+00:00  1700  86.0        10.0   \n",
       "54051  C-f8f01604 2019-02-03 00:00:00+00:00   400  73.0         7.0   \n",
       "\n",
       "         description  precip  humidity  visibility  pressure  chanceofrain  \\\n",
       "173            Sunny     0.0        11         6.0    1015.0           0.0   \n",
       "204            Sunny     0.0        13         6.0    1015.0           0.0   \n",
       "306    Partly cloudy     0.0         8         6.0    1014.0           0.0   \n",
       "343            Clear     0.0        13         6.0    1013.0           0.0   \n",
       "392            Clear     0.0         9         6.0    1013.0           0.0   \n",
       "...              ...     ...       ...         ...       ...           ...   \n",
       "53905          Clear     0.0        14         6.0    1012.0           0.0   \n",
       "53912          Sunny     0.0        10         6.0    1013.0           0.0   \n",
       "53918  Partly cloudy     0.0        10         6.0    1012.0           0.0   \n",
       "54012  Partly cloudy     0.0         7         6.0    1012.0           0.0   \n",
       "54051          Clear     0.0        10         6.0    1011.0           0.0   \n",
       "\n",
       "       chanceoffog  chanceofsnow  chanceofthunder  \n",
       "173            0.0           0.0              0.0  \n",
       "204            0.0           0.0              0.0  \n",
       "306            0.0           0.0              0.0  \n",
       "343            0.0           0.0              0.0  \n",
       "392            0.0           0.0              0.0  \n",
       "...            ...           ...              ...  \n",
       "53905          0.0           0.0              0.0  \n",
       "53912          0.0           0.0              0.0  \n",
       "53918          0.0           0.0              0.0  \n",
       "54012          0.0           0.0              0.0  \n",
       "54051          0.0           0.0              0.0  \n",
       "\n",
       "[1080 rows x 14 columns]"
      ]
     },
     "execution_count": 15,
     "metadata": {},
     "output_type": "execute_result"
    }
   ],
   "source": [
    "weather_df[(weather_df.city_id=='C-f8f01604')]"
   ]
  },
  {
   "cell_type": "code",
   "execution_count": 13,
   "id": "c8b75a49",
   "metadata": {},
   "outputs": [
    {
     "data": {
      "text/html": [
       "<div>\n",
       "<style scoped>\n",
       "    .dataframe tbody tr th:only-of-type {\n",
       "        vertical-align: middle;\n",
       "    }\n",
       "\n",
       "    .dataframe tbody tr th {\n",
       "        vertical-align: top;\n",
       "    }\n",
       "\n",
       "    .dataframe thead th {\n",
       "        text-align: right;\n",
       "    }\n",
       "</style>\n",
       "<table border=\"1\" class=\"dataframe\">\n",
       "  <thead>\n",
       "    <tr style=\"text-align: right;\">\n",
       "      <th></th>\n",
       "      <th>city_id</th>\n",
       "      <th>date</th>\n",
       "      <th>hour</th>\n",
       "      <th>temp</th>\n",
       "      <th>wind_speed</th>\n",
       "      <th>description</th>\n",
       "      <th>precip</th>\n",
       "      <th>humidity</th>\n",
       "      <th>visibility</th>\n",
       "      <th>pressure</th>\n",
       "      <th>chanceofrain</th>\n",
       "      <th>chanceoffog</th>\n",
       "      <th>chanceofsnow</th>\n",
       "      <th>chanceofthunder</th>\n",
       "    </tr>\n",
       "  </thead>\n",
       "  <tbody>\n",
       "  </tbody>\n",
       "</table>\n",
       "</div>"
      ],
      "text/plain": [
       "Empty DataFrame\n",
       "Columns: [city_id, date, hour, temp, wind_speed, description, precip, humidity, visibility, pressure, chanceofrain, chanceoffog, chanceofsnow, chanceofthunder]\n",
       "Index: []"
      ]
     },
     "execution_count": 13,
     "metadata": {},
     "output_type": "execute_result"
    }
   ],
   "source": [
    "weather_df[(weather_df.city_id=='C-f8f01604')&(weather_df.date==pd.to_datetime('2019-01-25'))]"
   ]
  },
  {
   "cell_type": "code",
   "execution_count": 14,
   "id": "27fa6384",
   "metadata": {},
   "outputs": [],
   "source": [
    "final_merge=final_merge.dropna(subset =  ['origin_temp', 'origin_wind_speed', 'origin_precip',\n",
    "                                'origin_humidity', 'origin_visibility', 'origin_pressure' ] ).reset_index(drop=True)"
   ]
  },
  {
   "cell_type": "code",
   "execution_count": 16,
   "id": "404e04a0",
   "metadata": {},
   "outputs": [
    {
     "data": {
      "text/plain": [
       "unique_id                           0\n",
       "truck_id                            0\n",
       "route_id                            0\n",
       "departure_date                      0\n",
       "estimated_arrival                   0\n",
       "delay                               0\n",
       "route_avg_temp                      0\n",
       "route_avg_wind_speed                0\n",
       "route_avg_precip                    0\n",
       "route_avg_humidity                  0\n",
       "route_avg_visibility                0\n",
       "route_avg_pressure                  0\n",
       "route_description                   0\n",
       "estimated_arrival_nearest_hour      0\n",
       "departure_date_nearest_hour         0\n",
       "origin_id                           0\n",
       "destination_id                      0\n",
       "distance                            0\n",
       "average_hours                       0\n",
       "origin_temp                         0\n",
       "origin_wind_speed                   0\n",
       "origin_description                  0\n",
       "origin_precip                       0\n",
       "origin_humidity                     0\n",
       "origin_visibility                   0\n",
       "origin_pressure                     0\n",
       "destination_temp                    0\n",
       "destination_wind_speed              0\n",
       "destination_description             0\n",
       "destination_precip                  0\n",
       "destination_humidity                0\n",
       "destination_visibility              0\n",
       "destination_pressure                0\n",
       "avg_no_of_vehicles                  0\n",
       "accident                            0\n",
       "truck_age                           0\n",
       "load_capacity_pounds              604\n",
       "mileage_mpg                         0\n",
       "fuel_type                           0\n",
       "driver_id                           0\n",
       "name                                0\n",
       "gender                              0\n",
       "age                                 0\n",
       "experience                          0\n",
       "driving_style                       0\n",
       "ratings                             0\n",
       "vehicle_no                          0\n",
       "average_speed_mph                   0\n",
       "is_midnight                         0\n",
       "dtype: int64"
      ]
     },
     "execution_count": 16,
     "metadata": {},
     "output_type": "execute_result"
    }
   ],
   "source": [
    "final_merge.isna().sum()"
   ]
  },
  {
   "cell_type": "code",
   "execution_count": 17,
   "id": "40a47c25",
   "metadata": {},
   "outputs": [
    {
     "data": {
      "text/plain": [
       "12304"
      ]
     },
     "execution_count": 17,
     "metadata": {},
     "output_type": "execute_result"
    }
   ],
   "source": [
    "len(final_merge)"
   ]
  },
  {
   "cell_type": "markdown",
   "id": "56ed7131",
   "metadata": {},
   "source": [
    "# Train - Validation - Test Split"
   ]
  },
  {
   "cell_type": "code",
   "execution_count": null,
   "id": "f2e784bd",
   "metadata": {},
   "outputs": [],
   "source": [
    "cts_cols=['route_avg_temp', 'route_avg_wind_speed',\n",
    "       'route_avg_precip', 'route_avg_humidity', 'route_avg_visibility',\n",
    "       'route_avg_pressure', 'distance', 'average_hours',\n",
    "       'origin_temp', 'origin_wind_speed', 'origin_precip', 'origin_humidity',\n",
    "       'origin_visibility', 'origin_pressure',\n",
    "       'destination_temp','destination_wind_speed','destination_precip',\n",
    "       'destination_humidity', 'destination_visibility','destination_pressure',\n",
    "        'avg_no_of_vehicles', 'truck_age','load_capacity_pounds', 'mileage_mpg',\n",
    "        'age', 'experience','average_speed_mph']\n",
    "\n",
    "\n",
    "cat_cols=['route_description',\n",
    "       'origin_description', 'destination_description',\n",
    "        'accident', 'fuel_type',\n",
    "       'gender', 'driving_style', 'ratings','is_midnight']\n",
    "\n",
    "\n",
    "target=['delay']"
   ]
  },
  {
   "cell_type": "code",
   "execution_count": 19,
   "id": "5f0350f7",
   "metadata": {},
   "outputs": [
    {
     "data": {
      "text/plain": [
       "(Timestamp('2019-01-01 07:04:48+0000', tz='Etc/UTC'),\n",
       " Timestamp('2019-02-14 16:06:00+0000', tz='Etc/UTC'))"
      ]
     },
     "execution_count": 19,
     "metadata": {},
     "output_type": "execute_result"
    }
   ],
   "source": [
    "final_merge['estimated_arrival'].min(), final_merge['estimated_arrival'].max()"
   ]
  },
  {
   "cell_type": "code",
   "execution_count": 22,
   "id": "88e66ed5",
   "metadata": {},
   "outputs": [],
   "source": [
    "split1 = pd.to_datetime('2019-01-30', utc=True)\n",
    "split2 = pd.to_datetime('2019-02-07', utc=True)\n",
    "\n",
    "train_df = final_merge[final_merge['estimated_arrival'] <= split1]\n",
    "\n",
    "validation_df = final_merge[\n",
    "    (final_merge['estimated_arrival'] > split1) &\n",
    "    (final_merge['estimated_arrival'] <= split2)\n",
    "]\n",
    "\n",
    "test_df = final_merge[final_merge['estimated_arrival'] > split2]\n"
   ]
  },
  {
   "cell_type": "code",
   "execution_count": 23,
   "id": "e9d1501b",
   "metadata": {},
   "outputs": [
    {
     "data": {
      "text/plain": [
       "(8202, 2336, 1766)"
      ]
     },
     "execution_count": 23,
     "metadata": {},
     "output_type": "execute_result"
    }
   ],
   "source": [
    "len(train_df),len(validation_df),len(test_df)"
   ]
  },
  {
   "cell_type": "code",
   "execution_count": null,
   "id": "05435978",
   "metadata": {},
   "outputs": [],
   "source": [
    "X_train=train_df[cts_cols+cat_cols]\n",
    "y_train=train_df['delay']"
   ]
  },
  {
   "cell_type": "code",
   "execution_count": 25,
   "id": "841e667b",
   "metadata": {},
   "outputs": [],
   "source": [
    "X_valid = validation_df[cts_cols + cat_cols]\n",
    "y_valid = validation_df['delay']\n",
    "\n",
    "X_test=test_df[cts_cols+cat_cols]\n",
    "y_test=test_df['delay']"
   ]
  },
  {
   "cell_type": "code",
   "execution_count": 26,
   "id": "86e62e6f",
   "metadata": {},
   "outputs": [
    {
     "data": {
      "text/plain": [
       "0    3000.0\n",
       "Name: load_capacity_pounds, dtype: float64"
      ]
     },
     "execution_count": 26,
     "metadata": {},
     "output_type": "execute_result"
    }
   ],
   "source": [
    "load_capacity_mode = X_train['load_capacity_pounds'].mode()\n",
    "load_capacity_mode"
   ]
  },
  {
   "cell_type": "code",
   "execution_count": 27,
   "id": "df597b4d",
   "metadata": {},
   "outputs": [],
   "source": [
    "X_train['load_capacity_pounds']=X_train['load_capacity_pounds'].fillna(load_capacity_mode.iloc[0])\n",
    "X_valid['load_capacity_pounds']=X_valid['load_capacity_pounds'].fillna(load_capacity_mode.iloc[0])\n",
    "X_test['load_capacity_pounds']=X_test['load_capacity_pounds'].fillna(load_capacity_mode.iloc[0])"
   ]
  },
  {
   "cell_type": "markdown",
   "id": "fecb08d3",
   "metadata": {},
   "source": [
    "## Encoding"
   ]
  },
  {
   "cell_type": "code",
   "execution_count": 29,
   "id": "624237f3",
   "metadata": {},
   "outputs": [],
   "source": [
    "from sklearn.preprocessing import OneHotEncoder\n",
    "from pickle import dump"
   ]
  },
  {
   "cell_type": "code",
   "execution_count": 31,
   "id": "04efc51a",
   "metadata": {},
   "outputs": [],
   "source": [
    "encoder = OneHotEncoder(sparse_output=False, handle_unknown='ignore')"
   ]
  },
  {
   "cell_type": "code",
   "execution_count": 35,
   "id": "6ce05af1",
   "metadata": {},
   "outputs": [
    {
     "data": {
      "text/html": [
       "<style>#sk-container-id-1 {\n",
       "  /* Definition of color scheme common for light and dark mode */\n",
       "  --sklearn-color-text: #000;\n",
       "  --sklearn-color-text-muted: #666;\n",
       "  --sklearn-color-line: gray;\n",
       "  /* Definition of color scheme for unfitted estimators */\n",
       "  --sklearn-color-unfitted-level-0: #fff5e6;\n",
       "  --sklearn-color-unfitted-level-1: #f6e4d2;\n",
       "  --sklearn-color-unfitted-level-2: #ffe0b3;\n",
       "  --sklearn-color-unfitted-level-3: chocolate;\n",
       "  /* Definition of color scheme for fitted estimators */\n",
       "  --sklearn-color-fitted-level-0: #f0f8ff;\n",
       "  --sklearn-color-fitted-level-1: #d4ebff;\n",
       "  --sklearn-color-fitted-level-2: #b3dbfd;\n",
       "  --sklearn-color-fitted-level-3: cornflowerblue;\n",
       "\n",
       "  /* Specific color for light theme */\n",
       "  --sklearn-color-text-on-default-background: var(--sg-text-color, var(--theme-code-foreground, var(--jp-content-font-color1, black)));\n",
       "  --sklearn-color-background: var(--sg-background-color, var(--theme-background, var(--jp-layout-color0, white)));\n",
       "  --sklearn-color-border-box: var(--sg-text-color, var(--theme-code-foreground, var(--jp-content-font-color1, black)));\n",
       "  --sklearn-color-icon: #696969;\n",
       "\n",
       "  @media (prefers-color-scheme: dark) {\n",
       "    /* Redefinition of color scheme for dark theme */\n",
       "    --sklearn-color-text-on-default-background: var(--sg-text-color, var(--theme-code-foreground, var(--jp-content-font-color1, white)));\n",
       "    --sklearn-color-background: var(--sg-background-color, var(--theme-background, var(--jp-layout-color0, #111)));\n",
       "    --sklearn-color-border-box: var(--sg-text-color, var(--theme-code-foreground, var(--jp-content-font-color1, white)));\n",
       "    --sklearn-color-icon: #878787;\n",
       "  }\n",
       "}\n",
       "\n",
       "#sk-container-id-1 {\n",
       "  color: var(--sklearn-color-text);\n",
       "}\n",
       "\n",
       "#sk-container-id-1 pre {\n",
       "  padding: 0;\n",
       "}\n",
       "\n",
       "#sk-container-id-1 input.sk-hidden--visually {\n",
       "  border: 0;\n",
       "  clip: rect(1px 1px 1px 1px);\n",
       "  clip: rect(1px, 1px, 1px, 1px);\n",
       "  height: 1px;\n",
       "  margin: -1px;\n",
       "  overflow: hidden;\n",
       "  padding: 0;\n",
       "  position: absolute;\n",
       "  width: 1px;\n",
       "}\n",
       "\n",
       "#sk-container-id-1 div.sk-dashed-wrapped {\n",
       "  border: 1px dashed var(--sklearn-color-line);\n",
       "  margin: 0 0.4em 0.5em 0.4em;\n",
       "  box-sizing: border-box;\n",
       "  padding-bottom: 0.4em;\n",
       "  background-color: var(--sklearn-color-background);\n",
       "}\n",
       "\n",
       "#sk-container-id-1 div.sk-container {\n",
       "  /* jupyter's `normalize.less` sets `[hidden] { display: none; }`\n",
       "     but bootstrap.min.css set `[hidden] { display: none !important; }`\n",
       "     so we also need the `!important` here to be able to override the\n",
       "     default hidden behavior on the sphinx rendered scikit-learn.org.\n",
       "     See: https://github.com/scikit-learn/scikit-learn/issues/21755 */\n",
       "  display: inline-block !important;\n",
       "  position: relative;\n",
       "}\n",
       "\n",
       "#sk-container-id-1 div.sk-text-repr-fallback {\n",
       "  display: none;\n",
       "}\n",
       "\n",
       "div.sk-parallel-item,\n",
       "div.sk-serial,\n",
       "div.sk-item {\n",
       "  /* draw centered vertical line to link estimators */\n",
       "  background-image: linear-gradient(var(--sklearn-color-text-on-default-background), var(--sklearn-color-text-on-default-background));\n",
       "  background-size: 2px 100%;\n",
       "  background-repeat: no-repeat;\n",
       "  background-position: center center;\n",
       "}\n",
       "\n",
       "/* Parallel-specific style estimator block */\n",
       "\n",
       "#sk-container-id-1 div.sk-parallel-item::after {\n",
       "  content: \"\";\n",
       "  width: 100%;\n",
       "  border-bottom: 2px solid var(--sklearn-color-text-on-default-background);\n",
       "  flex-grow: 1;\n",
       "}\n",
       "\n",
       "#sk-container-id-1 div.sk-parallel {\n",
       "  display: flex;\n",
       "  align-items: stretch;\n",
       "  justify-content: center;\n",
       "  background-color: var(--sklearn-color-background);\n",
       "  position: relative;\n",
       "}\n",
       "\n",
       "#sk-container-id-1 div.sk-parallel-item {\n",
       "  display: flex;\n",
       "  flex-direction: column;\n",
       "}\n",
       "\n",
       "#sk-container-id-1 div.sk-parallel-item:first-child::after {\n",
       "  align-self: flex-end;\n",
       "  width: 50%;\n",
       "}\n",
       "\n",
       "#sk-container-id-1 div.sk-parallel-item:last-child::after {\n",
       "  align-self: flex-start;\n",
       "  width: 50%;\n",
       "}\n",
       "\n",
       "#sk-container-id-1 div.sk-parallel-item:only-child::after {\n",
       "  width: 0;\n",
       "}\n",
       "\n",
       "/* Serial-specific style estimator block */\n",
       "\n",
       "#sk-container-id-1 div.sk-serial {\n",
       "  display: flex;\n",
       "  flex-direction: column;\n",
       "  align-items: center;\n",
       "  background-color: var(--sklearn-color-background);\n",
       "  padding-right: 1em;\n",
       "  padding-left: 1em;\n",
       "}\n",
       "\n",
       "\n",
       "/* Toggleable style: style used for estimator/Pipeline/ColumnTransformer box that is\n",
       "clickable and can be expanded/collapsed.\n",
       "- Pipeline and ColumnTransformer use this feature and define the default style\n",
       "- Estimators will overwrite some part of the style using the `sk-estimator` class\n",
       "*/\n",
       "\n",
       "/* Pipeline and ColumnTransformer style (default) */\n",
       "\n",
       "#sk-container-id-1 div.sk-toggleable {\n",
       "  /* Default theme specific background. It is overwritten whether we have a\n",
       "  specific estimator or a Pipeline/ColumnTransformer */\n",
       "  background-color: var(--sklearn-color-background);\n",
       "}\n",
       "\n",
       "/* Toggleable label */\n",
       "#sk-container-id-1 label.sk-toggleable__label {\n",
       "  cursor: pointer;\n",
       "  display: flex;\n",
       "  width: 100%;\n",
       "  margin-bottom: 0;\n",
       "  padding: 0.5em;\n",
       "  box-sizing: border-box;\n",
       "  text-align: center;\n",
       "  align-items: start;\n",
       "  justify-content: space-between;\n",
       "  gap: 0.5em;\n",
       "}\n",
       "\n",
       "#sk-container-id-1 label.sk-toggleable__label .caption {\n",
       "  font-size: 0.6rem;\n",
       "  font-weight: lighter;\n",
       "  color: var(--sklearn-color-text-muted);\n",
       "}\n",
       "\n",
       "#sk-container-id-1 label.sk-toggleable__label-arrow:before {\n",
       "  /* Arrow on the left of the label */\n",
       "  content: \"▸\";\n",
       "  float: left;\n",
       "  margin-right: 0.25em;\n",
       "  color: var(--sklearn-color-icon);\n",
       "}\n",
       "\n",
       "#sk-container-id-1 label.sk-toggleable__label-arrow:hover:before {\n",
       "  color: var(--sklearn-color-text);\n",
       "}\n",
       "\n",
       "/* Toggleable content - dropdown */\n",
       "\n",
       "#sk-container-id-1 div.sk-toggleable__content {\n",
       "  display: none;\n",
       "  text-align: left;\n",
       "  /* unfitted */\n",
       "  background-color: var(--sklearn-color-unfitted-level-0);\n",
       "}\n",
       "\n",
       "#sk-container-id-1 div.sk-toggleable__content.fitted {\n",
       "  /* fitted */\n",
       "  background-color: var(--sklearn-color-fitted-level-0);\n",
       "}\n",
       "\n",
       "#sk-container-id-1 div.sk-toggleable__content pre {\n",
       "  margin: 0.2em;\n",
       "  border-radius: 0.25em;\n",
       "  color: var(--sklearn-color-text);\n",
       "  /* unfitted */\n",
       "  background-color: var(--sklearn-color-unfitted-level-0);\n",
       "}\n",
       "\n",
       "#sk-container-id-1 div.sk-toggleable__content.fitted pre {\n",
       "  /* unfitted */\n",
       "  background-color: var(--sklearn-color-fitted-level-0);\n",
       "}\n",
       "\n",
       "#sk-container-id-1 input.sk-toggleable__control:checked~div.sk-toggleable__content {\n",
       "  /* Expand drop-down */\n",
       "  display: block;\n",
       "  width: 100%;\n",
       "  overflow: visible;\n",
       "}\n",
       "\n",
       "#sk-container-id-1 input.sk-toggleable__control:checked~label.sk-toggleable__label-arrow:before {\n",
       "  content: \"▾\";\n",
       "}\n",
       "\n",
       "/* Pipeline/ColumnTransformer-specific style */\n",
       "\n",
       "#sk-container-id-1 div.sk-label input.sk-toggleable__control:checked~label.sk-toggleable__label {\n",
       "  color: var(--sklearn-color-text);\n",
       "  background-color: var(--sklearn-color-unfitted-level-2);\n",
       "}\n",
       "\n",
       "#sk-container-id-1 div.sk-label.fitted input.sk-toggleable__control:checked~label.sk-toggleable__label {\n",
       "  background-color: var(--sklearn-color-fitted-level-2);\n",
       "}\n",
       "\n",
       "/* Estimator-specific style */\n",
       "\n",
       "/* Colorize estimator box */\n",
       "#sk-container-id-1 div.sk-estimator input.sk-toggleable__control:checked~label.sk-toggleable__label {\n",
       "  /* unfitted */\n",
       "  background-color: var(--sklearn-color-unfitted-level-2);\n",
       "}\n",
       "\n",
       "#sk-container-id-1 div.sk-estimator.fitted input.sk-toggleable__control:checked~label.sk-toggleable__label {\n",
       "  /* fitted */\n",
       "  background-color: var(--sklearn-color-fitted-level-2);\n",
       "}\n",
       "\n",
       "#sk-container-id-1 div.sk-label label.sk-toggleable__label,\n",
       "#sk-container-id-1 div.sk-label label {\n",
       "  /* The background is the default theme color */\n",
       "  color: var(--sklearn-color-text-on-default-background);\n",
       "}\n",
       "\n",
       "/* On hover, darken the color of the background */\n",
       "#sk-container-id-1 div.sk-label:hover label.sk-toggleable__label {\n",
       "  color: var(--sklearn-color-text);\n",
       "  background-color: var(--sklearn-color-unfitted-level-2);\n",
       "}\n",
       "\n",
       "/* Label box, darken color on hover, fitted */\n",
       "#sk-container-id-1 div.sk-label.fitted:hover label.sk-toggleable__label.fitted {\n",
       "  color: var(--sklearn-color-text);\n",
       "  background-color: var(--sklearn-color-fitted-level-2);\n",
       "}\n",
       "\n",
       "/* Estimator label */\n",
       "\n",
       "#sk-container-id-1 div.sk-label label {\n",
       "  font-family: monospace;\n",
       "  font-weight: bold;\n",
       "  display: inline-block;\n",
       "  line-height: 1.2em;\n",
       "}\n",
       "\n",
       "#sk-container-id-1 div.sk-label-container {\n",
       "  text-align: center;\n",
       "}\n",
       "\n",
       "/* Estimator-specific */\n",
       "#sk-container-id-1 div.sk-estimator {\n",
       "  font-family: monospace;\n",
       "  border: 1px dotted var(--sklearn-color-border-box);\n",
       "  border-radius: 0.25em;\n",
       "  box-sizing: border-box;\n",
       "  margin-bottom: 0.5em;\n",
       "  /* unfitted */\n",
       "  background-color: var(--sklearn-color-unfitted-level-0);\n",
       "}\n",
       "\n",
       "#sk-container-id-1 div.sk-estimator.fitted {\n",
       "  /* fitted */\n",
       "  background-color: var(--sklearn-color-fitted-level-0);\n",
       "}\n",
       "\n",
       "/* on hover */\n",
       "#sk-container-id-1 div.sk-estimator:hover {\n",
       "  /* unfitted */\n",
       "  background-color: var(--sklearn-color-unfitted-level-2);\n",
       "}\n",
       "\n",
       "#sk-container-id-1 div.sk-estimator.fitted:hover {\n",
       "  /* fitted */\n",
       "  background-color: var(--sklearn-color-fitted-level-2);\n",
       "}\n",
       "\n",
       "/* Specification for estimator info (e.g. \"i\" and \"?\") */\n",
       "\n",
       "/* Common style for \"i\" and \"?\" */\n",
       "\n",
       ".sk-estimator-doc-link,\n",
       "a:link.sk-estimator-doc-link,\n",
       "a:visited.sk-estimator-doc-link {\n",
       "  float: right;\n",
       "  font-size: smaller;\n",
       "  line-height: 1em;\n",
       "  font-family: monospace;\n",
       "  background-color: var(--sklearn-color-background);\n",
       "  border-radius: 1em;\n",
       "  height: 1em;\n",
       "  width: 1em;\n",
       "  text-decoration: none !important;\n",
       "  margin-left: 0.5em;\n",
       "  text-align: center;\n",
       "  /* unfitted */\n",
       "  border: var(--sklearn-color-unfitted-level-1) 1pt solid;\n",
       "  color: var(--sklearn-color-unfitted-level-1);\n",
       "}\n",
       "\n",
       ".sk-estimator-doc-link.fitted,\n",
       "a:link.sk-estimator-doc-link.fitted,\n",
       "a:visited.sk-estimator-doc-link.fitted {\n",
       "  /* fitted */\n",
       "  border: var(--sklearn-color-fitted-level-1) 1pt solid;\n",
       "  color: var(--sklearn-color-fitted-level-1);\n",
       "}\n",
       "\n",
       "/* On hover */\n",
       "div.sk-estimator:hover .sk-estimator-doc-link:hover,\n",
       ".sk-estimator-doc-link:hover,\n",
       "div.sk-label-container:hover .sk-estimator-doc-link:hover,\n",
       ".sk-estimator-doc-link:hover {\n",
       "  /* unfitted */\n",
       "  background-color: var(--sklearn-color-unfitted-level-3);\n",
       "  color: var(--sklearn-color-background);\n",
       "  text-decoration: none;\n",
       "}\n",
       "\n",
       "div.sk-estimator.fitted:hover .sk-estimator-doc-link.fitted:hover,\n",
       ".sk-estimator-doc-link.fitted:hover,\n",
       "div.sk-label-container:hover .sk-estimator-doc-link.fitted:hover,\n",
       ".sk-estimator-doc-link.fitted:hover {\n",
       "  /* fitted */\n",
       "  background-color: var(--sklearn-color-fitted-level-3);\n",
       "  color: var(--sklearn-color-background);\n",
       "  text-decoration: none;\n",
       "}\n",
       "\n",
       "/* Span, style for the box shown on hovering the info icon */\n",
       ".sk-estimator-doc-link span {\n",
       "  display: none;\n",
       "  z-index: 9999;\n",
       "  position: relative;\n",
       "  font-weight: normal;\n",
       "  right: .2ex;\n",
       "  padding: .5ex;\n",
       "  margin: .5ex;\n",
       "  width: min-content;\n",
       "  min-width: 20ex;\n",
       "  max-width: 50ex;\n",
       "  color: var(--sklearn-color-text);\n",
       "  box-shadow: 2pt 2pt 4pt #999;\n",
       "  /* unfitted */\n",
       "  background: var(--sklearn-color-unfitted-level-0);\n",
       "  border: .5pt solid var(--sklearn-color-unfitted-level-3);\n",
       "}\n",
       "\n",
       ".sk-estimator-doc-link.fitted span {\n",
       "  /* fitted */\n",
       "  background: var(--sklearn-color-fitted-level-0);\n",
       "  border: var(--sklearn-color-fitted-level-3);\n",
       "}\n",
       "\n",
       ".sk-estimator-doc-link:hover span {\n",
       "  display: block;\n",
       "}\n",
       "\n",
       "/* \"?\"-specific style due to the `<a>` HTML tag */\n",
       "\n",
       "#sk-container-id-1 a.estimator_doc_link {\n",
       "  float: right;\n",
       "  font-size: 1rem;\n",
       "  line-height: 1em;\n",
       "  font-family: monospace;\n",
       "  background-color: var(--sklearn-color-background);\n",
       "  border-radius: 1rem;\n",
       "  height: 1rem;\n",
       "  width: 1rem;\n",
       "  text-decoration: none;\n",
       "  /* unfitted */\n",
       "  color: var(--sklearn-color-unfitted-level-1);\n",
       "  border: var(--sklearn-color-unfitted-level-1) 1pt solid;\n",
       "}\n",
       "\n",
       "#sk-container-id-1 a.estimator_doc_link.fitted {\n",
       "  /* fitted */\n",
       "  border: var(--sklearn-color-fitted-level-1) 1pt solid;\n",
       "  color: var(--sklearn-color-fitted-level-1);\n",
       "}\n",
       "\n",
       "/* On hover */\n",
       "#sk-container-id-1 a.estimator_doc_link:hover {\n",
       "  /* unfitted */\n",
       "  background-color: var(--sklearn-color-unfitted-level-3);\n",
       "  color: var(--sklearn-color-background);\n",
       "  text-decoration: none;\n",
       "}\n",
       "\n",
       "#sk-container-id-1 a.estimator_doc_link.fitted:hover {\n",
       "  /* fitted */\n",
       "  background-color: var(--sklearn-color-fitted-level-3);\n",
       "}\n",
       "\n",
       ".estimator-table summary {\n",
       "    padding: .5rem;\n",
       "    font-family: monospace;\n",
       "    cursor: pointer;\n",
       "}\n",
       "\n",
       ".estimator-table details[open] {\n",
       "    padding-left: 0.1rem;\n",
       "    padding-right: 0.1rem;\n",
       "    padding-bottom: 0.3rem;\n",
       "}\n",
       "\n",
       ".estimator-table .parameters-table {\n",
       "    margin-left: auto !important;\n",
       "    margin-right: auto !important;\n",
       "}\n",
       "\n",
       ".estimator-table .parameters-table tr:nth-child(odd) {\n",
       "    background-color: #fff;\n",
       "}\n",
       "\n",
       ".estimator-table .parameters-table tr:nth-child(even) {\n",
       "    background-color: #f6f6f6;\n",
       "}\n",
       "\n",
       ".estimator-table .parameters-table tr:hover {\n",
       "    background-color: #e0e0e0;\n",
       "}\n",
       "\n",
       ".estimator-table table td {\n",
       "    border: 1px solid rgba(106, 105, 104, 0.232);\n",
       "}\n",
       "\n",
       ".user-set td {\n",
       "    color:rgb(255, 94, 0);\n",
       "    text-align: left;\n",
       "}\n",
       "\n",
       ".user-set td.value pre {\n",
       "    color:rgb(255, 94, 0) !important;\n",
       "    background-color: transparent !important;\n",
       "}\n",
       "\n",
       ".default td {\n",
       "    color: black;\n",
       "    text-align: left;\n",
       "}\n",
       "\n",
       ".user-set td i,\n",
       ".default td i {\n",
       "    color: black;\n",
       "}\n",
       "\n",
       ".copy-paste-icon {\n",
       "    background-image: url(data:image/svg+xml;base64,PHN2ZyB4bWxucz0iaHR0cDovL3d3dy53My5vcmcvMjAwMC9zdmciIHZpZXdCb3g9IjAgMCA0NDggNTEyIj48IS0tIUZvbnQgQXdlc29tZSBGcmVlIDYuNy4yIGJ5IEBmb250YXdlc29tZSAtIGh0dHBzOi8vZm9udGF3ZXNvbWUuY29tIExpY2Vuc2UgLSBodHRwczovL2ZvbnRhd2Vzb21lLmNvbS9saWNlbnNlL2ZyZWUgQ29weXJpZ2h0IDIwMjUgRm9udGljb25zLCBJbmMuLS0+PHBhdGggZD0iTTIwOCAwTDMzMi4xIDBjMTIuNyAwIDI0LjkgNS4xIDMzLjkgMTQuMWw2Ny45IDY3LjljOSA5IDE0LjEgMjEuMiAxNC4xIDMzLjlMNDQ4IDMzNmMwIDI2LjUtMjEuNSA0OC00OCA0OGwtMTkyIDBjLTI2LjUgMC00OC0yMS41LTQ4LTQ4bDAtMjg4YzAtMjYuNSAyMS41LTQ4IDQ4LTQ4ek00OCAxMjhsODAgMCAwIDY0LTY0IDAgMCAyNTYgMTkyIDAgMC0zMiA2NCAwIDAgNDhjMCAyNi41LTIxLjUgNDgtNDggNDhMNDggNTEyYy0yNi41IDAtNDgtMjEuNS00OC00OEwwIDE3NmMwLTI2LjUgMjEuNS00OCA0OC00OHoiLz48L3N2Zz4=);\n",
       "    background-repeat: no-repeat;\n",
       "    background-size: 14px 14px;\n",
       "    background-position: 0;\n",
       "    display: inline-block;\n",
       "    width: 14px;\n",
       "    height: 14px;\n",
       "    cursor: pointer;\n",
       "}\n",
       "</style><body><div id=\"sk-container-id-1\" class=\"sk-top-container\"><div class=\"sk-text-repr-fallback\"><pre>OneHotEncoder(handle_unknown=&#x27;ignore&#x27;, sparse_output=False)</pre><b>In a Jupyter environment, please rerun this cell to show the HTML representation or trust the notebook. <br />On GitHub, the HTML representation is unable to render, please try loading this page with nbviewer.org.</b></div><div class=\"sk-container\" hidden><div class=\"sk-item\"><div class=\"sk-estimator fitted sk-toggleable\"><input class=\"sk-toggleable__control sk-hidden--visually\" id=\"sk-estimator-id-1\" type=\"checkbox\" checked><label for=\"sk-estimator-id-1\" class=\"sk-toggleable__label fitted sk-toggleable__label-arrow\"><div><div>OneHotEncoder</div></div><div><a class=\"sk-estimator-doc-link fitted\" rel=\"noreferrer\" target=\"_blank\" href=\"https://scikit-learn.org/1.7/modules/generated/sklearn.preprocessing.OneHotEncoder.html\">?<span>Documentation for OneHotEncoder</span></a><span class=\"sk-estimator-doc-link fitted\">i<span>Fitted</span></span></div></label><div class=\"sk-toggleable__content fitted\" data-param-prefix=\"\">\n",
       "        <div class=\"estimator-table\">\n",
       "            <details>\n",
       "                <summary>Parameters</summary>\n",
       "                <table class=\"parameters-table\">\n",
       "                  <tbody>\n",
       "                    \n",
       "        <tr class=\"default\">\n",
       "            <td><i class=\"copy-paste-icon\"\n",
       "                 onclick=\"copyToClipboard('categories',\n",
       "                          this.parentElement.nextElementSibling)\"\n",
       "            ></i></td>\n",
       "            <td class=\"param\">categories&nbsp;</td>\n",
       "            <td class=\"value\">&#x27;auto&#x27;</td>\n",
       "        </tr>\n",
       "    \n",
       "\n",
       "        <tr class=\"default\">\n",
       "            <td><i class=\"copy-paste-icon\"\n",
       "                 onclick=\"copyToClipboard('drop',\n",
       "                          this.parentElement.nextElementSibling)\"\n",
       "            ></i></td>\n",
       "            <td class=\"param\">drop&nbsp;</td>\n",
       "            <td class=\"value\">None</td>\n",
       "        </tr>\n",
       "    \n",
       "\n",
       "        <tr class=\"user-set\">\n",
       "            <td><i class=\"copy-paste-icon\"\n",
       "                 onclick=\"copyToClipboard('sparse_output',\n",
       "                          this.parentElement.nextElementSibling)\"\n",
       "            ></i></td>\n",
       "            <td class=\"param\">sparse_output&nbsp;</td>\n",
       "            <td class=\"value\">False</td>\n",
       "        </tr>\n",
       "    \n",
       "\n",
       "        <tr class=\"default\">\n",
       "            <td><i class=\"copy-paste-icon\"\n",
       "                 onclick=\"copyToClipboard('dtype',\n",
       "                          this.parentElement.nextElementSibling)\"\n",
       "            ></i></td>\n",
       "            <td class=\"param\">dtype&nbsp;</td>\n",
       "            <td class=\"value\">&lt;class &#x27;numpy.float64&#x27;&gt;</td>\n",
       "        </tr>\n",
       "    \n",
       "\n",
       "        <tr class=\"user-set\">\n",
       "            <td><i class=\"copy-paste-icon\"\n",
       "                 onclick=\"copyToClipboard('handle_unknown',\n",
       "                          this.parentElement.nextElementSibling)\"\n",
       "            ></i></td>\n",
       "            <td class=\"param\">handle_unknown&nbsp;</td>\n",
       "            <td class=\"value\">&#x27;ignore&#x27;</td>\n",
       "        </tr>\n",
       "    \n",
       "\n",
       "        <tr class=\"default\">\n",
       "            <td><i class=\"copy-paste-icon\"\n",
       "                 onclick=\"copyToClipboard('min_frequency',\n",
       "                          this.parentElement.nextElementSibling)\"\n",
       "            ></i></td>\n",
       "            <td class=\"param\">min_frequency&nbsp;</td>\n",
       "            <td class=\"value\">None</td>\n",
       "        </tr>\n",
       "    \n",
       "\n",
       "        <tr class=\"default\">\n",
       "            <td><i class=\"copy-paste-icon\"\n",
       "                 onclick=\"copyToClipboard('max_categories',\n",
       "                          this.parentElement.nextElementSibling)\"\n",
       "            ></i></td>\n",
       "            <td class=\"param\">max_categories&nbsp;</td>\n",
       "            <td class=\"value\">None</td>\n",
       "        </tr>\n",
       "    \n",
       "\n",
       "        <tr class=\"default\">\n",
       "            <td><i class=\"copy-paste-icon\"\n",
       "                 onclick=\"copyToClipboard('feature_name_combiner',\n",
       "                          this.parentElement.nextElementSibling)\"\n",
       "            ></i></td>\n",
       "            <td class=\"param\">feature_name_combiner&nbsp;</td>\n",
       "            <td class=\"value\">&#x27;concat&#x27;</td>\n",
       "        </tr>\n",
       "    \n",
       "                  </tbody>\n",
       "                </table>\n",
       "            </details>\n",
       "        </div>\n",
       "    </div></div></div></div></div><script>function copyToClipboard(text, element) {\n",
       "    // Get the parameter prefix from the closest toggleable content\n",
       "    const toggleableContent = element.closest('.sk-toggleable__content');\n",
       "    const paramPrefix = toggleableContent ? toggleableContent.dataset.paramPrefix : '';\n",
       "    const fullParamName = paramPrefix ? `${paramPrefix}${text}` : text;\n",
       "\n",
       "    const originalStyle = element.style;\n",
       "    const computedStyle = window.getComputedStyle(element);\n",
       "    const originalWidth = computedStyle.width;\n",
       "    const originalHTML = element.innerHTML.replace('Copied!', '');\n",
       "\n",
       "    navigator.clipboard.writeText(fullParamName)\n",
       "        .then(() => {\n",
       "            element.style.width = originalWidth;\n",
       "            element.style.color = 'green';\n",
       "            element.innerHTML = \"Copied!\";\n",
       "\n",
       "            setTimeout(() => {\n",
       "                element.innerHTML = originalHTML;\n",
       "                element.style = originalStyle;\n",
       "            }, 2000);\n",
       "        })\n",
       "        .catch(err => {\n",
       "            console.error('Failed to copy:', err);\n",
       "            element.style.color = 'red';\n",
       "            element.innerHTML = \"Failed!\";\n",
       "            setTimeout(() => {\n",
       "                element.innerHTML = originalHTML;\n",
       "                element.style = originalStyle;\n",
       "            }, 2000);\n",
       "        });\n",
       "    return false;\n",
       "}\n",
       "\n",
       "document.querySelectorAll('.fa-regular.fa-copy').forEach(function(element) {\n",
       "    const toggleableContent = element.closest('.sk-toggleable__content');\n",
       "    const paramPrefix = toggleableContent ? toggleableContent.dataset.paramPrefix : '';\n",
       "    const paramName = element.parentElement.nextElementSibling.textContent.trim();\n",
       "    const fullParamName = paramPrefix ? `${paramPrefix}${paramName}` : paramName;\n",
       "\n",
       "    element.setAttribute('title', fullParamName);\n",
       "});\n",
       "</script></body>"
      ],
      "text/plain": [
       "OneHotEncoder(handle_unknown='ignore', sparse_output=False)"
      ]
     },
     "execution_count": 35,
     "metadata": {},
     "output_type": "execute_result"
    }
   ],
   "source": [
    "encode_columns = ['route_description', 'origin_description', 'destination_description', 'fuel_type', 'gender', 'driving_style']\n",
    "encoder.fit(X_train[encode_columns])"
   ]
  },
  {
   "cell_type": "code",
   "execution_count": 36,
   "id": "9ab41747",
   "metadata": {},
   "outputs": [],
   "source": [
    "encoded_features = list(encoder.get_feature_names_out(encode_columns))"
   ]
  },
  {
   "cell_type": "code",
   "execution_count": 37,
   "id": "eca0e0f7",
   "metadata": {},
   "outputs": [
    {
     "data": {
      "text/plain": [
       "['route_description_Blizzard',\n",
       " 'route_description_Blowing snow',\n",
       " 'route_description_Clear',\n",
       " 'route_description_Cloudy',\n",
       " 'route_description_Fog',\n",
       " 'route_description_Freezing drizzle',\n",
       " 'route_description_Freezing fog',\n",
       " 'route_description_Heavy rain',\n",
       " 'route_description_Heavy rain at times',\n",
       " 'route_description_Heavy snow',\n",
       " 'route_description_Light drizzle',\n",
       " 'route_description_Light freezing rain',\n",
       " 'route_description_Light rain',\n",
       " 'route_description_Light rain shower',\n",
       " 'route_description_Light sleet',\n",
       " 'route_description_Light sleet showers',\n",
       " 'route_description_Light snow',\n",
       " 'route_description_Mist',\n",
       " 'route_description_Moderate or heavy freezing rain',\n",
       " 'route_description_Moderate or heavy rain shower',\n",
       " 'route_description_Moderate or heavy rain with thunder',\n",
       " 'route_description_Moderate or heavy sleet',\n",
       " 'route_description_Moderate or heavy sleet showers',\n",
       " 'route_description_Moderate or heavy snow showers',\n",
       " 'route_description_Moderate or heavy snow with thunder',\n",
       " 'route_description_Moderate rain',\n",
       " 'route_description_Moderate rain at times',\n",
       " 'route_description_Moderate snow',\n",
       " 'route_description_Overcast',\n",
       " 'route_description_Partly cloudy',\n",
       " 'route_description_Patchy heavy snow',\n",
       " 'route_description_Patchy light drizzle',\n",
       " 'route_description_Patchy light rain',\n",
       " 'route_description_Patchy light rain with thunder',\n",
       " 'route_description_Patchy light snow',\n",
       " 'route_description_Patchy light snow with thunder',\n",
       " 'route_description_Patchy moderate snow',\n",
       " 'route_description_Patchy rain possible',\n",
       " 'route_description_Patchy sleet possible',\n",
       " 'route_description_Patchy snow possible',\n",
       " 'route_description_Sunny',\n",
       " 'route_description_Thundery outbreaks possible',\n",
       " 'route_description_Torrential rain shower',\n",
       " 'origin_description_Blizzard',\n",
       " 'origin_description_Blowing snow',\n",
       " 'origin_description_Cloudy',\n",
       " 'origin_description_Heavy freezing drizzle',\n",
       " 'origin_description_Heavy rain',\n",
       " 'origin_description_Heavy snow',\n",
       " 'origin_description_Ice pellets',\n",
       " 'origin_description_Light drizzle',\n",
       " 'origin_description_Light freezing rain',\n",
       " 'origin_description_Light rain',\n",
       " 'origin_description_Light rain shower',\n",
       " 'origin_description_Light snow',\n",
       " 'origin_description_Mist',\n",
       " 'origin_description_Moderate or heavy freezing rain',\n",
       " 'origin_description_Moderate or heavy rain shower',\n",
       " 'origin_description_Moderate or heavy rain with thunder',\n",
       " 'origin_description_Moderate rain',\n",
       " 'origin_description_Moderate rain at times',\n",
       " 'origin_description_Moderate snow',\n",
       " 'origin_description_Overcast',\n",
       " 'origin_description_Partly cloudy',\n",
       " 'origin_description_Patchy heavy snow',\n",
       " 'origin_description_Patchy light drizzle',\n",
       " 'origin_description_Patchy light rain',\n",
       " 'origin_description_Patchy light snow',\n",
       " 'origin_description_Patchy moderate snow',\n",
       " 'origin_description_Patchy rain possible',\n",
       " 'origin_description_Patchy snow possible',\n",
       " 'origin_description_Sunny',\n",
       " 'origin_description_Torrential rain shower',\n",
       " 'destination_description_Blizzard',\n",
       " 'destination_description_Blowing snow',\n",
       " 'destination_description_Clear',\n",
       " 'destination_description_Cloudy',\n",
       " 'destination_description_Fog',\n",
       " 'destination_description_Freezing fog',\n",
       " 'destination_description_Heavy freezing drizzle',\n",
       " 'destination_description_Heavy rain',\n",
       " 'destination_description_Heavy rain at times',\n",
       " 'destination_description_Heavy snow',\n",
       " 'destination_description_Ice pellets',\n",
       " 'destination_description_Light drizzle',\n",
       " 'destination_description_Light freezing rain',\n",
       " 'destination_description_Light rain',\n",
       " 'destination_description_Light rain shower',\n",
       " 'destination_description_Light sleet',\n",
       " 'destination_description_Light snow',\n",
       " 'destination_description_Light snow showers',\n",
       " 'destination_description_Mist',\n",
       " 'destination_description_Moderate or heavy freezing rain',\n",
       " 'destination_description_Moderate or heavy rain shower',\n",
       " 'destination_description_Moderate or heavy rain with thunder',\n",
       " 'destination_description_Moderate or heavy showers of ice pellets',\n",
       " 'destination_description_Moderate or heavy sleet',\n",
       " 'destination_description_Moderate or heavy snow showers',\n",
       " 'destination_description_Moderate rain',\n",
       " 'destination_description_Moderate rain at times',\n",
       " 'destination_description_Moderate snow',\n",
       " 'destination_description_Overcast',\n",
       " 'destination_description_Partly cloudy',\n",
       " 'destination_description_Patchy heavy snow',\n",
       " 'destination_description_Patchy light drizzle',\n",
       " 'destination_description_Patchy light rain',\n",
       " 'destination_description_Patchy light snow',\n",
       " 'destination_description_Patchy moderate snow',\n",
       " 'destination_description_Patchy rain possible',\n",
       " 'destination_description_Patchy sleet possible',\n",
       " 'destination_description_Patchy snow possible',\n",
       " 'destination_description_Sunny',\n",
       " 'destination_description_Torrential rain shower',\n",
       " 'fuel_type_Unknown',\n",
       " 'fuel_type_diesel',\n",
       " 'fuel_type_gas',\n",
       " 'gender_Unknown',\n",
       " 'gender_female',\n",
       " 'gender_male',\n",
       " 'driving_style_Unknown',\n",
       " 'driving_style_conservative',\n",
       " 'driving_style_proactive']"
      ]
     },
     "execution_count": 37,
     "metadata": {},
     "output_type": "execute_result"
    }
   ],
   "source": [
    "encoded_features"
   ]
  },
  {
   "cell_type": "code",
   "execution_count": 38,
   "id": "dba04f69",
   "metadata": {},
   "outputs": [],
   "source": [
    "X_train[encoded_features] = encoder.transform(X_train[encode_columns])\n",
    "\n",
    "X_valid[encoded_features] = encoder.transform(X_valid[encode_columns])\n",
    "\n",
    "X_test[encoded_features] = encoder.transform(X_test[encode_columns])"
   ]
  },
  {
   "cell_type": "code",
   "execution_count": 39,
   "id": "c4127830",
   "metadata": {},
   "outputs": [],
   "source": [
    "X_train = X_train.drop(encode_columns, axis=1)\n",
    "\n",
    "X_valid = X_valid.drop(encode_columns, axis=1)\n",
    "\n",
    "X_test = X_test.drop(encode_columns, axis=1)"
   ]
  },
  {
   "cell_type": "code",
   "execution_count": 40,
   "id": "317d0929",
   "metadata": {},
   "outputs": [],
   "source": [
    "dump(encoder, open('files/truck_data_encoder.pkl', 'wb'))"
   ]
  },
  {
   "cell_type": "code",
   "execution_count": 43,
   "id": "6b8bfbdb",
   "metadata": {},
   "outputs": [
    {
     "data": {
      "text/html": [
       "<div>\n",
       "<style scoped>\n",
       "    .dataframe tbody tr th:only-of-type {\n",
       "        vertical-align: middle;\n",
       "    }\n",
       "\n",
       "    .dataframe tbody tr th {\n",
       "        vertical-align: top;\n",
       "    }\n",
       "\n",
       "    .dataframe thead th {\n",
       "        text-align: right;\n",
       "    }\n",
       "</style>\n",
       "<table border=\"1\" class=\"dataframe\">\n",
       "  <thead>\n",
       "    <tr style=\"text-align: right;\">\n",
       "      <th></th>\n",
       "      <th>route_description_Blizzard</th>\n",
       "      <th>route_description_Blowing snow</th>\n",
       "      <th>route_description_Clear</th>\n",
       "      <th>route_description_Cloudy</th>\n",
       "      <th>route_description_Fog</th>\n",
       "      <th>route_description_Freezing drizzle</th>\n",
       "      <th>route_description_Freezing fog</th>\n",
       "      <th>route_description_Heavy rain</th>\n",
       "      <th>route_description_Heavy rain at times</th>\n",
       "      <th>route_description_Heavy snow</th>\n",
       "      <th>...</th>\n",
       "      <th>destination_description_Torrential rain shower</th>\n",
       "      <th>fuel_type_Unknown</th>\n",
       "      <th>fuel_type_diesel</th>\n",
       "      <th>fuel_type_gas</th>\n",
       "      <th>gender_Unknown</th>\n",
       "      <th>gender_female</th>\n",
       "      <th>gender_male</th>\n",
       "      <th>driving_style_Unknown</th>\n",
       "      <th>driving_style_conservative</th>\n",
       "      <th>driving_style_proactive</th>\n",
       "    </tr>\n",
       "  </thead>\n",
       "  <tbody>\n",
       "    <tr>\n",
       "      <th>1</th>\n",
       "      <td>0.0</td>\n",
       "      <td>0.0</td>\n",
       "      <td>1.0</td>\n",
       "      <td>0.0</td>\n",
       "      <td>0.0</td>\n",
       "      <td>0.0</td>\n",
       "      <td>0.0</td>\n",
       "      <td>0.0</td>\n",
       "      <td>0.0</td>\n",
       "      <td>0.0</td>\n",
       "      <td>...</td>\n",
       "      <td>0.0</td>\n",
       "      <td>0.0</td>\n",
       "      <td>0.0</td>\n",
       "      <td>1.0</td>\n",
       "      <td>0.0</td>\n",
       "      <td>0.0</td>\n",
       "      <td>1.0</td>\n",
       "      <td>0.0</td>\n",
       "      <td>1.0</td>\n",
       "      <td>0.0</td>\n",
       "    </tr>\n",
       "    <tr>\n",
       "      <th>5</th>\n",
       "      <td>0.0</td>\n",
       "      <td>0.0</td>\n",
       "      <td>1.0</td>\n",
       "      <td>0.0</td>\n",
       "      <td>0.0</td>\n",
       "      <td>0.0</td>\n",
       "      <td>0.0</td>\n",
       "      <td>0.0</td>\n",
       "      <td>0.0</td>\n",
       "      <td>0.0</td>\n",
       "      <td>...</td>\n",
       "      <td>0.0</td>\n",
       "      <td>0.0</td>\n",
       "      <td>1.0</td>\n",
       "      <td>0.0</td>\n",
       "      <td>0.0</td>\n",
       "      <td>0.0</td>\n",
       "      <td>1.0</td>\n",
       "      <td>0.0</td>\n",
       "      <td>0.0</td>\n",
       "      <td>1.0</td>\n",
       "    </tr>\n",
       "  </tbody>\n",
       "</table>\n",
       "<p>2 rows × 122 columns</p>\n",
       "</div>"
      ],
      "text/plain": [
       "   route_description_Blizzard  route_description_Blowing snow  \\\n",
       "1                         0.0                             0.0   \n",
       "5                         0.0                             0.0   \n",
       "\n",
       "   route_description_Clear  route_description_Cloudy  route_description_Fog  \\\n",
       "1                      1.0                       0.0                    0.0   \n",
       "5                      1.0                       0.0                    0.0   \n",
       "\n",
       "   route_description_Freezing drizzle  route_description_Freezing fog  \\\n",
       "1                                 0.0                             0.0   \n",
       "5                                 0.0                             0.0   \n",
       "\n",
       "   route_description_Heavy rain  route_description_Heavy rain at times  \\\n",
       "1                           0.0                                    0.0   \n",
       "5                           0.0                                    0.0   \n",
       "\n",
       "   route_description_Heavy snow  ...  \\\n",
       "1                           0.0  ...   \n",
       "5                           0.0  ...   \n",
       "\n",
       "   destination_description_Torrential rain shower  fuel_type_Unknown  \\\n",
       "1                                             0.0                0.0   \n",
       "5                                             0.0                0.0   \n",
       "\n",
       "   fuel_type_diesel  fuel_type_gas  gender_Unknown  gender_female  \\\n",
       "1               0.0            1.0             0.0            0.0   \n",
       "5               1.0            0.0             0.0            0.0   \n",
       "\n",
       "   gender_male  driving_style_Unknown  driving_style_conservative  \\\n",
       "1          1.0                    0.0                         1.0   \n",
       "5          1.0                    0.0                         0.0   \n",
       "\n",
       "   driving_style_proactive  \n",
       "1                      0.0  \n",
       "5                      1.0  \n",
       "\n",
       "[2 rows x 122 columns]"
      ]
     },
     "execution_count": 43,
     "metadata": {},
     "output_type": "execute_result"
    }
   ],
   "source": [
    "X_train[encoded_features].head(2)"
   ]
  },
  {
   "cell_type": "markdown",
   "id": "bb8d5f53",
   "metadata": {},
   "source": [
    "## Normalization"
   ]
  },
  {
   "cell_type": "code",
   "execution_count": 44,
   "id": "73fb4d0f",
   "metadata": {},
   "outputs": [],
   "source": [
    "from sklearn.preprocessing import StandardScaler"
   ]
  },
  {
   "cell_type": "code",
   "execution_count": 45,
   "id": "2ec8d835",
   "metadata": {},
   "outputs": [],
   "source": [
    "scaler = StandardScaler()"
   ]
  },
  {
   "cell_type": "code",
   "execution_count": 46,
   "id": "9a5af74c",
   "metadata": {},
   "outputs": [],
   "source": [
    "X_train[cts_cols] = scaler.fit_transform(X_train[cts_cols])"
   ]
  },
  {
   "cell_type": "code",
   "execution_count": 47,
   "id": "7a1d25e1",
   "metadata": {},
   "outputs": [],
   "source": [
    "X_valid[cts_cols] = scaler.transform(X_valid[cts_cols])\n",
    "X_test[cts_cols] = scaler.transform(X_test[cts_cols])"
   ]
  },
  {
   "cell_type": "code",
   "execution_count": 48,
   "id": "9f139929",
   "metadata": {},
   "outputs": [],
   "source": [
    "dump(scaler, open('files/truck_data_scaler.pkl', 'wb'))"
   ]
  },
  {
   "cell_type": "markdown",
   "id": "cf6ed0d8",
   "metadata": {},
   "source": [
    "# Model Building and Experimentation"
   ]
  },
  {
   "cell_type": "code",
   "execution_count": 51,
   "id": "88a9d7a5",
   "metadata": {},
   "outputs": [],
   "source": [
    "import wandb\n",
    "import joblib\n",
    "import os"
   ]
  },
  {
   "cell_type": "code",
   "execution_count": 52,
   "id": "36efa763",
   "metadata": {},
   "outputs": [
    {
     "name": "stderr",
     "output_type": "stream",
     "text": [
      "\u001b[34m\u001b[1mwandb\u001b[0m: Logging into wandb.ai. (Learn how to deploy a W&B server locally: https://wandb.me/wandb-server)\n",
      "\u001b[34m\u001b[1mwandb\u001b[0m: You can find your API key in your browser here: https://wandb.ai/authorize\n",
      "\u001b[34m\u001b[1mwandb\u001b[0m: Paste an API key from your profile and hit enter:"
     ]
    },
    {
     "name": "stderr",
     "output_type": "stream",
     "text": [
      "\u001b[34m\u001b[1mwandb\u001b[0m: \u001b[33mWARNING\u001b[0m If you're specifying your api key in code, ensure this code is not shared publicly.\n",
      "\u001b[34m\u001b[1mwandb\u001b[0m: \u001b[33mWARNING\u001b[0m Consider setting the WANDB_API_KEY environment variable, or running `wandb login` from the command line.\n",
      "\u001b[34m\u001b[1mwandb\u001b[0m: No netrc file found, creating one.\n",
      "\u001b[34m\u001b[1mwandb\u001b[0m: Appending key for api.wandb.ai to your netrc file: /home/thnhan301/.netrc\n",
      "\u001b[34m\u001b[1mwandb\u001b[0m: Currently logged in as: \u001b[33mnhanthien-sv\u001b[0m (\u001b[33mnhanthien-sv-hcmute\u001b[0m) to \u001b[32mhttps://api.wandb.ai\u001b[0m. Use \u001b[1m`wandb login --relogin`\u001b[0m to force relogin\n"
     ]
    },
    {
     "data": {
      "text/plain": [
       "True"
      ]
     },
     "execution_count": 52,
     "metadata": {},
     "output_type": "execute_result"
    }
   ],
   "source": [
    "wandb.login()"
   ]
  },
  {
   "cell_type": "code",
   "execution_count": 53,
   "id": "29cd7013",
   "metadata": {},
   "outputs": [],
   "source": [
    "PROJECT_NAME = 'truck-delay-classification'"
   ]
  },
  {
   "cell_type": "code",
   "execution_count": 55,
   "id": "51ec81f8",
   "metadata": {},
   "outputs": [],
   "source": [
    "from sklearn.metrics import f1_score, recall_score, confusion_matrix, roc_auc_score\n",
    "from sklearn.linear_model import LogisticRegression\n",
    "from sklearn.model_selection import train_test_split\n",
    "from sklearn.ensemble import RandomForestClassifier\n",
    "from xgboost import XGBClassifier\n",
    "from sklearn.model_selection import GridSearchCV"
   ]
  },
  {
   "cell_type": "code",
   "execution_count": 56,
   "id": "19d5d2c8",
   "metadata": {},
   "outputs": [],
   "source": [
    "comparison_columns = ['Model_Name', 'Train_F1score', 'Train_Recall', 'Valid_F1score', 'Valid_Recall', 'Test_F1score', 'Test_Recall']\n",
    "\n",
    "comparison_df = pd.DataFrame()\n",
    "\n",
    "\n",
    "\n",
    "def evaluate_models(model_name, model_defined_var, X_train, y_train, X_valid, y_valid, X_test, y_test):\n",
    "  ''' This function predicts and evaluates various models for classification'''\n",
    "\n",
    "  # train predictions\n",
    "  y_train_pred = model_defined_var.predict(X_train)\n",
    "  # train performance\n",
    "  train_f1_score = f1_score(y_train, y_train_pred)\n",
    "  train_recall = recall_score(y_train, y_train_pred)\n",
    "\n",
    "  # validation predictions\n",
    "  y_valid_pred = model_defined_var.predict(X_valid)\n",
    "  # validation performance\n",
    "  valid_f1_score = f1_score(y_valid, y_valid_pred)\n",
    "  valid_recall = recall_score(y_valid, y_valid_pred)\n",
    "\n",
    "  # test predictions\n",
    "  y_pred = model_defined_var.predict(X_test)\n",
    "  # test performance\n",
    "  test_f1_score = f1_score(y_test, y_pred)\n",
    "  test_recall = recall_score(y_test, y_pred)\n",
    "\n",
    "  # Printing performance\n",
    "  print(\"Train Results\")\n",
    "  print(f'F1 Score: {train_f1_score}')\n",
    "  print(f'Recall Score: {train_recall}')\n",
    "  print(f'Confusion Matrix: \\n{confusion_matrix(y_train, y_train_pred)}')\n",
    "  print(f'Area Under Curve: {roc_auc_score(y_train, y_train_pred)}')\n",
    "\n",
    "  print(\" \")\n",
    "\n",
    "  print(\"Validation Results\")\n",
    "  print(f'F1 Score: {valid_f1_score}')\n",
    "  print(f'Recall Score: {valid_recall}')\n",
    "  print(f'Confusion Matrix: \\n{confusion_matrix(y_valid, y_valid_pred)}')\n",
    "  print(f'Area Under Curve: {roc_auc_score(y_valid, y_valid_pred)}')\n",
    "\n",
    "  print(\" \")\n",
    "\n",
    "  print(\"Test Results\")\n",
    "  print(f'F1 Score: {test_f1_score}')\n",
    "  print(f'Recall Score: {test_recall}')\n",
    "  print(f'Confusion Matrix: \\n{confusion_matrix(y_test, y_pred)}')\n",
    "  print(f'Area Under Curve: {roc_auc_score(y_test, y_pred)}')\n",
    "\n",
    "  # Saving our results\n",
    "  global comparison_columns\n",
    "  metric_scores = [model_name, train_f1_score, train_recall, valid_f1_score, valid_recall, test_f1_score, test_recall]\n",
    "  final_dict = dict(zip(comparison_columns, metric_scores))\n",
    "  return final_dict\n",
    "\n",
    "\n",
    "final_list = []\n",
    "def add_dic_to_final_df(final_dict):\n",
    "  global final_list\n",
    "  final_list.append(final_dict)\n",
    "  global comparison_df\n",
    "  comparison_df = pd.DataFrame(final_list, columns=comparison_columns)"
   ]
  },
  {
   "cell_type": "markdown",
   "id": "f69b3c4b",
   "metadata": {},
   "source": [
    "### Class Weights"
   ]
  },
  {
   "cell_type": "code",
   "execution_count": 57,
   "id": "5b3a90b3",
   "metadata": {},
   "outputs": [
    {
     "data": {
      "text/plain": [
       "2651"
      ]
     },
     "execution_count": 57,
     "metadata": {},
     "output_type": "execute_result"
    }
   ],
   "source": [
    "y_train.value_counts().to_dict()[1]"
   ]
  },
  {
   "cell_type": "code",
   "execution_count": 58,
   "id": "39464f86",
   "metadata": {},
   "outputs": [
    {
     "data": {
      "text/plain": [
       "(0.7387858043595749, 1.5469634100339495)"
      ]
     },
     "execution_count": 58,
     "metadata": {},
     "output_type": "execute_result"
    }
   ],
   "source": [
    "weights = len(X_train)/(2*(y_train.value_counts().to_dict()[0])), len(X_train)/(2*(y_train.value_counts().to_dict()[1]))\n",
    "weights"
   ]
  },
  {
   "cell_type": "code",
   "execution_count": 59,
   "id": "61c80c81",
   "metadata": {},
   "outputs": [
    {
     "data": {
      "text/html": [
       "<style>#sk-container-id-2 {\n",
       "  /* Definition of color scheme common for light and dark mode */\n",
       "  --sklearn-color-text: #000;\n",
       "  --sklearn-color-text-muted: #666;\n",
       "  --sklearn-color-line: gray;\n",
       "  /* Definition of color scheme for unfitted estimators */\n",
       "  --sklearn-color-unfitted-level-0: #fff5e6;\n",
       "  --sklearn-color-unfitted-level-1: #f6e4d2;\n",
       "  --sklearn-color-unfitted-level-2: #ffe0b3;\n",
       "  --sklearn-color-unfitted-level-3: chocolate;\n",
       "  /* Definition of color scheme for fitted estimators */\n",
       "  --sklearn-color-fitted-level-0: #f0f8ff;\n",
       "  --sklearn-color-fitted-level-1: #d4ebff;\n",
       "  --sklearn-color-fitted-level-2: #b3dbfd;\n",
       "  --sklearn-color-fitted-level-3: cornflowerblue;\n",
       "\n",
       "  /* Specific color for light theme */\n",
       "  --sklearn-color-text-on-default-background: var(--sg-text-color, var(--theme-code-foreground, var(--jp-content-font-color1, black)));\n",
       "  --sklearn-color-background: var(--sg-background-color, var(--theme-background, var(--jp-layout-color0, white)));\n",
       "  --sklearn-color-border-box: var(--sg-text-color, var(--theme-code-foreground, var(--jp-content-font-color1, black)));\n",
       "  --sklearn-color-icon: #696969;\n",
       "\n",
       "  @media (prefers-color-scheme: dark) {\n",
       "    /* Redefinition of color scheme for dark theme */\n",
       "    --sklearn-color-text-on-default-background: var(--sg-text-color, var(--theme-code-foreground, var(--jp-content-font-color1, white)));\n",
       "    --sklearn-color-background: var(--sg-background-color, var(--theme-background, var(--jp-layout-color0, #111)));\n",
       "    --sklearn-color-border-box: var(--sg-text-color, var(--theme-code-foreground, var(--jp-content-font-color1, white)));\n",
       "    --sklearn-color-icon: #878787;\n",
       "  }\n",
       "}\n",
       "\n",
       "#sk-container-id-2 {\n",
       "  color: var(--sklearn-color-text);\n",
       "}\n",
       "\n",
       "#sk-container-id-2 pre {\n",
       "  padding: 0;\n",
       "}\n",
       "\n",
       "#sk-container-id-2 input.sk-hidden--visually {\n",
       "  border: 0;\n",
       "  clip: rect(1px 1px 1px 1px);\n",
       "  clip: rect(1px, 1px, 1px, 1px);\n",
       "  height: 1px;\n",
       "  margin: -1px;\n",
       "  overflow: hidden;\n",
       "  padding: 0;\n",
       "  position: absolute;\n",
       "  width: 1px;\n",
       "}\n",
       "\n",
       "#sk-container-id-2 div.sk-dashed-wrapped {\n",
       "  border: 1px dashed var(--sklearn-color-line);\n",
       "  margin: 0 0.4em 0.5em 0.4em;\n",
       "  box-sizing: border-box;\n",
       "  padding-bottom: 0.4em;\n",
       "  background-color: var(--sklearn-color-background);\n",
       "}\n",
       "\n",
       "#sk-container-id-2 div.sk-container {\n",
       "  /* jupyter's `normalize.less` sets `[hidden] { display: none; }`\n",
       "     but bootstrap.min.css set `[hidden] { display: none !important; }`\n",
       "     so we also need the `!important` here to be able to override the\n",
       "     default hidden behavior on the sphinx rendered scikit-learn.org.\n",
       "     See: https://github.com/scikit-learn/scikit-learn/issues/21755 */\n",
       "  display: inline-block !important;\n",
       "  position: relative;\n",
       "}\n",
       "\n",
       "#sk-container-id-2 div.sk-text-repr-fallback {\n",
       "  display: none;\n",
       "}\n",
       "\n",
       "div.sk-parallel-item,\n",
       "div.sk-serial,\n",
       "div.sk-item {\n",
       "  /* draw centered vertical line to link estimators */\n",
       "  background-image: linear-gradient(var(--sklearn-color-text-on-default-background), var(--sklearn-color-text-on-default-background));\n",
       "  background-size: 2px 100%;\n",
       "  background-repeat: no-repeat;\n",
       "  background-position: center center;\n",
       "}\n",
       "\n",
       "/* Parallel-specific style estimator block */\n",
       "\n",
       "#sk-container-id-2 div.sk-parallel-item::after {\n",
       "  content: \"\";\n",
       "  width: 100%;\n",
       "  border-bottom: 2px solid var(--sklearn-color-text-on-default-background);\n",
       "  flex-grow: 1;\n",
       "}\n",
       "\n",
       "#sk-container-id-2 div.sk-parallel {\n",
       "  display: flex;\n",
       "  align-items: stretch;\n",
       "  justify-content: center;\n",
       "  background-color: var(--sklearn-color-background);\n",
       "  position: relative;\n",
       "}\n",
       "\n",
       "#sk-container-id-2 div.sk-parallel-item {\n",
       "  display: flex;\n",
       "  flex-direction: column;\n",
       "}\n",
       "\n",
       "#sk-container-id-2 div.sk-parallel-item:first-child::after {\n",
       "  align-self: flex-end;\n",
       "  width: 50%;\n",
       "}\n",
       "\n",
       "#sk-container-id-2 div.sk-parallel-item:last-child::after {\n",
       "  align-self: flex-start;\n",
       "  width: 50%;\n",
       "}\n",
       "\n",
       "#sk-container-id-2 div.sk-parallel-item:only-child::after {\n",
       "  width: 0;\n",
       "}\n",
       "\n",
       "/* Serial-specific style estimator block */\n",
       "\n",
       "#sk-container-id-2 div.sk-serial {\n",
       "  display: flex;\n",
       "  flex-direction: column;\n",
       "  align-items: center;\n",
       "  background-color: var(--sklearn-color-background);\n",
       "  padding-right: 1em;\n",
       "  padding-left: 1em;\n",
       "}\n",
       "\n",
       "\n",
       "/* Toggleable style: style used for estimator/Pipeline/ColumnTransformer box that is\n",
       "clickable and can be expanded/collapsed.\n",
       "- Pipeline and ColumnTransformer use this feature and define the default style\n",
       "- Estimators will overwrite some part of the style using the `sk-estimator` class\n",
       "*/\n",
       "\n",
       "/* Pipeline and ColumnTransformer style (default) */\n",
       "\n",
       "#sk-container-id-2 div.sk-toggleable {\n",
       "  /* Default theme specific background. It is overwritten whether we have a\n",
       "  specific estimator or a Pipeline/ColumnTransformer */\n",
       "  background-color: var(--sklearn-color-background);\n",
       "}\n",
       "\n",
       "/* Toggleable label */\n",
       "#sk-container-id-2 label.sk-toggleable__label {\n",
       "  cursor: pointer;\n",
       "  display: flex;\n",
       "  width: 100%;\n",
       "  margin-bottom: 0;\n",
       "  padding: 0.5em;\n",
       "  box-sizing: border-box;\n",
       "  text-align: center;\n",
       "  align-items: start;\n",
       "  justify-content: space-between;\n",
       "  gap: 0.5em;\n",
       "}\n",
       "\n",
       "#sk-container-id-2 label.sk-toggleable__label .caption {\n",
       "  font-size: 0.6rem;\n",
       "  font-weight: lighter;\n",
       "  color: var(--sklearn-color-text-muted);\n",
       "}\n",
       "\n",
       "#sk-container-id-2 label.sk-toggleable__label-arrow:before {\n",
       "  /* Arrow on the left of the label */\n",
       "  content: \"▸\";\n",
       "  float: left;\n",
       "  margin-right: 0.25em;\n",
       "  color: var(--sklearn-color-icon);\n",
       "}\n",
       "\n",
       "#sk-container-id-2 label.sk-toggleable__label-arrow:hover:before {\n",
       "  color: var(--sklearn-color-text);\n",
       "}\n",
       "\n",
       "/* Toggleable content - dropdown */\n",
       "\n",
       "#sk-container-id-2 div.sk-toggleable__content {\n",
       "  display: none;\n",
       "  text-align: left;\n",
       "  /* unfitted */\n",
       "  background-color: var(--sklearn-color-unfitted-level-0);\n",
       "}\n",
       "\n",
       "#sk-container-id-2 div.sk-toggleable__content.fitted {\n",
       "  /* fitted */\n",
       "  background-color: var(--sklearn-color-fitted-level-0);\n",
       "}\n",
       "\n",
       "#sk-container-id-2 div.sk-toggleable__content pre {\n",
       "  margin: 0.2em;\n",
       "  border-radius: 0.25em;\n",
       "  color: var(--sklearn-color-text);\n",
       "  /* unfitted */\n",
       "  background-color: var(--sklearn-color-unfitted-level-0);\n",
       "}\n",
       "\n",
       "#sk-container-id-2 div.sk-toggleable__content.fitted pre {\n",
       "  /* unfitted */\n",
       "  background-color: var(--sklearn-color-fitted-level-0);\n",
       "}\n",
       "\n",
       "#sk-container-id-2 input.sk-toggleable__control:checked~div.sk-toggleable__content {\n",
       "  /* Expand drop-down */\n",
       "  display: block;\n",
       "  width: 100%;\n",
       "  overflow: visible;\n",
       "}\n",
       "\n",
       "#sk-container-id-2 input.sk-toggleable__control:checked~label.sk-toggleable__label-arrow:before {\n",
       "  content: \"▾\";\n",
       "}\n",
       "\n",
       "/* Pipeline/ColumnTransformer-specific style */\n",
       "\n",
       "#sk-container-id-2 div.sk-label input.sk-toggleable__control:checked~label.sk-toggleable__label {\n",
       "  color: var(--sklearn-color-text);\n",
       "  background-color: var(--sklearn-color-unfitted-level-2);\n",
       "}\n",
       "\n",
       "#sk-container-id-2 div.sk-label.fitted input.sk-toggleable__control:checked~label.sk-toggleable__label {\n",
       "  background-color: var(--sklearn-color-fitted-level-2);\n",
       "}\n",
       "\n",
       "/* Estimator-specific style */\n",
       "\n",
       "/* Colorize estimator box */\n",
       "#sk-container-id-2 div.sk-estimator input.sk-toggleable__control:checked~label.sk-toggleable__label {\n",
       "  /* unfitted */\n",
       "  background-color: var(--sklearn-color-unfitted-level-2);\n",
       "}\n",
       "\n",
       "#sk-container-id-2 div.sk-estimator.fitted input.sk-toggleable__control:checked~label.sk-toggleable__label {\n",
       "  /* fitted */\n",
       "  background-color: var(--sklearn-color-fitted-level-2);\n",
       "}\n",
       "\n",
       "#sk-container-id-2 div.sk-label label.sk-toggleable__label,\n",
       "#sk-container-id-2 div.sk-label label {\n",
       "  /* The background is the default theme color */\n",
       "  color: var(--sklearn-color-text-on-default-background);\n",
       "}\n",
       "\n",
       "/* On hover, darken the color of the background */\n",
       "#sk-container-id-2 div.sk-label:hover label.sk-toggleable__label {\n",
       "  color: var(--sklearn-color-text);\n",
       "  background-color: var(--sklearn-color-unfitted-level-2);\n",
       "}\n",
       "\n",
       "/* Label box, darken color on hover, fitted */\n",
       "#sk-container-id-2 div.sk-label.fitted:hover label.sk-toggleable__label.fitted {\n",
       "  color: var(--sklearn-color-text);\n",
       "  background-color: var(--sklearn-color-fitted-level-2);\n",
       "}\n",
       "\n",
       "/* Estimator label */\n",
       "\n",
       "#sk-container-id-2 div.sk-label label {\n",
       "  font-family: monospace;\n",
       "  font-weight: bold;\n",
       "  display: inline-block;\n",
       "  line-height: 1.2em;\n",
       "}\n",
       "\n",
       "#sk-container-id-2 div.sk-label-container {\n",
       "  text-align: center;\n",
       "}\n",
       "\n",
       "/* Estimator-specific */\n",
       "#sk-container-id-2 div.sk-estimator {\n",
       "  font-family: monospace;\n",
       "  border: 1px dotted var(--sklearn-color-border-box);\n",
       "  border-radius: 0.25em;\n",
       "  box-sizing: border-box;\n",
       "  margin-bottom: 0.5em;\n",
       "  /* unfitted */\n",
       "  background-color: var(--sklearn-color-unfitted-level-0);\n",
       "}\n",
       "\n",
       "#sk-container-id-2 div.sk-estimator.fitted {\n",
       "  /* fitted */\n",
       "  background-color: var(--sklearn-color-fitted-level-0);\n",
       "}\n",
       "\n",
       "/* on hover */\n",
       "#sk-container-id-2 div.sk-estimator:hover {\n",
       "  /* unfitted */\n",
       "  background-color: var(--sklearn-color-unfitted-level-2);\n",
       "}\n",
       "\n",
       "#sk-container-id-2 div.sk-estimator.fitted:hover {\n",
       "  /* fitted */\n",
       "  background-color: var(--sklearn-color-fitted-level-2);\n",
       "}\n",
       "\n",
       "/* Specification for estimator info (e.g. \"i\" and \"?\") */\n",
       "\n",
       "/* Common style for \"i\" and \"?\" */\n",
       "\n",
       ".sk-estimator-doc-link,\n",
       "a:link.sk-estimator-doc-link,\n",
       "a:visited.sk-estimator-doc-link {\n",
       "  float: right;\n",
       "  font-size: smaller;\n",
       "  line-height: 1em;\n",
       "  font-family: monospace;\n",
       "  background-color: var(--sklearn-color-background);\n",
       "  border-radius: 1em;\n",
       "  height: 1em;\n",
       "  width: 1em;\n",
       "  text-decoration: none !important;\n",
       "  margin-left: 0.5em;\n",
       "  text-align: center;\n",
       "  /* unfitted */\n",
       "  border: var(--sklearn-color-unfitted-level-1) 1pt solid;\n",
       "  color: var(--sklearn-color-unfitted-level-1);\n",
       "}\n",
       "\n",
       ".sk-estimator-doc-link.fitted,\n",
       "a:link.sk-estimator-doc-link.fitted,\n",
       "a:visited.sk-estimator-doc-link.fitted {\n",
       "  /* fitted */\n",
       "  border: var(--sklearn-color-fitted-level-1) 1pt solid;\n",
       "  color: var(--sklearn-color-fitted-level-1);\n",
       "}\n",
       "\n",
       "/* On hover */\n",
       "div.sk-estimator:hover .sk-estimator-doc-link:hover,\n",
       ".sk-estimator-doc-link:hover,\n",
       "div.sk-label-container:hover .sk-estimator-doc-link:hover,\n",
       ".sk-estimator-doc-link:hover {\n",
       "  /* unfitted */\n",
       "  background-color: var(--sklearn-color-unfitted-level-3);\n",
       "  color: var(--sklearn-color-background);\n",
       "  text-decoration: none;\n",
       "}\n",
       "\n",
       "div.sk-estimator.fitted:hover .sk-estimator-doc-link.fitted:hover,\n",
       ".sk-estimator-doc-link.fitted:hover,\n",
       "div.sk-label-container:hover .sk-estimator-doc-link.fitted:hover,\n",
       ".sk-estimator-doc-link.fitted:hover {\n",
       "  /* fitted */\n",
       "  background-color: var(--sklearn-color-fitted-level-3);\n",
       "  color: var(--sklearn-color-background);\n",
       "  text-decoration: none;\n",
       "}\n",
       "\n",
       "/* Span, style for the box shown on hovering the info icon */\n",
       ".sk-estimator-doc-link span {\n",
       "  display: none;\n",
       "  z-index: 9999;\n",
       "  position: relative;\n",
       "  font-weight: normal;\n",
       "  right: .2ex;\n",
       "  padding: .5ex;\n",
       "  margin: .5ex;\n",
       "  width: min-content;\n",
       "  min-width: 20ex;\n",
       "  max-width: 50ex;\n",
       "  color: var(--sklearn-color-text);\n",
       "  box-shadow: 2pt 2pt 4pt #999;\n",
       "  /* unfitted */\n",
       "  background: var(--sklearn-color-unfitted-level-0);\n",
       "  border: .5pt solid var(--sklearn-color-unfitted-level-3);\n",
       "}\n",
       "\n",
       ".sk-estimator-doc-link.fitted span {\n",
       "  /* fitted */\n",
       "  background: var(--sklearn-color-fitted-level-0);\n",
       "  border: var(--sklearn-color-fitted-level-3);\n",
       "}\n",
       "\n",
       ".sk-estimator-doc-link:hover span {\n",
       "  display: block;\n",
       "}\n",
       "\n",
       "/* \"?\"-specific style due to the `<a>` HTML tag */\n",
       "\n",
       "#sk-container-id-2 a.estimator_doc_link {\n",
       "  float: right;\n",
       "  font-size: 1rem;\n",
       "  line-height: 1em;\n",
       "  font-family: monospace;\n",
       "  background-color: var(--sklearn-color-background);\n",
       "  border-radius: 1rem;\n",
       "  height: 1rem;\n",
       "  width: 1rem;\n",
       "  text-decoration: none;\n",
       "  /* unfitted */\n",
       "  color: var(--sklearn-color-unfitted-level-1);\n",
       "  border: var(--sklearn-color-unfitted-level-1) 1pt solid;\n",
       "}\n",
       "\n",
       "#sk-container-id-2 a.estimator_doc_link.fitted {\n",
       "  /* fitted */\n",
       "  border: var(--sklearn-color-fitted-level-1) 1pt solid;\n",
       "  color: var(--sklearn-color-fitted-level-1);\n",
       "}\n",
       "\n",
       "/* On hover */\n",
       "#sk-container-id-2 a.estimator_doc_link:hover {\n",
       "  /* unfitted */\n",
       "  background-color: var(--sklearn-color-unfitted-level-3);\n",
       "  color: var(--sklearn-color-background);\n",
       "  text-decoration: none;\n",
       "}\n",
       "\n",
       "#sk-container-id-2 a.estimator_doc_link.fitted:hover {\n",
       "  /* fitted */\n",
       "  background-color: var(--sklearn-color-fitted-level-3);\n",
       "}\n",
       "\n",
       ".estimator-table summary {\n",
       "    padding: .5rem;\n",
       "    font-family: monospace;\n",
       "    cursor: pointer;\n",
       "}\n",
       "\n",
       ".estimator-table details[open] {\n",
       "    padding-left: 0.1rem;\n",
       "    padding-right: 0.1rem;\n",
       "    padding-bottom: 0.3rem;\n",
       "}\n",
       "\n",
       ".estimator-table .parameters-table {\n",
       "    margin-left: auto !important;\n",
       "    margin-right: auto !important;\n",
       "}\n",
       "\n",
       ".estimator-table .parameters-table tr:nth-child(odd) {\n",
       "    background-color: #fff;\n",
       "}\n",
       "\n",
       ".estimator-table .parameters-table tr:nth-child(even) {\n",
       "    background-color: #f6f6f6;\n",
       "}\n",
       "\n",
       ".estimator-table .parameters-table tr:hover {\n",
       "    background-color: #e0e0e0;\n",
       "}\n",
       "\n",
       ".estimator-table table td {\n",
       "    border: 1px solid rgba(106, 105, 104, 0.232);\n",
       "}\n",
       "\n",
       ".user-set td {\n",
       "    color:rgb(255, 94, 0);\n",
       "    text-align: left;\n",
       "}\n",
       "\n",
       ".user-set td.value pre {\n",
       "    color:rgb(255, 94, 0) !important;\n",
       "    background-color: transparent !important;\n",
       "}\n",
       "\n",
       ".default td {\n",
       "    color: black;\n",
       "    text-align: left;\n",
       "}\n",
       "\n",
       ".user-set td i,\n",
       ".default td i {\n",
       "    color: black;\n",
       "}\n",
       "\n",
       ".copy-paste-icon {\n",
       "    background-image: url(data:image/svg+xml;base64,PHN2ZyB4bWxucz0iaHR0cDovL3d3dy53My5vcmcvMjAwMC9zdmciIHZpZXdCb3g9IjAgMCA0NDggNTEyIj48IS0tIUZvbnQgQXdlc29tZSBGcmVlIDYuNy4yIGJ5IEBmb250YXdlc29tZSAtIGh0dHBzOi8vZm9udGF3ZXNvbWUuY29tIExpY2Vuc2UgLSBodHRwczovL2ZvbnRhd2Vzb21lLmNvbS9saWNlbnNlL2ZyZWUgQ29weXJpZ2h0IDIwMjUgRm9udGljb25zLCBJbmMuLS0+PHBhdGggZD0iTTIwOCAwTDMzMi4xIDBjMTIuNyAwIDI0LjkgNS4xIDMzLjkgMTQuMWw2Ny45IDY3LjljOSA5IDE0LjEgMjEuMiAxNC4xIDMzLjlMNDQ4IDMzNmMwIDI2LjUtMjEuNSA0OC00OCA0OGwtMTkyIDBjLTI2LjUgMC00OC0yMS41LTQ4LTQ4bDAtMjg4YzAtMjYuNSAyMS41LTQ4IDQ4LTQ4ek00OCAxMjhsODAgMCAwIDY0LTY0IDAgMCAyNTYgMTkyIDAgMC0zMiA2NCAwIDAgNDhjMCAyNi41LTIxLjUgNDgtNDggNDhMNDggNTEyYy0yNi41IDAtNDgtMjEuNS00OC00OEwwIDE3NmMwLTI2LjUgMjEuNS00OCA0OC00OHoiLz48L3N2Zz4=);\n",
       "    background-repeat: no-repeat;\n",
       "    background-size: 14px 14px;\n",
       "    background-position: 0;\n",
       "    display: inline-block;\n",
       "    width: 14px;\n",
       "    height: 14px;\n",
       "    cursor: pointer;\n",
       "}\n",
       "</style><body><div id=\"sk-container-id-2\" class=\"sk-top-container\"><div class=\"sk-text-repr-fallback\"><pre>LogisticRegression(class_weight={0: 0.7387858043595749, 1: 1.5469634100339495},\n",
       "                   random_state=13)</pre><b>In a Jupyter environment, please rerun this cell to show the HTML representation or trust the notebook. <br />On GitHub, the HTML representation is unable to render, please try loading this page with nbviewer.org.</b></div><div class=\"sk-container\" hidden><div class=\"sk-item\"><div class=\"sk-estimator fitted sk-toggleable\"><input class=\"sk-toggleable__control sk-hidden--visually\" id=\"sk-estimator-id-2\" type=\"checkbox\" checked><label for=\"sk-estimator-id-2\" class=\"sk-toggleable__label fitted sk-toggleable__label-arrow\"><div><div>LogisticRegression</div></div><div><a class=\"sk-estimator-doc-link fitted\" rel=\"noreferrer\" target=\"_blank\" href=\"https://scikit-learn.org/1.7/modules/generated/sklearn.linear_model.LogisticRegression.html\">?<span>Documentation for LogisticRegression</span></a><span class=\"sk-estimator-doc-link fitted\">i<span>Fitted</span></span></div></label><div class=\"sk-toggleable__content fitted\" data-param-prefix=\"\">\n",
       "        <div class=\"estimator-table\">\n",
       "            <details>\n",
       "                <summary>Parameters</summary>\n",
       "                <table class=\"parameters-table\">\n",
       "                  <tbody>\n",
       "                    \n",
       "        <tr class=\"default\">\n",
       "            <td><i class=\"copy-paste-icon\"\n",
       "                 onclick=\"copyToClipboard('penalty',\n",
       "                          this.parentElement.nextElementSibling)\"\n",
       "            ></i></td>\n",
       "            <td class=\"param\">penalty&nbsp;</td>\n",
       "            <td class=\"value\">&#x27;l2&#x27;</td>\n",
       "        </tr>\n",
       "    \n",
       "\n",
       "        <tr class=\"default\">\n",
       "            <td><i class=\"copy-paste-icon\"\n",
       "                 onclick=\"copyToClipboard('dual',\n",
       "                          this.parentElement.nextElementSibling)\"\n",
       "            ></i></td>\n",
       "            <td class=\"param\">dual&nbsp;</td>\n",
       "            <td class=\"value\">False</td>\n",
       "        </tr>\n",
       "    \n",
       "\n",
       "        <tr class=\"default\">\n",
       "            <td><i class=\"copy-paste-icon\"\n",
       "                 onclick=\"copyToClipboard('tol',\n",
       "                          this.parentElement.nextElementSibling)\"\n",
       "            ></i></td>\n",
       "            <td class=\"param\">tol&nbsp;</td>\n",
       "            <td class=\"value\">0.0001</td>\n",
       "        </tr>\n",
       "    \n",
       "\n",
       "        <tr class=\"default\">\n",
       "            <td><i class=\"copy-paste-icon\"\n",
       "                 onclick=\"copyToClipboard('C',\n",
       "                          this.parentElement.nextElementSibling)\"\n",
       "            ></i></td>\n",
       "            <td class=\"param\">C&nbsp;</td>\n",
       "            <td class=\"value\">1.0</td>\n",
       "        </tr>\n",
       "    \n",
       "\n",
       "        <tr class=\"default\">\n",
       "            <td><i class=\"copy-paste-icon\"\n",
       "                 onclick=\"copyToClipboard('fit_intercept',\n",
       "                          this.parentElement.nextElementSibling)\"\n",
       "            ></i></td>\n",
       "            <td class=\"param\">fit_intercept&nbsp;</td>\n",
       "            <td class=\"value\">True</td>\n",
       "        </tr>\n",
       "    \n",
       "\n",
       "        <tr class=\"default\">\n",
       "            <td><i class=\"copy-paste-icon\"\n",
       "                 onclick=\"copyToClipboard('intercept_scaling',\n",
       "                          this.parentElement.nextElementSibling)\"\n",
       "            ></i></td>\n",
       "            <td class=\"param\">intercept_scaling&nbsp;</td>\n",
       "            <td class=\"value\">1</td>\n",
       "        </tr>\n",
       "    \n",
       "\n",
       "        <tr class=\"user-set\">\n",
       "            <td><i class=\"copy-paste-icon\"\n",
       "                 onclick=\"copyToClipboard('class_weight',\n",
       "                          this.parentElement.nextElementSibling)\"\n",
       "            ></i></td>\n",
       "            <td class=\"param\">class_weight&nbsp;</td>\n",
       "            <td class=\"value\">{0: 0.7387858043595749, 1: 1.5469634100339495}</td>\n",
       "        </tr>\n",
       "    \n",
       "\n",
       "        <tr class=\"user-set\">\n",
       "            <td><i class=\"copy-paste-icon\"\n",
       "                 onclick=\"copyToClipboard('random_state',\n",
       "                          this.parentElement.nextElementSibling)\"\n",
       "            ></i></td>\n",
       "            <td class=\"param\">random_state&nbsp;</td>\n",
       "            <td class=\"value\">13</td>\n",
       "        </tr>\n",
       "    \n",
       "\n",
       "        <tr class=\"default\">\n",
       "            <td><i class=\"copy-paste-icon\"\n",
       "                 onclick=\"copyToClipboard('solver',\n",
       "                          this.parentElement.nextElementSibling)\"\n",
       "            ></i></td>\n",
       "            <td class=\"param\">solver&nbsp;</td>\n",
       "            <td class=\"value\">&#x27;lbfgs&#x27;</td>\n",
       "        </tr>\n",
       "    \n",
       "\n",
       "        <tr class=\"default\">\n",
       "            <td><i class=\"copy-paste-icon\"\n",
       "                 onclick=\"copyToClipboard('max_iter',\n",
       "                          this.parentElement.nextElementSibling)\"\n",
       "            ></i></td>\n",
       "            <td class=\"param\">max_iter&nbsp;</td>\n",
       "            <td class=\"value\">100</td>\n",
       "        </tr>\n",
       "    \n",
       "\n",
       "        <tr class=\"default\">\n",
       "            <td><i class=\"copy-paste-icon\"\n",
       "                 onclick=\"copyToClipboard('multi_class',\n",
       "                          this.parentElement.nextElementSibling)\"\n",
       "            ></i></td>\n",
       "            <td class=\"param\">multi_class&nbsp;</td>\n",
       "            <td class=\"value\">&#x27;deprecated&#x27;</td>\n",
       "        </tr>\n",
       "    \n",
       "\n",
       "        <tr class=\"default\">\n",
       "            <td><i class=\"copy-paste-icon\"\n",
       "                 onclick=\"copyToClipboard('verbose',\n",
       "                          this.parentElement.nextElementSibling)\"\n",
       "            ></i></td>\n",
       "            <td class=\"param\">verbose&nbsp;</td>\n",
       "            <td class=\"value\">0</td>\n",
       "        </tr>\n",
       "    \n",
       "\n",
       "        <tr class=\"default\">\n",
       "            <td><i class=\"copy-paste-icon\"\n",
       "                 onclick=\"copyToClipboard('warm_start',\n",
       "                          this.parentElement.nextElementSibling)\"\n",
       "            ></i></td>\n",
       "            <td class=\"param\">warm_start&nbsp;</td>\n",
       "            <td class=\"value\">False</td>\n",
       "        </tr>\n",
       "    \n",
       "\n",
       "        <tr class=\"default\">\n",
       "            <td><i class=\"copy-paste-icon\"\n",
       "                 onclick=\"copyToClipboard('n_jobs',\n",
       "                          this.parentElement.nextElementSibling)\"\n",
       "            ></i></td>\n",
       "            <td class=\"param\">n_jobs&nbsp;</td>\n",
       "            <td class=\"value\">None</td>\n",
       "        </tr>\n",
       "    \n",
       "\n",
       "        <tr class=\"default\">\n",
       "            <td><i class=\"copy-paste-icon\"\n",
       "                 onclick=\"copyToClipboard('l1_ratio',\n",
       "                          this.parentElement.nextElementSibling)\"\n",
       "            ></i></td>\n",
       "            <td class=\"param\">l1_ratio&nbsp;</td>\n",
       "            <td class=\"value\">None</td>\n",
       "        </tr>\n",
       "    \n",
       "                  </tbody>\n",
       "                </table>\n",
       "            </details>\n",
       "        </div>\n",
       "    </div></div></div></div></div><script>function copyToClipboard(text, element) {\n",
       "    // Get the parameter prefix from the closest toggleable content\n",
       "    const toggleableContent = element.closest('.sk-toggleable__content');\n",
       "    const paramPrefix = toggleableContent ? toggleableContent.dataset.paramPrefix : '';\n",
       "    const fullParamName = paramPrefix ? `${paramPrefix}${text}` : text;\n",
       "\n",
       "    const originalStyle = element.style;\n",
       "    const computedStyle = window.getComputedStyle(element);\n",
       "    const originalWidth = computedStyle.width;\n",
       "    const originalHTML = element.innerHTML.replace('Copied!', '');\n",
       "\n",
       "    navigator.clipboard.writeText(fullParamName)\n",
       "        .then(() => {\n",
       "            element.style.width = originalWidth;\n",
       "            element.style.color = 'green';\n",
       "            element.innerHTML = \"Copied!\";\n",
       "\n",
       "            setTimeout(() => {\n",
       "                element.innerHTML = originalHTML;\n",
       "                element.style = originalStyle;\n",
       "            }, 2000);\n",
       "        })\n",
       "        .catch(err => {\n",
       "            console.error('Failed to copy:', err);\n",
       "            element.style.color = 'red';\n",
       "            element.innerHTML = \"Failed!\";\n",
       "            setTimeout(() => {\n",
       "                element.innerHTML = originalHTML;\n",
       "                element.style = originalStyle;\n",
       "            }, 2000);\n",
       "        });\n",
       "    return false;\n",
       "}\n",
       "\n",
       "document.querySelectorAll('.fa-regular.fa-copy').forEach(function(element) {\n",
       "    const toggleableContent = element.closest('.sk-toggleable__content');\n",
       "    const paramPrefix = toggleableContent ? toggleableContent.dataset.paramPrefix : '';\n",
       "    const paramName = element.parentElement.nextElementSibling.textContent.trim();\n",
       "    const fullParamName = paramPrefix ? `${paramPrefix}${paramName}` : paramName;\n",
       "\n",
       "    element.setAttribute('title', fullParamName);\n",
       "});\n",
       "</script></body>"
      ],
      "text/plain": [
       "LogisticRegression(class_weight={0: 0.7387858043595749, 1: 1.5469634100339495},\n",
       "                   random_state=13)"
      ]
     },
     "execution_count": 59,
     "metadata": {},
     "output_type": "execute_result"
    }
   ],
   "source": [
    "log_reg = LogisticRegression(random_state=13, class_weight={0:weights[0], 1:weights[1]})\n",
    "log_reg.fit(X_train,y_train)"
   ]
  },
  {
   "cell_type": "code",
   "execution_count": null,
   "id": "2e4f0228",
   "metadata": {},
   "outputs": [
    {
     "name": "stdout",
     "output_type": "stream",
     "text": [
      "Train Results\n",
      "F1 Score: 0.5748006379585326\n",
      "Recall Score: 0.6797434930215013\n",
      "Confusion Matrix: \n",
      "[[3734 1817]\n",
      " [ 849 1802]]\n",
      "Area Under Curve: 0.6762075418629394\n",
      " \n",
      "Validation Results\n",
      "F1 Score: 0.6087408949011447\n",
      "Recall Score: 0.6956004756242569\n",
      "Confusion Matrix: \n",
      "[[999 496]\n",
      " [256 585]]\n",
      "Area Under Curve: 0.6819139501867103\n",
      " \n",
      "Test Results\n",
      "F1 Score: 0.7251675807434491\n",
      "Recall Score: 0.7428214731585518\n",
      "Confusion Matrix: \n",
      "[[720 245]\n",
      " [206 595]]\n",
      "Area Under Curve: 0.7444677313979288\n"
     ]
    }
   ],
   "source": [
    "logistic_results = evaluate_models(\"Logistic Regression\", log_reg, X_train, y_train, X_valid, y_valid, X_test, y_test)\n",
    "add_dic_to_final_df(logistic_results)"
   ]
  },
  {
   "cell_type": "code",
   "execution_count": 61,
   "id": "842d1a72",
   "metadata": {},
   "outputs": [
    {
     "data": {
      "text/html": [
       "<div>\n",
       "<style scoped>\n",
       "    .dataframe tbody tr th:only-of-type {\n",
       "        vertical-align: middle;\n",
       "    }\n",
       "\n",
       "    .dataframe tbody tr th {\n",
       "        vertical-align: top;\n",
       "    }\n",
       "\n",
       "    .dataframe thead th {\n",
       "        text-align: right;\n",
       "    }\n",
       "</style>\n",
       "<table border=\"1\" class=\"dataframe\">\n",
       "  <thead>\n",
       "    <tr style=\"text-align: right;\">\n",
       "      <th></th>\n",
       "      <th>Model_Name</th>\n",
       "      <th>Train_F1score</th>\n",
       "      <th>Train_Recall</th>\n",
       "      <th>Valid_F1score</th>\n",
       "      <th>Valid_Recall</th>\n",
       "      <th>Test_F1score</th>\n",
       "      <th>Test_Recall</th>\n",
       "    </tr>\n",
       "  </thead>\n",
       "  <tbody>\n",
       "    <tr>\n",
       "      <th>0</th>\n",
       "      <td>Logistic Regression</td>\n",
       "      <td>0.574801</td>\n",
       "      <td>0.679743</td>\n",
       "      <td>0.608741</td>\n",
       "      <td>0.6956</td>\n",
       "      <td>0.725168</td>\n",
       "      <td>0.742821</td>\n",
       "    </tr>\n",
       "  </tbody>\n",
       "</table>\n",
       "</div>"
      ],
      "text/plain": [
       "            Model_Name  Train_F1score  Train_Recall  Valid_F1score  \\\n",
       "0  Logistic Regression       0.574801      0.679743       0.608741   \n",
       "\n",
       "   Valid_Recall  Test_F1score  Test_Recall  \n",
       "0        0.6956      0.725168     0.742821  "
      ]
     },
     "execution_count": 61,
     "metadata": {},
     "output_type": "execute_result"
    }
   ],
   "source": [
    "comparison_df"
   ]
  },
  {
   "cell_type": "code",
   "execution_count": 66,
   "id": "f1339352",
   "metadata": {},
   "outputs": [],
   "source": [
    "import joblib\n",
    "\n",
    "CLASS_WEIGHTS = {0: weights[0], 1: weights[1]}\n",
    "\n",
    "\n",
    "def train_logistic_model(\n",
    "    X_train, y_train, X_valid, y_valid, X_test, y_test, project_name=PROJECT_NAME\n",
    "):\n",
    "    \"\"\"Train logistic regression model and log results with Weights & Biases.\"\"\"\n",
    "\n",
    "    features = X_train.columns\n",
    "    params = {\"random_state\": 13, \"class_weight\": CLASS_WEIGHTS}\n",
    "\n",
    "    with wandb.init(project=project_name) as run:\n",
    "        config = wandb.config\n",
    "        config.update(params)  # log hyperparameters\n",
    "\n",
    "        # Train model\n",
    "        model = LogisticRegression(**params)\n",
    "        model.fit(X_train, y_train)\n",
    "\n",
    "        # Evaluate\n",
    "        metrics = {\n",
    "            \"train_f1\": f1_score(y_train, model.predict(X_train)),\n",
    "            \"valid_f1\": f1_score(y_valid, model.predict(X_valid)),\n",
    "            \"test_f1\": f1_score(y_test, model.predict(X_test)),\n",
    "        }\n",
    "\n",
    "        # Log metrics\n",
    "        print(\n",
    "            f\"F1 scores → Train: {metrics['train_f1']:.4f}, \"\n",
    "            f\"Valid: {metrics['valid_f1']:.4f}, \"\n",
    "            f\"Test: {metrics['test_f1']:.4f}\"\n",
    "        )\n",
    "        wandb.log(metrics)\n",
    "\n",
    "        # Predictions for visualization\n",
    "        y_preds = model.predict(X_test)\n",
    "        y_probas = model.predict_proba(X_test)\n",
    "\n",
    "        labels = [\"No Delay\", \"Delay\"]\n",
    "        wandb.sklearn.plot_classifier(\n",
    "            model,\n",
    "            X_train, X_test, y_train, y_test,\n",
    "            y_preds, y_probas,\n",
    "            labels=labels,\n",
    "            model_name=\"LogisticRegression\",\n",
    "            feature_names=features,\n",
    "        )\n",
    "\n",
    "        # Save and log model artifact\n",
    "        model_path = \"files/log-truck-model.pkl\"\n",
    "        joblib.dump(model, model_path)\n",
    "\n",
    "        artifact = wandb.Artifact(\"LogisticRegression\", type=\"model\", metadata=dict(config))\n",
    "        artifact.add_file(model_path)\n",
    "        run.log_artifact(artifact)\n",
    "\n",
    "    return model, metrics"
   ]
  },
  {
   "cell_type": "code",
   "execution_count": 67,
   "id": "40ba8487",
   "metadata": {},
   "outputs": [
    {
     "data": {
      "text/html": [
       "Changes to your `wandb` environment variables will be ignored because your `wandb` session has already started. For more information on how to modify your settings with `wandb.init()` arguments, please refer to <a href='https://wandb.me/wandb-init' target=\"_blank\">the W&B docs</a>."
      ],
      "text/plain": [
       "<IPython.core.display.HTML object>"
      ]
     },
     "metadata": {},
     "output_type": "display_data"
    },
    {
     "data": {
      "text/html": [
       "creating run (0.0s)"
      ],
      "text/plain": [
       "<IPython.core.display.HTML object>"
      ]
     },
     "metadata": {},
     "output_type": "display_data"
    },
    {
     "data": {
      "text/html": [
       "Tracking run with wandb version 0.21.2"
      ],
      "text/plain": [
       "<IPython.core.display.HTML object>"
      ]
     },
     "metadata": {},
     "output_type": "display_data"
    },
    {
     "data": {
      "text/html": [
       "Run data is saved locally in <code>/home/thnhan301/Documents/PROJECT/GIT/truck-delay-prediction/wandb/run-20250830_120626-d7imdpd3</code>"
      ],
      "text/plain": [
       "<IPython.core.display.HTML object>"
      ]
     },
     "metadata": {},
     "output_type": "display_data"
    },
    {
     "data": {
      "text/html": [
       "Syncing run <strong><a href='https://wandb.ai/nhanthien-sv-hcmute/truck-delay-classification/runs/d7imdpd3' target=\"_blank\">comfy-dew-2</a></strong> to <a href='https://wandb.ai/nhanthien-sv-hcmute/truck-delay-classification' target=\"_blank\">Weights & Biases</a> (<a href='https://wandb.me/developer-guide' target=\"_blank\">docs</a>)<br>"
      ],
      "text/plain": [
       "<IPython.core.display.HTML object>"
      ]
     },
     "metadata": {},
     "output_type": "display_data"
    },
    {
     "data": {
      "text/html": [
       " View project at <a href='https://wandb.ai/nhanthien-sv-hcmute/truck-delay-classification' target=\"_blank\">https://wandb.ai/nhanthien-sv-hcmute/truck-delay-classification</a>"
      ],
      "text/plain": [
       "<IPython.core.display.HTML object>"
      ]
     },
     "metadata": {},
     "output_type": "display_data"
    },
    {
     "data": {
      "text/html": [
       " View run at <a href='https://wandb.ai/nhanthien-sv-hcmute/truck-delay-classification/runs/d7imdpd3' target=\"_blank\">https://wandb.ai/nhanthien-sv-hcmute/truck-delay-classification/runs/d7imdpd3</a>"
      ],
      "text/plain": [
       "<IPython.core.display.HTML object>"
      ]
     },
     "metadata": {},
     "output_type": "display_data"
    },
    {
     "name": "stderr",
     "output_type": "stream",
     "text": [
      "\u001b[34m\u001b[1mwandb\u001b[0m: \n",
      "\u001b[34m\u001b[1mwandb\u001b[0m: Plotting LogisticRegression.\n"
     ]
    },
    {
     "name": "stdout",
     "output_type": "stream",
     "text": [
      "F1 scores → Train: 0.5748, Valid: 0.6087, Test: 0.7252\n"
     ]
    },
    {
     "name": "stderr",
     "output_type": "stream",
     "text": [
      "\u001b[34m\u001b[1mwandb\u001b[0m: Logged feature importances.\n",
      "\u001b[34m\u001b[1mwandb\u001b[0m: Logged confusion matrix.\n",
      "\u001b[34m\u001b[1mwandb\u001b[0m: Logged summary metrics.\n",
      "\u001b[34m\u001b[1mwandb\u001b[0m: Logged class proportions.\n",
      "\u001b[34m\u001b[1mwandb\u001b[0m: Logged calibration curve.\n",
      "\u001b[34m\u001b[1mwandb\u001b[0m: Logged roc curve.\n",
      "\u001b[34m\u001b[1mwandb\u001b[0m: Logged precision-recall curve.\n"
     ]
    },
    {
     "data": {
      "text/html": [],
      "text/plain": [
       "<IPython.core.display.HTML object>"
      ]
     },
     "metadata": {},
     "output_type": "display_data"
    },
    {
     "data": {
      "text/html": [
       "<br>    <style><br>        .wandb-row {<br>            display: flex;<br>            flex-direction: row;<br>            flex-wrap: wrap;<br>            justify-content: flex-start;<br>            width: 100%;<br>        }<br>        .wandb-col {<br>            display: flex;<br>            flex-direction: column;<br>            flex-basis: 100%;<br>            flex: 1;<br>            padding: 10px;<br>        }<br>    </style><br><div class=\"wandb-row\"><div class=\"wandb-col\"><h3>Run history:</h3><br/><table class=\"wandb\"><tr><td>test_f1</td><td>▁</td></tr><tr><td>train_f1</td><td>▁</td></tr><tr><td>valid_f1</td><td>▁</td></tr></table><br/></div><div class=\"wandb-col\"><h3>Run summary:</h3><br/><table class=\"wandb\"><tr><td>test_f1</td><td>0.72517</td></tr><tr><td>train_f1</td><td>0.5748</td></tr><tr><td>valid_f1</td><td>0.60874</td></tr></table><br/></div></div>"
      ],
      "text/plain": [
       "<IPython.core.display.HTML object>"
      ]
     },
     "metadata": {},
     "output_type": "display_data"
    },
    {
     "data": {
      "text/html": [
       " View run <strong style=\"color:#cdcd00\">comfy-dew-2</strong> at: <a href='https://wandb.ai/nhanthien-sv-hcmute/truck-delay-classification/runs/d7imdpd3' target=\"_blank\">https://wandb.ai/nhanthien-sv-hcmute/truck-delay-classification/runs/d7imdpd3</a><br> View project at: <a href='https://wandb.ai/nhanthien-sv-hcmute/truck-delay-classification' target=\"_blank\">https://wandb.ai/nhanthien-sv-hcmute/truck-delay-classification</a><br>Synced 5 W&B file(s), 7 media file(s), 14 artifact file(s) and 0 other file(s)"
      ],
      "text/plain": [
       "<IPython.core.display.HTML object>"
      ]
     },
     "metadata": {},
     "output_type": "display_data"
    },
    {
     "data": {
      "text/html": [
       "Find logs at: <code>./wandb/run-20250830_120626-d7imdpd3/logs</code>"
      ],
      "text/plain": [
       "<IPython.core.display.HTML object>"
      ]
     },
     "metadata": {},
     "output_type": "display_data"
    },
    {
     "data": {
      "text/plain": [
       "(LogisticRegression(class_weight={0: 0.7387858043595749, 1: 1.5469634100339495},\n",
       "                    random_state=13),\n",
       " {'train_f1': 0.5748006379585326,\n",
       "  'valid_f1': 0.6087408949011447,\n",
       "  'test_f1': 0.7251675807434491})"
      ]
     },
     "execution_count": 67,
     "metadata": {},
     "output_type": "execute_result"
    }
   ],
   "source": [
    "train_logistic_model(X_train, y_train,X_valid, y_valid, X_test, y_test)"
   ]
  },
  {
   "cell_type": "code",
   "execution_count": 68,
   "id": "5305cb56",
   "metadata": {},
   "outputs": [
    {
     "name": "stdout",
     "output_type": "stream",
     "text": [
      "Train Results\n",
      "F1 Score: 0.9922068047899639\n",
      "Recall Score: 0.984534138061109\n",
      "Confusion Matrix: \n",
      "[[5551    0]\n",
      " [  41 2610]]\n",
      "Area Under Curve: 0.9922670690305545\n",
      " \n",
      "Validation Results\n",
      "F1 Score: 0.5148833467417538\n",
      "Recall Score: 0.380499405469679\n",
      "Confusion Matrix: \n",
      "[[1413   82]\n",
      " [ 521  320]]\n",
      "Area Under Curve: 0.6628249535709599\n",
      " \n",
      "Test Results\n",
      "F1 Score: 0.6226870474658085\n",
      "Recall Score: 0.48314606741573035\n",
      "Confusion Matrix: \n",
      "[[910  55]\n",
      " [414 387]]\n",
      "Area Under Curve: 0.7130756243814403\n"
     ]
    }
   ],
   "source": [
    "random_f = RandomForestClassifier(n_estimators=20, class_weight=CLASS_WEIGHTS, random_state=7)\n",
    "random_f.fit(X_train, y_train)\n",
    "\n",
    "randomf_results = evaluate_models(\"Random Forest\", random_f,X_train, y_train, X_valid, y_valid, X_test, y_test)\n",
    "add_dic_to_final_df(randomf_results)"
   ]
  },
  {
   "cell_type": "code",
   "execution_count": 69,
   "id": "ba6f4c11",
   "metadata": {},
   "outputs": [
    {
     "data": {
      "text/html": [
       "<div>\n",
       "<style scoped>\n",
       "    .dataframe tbody tr th:only-of-type {\n",
       "        vertical-align: middle;\n",
       "    }\n",
       "\n",
       "    .dataframe tbody tr th {\n",
       "        vertical-align: top;\n",
       "    }\n",
       "\n",
       "    .dataframe thead th {\n",
       "        text-align: right;\n",
       "    }\n",
       "</style>\n",
       "<table border=\"1\" class=\"dataframe\">\n",
       "  <thead>\n",
       "    <tr style=\"text-align: right;\">\n",
       "      <th></th>\n",
       "      <th>Model_Name</th>\n",
       "      <th>Train_F1score</th>\n",
       "      <th>Train_Recall</th>\n",
       "      <th>Valid_F1score</th>\n",
       "      <th>Valid_Recall</th>\n",
       "      <th>Test_F1score</th>\n",
       "      <th>Test_Recall</th>\n",
       "    </tr>\n",
       "  </thead>\n",
       "  <tbody>\n",
       "    <tr>\n",
       "      <th>0</th>\n",
       "      <td>Logistic Regression</td>\n",
       "      <td>0.574801</td>\n",
       "      <td>0.679743</td>\n",
       "      <td>0.608741</td>\n",
       "      <td>0.695600</td>\n",
       "      <td>0.725168</td>\n",
       "      <td>0.742821</td>\n",
       "    </tr>\n",
       "    <tr>\n",
       "      <th>1</th>\n",
       "      <td>Random Forest</td>\n",
       "      <td>0.992207</td>\n",
       "      <td>0.984534</td>\n",
       "      <td>0.514883</td>\n",
       "      <td>0.380499</td>\n",
       "      <td>0.622687</td>\n",
       "      <td>0.483146</td>\n",
       "    </tr>\n",
       "  </tbody>\n",
       "</table>\n",
       "</div>"
      ],
      "text/plain": [
       "            Model_Name  Train_F1score  Train_Recall  Valid_F1score  \\\n",
       "0  Logistic Regression       0.574801      0.679743       0.608741   \n",
       "1        Random Forest       0.992207      0.984534       0.514883   \n",
       "\n",
       "   Valid_Recall  Test_F1score  Test_Recall  \n",
       "0      0.695600      0.725168     0.742821  \n",
       "1      0.380499      0.622687     0.483146  "
      ]
     },
     "execution_count": 69,
     "metadata": {},
     "output_type": "execute_result"
    }
   ],
   "source": [
    "comparison_df"
   ]
  },
  {
   "cell_type": "code",
   "execution_count": 70,
   "id": "15154efe",
   "metadata": {},
   "outputs": [],
   "source": [
    "def train_random_forest(\n",
    "    X_train, y_train, X_valid, y_valid, X_test, y_test,\n",
    "    project_name=PROJECT_NAME,\n",
    "    model_params=None,\n",
    "    model_path=\"files/randomf-truck-model.pkl\"\n",
    "):\n",
    "    \"\"\"\n",
    "    Train a Random Forest model, evaluate on train/valid/test,\n",
    "    log results & artifacts to Weights & Biases.\n",
    "    \"\"\"\n",
    "    default_params = {\n",
    "        \"n_estimators\": 100,\n",
    "        \"class_weight\": CLASS_WEIGHTS,\n",
    "        \"random_state\": 7\n",
    "    }\n",
    "    if model_params:\n",
    "        default_params.update(model_params)\n",
    "\n",
    "    features = X_train.columns\n",
    "\n",
    "    with wandb.init(project=project_name) as run:\n",
    "        config = wandb.config\n",
    "        config.update(default_params)  # log hyperparams\n",
    "\n",
    "        # Train model\n",
    "        model = RandomForestClassifier(**default_params)\n",
    "        model.fit(X_train, y_train)\n",
    "\n",
    "        # Evaluate\n",
    "        metrics = {\n",
    "            \"train_f1\": f1_score(y_train, model.predict(X_train)),\n",
    "            \"valid_f1\": f1_score(y_valid, model.predict(X_valid)),\n",
    "            \"test_f1\":  f1_score(y_test,  model.predict(X_test)),\n",
    "        }\n",
    "\n",
    "        print(\n",
    "            f\"F1 scores → Train: {metrics['train_f1']:.4f}, \"\n",
    "            f\"Valid: {metrics['valid_f1']:.4f}, \"\n",
    "            f\"Test: {metrics['test_f1']:.4f}\"\n",
    "        )\n",
    "        wandb.log(metrics)\n",
    "\n",
    "        # Predictions for visualization\n",
    "        y_preds = model.predict(X_test)\n",
    "        y_probas = model.predict_proba(X_test)\n",
    "\n",
    "        labels = [\"No Delay\", \"Delay\"]\n",
    "        wandb.sklearn.plot_classifier(\n",
    "            model,\n",
    "            X_train, X_test, y_train, y_test,\n",
    "            y_preds, y_probas,\n",
    "            labels=labels, \n",
    "            model_name=\"RandomForestClassifier\",\n",
    "            feature_names=features,\n",
    "        )\n",
    "\n",
    "        # Save and log model artifact\n",
    "        joblib.dump(model, model_path)\n",
    "        artifact = wandb.Artifact(\"RandomForestClassifier\", type=\"model\", metadata=dict(config))\n",
    "        artifact.add_file(model_path)\n",
    "        run.log_artifact(artifact)\n",
    "\n",
    "    return model, metrics"
   ]
  },
  {
   "cell_type": "code",
   "execution_count": 71,
   "id": "e77dbc83",
   "metadata": {},
   "outputs": [
    {
     "data": {
      "text/html": [
       "Changes to your `wandb` environment variables will be ignored because your `wandb` session has already started. For more information on how to modify your settings with `wandb.init()` arguments, please refer to <a href='https://wandb.me/wandb-init' target=\"_blank\">the W&B docs</a>."
      ],
      "text/plain": [
       "<IPython.core.display.HTML object>"
      ]
     },
     "metadata": {},
     "output_type": "display_data"
    },
    {
     "data": {
      "text/html": [
       "creating run (0.0s)"
      ],
      "text/plain": [
       "<IPython.core.display.HTML object>"
      ]
     },
     "metadata": {},
     "output_type": "display_data"
    },
    {
     "data": {
      "text/html": [
       "Tracking run with wandb version 0.21.2"
      ],
      "text/plain": [
       "<IPython.core.display.HTML object>"
      ]
     },
     "metadata": {},
     "output_type": "display_data"
    },
    {
     "data": {
      "text/html": [
       "Run data is saved locally in <code>/home/thnhan301/Documents/PROJECT/GIT/truck-delay-prediction/wandb/run-20250830_121717-eh59s314</code>"
      ],
      "text/plain": [
       "<IPython.core.display.HTML object>"
      ]
     },
     "metadata": {},
     "output_type": "display_data"
    },
    {
     "data": {
      "text/html": [
       "Syncing run <strong><a href='https://wandb.ai/nhanthien-sv-hcmute/truck-delay-classification/runs/eh59s314' target=\"_blank\">silvery-star-3</a></strong> to <a href='https://wandb.ai/nhanthien-sv-hcmute/truck-delay-classification' target=\"_blank\">Weights & Biases</a> (<a href='https://wandb.me/developer-guide' target=\"_blank\">docs</a>)<br>"
      ],
      "text/plain": [
       "<IPython.core.display.HTML object>"
      ]
     },
     "metadata": {},
     "output_type": "display_data"
    },
    {
     "data": {
      "text/html": [
       " View project at <a href='https://wandb.ai/nhanthien-sv-hcmute/truck-delay-classification' target=\"_blank\">https://wandb.ai/nhanthien-sv-hcmute/truck-delay-classification</a>"
      ],
      "text/plain": [
       "<IPython.core.display.HTML object>"
      ]
     },
     "metadata": {},
     "output_type": "display_data"
    },
    {
     "data": {
      "text/html": [
       " View run at <a href='https://wandb.ai/nhanthien-sv-hcmute/truck-delay-classification/runs/eh59s314' target=\"_blank\">https://wandb.ai/nhanthien-sv-hcmute/truck-delay-classification/runs/eh59s314</a>"
      ],
      "text/plain": [
       "<IPython.core.display.HTML object>"
      ]
     },
     "metadata": {},
     "output_type": "display_data"
    },
    {
     "name": "stderr",
     "output_type": "stream",
     "text": [
      "\u001b[34m\u001b[1mwandb\u001b[0m: \n",
      "\u001b[34m\u001b[1mwandb\u001b[0m: Plotting RandomForestClassifier.\n"
     ]
    },
    {
     "name": "stdout",
     "output_type": "stream",
     "text": [
      "F1 scores → Train: 1.0000, Valid: 0.5816, Test: 0.6651\n"
     ]
    },
    {
     "name": "stderr",
     "output_type": "stream",
     "text": [
      "\u001b[34m\u001b[1mwandb\u001b[0m: Logged feature importances.\n",
      "\u001b[34m\u001b[1mwandb\u001b[0m: Logged confusion matrix.\n",
      "\u001b[34m\u001b[1mwandb\u001b[0m: Logged summary metrics.\n",
      "\u001b[34m\u001b[1mwandb\u001b[0m: Logged class proportions.\n",
      "\u001b[34m\u001b[1mwandb\u001b[0m: Logged calibration curve.\n",
      "\u001b[34m\u001b[1mwandb\u001b[0m: Logged roc curve.\n",
      "\u001b[34m\u001b[1mwandb\u001b[0m: Logged precision-recall curve.\n"
     ]
    },
    {
     "data": {
      "text/html": [],
      "text/plain": [
       "<IPython.core.display.HTML object>"
      ]
     },
     "metadata": {},
     "output_type": "display_data"
    },
    {
     "data": {
      "text/html": [
       "<br>    <style><br>        .wandb-row {<br>            display: flex;<br>            flex-direction: row;<br>            flex-wrap: wrap;<br>            justify-content: flex-start;<br>            width: 100%;<br>        }<br>        .wandb-col {<br>            display: flex;<br>            flex-direction: column;<br>            flex-basis: 100%;<br>            flex: 1;<br>            padding: 10px;<br>        }<br>    </style><br><div class=\"wandb-row\"><div class=\"wandb-col\"><h3>Run history:</h3><br/><table class=\"wandb\"><tr><td>test_f1</td><td>▁</td></tr><tr><td>train_f1</td><td>▁</td></tr><tr><td>valid_f1</td><td>▁</td></tr></table><br/></div><div class=\"wandb-col\"><h3>Run summary:</h3><br/><table class=\"wandb\"><tr><td>test_f1</td><td>0.66512</td></tr><tr><td>train_f1</td><td>1</td></tr><tr><td>valid_f1</td><td>0.58165</td></tr></table><br/></div></div>"
      ],
      "text/plain": [
       "<IPython.core.display.HTML object>"
      ]
     },
     "metadata": {},
     "output_type": "display_data"
    },
    {
     "data": {
      "text/html": [
       " View run <strong style=\"color:#cdcd00\">silvery-star-3</strong> at: <a href='https://wandb.ai/nhanthien-sv-hcmute/truck-delay-classification/runs/eh59s314' target=\"_blank\">https://wandb.ai/nhanthien-sv-hcmute/truck-delay-classification/runs/eh59s314</a><br> View project at: <a href='https://wandb.ai/nhanthien-sv-hcmute/truck-delay-classification' target=\"_blank\">https://wandb.ai/nhanthien-sv-hcmute/truck-delay-classification</a><br>Synced 5 W&B file(s), 7 media file(s), 16 artifact file(s) and 0 other file(s)"
      ],
      "text/plain": [
       "<IPython.core.display.HTML object>"
      ]
     },
     "metadata": {},
     "output_type": "display_data"
    },
    {
     "data": {
      "text/html": [
       "Find logs at: <code>./wandb/run-20250830_121717-eh59s314/logs</code>"
      ],
      "text/plain": [
       "<IPython.core.display.HTML object>"
      ]
     },
     "metadata": {},
     "output_type": "display_data"
    },
    {
     "data": {
      "text/plain": [
       "(RandomForestClassifier(class_weight={0: 0.7387858043595749,\n",
       "                                      1: 1.5469634100339495},\n",
       "                        random_state=7),\n",
       " {'train_f1': 1.0,\n",
       "  'valid_f1': 0.5816485225505443,\n",
       "  'test_f1': 0.6651198762567672})"
      ]
     },
     "execution_count": 71,
     "metadata": {},
     "output_type": "execute_result"
    }
   ],
   "source": [
    "train_random_forest(X_train, y_train,X_valid, y_valid, X_test, y_test)"
   ]
  },
  {
   "cell_type": "code",
   "execution_count": 72,
   "id": "0d9e7c3e",
   "metadata": {},
   "outputs": [
    {
     "name": "stdout",
     "output_type": "stream",
     "text": [
      "[0]\tvalidation-mlogloss:0.61450\n",
      "[1]\tvalidation-mlogloss:0.57317\n",
      "[2]\tvalidation-mlogloss:0.54769\n",
      "[3]\tvalidation-mlogloss:0.53642\n",
      "[4]\tvalidation-mlogloss:0.53487\n",
      "[5]\tvalidation-mlogloss:0.53000\n",
      "[6]\tvalidation-mlogloss:0.53028\n",
      "[7]\tvalidation-mlogloss:0.53020\n",
      "[8]\tvalidation-mlogloss:0.53448\n",
      "[9]\tvalidation-mlogloss:0.53441\n",
      "[10]\tvalidation-mlogloss:0.53978\n",
      "[11]\tvalidation-mlogloss:0.54023\n",
      "[12]\tvalidation-mlogloss:0.54750\n",
      "[13]\tvalidation-mlogloss:0.55097\n",
      "[14]\tvalidation-mlogloss:0.55124\n",
      "[15]\tvalidation-mlogloss:0.54851\n",
      "Train Results\n",
      "F1 Score: 0.7154022988505747\n",
      "Recall Score: 0.5869483213881554\n",
      "Confusion Matrix: \n",
      "[[5408  143]\n",
      " [1095 1556]]\n",
      "Area Under Curve: 0.7805935986331878\n",
      " \n",
      "Validation Results\n",
      "F1 Score: 0.5898004434589801\n",
      "Recall Score: 0.47443519619500596\n",
      "Confusion Matrix: \n",
      "[[1382  113]\n",
      " [ 442  399]]\n",
      "Area Under Curve: 0.6994249559570347\n",
      " \n",
      "Test Results\n",
      "F1 Score: 0.691285081240768\n",
      "Recall Score: 0.5842696629213483\n",
      "Confusion Matrix: \n",
      "[[880  85]\n",
      " [333 468]]\n",
      "Area Under Curve: 0.7480933806834721\n"
     ]
    }
   ],
   "source": [
    "import xgboost as xgb\n",
    "\n",
    "dtrain = xgb.DMatrix(X_train, label=y_train)\n",
    "dvalid = xgb.DMatrix(X_valid, label=y_valid)\n",
    "dtest = xgb.DMatrix(X_test, label=y_test)\n",
    "\n",
    "# Train initial model\n",
    "params = {'objective': 'multi:softmax', 'num_class': 2, 'seed': 7}\n",
    "num_rounds = 30\n",
    "xgbmodel = xgb.train(params, dtrain, num_rounds, evals=[(dvalid, 'validation')], early_stopping_rounds=10)\n",
    "\n",
    "xgb_results = evaluate_models(\"XGB\", xgbmodel, dtrain, y_train, dvalid, y_valid, dtest, y_test)\n",
    "add_dic_to_final_df(xgb_results)"
   ]
  },
  {
   "cell_type": "code",
   "execution_count": 73,
   "id": "78a1dfb5",
   "metadata": {},
   "outputs": [
    {
     "data": {
      "text/html": [
       "<div>\n",
       "<style scoped>\n",
       "    .dataframe tbody tr th:only-of-type {\n",
       "        vertical-align: middle;\n",
       "    }\n",
       "\n",
       "    .dataframe tbody tr th {\n",
       "        vertical-align: top;\n",
       "    }\n",
       "\n",
       "    .dataframe thead th {\n",
       "        text-align: right;\n",
       "    }\n",
       "</style>\n",
       "<table border=\"1\" class=\"dataframe\">\n",
       "  <thead>\n",
       "    <tr style=\"text-align: right;\">\n",
       "      <th></th>\n",
       "      <th>Model_Name</th>\n",
       "      <th>Train_F1score</th>\n",
       "      <th>Train_Recall</th>\n",
       "      <th>Valid_F1score</th>\n",
       "      <th>Valid_Recall</th>\n",
       "      <th>Test_F1score</th>\n",
       "      <th>Test_Recall</th>\n",
       "    </tr>\n",
       "  </thead>\n",
       "  <tbody>\n",
       "    <tr>\n",
       "      <th>0</th>\n",
       "      <td>Logistic Regression</td>\n",
       "      <td>0.574801</td>\n",
       "      <td>0.679743</td>\n",
       "      <td>0.608741</td>\n",
       "      <td>0.695600</td>\n",
       "      <td>0.725168</td>\n",
       "      <td>0.742821</td>\n",
       "    </tr>\n",
       "    <tr>\n",
       "      <th>1</th>\n",
       "      <td>Random Forest</td>\n",
       "      <td>0.992207</td>\n",
       "      <td>0.984534</td>\n",
       "      <td>0.514883</td>\n",
       "      <td>0.380499</td>\n",
       "      <td>0.622687</td>\n",
       "      <td>0.483146</td>\n",
       "    </tr>\n",
       "    <tr>\n",
       "      <th>2</th>\n",
       "      <td>XGB</td>\n",
       "      <td>0.715402</td>\n",
       "      <td>0.586948</td>\n",
       "      <td>0.589800</td>\n",
       "      <td>0.474435</td>\n",
       "      <td>0.691285</td>\n",
       "      <td>0.584270</td>\n",
       "    </tr>\n",
       "  </tbody>\n",
       "</table>\n",
       "</div>"
      ],
      "text/plain": [
       "            Model_Name  Train_F1score  Train_Recall  Valid_F1score  \\\n",
       "0  Logistic Regression       0.574801      0.679743       0.608741   \n",
       "1        Random Forest       0.992207      0.984534       0.514883   \n",
       "2                  XGB       0.715402      0.586948       0.589800   \n",
       "\n",
       "   Valid_Recall  Test_F1score  Test_Recall  \n",
       "0      0.695600      0.725168     0.742821  \n",
       "1      0.380499      0.622687     0.483146  \n",
       "2      0.474435      0.691285     0.584270  "
      ]
     },
     "execution_count": 73,
     "metadata": {},
     "output_type": "execute_result"
    }
   ],
   "source": [
    "comparison_df"
   ]
  },
  {
   "cell_type": "code",
   "execution_count": 74,
   "id": "c3dbad01",
   "metadata": {},
   "outputs": [],
   "source": [
    "import joblib\n",
    "import xgboost as xgb\n",
    "from sklearn.metrics import f1_score\n",
    "import wandb\n",
    "\n",
    "\n",
    "def train_xgb_model(\n",
    "    X_train, y_train, X_valid, y_valid, X_test, y_test,\n",
    "    project_name=PROJECT_NAME,\n",
    "    model_params=None,\n",
    "    num_rounds=100,\n",
    "    early_stopping=10,\n",
    "    model_path=\"files/xgb-truck-model.pkl\"\n",
    "):\n",
    "    \"\"\"\n",
    "    Train an XGBoost model, evaluate on train/valid/test,\n",
    "    log results & artifacts to Weights & Biases.\n",
    "    \"\"\"\n",
    "\n",
    "    default_params = {\n",
    "        \"objective\": \"multi:softmax\",\n",
    "        \"num_class\": 2,\n",
    "        \"eval_metric\": \"mlogloss\"\n",
    "    }\n",
    "    if model_params:\n",
    "        default_params.update(model_params)\n",
    "\n",
    "    # Convert to DMatrix\n",
    "    dtrain = xgb.DMatrix(X_train, label=y_train)\n",
    "    dvalid = xgb.DMatrix(X_valid, label=y_valid)\n",
    "    dtest  = xgb.DMatrix(X_test,  label=y_test)\n",
    "\n",
    "    with wandb.init(project=project_name) as run:\n",
    "        config = wandb.config\n",
    "        config.update(default_params)\n",
    "\n",
    "        # Train model with early stopping\n",
    "        evals = [(dtrain, \"train\"), (dvalid, \"valid\")]\n",
    "        model = xgb.train(\n",
    "            default_params,\n",
    "            dtrain,\n",
    "            num_boost_round=num_rounds,\n",
    "            evals=evals,\n",
    "            early_stopping_rounds=early_stopping,\n",
    "            verbose_eval=False\n",
    "        )\n",
    "\n",
    "        # Evaluate\n",
    "        metrics = {\n",
    "            \"train_f1\": f1_score(y_train, model.predict(dtrain)),\n",
    "            \"valid_f1\": f1_score(y_valid, model.predict(dvalid)),\n",
    "            \"test_f1\":  f1_score(y_test,  model.predict(dtest)),\n",
    "        }\n",
    "\n",
    "        print(\n",
    "            f\"F1 scores → Train: {metrics['train_f1']:.4f}, \"\n",
    "            f\"Valid: {metrics['valid_f1']:.4f}, \"\n",
    "            f\"Test: {metrics['test_f1']:.4f}\"\n",
    "        )\n",
    "        wandb.log(metrics)\n",
    "\n",
    "        # Save and log model artifact\n",
    "        joblib.dump(model, model_path)\n",
    "        artifact = wandb.Artifact(\"XGBoost\", type=\"model\", metadata=dict(config))\n",
    "        artifact.add_file(model_path)\n",
    "        run.log_artifact(artifact)\n",
    "\n",
    "    return model, metrics"
   ]
  },
  {
   "cell_type": "code",
   "execution_count": 75,
   "id": "d5e7fc5c",
   "metadata": {},
   "outputs": [
    {
     "data": {
      "text/html": [
       "Changes to your `wandb` environment variables will be ignored because your `wandb` session has already started. For more information on how to modify your settings with `wandb.init()` arguments, please refer to <a href='https://wandb.me/wandb-init' target=\"_blank\">the W&B docs</a>."
      ],
      "text/plain": [
       "<IPython.core.display.HTML object>"
      ]
     },
     "metadata": {},
     "output_type": "display_data"
    },
    {
     "data": {
      "text/html": [
       "creating run (0.0s)"
      ],
      "text/plain": [
       "<IPython.core.display.HTML object>"
      ]
     },
     "metadata": {},
     "output_type": "display_data"
    },
    {
     "data": {
      "text/html": [
       "Tracking run with wandb version 0.21.2"
      ],
      "text/plain": [
       "<IPython.core.display.HTML object>"
      ]
     },
     "metadata": {},
     "output_type": "display_data"
    },
    {
     "data": {
      "text/html": [
       "Run data is saved locally in <code>/home/thnhan301/Documents/PROJECT/GIT/truck-delay-prediction/wandb/run-20250830_122254-x22b65n6</code>"
      ],
      "text/plain": [
       "<IPython.core.display.HTML object>"
      ]
     },
     "metadata": {},
     "output_type": "display_data"
    },
    {
     "data": {
      "text/html": [
       "Syncing run <strong><a href='https://wandb.ai/nhanthien-sv-hcmute/truck-delay-classification/runs/x22b65n6' target=\"_blank\">morning-night-4</a></strong> to <a href='https://wandb.ai/nhanthien-sv-hcmute/truck-delay-classification' target=\"_blank\">Weights & Biases</a> (<a href='https://wandb.me/developer-guide' target=\"_blank\">docs</a>)<br>"
      ],
      "text/plain": [
       "<IPython.core.display.HTML object>"
      ]
     },
     "metadata": {},
     "output_type": "display_data"
    },
    {
     "data": {
      "text/html": [
       " View project at <a href='https://wandb.ai/nhanthien-sv-hcmute/truck-delay-classification' target=\"_blank\">https://wandb.ai/nhanthien-sv-hcmute/truck-delay-classification</a>"
      ],
      "text/plain": [
       "<IPython.core.display.HTML object>"
      ]
     },
     "metadata": {},
     "output_type": "display_data"
    },
    {
     "data": {
      "text/html": [
       " View run at <a href='https://wandb.ai/nhanthien-sv-hcmute/truck-delay-classification/runs/x22b65n6' target=\"_blank\">https://wandb.ai/nhanthien-sv-hcmute/truck-delay-classification/runs/x22b65n6</a>"
      ],
      "text/plain": [
       "<IPython.core.display.HTML object>"
      ]
     },
     "metadata": {},
     "output_type": "display_data"
    },
    {
     "name": "stdout",
     "output_type": "stream",
     "text": [
      "F1 scores → Train: 0.7154, Valid: 0.5898, Test: 0.6913\n"
     ]
    },
    {
     "data": {
      "text/html": [],
      "text/plain": [
       "<IPython.core.display.HTML object>"
      ]
     },
     "metadata": {},
     "output_type": "display_data"
    },
    {
     "data": {
      "text/html": [
       "<br>    <style><br>        .wandb-row {<br>            display: flex;<br>            flex-direction: row;<br>            flex-wrap: wrap;<br>            justify-content: flex-start;<br>            width: 100%;<br>        }<br>        .wandb-col {<br>            display: flex;<br>            flex-direction: column;<br>            flex-basis: 100%;<br>            flex: 1;<br>            padding: 10px;<br>        }<br>    </style><br><div class=\"wandb-row\"><div class=\"wandb-col\"><h3>Run history:</h3><br/><table class=\"wandb\"><tr><td>test_f1</td><td>▁</td></tr><tr><td>train_f1</td><td>▁</td></tr><tr><td>valid_f1</td><td>▁</td></tr></table><br/></div><div class=\"wandb-col\"><h3>Run summary:</h3><br/><table class=\"wandb\"><tr><td>test_f1</td><td>0.69129</td></tr><tr><td>train_f1</td><td>0.7154</td></tr><tr><td>valid_f1</td><td>0.5898</td></tr></table><br/></div></div>"
      ],
      "text/plain": [
       "<IPython.core.display.HTML object>"
      ]
     },
     "metadata": {},
     "output_type": "display_data"
    },
    {
     "data": {
      "text/html": [
       " View run <strong style=\"color:#cdcd00\">morning-night-4</strong> at: <a href='https://wandb.ai/nhanthien-sv-hcmute/truck-delay-classification/runs/x22b65n6' target=\"_blank\">https://wandb.ai/nhanthien-sv-hcmute/truck-delay-classification/runs/x22b65n6</a><br> View project at: <a href='https://wandb.ai/nhanthien-sv-hcmute/truck-delay-classification' target=\"_blank\">https://wandb.ai/nhanthien-sv-hcmute/truck-delay-classification</a><br>Synced 5 W&B file(s), 0 media file(s), 2 artifact file(s) and 0 other file(s)"
      ],
      "text/plain": [
       "<IPython.core.display.HTML object>"
      ]
     },
     "metadata": {},
     "output_type": "display_data"
    },
    {
     "data": {
      "text/html": [
       "Find logs at: <code>./wandb/run-20250830_122254-x22b65n6/logs</code>"
      ],
      "text/plain": [
       "<IPython.core.display.HTML object>"
      ]
     },
     "metadata": {},
     "output_type": "display_data"
    },
    {
     "data": {
      "text/plain": [
       "(<xgboost.core.Booster at 0x70143861ff10>,\n",
       " {'train_f1': 0.7154022988505747,\n",
       "  'valid_f1': 0.5898004434589801,\n",
       "  'test_f1': 0.691285081240768})"
      ]
     },
     "execution_count": 75,
     "metadata": {},
     "output_type": "execute_result"
    }
   ],
   "source": [
    "train_xgb_model(X_train, y_train,X_valid, y_valid, X_test, y_test)"
   ]
  },
  {
   "cell_type": "code",
   "execution_count": 76,
   "id": "bd8f62e9",
   "metadata": {},
   "outputs": [],
   "source": [
    "import joblib\n",
    "w = {0: weights[0], 1: weights[1]}\n",
    "def train_rf_model(X_train=X_train, y_train=y_train, X_valid=X_valid,y_valid=y_valid, X_test=X_test, y_test=y_test):\n",
    "    features = X_train.columns\n",
    "\n",
    "    with wandb.init(\n",
    "        project=PROJECT_NAME ) as run:\n",
    "        config = wandb.config\n",
    "\n",
    "        model = RandomForestClassifier(\n",
    "            n_estimators=config[\"n_estimators\"],\n",
    "            max_depth=config[\"max_depth\"],\n",
    "            min_samples_split=config[\"min_samples_split\"],\n",
    "            random_state=7,\n",
    "            class_weight=w\n",
    "        )\n",
    "        model.fit(X_train, y_train)\n",
    "        \n",
    "        # train predictions\n",
    "        y_train_pred = model.predict(X_train)\n",
    "        # train performance\n",
    "        train_f1_score = f1_score(y_train, y_train_pred)\n",
    "        \n",
    "\n",
    "        # validation predictions\n",
    "        y_valid_pred = model.predict(X_valid)\n",
    "        # validation performance\n",
    "        valid_f1_score = f1_score(y_valid, y_valid_pred)\n",
    "      \n",
    "\n",
    "        y_preds = model.predict(X_test)\n",
    "        y_probas = model.predict_proba(X_test)\n",
    "\n",
    "        score = f1_score(y_test, y_preds)\n",
    "        print(f\"F1_score Train: {round(train_f1_score, 4)}\")\n",
    "        print(f\"F1_score Valid: {round(valid_f1_score, 4)}\")\n",
    "        print(f\"F1_score Test: {round(score, 4)}\")\n",
    "\n",
    "\n",
    "        wandb.log({\"f1_score_train\": train_f1_score})\n",
    "        wandb.log({\"f1_score_valid\": valid_f1_score})\n",
    "        wandb.log({\"f1_score\": score})\n",
    "\n",
    "        wandb.sklearn.plot_classifier(model, X_train, X_test, y_train, y_test, y_preds, y_probas, labels=None,\n",
    "                                                          model_name='RandomForestClassifier', feature_names=features)\n",
    "\n",
    "        model_artifact = wandb.Artifact(\n",
    "            \"RandomForestClassifier\", type=\"model\",metadata=dict(config))\n",
    "        joblib.dump(model, \"files/random_f_tuned.pkl\")\n",
    "        model_artifact.add_file(\"files/random_f_tuned.pkl\")\n",
    "        run.log_artifact(model_artifact)"
   ]
  },
  {
   "cell_type": "code",
   "execution_count": null,
   "id": "1ce5b89d",
   "metadata": {},
   "outputs": [
    {
     "name": "stdout",
     "output_type": "stream",
     "text": [
      "Create sweep with ID: ze0902xf\n",
      "Sweep URL: https://wandb.ai/nhanthien-sv-hcmute/truck-delay-classification/sweeps/ze0902xf\n"
     ]
    },
    {
     "name": "stderr",
     "output_type": "stream",
     "text": [
      "\u001b[34m\u001b[1mwandb\u001b[0m: Agent Starting Run: i1n9mlk9 with config:\n",
      "\u001b[34m\u001b[1mwandb\u001b[0m: \tmax_depth: None\n",
      "\u001b[34m\u001b[1mwandb\u001b[0m: \tmin_samples_split: 2\n",
      "\u001b[34m\u001b[1mwandb\u001b[0m: \tn_estimators: 8\n"
     ]
    },
    {
     "data": {
      "text/html": [
       "Changes to your `wandb` environment variables will be ignored because your `wandb` session has already started. For more information on how to modify your settings with `wandb.init()` arguments, please refer to <a href='https://wandb.me/wandb-init' target=\"_blank\">the W&B docs</a>."
      ],
      "text/plain": [
       "<IPython.core.display.HTML object>"
      ]
     },
     "metadata": {},
     "output_type": "display_data"
    },
    {
     "data": {
      "text/html": [
       "Ignoring project 'truck-delay-classification' when running a sweep."
      ],
      "text/plain": [
       "<IPython.core.display.HTML object>"
      ]
     },
     "metadata": {},
     "output_type": "display_data"
    },
    {
     "data": {
      "text/html": [
       "creating run (0.0s)"
      ],
      "text/plain": [
       "<IPython.core.display.HTML object>"
      ]
     },
     "metadata": {},
     "output_type": "display_data"
    },
    {
     "data": {
      "text/html": [
       "Tracking run with wandb version 0.21.2"
      ],
      "text/plain": [
       "<IPython.core.display.HTML object>"
      ]
     },
     "metadata": {},
     "output_type": "display_data"
    },
    {
     "data": {
      "text/html": [
       "Run data is saved locally in <code>/home/thnhan301/Documents/PROJECT/GIT/truck-delay-prediction/wandb/run-20250830_123201-i1n9mlk9</code>"
      ],
      "text/plain": [
       "<IPython.core.display.HTML object>"
      ]
     },
     "metadata": {},
     "output_type": "display_data"
    },
    {
     "data": {
      "text/html": [
       "Syncing run <strong><a href='https://wandb.ai/nhanthien-sv-hcmute/truck-delay-classification/runs/i1n9mlk9' target=\"_blank\">peach-sweep-1</a></strong> to <a href='https://wandb.ai/nhanthien-sv-hcmute/truck-delay-classification' target=\"_blank\">Weights & Biases</a> (<a href='https://wandb.me/developer-guide' target=\"_blank\">docs</a>)<br>Sweep page: <a href='https://wandb.ai/nhanthien-sv-hcmute/truck-delay-classification/sweeps/ze0902xf' target=\"_blank\">https://wandb.ai/nhanthien-sv-hcmute/truck-delay-classification/sweeps/ze0902xf</a>"
      ],
      "text/plain": [
       "<IPython.core.display.HTML object>"
      ]
     },
     "metadata": {},
     "output_type": "display_data"
    },
    {
     "data": {
      "text/html": [
       " View project at <a href='https://wandb.ai/nhanthien-sv-hcmute/truck-delay-classification' target=\"_blank\">https://wandb.ai/nhanthien-sv-hcmute/truck-delay-classification</a>"
      ],
      "text/plain": [
       "<IPython.core.display.HTML object>"
      ]
     },
     "metadata": {},
     "output_type": "display_data"
    },
    {
     "data": {
      "text/html": [
       " View sweep at <a href='https://wandb.ai/nhanthien-sv-hcmute/truck-delay-classification/sweeps/ze0902xf' target=\"_blank\">https://wandb.ai/nhanthien-sv-hcmute/truck-delay-classification/sweeps/ze0902xf</a>"
      ],
      "text/plain": [
       "<IPython.core.display.HTML object>"
      ]
     },
     "metadata": {},
     "output_type": "display_data"
    },
    {
     "data": {
      "text/html": [
       " View run at <a href='https://wandb.ai/nhanthien-sv-hcmute/truck-delay-classification/runs/i1n9mlk9' target=\"_blank\">https://wandb.ai/nhanthien-sv-hcmute/truck-delay-classification/runs/i1n9mlk9</a>"
      ],
      "text/plain": [
       "<IPython.core.display.HTML object>"
      ]
     },
     "metadata": {},
     "output_type": "display_data"
    },
    {
     "name": "stderr",
     "output_type": "stream",
     "text": [
      "\u001b[34m\u001b[1mwandb\u001b[0m: \n",
      "\u001b[34m\u001b[1mwandb\u001b[0m: Plotting RandomForestClassifier.\n"
     ]
    },
    {
     "name": "stdout",
     "output_type": "stream",
     "text": [
      "F1_score Train: 0.9554\n",
      "F1_score Valid: 0.4588\n",
      "F1_score Test: 0.5923\n"
     ]
    },
    {
     "name": "stderr",
     "output_type": "stream",
     "text": [
      "\u001b[34m\u001b[1mwandb\u001b[0m: Logged feature importances.\n",
      "\u001b[34m\u001b[1mwandb\u001b[0m: Logged confusion matrix.\n",
      "\u001b[34m\u001b[1mwandb\u001b[0m: Logged summary metrics.\n",
      "\u001b[34m\u001b[1mwandb\u001b[0m: Logged class proportions.\n",
      "\u001b[34m\u001b[1mwandb\u001b[0m: Logged calibration curve.\n",
      "\u001b[34m\u001b[1mwandb\u001b[0m: Logged roc curve.\n",
      "\u001b[34m\u001b[1mwandb\u001b[0m: Logged precision-recall curve.\n"
     ]
    },
    {
     "data": {
      "text/html": [],
      "text/plain": [
       "<IPython.core.display.HTML object>"
      ]
     },
     "metadata": {},
     "output_type": "display_data"
    },
    {
     "data": {
      "text/html": [
       "<br>    <style><br>        .wandb-row {<br>            display: flex;<br>            flex-direction: row;<br>            flex-wrap: wrap;<br>            justify-content: flex-start;<br>            width: 100%;<br>        }<br>        .wandb-col {<br>            display: flex;<br>            flex-direction: column;<br>            flex-basis: 100%;<br>            flex: 1;<br>            padding: 10px;<br>        }<br>    </style><br><div class=\"wandb-row\"><div class=\"wandb-col\"><h3>Run history:</h3><br/><table class=\"wandb\"><tr><td>f1_score</td><td>▁</td></tr><tr><td>f1_score_train</td><td>▁</td></tr><tr><td>f1_score_valid</td><td>▁</td></tr></table><br/></div><div class=\"wandb-col\"><h3>Run summary:</h3><br/><table class=\"wandb\"><tr><td>f1_score</td><td>0.59229</td></tr><tr><td>f1_score_train</td><td>0.95543</td></tr><tr><td>f1_score_valid</td><td>0.45878</td></tr></table><br/></div></div>"
      ],
      "text/plain": [
       "<IPython.core.display.HTML object>"
      ]
     },
     "metadata": {},
     "output_type": "display_data"
    },
    {
     "data": {
      "text/html": [
       " View run <strong style=\"color:#cdcd00\">peach-sweep-1</strong> at: <a href='https://wandb.ai/nhanthien-sv-hcmute/truck-delay-classification/runs/i1n9mlk9' target=\"_blank\">https://wandb.ai/nhanthien-sv-hcmute/truck-delay-classification/runs/i1n9mlk9</a><br> View project at: <a href='https://wandb.ai/nhanthien-sv-hcmute/truck-delay-classification' target=\"_blank\">https://wandb.ai/nhanthien-sv-hcmute/truck-delay-classification</a><br>Synced 5 W&B file(s), 7 media file(s), 16 artifact file(s) and 0 other file(s)"
      ],
      "text/plain": [
       "<IPython.core.display.HTML object>"
      ]
     },
     "metadata": {},
     "output_type": "display_data"
    },
    {
     "data": {
      "text/html": [
       "Find logs at: <code>./wandb/run-20250830_123201-i1n9mlk9/logs</code>"
      ],
      "text/plain": [
       "<IPython.core.display.HTML object>"
      ]
     },
     "metadata": {},
     "output_type": "display_data"
    },
    {
     "name": "stderr",
     "output_type": "stream",
     "text": [
      "\u001b[34m\u001b[1mwandb\u001b[0m: Agent Starting Run: waggi29b with config:\n",
      "\u001b[34m\u001b[1mwandb\u001b[0m: \tmax_depth: None\n",
      "\u001b[34m\u001b[1mwandb\u001b[0m: \tmin_samples_split: 2\n",
      "\u001b[34m\u001b[1mwandb\u001b[0m: \tn_estimators: 12\n"
     ]
    },
    {
     "data": {
      "text/html": [
       "Changes to your `wandb` environment variables will be ignored because your `wandb` session has already started. For more information on how to modify your settings with `wandb.init()` arguments, please refer to <a href='https://wandb.me/wandb-init' target=\"_blank\">the W&B docs</a>."
      ],
      "text/plain": [
       "<IPython.core.display.HTML object>"
      ]
     },
     "metadata": {},
     "output_type": "display_data"
    },
    {
     "data": {
      "text/html": [
       "Ignoring project 'truck-delay-classification' when running a sweep."
      ],
      "text/plain": [
       "<IPython.core.display.HTML object>"
      ]
     },
     "metadata": {},
     "output_type": "display_data"
    },
    {
     "data": {
      "text/html": [
       "creating run (0.0s)"
      ],
      "text/plain": [
       "<IPython.core.display.HTML object>"
      ]
     },
     "metadata": {},
     "output_type": "display_data"
    },
    {
     "data": {
      "text/html": [
       "Tracking run with wandb version 0.21.2"
      ],
      "text/plain": [
       "<IPython.core.display.HTML object>"
      ]
     },
     "metadata": {},
     "output_type": "display_data"
    },
    {
     "data": {
      "text/html": [
       "Run data is saved locally in <code>/home/thnhan301/Documents/PROJECT/GIT/truck-delay-prediction/wandb/run-20250830_123223-waggi29b</code>"
      ],
      "text/plain": [
       "<IPython.core.display.HTML object>"
      ]
     },
     "metadata": {},
     "output_type": "display_data"
    },
    {
     "data": {
      "text/html": [
       "Syncing run <strong><a href='https://wandb.ai/nhanthien-sv-hcmute/truck-delay-classification/runs/waggi29b' target=\"_blank\">distinctive-sweep-2</a></strong> to <a href='https://wandb.ai/nhanthien-sv-hcmute/truck-delay-classification' target=\"_blank\">Weights & Biases</a> (<a href='https://wandb.me/developer-guide' target=\"_blank\">docs</a>)<br>Sweep page: <a href='https://wandb.ai/nhanthien-sv-hcmute/truck-delay-classification/sweeps/ze0902xf' target=\"_blank\">https://wandb.ai/nhanthien-sv-hcmute/truck-delay-classification/sweeps/ze0902xf</a>"
      ],
      "text/plain": [
       "<IPython.core.display.HTML object>"
      ]
     },
     "metadata": {},
     "output_type": "display_data"
    },
    {
     "data": {
      "text/html": [
       " View project at <a href='https://wandb.ai/nhanthien-sv-hcmute/truck-delay-classification' target=\"_blank\">https://wandb.ai/nhanthien-sv-hcmute/truck-delay-classification</a>"
      ],
      "text/plain": [
       "<IPython.core.display.HTML object>"
      ]
     },
     "metadata": {},
     "output_type": "display_data"
    },
    {
     "data": {
      "text/html": [
       " View sweep at <a href='https://wandb.ai/nhanthien-sv-hcmute/truck-delay-classification/sweeps/ze0902xf' target=\"_blank\">https://wandb.ai/nhanthien-sv-hcmute/truck-delay-classification/sweeps/ze0902xf</a>"
      ],
      "text/plain": [
       "<IPython.core.display.HTML object>"
      ]
     },
     "metadata": {},
     "output_type": "display_data"
    },
    {
     "data": {
      "text/html": [
       " View run at <a href='https://wandb.ai/nhanthien-sv-hcmute/truck-delay-classification/runs/waggi29b' target=\"_blank\">https://wandb.ai/nhanthien-sv-hcmute/truck-delay-classification/runs/waggi29b</a>"
      ],
      "text/plain": [
       "<IPython.core.display.HTML object>"
      ]
     },
     "metadata": {},
     "output_type": "display_data"
    },
    {
     "name": "stderr",
     "output_type": "stream",
     "text": [
      "\u001b[34m\u001b[1mwandb\u001b[0m: \n",
      "\u001b[34m\u001b[1mwandb\u001b[0m: Plotting RandomForestClassifier.\n"
     ]
    },
    {
     "name": "stdout",
     "output_type": "stream",
     "text": [
      "F1_score Train: 0.9767\n",
      "F1_score Valid: 0.4904\n",
      "F1_score Test: 0.6033\n"
     ]
    },
    {
     "name": "stderr",
     "output_type": "stream",
     "text": [
      "\u001b[34m\u001b[1mwandb\u001b[0m: Logged feature importances.\n",
      "\u001b[34m\u001b[1mwandb\u001b[0m: Logged confusion matrix.\n",
      "\u001b[34m\u001b[1mwandb\u001b[0m: Logged summary metrics.\n",
      "\u001b[34m\u001b[1mwandb\u001b[0m: Logged class proportions.\n",
      "\u001b[34m\u001b[1mwandb\u001b[0m: Logged calibration curve.\n",
      "\u001b[34m\u001b[1mwandb\u001b[0m: Logged roc curve.\n",
      "\u001b[34m\u001b[1mwandb\u001b[0m: Logged precision-recall curve.\n"
     ]
    },
    {
     "data": {
      "text/html": [],
      "text/plain": [
       "<IPython.core.display.HTML object>"
      ]
     },
     "metadata": {},
     "output_type": "display_data"
    },
    {
     "data": {
      "text/html": [
       "<br>    <style><br>        .wandb-row {<br>            display: flex;<br>            flex-direction: row;<br>            flex-wrap: wrap;<br>            justify-content: flex-start;<br>            width: 100%;<br>        }<br>        .wandb-col {<br>            display: flex;<br>            flex-direction: column;<br>            flex-basis: 100%;<br>            flex: 1;<br>            padding: 10px;<br>        }<br>    </style><br><div class=\"wandb-row\"><div class=\"wandb-col\"><h3>Run history:</h3><br/><table class=\"wandb\"><tr><td>f1_score</td><td>▁</td></tr><tr><td>f1_score_train</td><td>▁</td></tr><tr><td>f1_score_valid</td><td>▁</td></tr></table><br/></div><div class=\"wandb-col\"><h3>Run summary:</h3><br/><table class=\"wandb\"><tr><td>f1_score</td><td>0.60325</td></tr><tr><td>f1_score_train</td><td>0.97667</td></tr><tr><td>f1_score_valid</td><td>0.49038</td></tr></table><br/></div></div>"
      ],
      "text/plain": [
       "<IPython.core.display.HTML object>"
      ]
     },
     "metadata": {},
     "output_type": "display_data"
    },
    {
     "data": {
      "text/html": [
       " View run <strong style=\"color:#cdcd00\">distinctive-sweep-2</strong> at: <a href='https://wandb.ai/nhanthien-sv-hcmute/truck-delay-classification/runs/waggi29b' target=\"_blank\">https://wandb.ai/nhanthien-sv-hcmute/truck-delay-classification/runs/waggi29b</a><br> View project at: <a href='https://wandb.ai/nhanthien-sv-hcmute/truck-delay-classification' target=\"_blank\">https://wandb.ai/nhanthien-sv-hcmute/truck-delay-classification</a><br>Synced 5 W&B file(s), 7 media file(s), 16 artifact file(s) and 0 other file(s)"
      ],
      "text/plain": [
       "<IPython.core.display.HTML object>"
      ]
     },
     "metadata": {},
     "output_type": "display_data"
    },
    {
     "data": {
      "text/html": [
       "Find logs at: <code>./wandb/run-20250830_123223-waggi29b/logs</code>"
      ],
      "text/plain": [
       "<IPython.core.display.HTML object>"
      ]
     },
     "metadata": {},
     "output_type": "display_data"
    },
    {
     "name": "stderr",
     "output_type": "stream",
     "text": [
      "\u001b[34m\u001b[1mwandb\u001b[0m: Agent Starting Run: rccpixyf with config:\n",
      "\u001b[34m\u001b[1mwandb\u001b[0m: \tmax_depth: None\n",
      "\u001b[34m\u001b[1mwandb\u001b[0m: \tmin_samples_split: 2\n",
      "\u001b[34m\u001b[1mwandb\u001b[0m: \tn_estimators: 16\n"
     ]
    },
    {
     "data": {
      "text/html": [
       "Changes to your `wandb` environment variables will be ignored because your `wandb` session has already started. For more information on how to modify your settings with `wandb.init()` arguments, please refer to <a href='https://wandb.me/wandb-init' target=\"_blank\">the W&B docs</a>."
      ],
      "text/plain": [
       "<IPython.core.display.HTML object>"
      ]
     },
     "metadata": {},
     "output_type": "display_data"
    },
    {
     "data": {
      "text/html": [
       "Ignoring project 'truck-delay-classification' when running a sweep."
      ],
      "text/plain": [
       "<IPython.core.display.HTML object>"
      ]
     },
     "metadata": {},
     "output_type": "display_data"
    },
    {
     "data": {
      "text/html": [
       "creating run (0.0s)"
      ],
      "text/plain": [
       "<IPython.core.display.HTML object>"
      ]
     },
     "metadata": {},
     "output_type": "display_data"
    },
    {
     "data": {
      "text/html": [
       "Tracking run with wandb version 0.21.2"
      ],
      "text/plain": [
       "<IPython.core.display.HTML object>"
      ]
     },
     "metadata": {},
     "output_type": "display_data"
    },
    {
     "data": {
      "text/html": [
       "Run data is saved locally in <code>/home/thnhan301/Documents/PROJECT/GIT/truck-delay-prediction/wandb/run-20250830_123244-rccpixyf</code>"
      ],
      "text/plain": [
       "<IPython.core.display.HTML object>"
      ]
     },
     "metadata": {},
     "output_type": "display_data"
    },
    {
     "data": {
      "text/html": [
       "Syncing run <strong><a href='https://wandb.ai/nhanthien-sv-hcmute/truck-delay-classification/runs/rccpixyf' target=\"_blank\">stellar-sweep-3</a></strong> to <a href='https://wandb.ai/nhanthien-sv-hcmute/truck-delay-classification' target=\"_blank\">Weights & Biases</a> (<a href='https://wandb.me/developer-guide' target=\"_blank\">docs</a>)<br>Sweep page: <a href='https://wandb.ai/nhanthien-sv-hcmute/truck-delay-classification/sweeps/ze0902xf' target=\"_blank\">https://wandb.ai/nhanthien-sv-hcmute/truck-delay-classification/sweeps/ze0902xf</a>"
      ],
      "text/plain": [
       "<IPython.core.display.HTML object>"
      ]
     },
     "metadata": {},
     "output_type": "display_data"
    },
    {
     "data": {
      "text/html": [
       " View project at <a href='https://wandb.ai/nhanthien-sv-hcmute/truck-delay-classification' target=\"_blank\">https://wandb.ai/nhanthien-sv-hcmute/truck-delay-classification</a>"
      ],
      "text/plain": [
       "<IPython.core.display.HTML object>"
      ]
     },
     "metadata": {},
     "output_type": "display_data"
    },
    {
     "data": {
      "text/html": [
       " View sweep at <a href='https://wandb.ai/nhanthien-sv-hcmute/truck-delay-classification/sweeps/ze0902xf' target=\"_blank\">https://wandb.ai/nhanthien-sv-hcmute/truck-delay-classification/sweeps/ze0902xf</a>"
      ],
      "text/plain": [
       "<IPython.core.display.HTML object>"
      ]
     },
     "metadata": {},
     "output_type": "display_data"
    },
    {
     "data": {
      "text/html": [
       " View run at <a href='https://wandb.ai/nhanthien-sv-hcmute/truck-delay-classification/runs/rccpixyf' target=\"_blank\">https://wandb.ai/nhanthien-sv-hcmute/truck-delay-classification/runs/rccpixyf</a>"
      ],
      "text/plain": [
       "<IPython.core.display.HTML object>"
      ]
     },
     "metadata": {},
     "output_type": "display_data"
    },
    {
     "name": "stderr",
     "output_type": "stream",
     "text": [
      "\u001b[34m\u001b[1mwandb\u001b[0m: \n",
      "\u001b[34m\u001b[1mwandb\u001b[0m: Plotting RandomForestClassifier.\n"
     ]
    },
    {
     "name": "stdout",
     "output_type": "stream",
     "text": [
      "F1_score Train: 0.9866\n",
      "F1_score Valid: 0.5122\n",
      "F1_score Test: 0.6187\n"
     ]
    },
    {
     "name": "stderr",
     "output_type": "stream",
     "text": [
      "\u001b[34m\u001b[1mwandb\u001b[0m: Logged feature importances.\n",
      "\u001b[34m\u001b[1mwandb\u001b[0m: Logged confusion matrix.\n",
      "\u001b[34m\u001b[1mwandb\u001b[0m: Logged summary metrics.\n",
      "\u001b[34m\u001b[1mwandb\u001b[0m: Logged class proportions.\n",
      "\u001b[34m\u001b[1mwandb\u001b[0m: Logged calibration curve.\n",
      "\u001b[34m\u001b[1mwandb\u001b[0m: Logged roc curve.\n",
      "\u001b[34m\u001b[1mwandb\u001b[0m: Logged precision-recall curve.\n"
     ]
    },
    {
     "data": {
      "text/html": [],
      "text/plain": [
       "<IPython.core.display.HTML object>"
      ]
     },
     "metadata": {},
     "output_type": "display_data"
    },
    {
     "data": {
      "text/html": [
       "<br>    <style><br>        .wandb-row {<br>            display: flex;<br>            flex-direction: row;<br>            flex-wrap: wrap;<br>            justify-content: flex-start;<br>            width: 100%;<br>        }<br>        .wandb-col {<br>            display: flex;<br>            flex-direction: column;<br>            flex-basis: 100%;<br>            flex: 1;<br>            padding: 10px;<br>        }<br>    </style><br><div class=\"wandb-row\"><div class=\"wandb-col\"><h3>Run history:</h3><br/><table class=\"wandb\"><tr><td>f1_score</td><td>▁</td></tr><tr><td>f1_score_train</td><td>▁</td></tr><tr><td>f1_score_valid</td><td>▁</td></tr></table><br/></div><div class=\"wandb-col\"><h3>Run summary:</h3><br/><table class=\"wandb\"><tr><td>f1_score</td><td>0.61874</td></tr><tr><td>f1_score_train</td><td>0.98662</td></tr><tr><td>f1_score_valid</td><td>0.51216</td></tr></table><br/></div></div>"
      ],
      "text/plain": [
       "<IPython.core.display.HTML object>"
      ]
     },
     "metadata": {},
     "output_type": "display_data"
    },
    {
     "data": {
      "text/html": [
       " View run <strong style=\"color:#cdcd00\">stellar-sweep-3</strong> at: <a href='https://wandb.ai/nhanthien-sv-hcmute/truck-delay-classification/runs/rccpixyf' target=\"_blank\">https://wandb.ai/nhanthien-sv-hcmute/truck-delay-classification/runs/rccpixyf</a><br> View project at: <a href='https://wandb.ai/nhanthien-sv-hcmute/truck-delay-classification' target=\"_blank\">https://wandb.ai/nhanthien-sv-hcmute/truck-delay-classification</a><br>Synced 5 W&B file(s), 7 media file(s), 16 artifact file(s) and 0 other file(s)"
      ],
      "text/plain": [
       "<IPython.core.display.HTML object>"
      ]
     },
     "metadata": {},
     "output_type": "display_data"
    },
    {
     "data": {
      "text/html": [
       "Find logs at: <code>./wandb/run-20250830_123244-rccpixyf/logs</code>"
      ],
      "text/plain": [
       "<IPython.core.display.HTML object>"
      ]
     },
     "metadata": {},
     "output_type": "display_data"
    },
    {
     "name": "stderr",
     "output_type": "stream",
     "text": [
      "\u001b[34m\u001b[1mwandb\u001b[0m: Agent Starting Run: v14t9e2y with config:\n",
      "\u001b[34m\u001b[1mwandb\u001b[0m: \tmax_depth: None\n",
      "\u001b[34m\u001b[1mwandb\u001b[0m: \tmin_samples_split: 2\n",
      "\u001b[34m\u001b[1mwandb\u001b[0m: \tn_estimators: 20\n"
     ]
    },
    {
     "data": {
      "text/html": [
       "Changes to your `wandb` environment variables will be ignored because your `wandb` session has already started. For more information on how to modify your settings with `wandb.init()` arguments, please refer to <a href='https://wandb.me/wandb-init' target=\"_blank\">the W&B docs</a>."
      ],
      "text/plain": [
       "<IPython.core.display.HTML object>"
      ]
     },
     "metadata": {},
     "output_type": "display_data"
    },
    {
     "data": {
      "text/html": [
       "Ignoring project 'truck-delay-classification' when running a sweep."
      ],
      "text/plain": [
       "<IPython.core.display.HTML object>"
      ]
     },
     "metadata": {},
     "output_type": "display_data"
    },
    {
     "data": {
      "text/html": [
       "creating run (0.0s)"
      ],
      "text/plain": [
       "<IPython.core.display.HTML object>"
      ]
     },
     "metadata": {},
     "output_type": "display_data"
    },
    {
     "data": {
      "text/html": [
       "Tracking run with wandb version 0.21.2"
      ],
      "text/plain": [
       "<IPython.core.display.HTML object>"
      ]
     },
     "metadata": {},
     "output_type": "display_data"
    },
    {
     "data": {
      "text/html": [
       "Run data is saved locally in <code>/home/thnhan301/Documents/PROJECT/GIT/truck-delay-prediction/wandb/run-20250830_123305-v14t9e2y</code>"
      ],
      "text/plain": [
       "<IPython.core.display.HTML object>"
      ]
     },
     "metadata": {},
     "output_type": "display_data"
    },
    {
     "data": {
      "text/html": [
       "Syncing run <strong><a href='https://wandb.ai/nhanthien-sv-hcmute/truck-delay-classification/runs/v14t9e2y' target=\"_blank\">expert-sweep-4</a></strong> to <a href='https://wandb.ai/nhanthien-sv-hcmute/truck-delay-classification' target=\"_blank\">Weights & Biases</a> (<a href='https://wandb.me/developer-guide' target=\"_blank\">docs</a>)<br>Sweep page: <a href='https://wandb.ai/nhanthien-sv-hcmute/truck-delay-classification/sweeps/ze0902xf' target=\"_blank\">https://wandb.ai/nhanthien-sv-hcmute/truck-delay-classification/sweeps/ze0902xf</a>"
      ],
      "text/plain": [
       "<IPython.core.display.HTML object>"
      ]
     },
     "metadata": {},
     "output_type": "display_data"
    },
    {
     "data": {
      "text/html": [
       " View project at <a href='https://wandb.ai/nhanthien-sv-hcmute/truck-delay-classification' target=\"_blank\">https://wandb.ai/nhanthien-sv-hcmute/truck-delay-classification</a>"
      ],
      "text/plain": [
       "<IPython.core.display.HTML object>"
      ]
     },
     "metadata": {},
     "output_type": "display_data"
    },
    {
     "data": {
      "text/html": [
       " View sweep at <a href='https://wandb.ai/nhanthien-sv-hcmute/truck-delay-classification/sweeps/ze0902xf' target=\"_blank\">https://wandb.ai/nhanthien-sv-hcmute/truck-delay-classification/sweeps/ze0902xf</a>"
      ],
      "text/plain": [
       "<IPython.core.display.HTML object>"
      ]
     },
     "metadata": {},
     "output_type": "display_data"
    },
    {
     "data": {
      "text/html": [
       " View run at <a href='https://wandb.ai/nhanthien-sv-hcmute/truck-delay-classification/runs/v14t9e2y' target=\"_blank\">https://wandb.ai/nhanthien-sv-hcmute/truck-delay-classification/runs/v14t9e2y</a>"
      ],
      "text/plain": [
       "<IPython.core.display.HTML object>"
      ]
     },
     "metadata": {},
     "output_type": "display_data"
    },
    {
     "name": "stderr",
     "output_type": "stream",
     "text": [
      "\u001b[34m\u001b[1mwandb\u001b[0m: \n",
      "\u001b[34m\u001b[1mwandb\u001b[0m: Plotting RandomForestClassifier.\n"
     ]
    },
    {
     "name": "stdout",
     "output_type": "stream",
     "text": [
      "F1_score Train: 0.9922\n",
      "F1_score Valid: 0.5149\n",
      "F1_score Test: 0.6227\n"
     ]
    },
    {
     "name": "stderr",
     "output_type": "stream",
     "text": [
      "\u001b[34m\u001b[1mwandb\u001b[0m: Logged feature importances.\n",
      "\u001b[34m\u001b[1mwandb\u001b[0m: Logged confusion matrix.\n",
      "\u001b[34m\u001b[1mwandb\u001b[0m: Logged summary metrics.\n",
      "\u001b[34m\u001b[1mwandb\u001b[0m: Logged class proportions.\n",
      "\u001b[34m\u001b[1mwandb\u001b[0m: Logged calibration curve.\n",
      "\u001b[34m\u001b[1mwandb\u001b[0m: Logged roc curve.\n",
      "\u001b[34m\u001b[1mwandb\u001b[0m: Logged precision-recall curve.\n"
     ]
    },
    {
     "data": {
      "text/html": [],
      "text/plain": [
       "<IPython.core.display.HTML object>"
      ]
     },
     "metadata": {},
     "output_type": "display_data"
    },
    {
     "data": {
      "text/html": [
       "<br>    <style><br>        .wandb-row {<br>            display: flex;<br>            flex-direction: row;<br>            flex-wrap: wrap;<br>            justify-content: flex-start;<br>            width: 100%;<br>        }<br>        .wandb-col {<br>            display: flex;<br>            flex-direction: column;<br>            flex-basis: 100%;<br>            flex: 1;<br>            padding: 10px;<br>        }<br>    </style><br><div class=\"wandb-row\"><div class=\"wandb-col\"><h3>Run history:</h3><br/><table class=\"wandb\"><tr><td>f1_score</td><td>▁</td></tr><tr><td>f1_score_train</td><td>▁</td></tr><tr><td>f1_score_valid</td><td>▁</td></tr></table><br/></div><div class=\"wandb-col\"><h3>Run summary:</h3><br/><table class=\"wandb\"><tr><td>f1_score</td><td>0.62269</td></tr><tr><td>f1_score_train</td><td>0.99221</td></tr><tr><td>f1_score_valid</td><td>0.51488</td></tr></table><br/></div></div>"
      ],
      "text/plain": [
       "<IPython.core.display.HTML object>"
      ]
     },
     "metadata": {},
     "output_type": "display_data"
    },
    {
     "data": {
      "text/html": [
       " View run <strong style=\"color:#cdcd00\">expert-sweep-4</strong> at: <a href='https://wandb.ai/nhanthien-sv-hcmute/truck-delay-classification/runs/v14t9e2y' target=\"_blank\">https://wandb.ai/nhanthien-sv-hcmute/truck-delay-classification/runs/v14t9e2y</a><br> View project at: <a href='https://wandb.ai/nhanthien-sv-hcmute/truck-delay-classification' target=\"_blank\">https://wandb.ai/nhanthien-sv-hcmute/truck-delay-classification</a><br>Synced 5 W&B file(s), 7 media file(s), 16 artifact file(s) and 0 other file(s)"
      ],
      "text/plain": [
       "<IPython.core.display.HTML object>"
      ]
     },
     "metadata": {},
     "output_type": "display_data"
    },
    {
     "data": {
      "text/html": [
       "Find logs at: <code>./wandb/run-20250830_123305-v14t9e2y/logs</code>"
      ],
      "text/plain": [
       "<IPython.core.display.HTML object>"
      ]
     },
     "metadata": {},
     "output_type": "display_data"
    },
    {
     "name": "stderr",
     "output_type": "stream",
     "text": [
      "\u001b[34m\u001b[1mwandb\u001b[0m: Agent Starting Run: wxqnowq0 with config:\n",
      "\u001b[34m\u001b[1mwandb\u001b[0m: \tmax_depth: None\n",
      "\u001b[34m\u001b[1mwandb\u001b[0m: \tmin_samples_split: 4\n",
      "\u001b[34m\u001b[1mwandb\u001b[0m: \tn_estimators: 8\n"
     ]
    },
    {
     "data": {
      "text/html": [
       "Changes to your `wandb` environment variables will be ignored because your `wandb` session has already started. For more information on how to modify your settings with `wandb.init()` arguments, please refer to <a href='https://wandb.me/wandb-init' target=\"_blank\">the W&B docs</a>."
      ],
      "text/plain": [
       "<IPython.core.display.HTML object>"
      ]
     },
     "metadata": {},
     "output_type": "display_data"
    },
    {
     "data": {
      "text/html": [
       "Ignoring project 'truck-delay-classification' when running a sweep."
      ],
      "text/plain": [
       "<IPython.core.display.HTML object>"
      ]
     },
     "metadata": {},
     "output_type": "display_data"
    },
    {
     "data": {
      "text/html": [
       "creating run (0.0s)"
      ],
      "text/plain": [
       "<IPython.core.display.HTML object>"
      ]
     },
     "metadata": {},
     "output_type": "display_data"
    },
    {
     "data": {
      "text/html": [
       "Tracking run with wandb version 0.21.2"
      ],
      "text/plain": [
       "<IPython.core.display.HTML object>"
      ]
     },
     "metadata": {},
     "output_type": "display_data"
    },
    {
     "data": {
      "text/html": [
       "Run data is saved locally in <code>/home/thnhan301/Documents/PROJECT/GIT/truck-delay-prediction/wandb/run-20250830_123326-wxqnowq0</code>"
      ],
      "text/plain": [
       "<IPython.core.display.HTML object>"
      ]
     },
     "metadata": {},
     "output_type": "display_data"
    },
    {
     "data": {
      "text/html": [
       "Syncing run <strong><a href='https://wandb.ai/nhanthien-sv-hcmute/truck-delay-classification/runs/wxqnowq0' target=\"_blank\">snowy-sweep-5</a></strong> to <a href='https://wandb.ai/nhanthien-sv-hcmute/truck-delay-classification' target=\"_blank\">Weights & Biases</a> (<a href='https://wandb.me/developer-guide' target=\"_blank\">docs</a>)<br>Sweep page: <a href='https://wandb.ai/nhanthien-sv-hcmute/truck-delay-classification/sweeps/ze0902xf' target=\"_blank\">https://wandb.ai/nhanthien-sv-hcmute/truck-delay-classification/sweeps/ze0902xf</a>"
      ],
      "text/plain": [
       "<IPython.core.display.HTML object>"
      ]
     },
     "metadata": {},
     "output_type": "display_data"
    },
    {
     "data": {
      "text/html": [
       " View project at <a href='https://wandb.ai/nhanthien-sv-hcmute/truck-delay-classification' target=\"_blank\">https://wandb.ai/nhanthien-sv-hcmute/truck-delay-classification</a>"
      ],
      "text/plain": [
       "<IPython.core.display.HTML object>"
      ]
     },
     "metadata": {},
     "output_type": "display_data"
    },
    {
     "data": {
      "text/html": [
       " View sweep at <a href='https://wandb.ai/nhanthien-sv-hcmute/truck-delay-classification/sweeps/ze0902xf' target=\"_blank\">https://wandb.ai/nhanthien-sv-hcmute/truck-delay-classification/sweeps/ze0902xf</a>"
      ],
      "text/plain": [
       "<IPython.core.display.HTML object>"
      ]
     },
     "metadata": {},
     "output_type": "display_data"
    },
    {
     "data": {
      "text/html": [
       " View run at <a href='https://wandb.ai/nhanthien-sv-hcmute/truck-delay-classification/runs/wxqnowq0' target=\"_blank\">https://wandb.ai/nhanthien-sv-hcmute/truck-delay-classification/runs/wxqnowq0</a>"
      ],
      "text/plain": [
       "<IPython.core.display.HTML object>"
      ]
     },
     "metadata": {},
     "output_type": "display_data"
    },
    {
     "name": "stderr",
     "output_type": "stream",
     "text": [
      "\u001b[34m\u001b[1mwandb\u001b[0m: \n",
      "\u001b[34m\u001b[1mwandb\u001b[0m: Plotting RandomForestClassifier.\n"
     ]
    },
    {
     "name": "stdout",
     "output_type": "stream",
     "text": [
      "F1_score Train: 0.9558\n",
      "F1_score Valid: 0.5197\n",
      "F1_score Test: 0.6414\n"
     ]
    },
    {
     "name": "stderr",
     "output_type": "stream",
     "text": [
      "\u001b[34m\u001b[1mwandb\u001b[0m: Logged feature importances.\n",
      "\u001b[34m\u001b[1mwandb\u001b[0m: Logged confusion matrix.\n",
      "\u001b[34m\u001b[1mwandb\u001b[0m: Logged summary metrics.\n",
      "\u001b[34m\u001b[1mwandb\u001b[0m: Logged class proportions.\n",
      "\u001b[34m\u001b[1mwandb\u001b[0m: Logged calibration curve.\n",
      "\u001b[34m\u001b[1mwandb\u001b[0m: Logged roc curve.\n",
      "\u001b[34m\u001b[1mwandb\u001b[0m: Logged precision-recall curve.\n"
     ]
    },
    {
     "data": {
      "text/html": [],
      "text/plain": [
       "<IPython.core.display.HTML object>"
      ]
     },
     "metadata": {},
     "output_type": "display_data"
    },
    {
     "data": {
      "text/html": [
       "<br>    <style><br>        .wandb-row {<br>            display: flex;<br>            flex-direction: row;<br>            flex-wrap: wrap;<br>            justify-content: flex-start;<br>            width: 100%;<br>        }<br>        .wandb-col {<br>            display: flex;<br>            flex-direction: column;<br>            flex-basis: 100%;<br>            flex: 1;<br>            padding: 10px;<br>        }<br>    </style><br><div class=\"wandb-row\"><div class=\"wandb-col\"><h3>Run history:</h3><br/><table class=\"wandb\"><tr><td>f1_score</td><td>▁</td></tr><tr><td>f1_score_train</td><td>▁</td></tr><tr><td>f1_score_valid</td><td>▁</td></tr></table><br/></div><div class=\"wandb-col\"><h3>Run summary:</h3><br/><table class=\"wandb\"><tr><td>f1_score</td><td>0.64137</td></tr><tr><td>f1_score_train</td><td>0.95585</td></tr><tr><td>f1_score_valid</td><td>0.51967</td></tr></table><br/></div></div>"
      ],
      "text/plain": [
       "<IPython.core.display.HTML object>"
      ]
     },
     "metadata": {},
     "output_type": "display_data"
    },
    {
     "data": {
      "text/html": [
       " View run <strong style=\"color:#cdcd00\">snowy-sweep-5</strong> at: <a href='https://wandb.ai/nhanthien-sv-hcmute/truck-delay-classification/runs/wxqnowq0' target=\"_blank\">https://wandb.ai/nhanthien-sv-hcmute/truck-delay-classification/runs/wxqnowq0</a><br> View project at: <a href='https://wandb.ai/nhanthien-sv-hcmute/truck-delay-classification' target=\"_blank\">https://wandb.ai/nhanthien-sv-hcmute/truck-delay-classification</a><br>Synced 5 W&B file(s), 7 media file(s), 16 artifact file(s) and 0 other file(s)"
      ],
      "text/plain": [
       "<IPython.core.display.HTML object>"
      ]
     },
     "metadata": {},
     "output_type": "display_data"
    },
    {
     "data": {
      "text/html": [
       "Find logs at: <code>./wandb/run-20250830_123326-wxqnowq0/logs</code>"
      ],
      "text/plain": [
       "<IPython.core.display.HTML object>"
      ]
     },
     "metadata": {},
     "output_type": "display_data"
    },
    {
     "name": "stderr",
     "output_type": "stream",
     "text": [
      "\u001b[34m\u001b[1mwandb\u001b[0m: Agent Starting Run: 4d9vs9ds with config:\n",
      "\u001b[34m\u001b[1mwandb\u001b[0m: \tmax_depth: None\n",
      "\u001b[34m\u001b[1mwandb\u001b[0m: \tmin_samples_split: 4\n",
      "\u001b[34m\u001b[1mwandb\u001b[0m: \tn_estimators: 12\n"
     ]
    },
    {
     "data": {
      "text/html": [
       "Changes to your `wandb` environment variables will be ignored because your `wandb` session has already started. For more information on how to modify your settings with `wandb.init()` arguments, please refer to <a href='https://wandb.me/wandb-init' target=\"_blank\">the W&B docs</a>."
      ],
      "text/plain": [
       "<IPython.core.display.HTML object>"
      ]
     },
     "metadata": {},
     "output_type": "display_data"
    },
    {
     "data": {
      "text/html": [
       "Ignoring project 'truck-delay-classification' when running a sweep."
      ],
      "text/plain": [
       "<IPython.core.display.HTML object>"
      ]
     },
     "metadata": {},
     "output_type": "display_data"
    },
    {
     "data": {
      "text/html": [
       "creating run (0.0s)"
      ],
      "text/plain": [
       "<IPython.core.display.HTML object>"
      ]
     },
     "metadata": {},
     "output_type": "display_data"
    },
    {
     "data": {
      "text/html": [
       "Tracking run with wandb version 0.21.2"
      ],
      "text/plain": [
       "<IPython.core.display.HTML object>"
      ]
     },
     "metadata": {},
     "output_type": "display_data"
    },
    {
     "data": {
      "text/html": [
       "Run data is saved locally in <code>/home/thnhan301/Documents/PROJECT/GIT/truck-delay-prediction/wandb/run-20250830_123348-4d9vs9ds</code>"
      ],
      "text/plain": [
       "<IPython.core.display.HTML object>"
      ]
     },
     "metadata": {},
     "output_type": "display_data"
    },
    {
     "data": {
      "text/html": [
       "Syncing run <strong><a href='https://wandb.ai/nhanthien-sv-hcmute/truck-delay-classification/runs/4d9vs9ds' target=\"_blank\">sweepy-sweep-6</a></strong> to <a href='https://wandb.ai/nhanthien-sv-hcmute/truck-delay-classification' target=\"_blank\">Weights & Biases</a> (<a href='https://wandb.me/developer-guide' target=\"_blank\">docs</a>)<br>Sweep page: <a href='https://wandb.ai/nhanthien-sv-hcmute/truck-delay-classification/sweeps/ze0902xf' target=\"_blank\">https://wandb.ai/nhanthien-sv-hcmute/truck-delay-classification/sweeps/ze0902xf</a>"
      ],
      "text/plain": [
       "<IPython.core.display.HTML object>"
      ]
     },
     "metadata": {},
     "output_type": "display_data"
    },
    {
     "data": {
      "text/html": [
       " View project at <a href='https://wandb.ai/nhanthien-sv-hcmute/truck-delay-classification' target=\"_blank\">https://wandb.ai/nhanthien-sv-hcmute/truck-delay-classification</a>"
      ],
      "text/plain": [
       "<IPython.core.display.HTML object>"
      ]
     },
     "metadata": {},
     "output_type": "display_data"
    },
    {
     "data": {
      "text/html": [
       " View sweep at <a href='https://wandb.ai/nhanthien-sv-hcmute/truck-delay-classification/sweeps/ze0902xf' target=\"_blank\">https://wandb.ai/nhanthien-sv-hcmute/truck-delay-classification/sweeps/ze0902xf</a>"
      ],
      "text/plain": [
       "<IPython.core.display.HTML object>"
      ]
     },
     "metadata": {},
     "output_type": "display_data"
    },
    {
     "data": {
      "text/html": [
       " View run at <a href='https://wandb.ai/nhanthien-sv-hcmute/truck-delay-classification/runs/4d9vs9ds' target=\"_blank\">https://wandb.ai/nhanthien-sv-hcmute/truck-delay-classification/runs/4d9vs9ds</a>"
      ],
      "text/plain": [
       "<IPython.core.display.HTML object>"
      ]
     },
     "metadata": {},
     "output_type": "display_data"
    },
    {
     "name": "stderr",
     "output_type": "stream",
     "text": [
      "\u001b[34m\u001b[1mwandb\u001b[0m: \n",
      "\u001b[34m\u001b[1mwandb\u001b[0m: Plotting RandomForestClassifier.\n"
     ]
    },
    {
     "name": "stdout",
     "output_type": "stream",
     "text": [
      "F1_score Train: 0.9728\n",
      "F1_score Valid: 0.5554\n",
      "F1_score Test: 0.6607\n"
     ]
    },
    {
     "name": "stderr",
     "output_type": "stream",
     "text": [
      "\u001b[34m\u001b[1mwandb\u001b[0m: Logged feature importances.\n",
      "\u001b[34m\u001b[1mwandb\u001b[0m: Logged confusion matrix.\n",
      "\u001b[34m\u001b[1mwandb\u001b[0m: Logged summary metrics.\n",
      "\u001b[34m\u001b[1mwandb\u001b[0m: Logged class proportions.\n",
      "\u001b[34m\u001b[1mwandb\u001b[0m: Logged calibration curve.\n",
      "\u001b[34m\u001b[1mwandb\u001b[0m: Logged roc curve.\n",
      "\u001b[34m\u001b[1mwandb\u001b[0m: Logged precision-recall curve.\n"
     ]
    },
    {
     "data": {
      "text/html": [],
      "text/plain": [
       "<IPython.core.display.HTML object>"
      ]
     },
     "metadata": {},
     "output_type": "display_data"
    },
    {
     "data": {
      "text/html": [
       "<br>    <style><br>        .wandb-row {<br>            display: flex;<br>            flex-direction: row;<br>            flex-wrap: wrap;<br>            justify-content: flex-start;<br>            width: 100%;<br>        }<br>        .wandb-col {<br>            display: flex;<br>            flex-direction: column;<br>            flex-basis: 100%;<br>            flex: 1;<br>            padding: 10px;<br>        }<br>    </style><br><div class=\"wandb-row\"><div class=\"wandb-col\"><h3>Run history:</h3><br/><table class=\"wandb\"><tr><td>f1_score</td><td>▁</td></tr><tr><td>f1_score_train</td><td>▁</td></tr><tr><td>f1_score_valid</td><td>▁</td></tr></table><br/></div><div class=\"wandb-col\"><h3>Run summary:</h3><br/><table class=\"wandb\"><tr><td>f1_score</td><td>0.66066</td></tr><tr><td>f1_score_train</td><td>0.97285</td></tr><tr><td>f1_score_valid</td><td>0.55539</td></tr></table><br/></div></div>"
      ],
      "text/plain": [
       "<IPython.core.display.HTML object>"
      ]
     },
     "metadata": {},
     "output_type": "display_data"
    },
    {
     "data": {
      "text/html": [
       " View run <strong style=\"color:#cdcd00\">sweepy-sweep-6</strong> at: <a href='https://wandb.ai/nhanthien-sv-hcmute/truck-delay-classification/runs/4d9vs9ds' target=\"_blank\">https://wandb.ai/nhanthien-sv-hcmute/truck-delay-classification/runs/4d9vs9ds</a><br> View project at: <a href='https://wandb.ai/nhanthien-sv-hcmute/truck-delay-classification' target=\"_blank\">https://wandb.ai/nhanthien-sv-hcmute/truck-delay-classification</a><br>Synced 5 W&B file(s), 7 media file(s), 16 artifact file(s) and 0 other file(s)"
      ],
      "text/plain": [
       "<IPython.core.display.HTML object>"
      ]
     },
     "metadata": {},
     "output_type": "display_data"
    },
    {
     "data": {
      "text/html": [
       "Find logs at: <code>./wandb/run-20250830_123348-4d9vs9ds/logs</code>"
      ],
      "text/plain": [
       "<IPython.core.display.HTML object>"
      ]
     },
     "metadata": {},
     "output_type": "display_data"
    },
    {
     "name": "stderr",
     "output_type": "stream",
     "text": [
      "\u001b[34m\u001b[1mwandb\u001b[0m: Agent Starting Run: l1i4v6mv with config:\n",
      "\u001b[34m\u001b[1mwandb\u001b[0m: \tmax_depth: None\n",
      "\u001b[34m\u001b[1mwandb\u001b[0m: \tmin_samples_split: 4\n",
      "\u001b[34m\u001b[1mwandb\u001b[0m: \tn_estimators: 16\n"
     ]
    },
    {
     "data": {
      "text/html": [
       "Changes to your `wandb` environment variables will be ignored because your `wandb` session has already started. For more information on how to modify your settings with `wandb.init()` arguments, please refer to <a href='https://wandb.me/wandb-init' target=\"_blank\">the W&B docs</a>."
      ],
      "text/plain": [
       "<IPython.core.display.HTML object>"
      ]
     },
     "metadata": {},
     "output_type": "display_data"
    },
    {
     "data": {
      "text/html": [
       "Ignoring project 'truck-delay-classification' when running a sweep."
      ],
      "text/plain": [
       "<IPython.core.display.HTML object>"
      ]
     },
     "metadata": {},
     "output_type": "display_data"
    },
    {
     "data": {
      "text/html": [
       "creating run (0.0s)"
      ],
      "text/plain": [
       "<IPython.core.display.HTML object>"
      ]
     },
     "metadata": {},
     "output_type": "display_data"
    },
    {
     "data": {
      "text/html": [
       "Tracking run with wandb version 0.21.2"
      ],
      "text/plain": [
       "<IPython.core.display.HTML object>"
      ]
     },
     "metadata": {},
     "output_type": "display_data"
    },
    {
     "data": {
      "text/html": [
       "Run data is saved locally in <code>/home/thnhan301/Documents/PROJECT/GIT/truck-delay-prediction/wandb/run-20250830_123409-l1i4v6mv</code>"
      ],
      "text/plain": [
       "<IPython.core.display.HTML object>"
      ]
     },
     "metadata": {},
     "output_type": "display_data"
    },
    {
     "data": {
      "text/html": [
       "Syncing run <strong><a href='https://wandb.ai/nhanthien-sv-hcmute/truck-delay-classification/runs/l1i4v6mv' target=\"_blank\">light-sweep-7</a></strong> to <a href='https://wandb.ai/nhanthien-sv-hcmute/truck-delay-classification' target=\"_blank\">Weights & Biases</a> (<a href='https://wandb.me/developer-guide' target=\"_blank\">docs</a>)<br>Sweep page: <a href='https://wandb.ai/nhanthien-sv-hcmute/truck-delay-classification/sweeps/ze0902xf' target=\"_blank\">https://wandb.ai/nhanthien-sv-hcmute/truck-delay-classification/sweeps/ze0902xf</a>"
      ],
      "text/plain": [
       "<IPython.core.display.HTML object>"
      ]
     },
     "metadata": {},
     "output_type": "display_data"
    },
    {
     "data": {
      "text/html": [
       " View project at <a href='https://wandb.ai/nhanthien-sv-hcmute/truck-delay-classification' target=\"_blank\">https://wandb.ai/nhanthien-sv-hcmute/truck-delay-classification</a>"
      ],
      "text/plain": [
       "<IPython.core.display.HTML object>"
      ]
     },
     "metadata": {},
     "output_type": "display_data"
    },
    {
     "data": {
      "text/html": [
       " View sweep at <a href='https://wandb.ai/nhanthien-sv-hcmute/truck-delay-classification/sweeps/ze0902xf' target=\"_blank\">https://wandb.ai/nhanthien-sv-hcmute/truck-delay-classification/sweeps/ze0902xf</a>"
      ],
      "text/plain": [
       "<IPython.core.display.HTML object>"
      ]
     },
     "metadata": {},
     "output_type": "display_data"
    },
    {
     "data": {
      "text/html": [
       " View run at <a href='https://wandb.ai/nhanthien-sv-hcmute/truck-delay-classification/runs/l1i4v6mv' target=\"_blank\">https://wandb.ai/nhanthien-sv-hcmute/truck-delay-classification/runs/l1i4v6mv</a>"
      ],
      "text/plain": [
       "<IPython.core.display.HTML object>"
      ]
     },
     "metadata": {},
     "output_type": "display_data"
    },
    {
     "name": "stderr",
     "output_type": "stream",
     "text": [
      "\u001b[34m\u001b[1mwandb\u001b[0m: \n",
      "\u001b[34m\u001b[1mwandb\u001b[0m: Plotting RandomForestClassifier.\n"
     ]
    },
    {
     "name": "stdout",
     "output_type": "stream",
     "text": [
      "F1_score Train: 0.984\n",
      "F1_score Valid: 0.5793\n",
      "F1_score Test: 0.6712\n"
     ]
    },
    {
     "name": "stderr",
     "output_type": "stream",
     "text": [
      "\u001b[34m\u001b[1mwandb\u001b[0m: Logged feature importances.\n",
      "\u001b[34m\u001b[1mwandb\u001b[0m: Logged confusion matrix.\n",
      "\u001b[34m\u001b[1mwandb\u001b[0m: Logged summary metrics.\n",
      "\u001b[34m\u001b[1mwandb\u001b[0m: Logged class proportions.\n",
      "\u001b[34m\u001b[1mwandb\u001b[0m: Logged calibration curve.\n",
      "\u001b[34m\u001b[1mwandb\u001b[0m: Logged roc curve.\n",
      "\u001b[34m\u001b[1mwandb\u001b[0m: Logged precision-recall curve.\n"
     ]
    },
    {
     "data": {
      "text/html": [],
      "text/plain": [
       "<IPython.core.display.HTML object>"
      ]
     },
     "metadata": {},
     "output_type": "display_data"
    },
    {
     "data": {
      "text/html": [
       "<br>    <style><br>        .wandb-row {<br>            display: flex;<br>            flex-direction: row;<br>            flex-wrap: wrap;<br>            justify-content: flex-start;<br>            width: 100%;<br>        }<br>        .wandb-col {<br>            display: flex;<br>            flex-direction: column;<br>            flex-basis: 100%;<br>            flex: 1;<br>            padding: 10px;<br>        }<br>    </style><br><div class=\"wandb-row\"><div class=\"wandb-col\"><h3>Run history:</h3><br/><table class=\"wandb\"><tr><td>f1_score</td><td>▁</td></tr><tr><td>f1_score_train</td><td>▁</td></tr><tr><td>f1_score_valid</td><td>▁</td></tr></table><br/></div><div class=\"wandb-col\"><h3>Run summary:</h3><br/><table class=\"wandb\"><tr><td>f1_score</td><td>0.67117</td></tr><tr><td>f1_score_train</td><td>0.98395</td></tr><tr><td>f1_score_valid</td><td>0.57926</td></tr></table><br/></div></div>"
      ],
      "text/plain": [
       "<IPython.core.display.HTML object>"
      ]
     },
     "metadata": {},
     "output_type": "display_data"
    },
    {
     "data": {
      "text/html": [
       " View run <strong style=\"color:#cdcd00\">light-sweep-7</strong> at: <a href='https://wandb.ai/nhanthien-sv-hcmute/truck-delay-classification/runs/l1i4v6mv' target=\"_blank\">https://wandb.ai/nhanthien-sv-hcmute/truck-delay-classification/runs/l1i4v6mv</a><br> View project at: <a href='https://wandb.ai/nhanthien-sv-hcmute/truck-delay-classification' target=\"_blank\">https://wandb.ai/nhanthien-sv-hcmute/truck-delay-classification</a><br>Synced 5 W&B file(s), 7 media file(s), 16 artifact file(s) and 0 other file(s)"
      ],
      "text/plain": [
       "<IPython.core.display.HTML object>"
      ]
     },
     "metadata": {},
     "output_type": "display_data"
    },
    {
     "data": {
      "text/html": [
       "Find logs at: <code>./wandb/run-20250830_123409-l1i4v6mv/logs</code>"
      ],
      "text/plain": [
       "<IPython.core.display.HTML object>"
      ]
     },
     "metadata": {},
     "output_type": "display_data"
    },
    {
     "name": "stderr",
     "output_type": "stream",
     "text": [
      "\u001b[34m\u001b[1mwandb\u001b[0m: Agent Starting Run: a43s85rt with config:\n",
      "\u001b[34m\u001b[1mwandb\u001b[0m: \tmax_depth: None\n",
      "\u001b[34m\u001b[1mwandb\u001b[0m: \tmin_samples_split: 4\n",
      "\u001b[34m\u001b[1mwandb\u001b[0m: \tn_estimators: 20\n"
     ]
    },
    {
     "data": {
      "text/html": [
       "Changes to your `wandb` environment variables will be ignored because your `wandb` session has already started. For more information on how to modify your settings with `wandb.init()` arguments, please refer to <a href='https://wandb.me/wandb-init' target=\"_blank\">the W&B docs</a>."
      ],
      "text/plain": [
       "<IPython.core.display.HTML object>"
      ]
     },
     "metadata": {},
     "output_type": "display_data"
    },
    {
     "data": {
      "text/html": [
       "Ignoring project 'truck-delay-classification' when running a sweep."
      ],
      "text/plain": [
       "<IPython.core.display.HTML object>"
      ]
     },
     "metadata": {},
     "output_type": "display_data"
    },
    {
     "data": {
      "text/html": [
       "creating run (0.0s)"
      ],
      "text/plain": [
       "<IPython.core.display.HTML object>"
      ]
     },
     "metadata": {},
     "output_type": "display_data"
    },
    {
     "data": {
      "text/html": [
       "Tracking run with wandb version 0.21.2"
      ],
      "text/plain": [
       "<IPython.core.display.HTML object>"
      ]
     },
     "metadata": {},
     "output_type": "display_data"
    },
    {
     "data": {
      "text/html": [
       "Run data is saved locally in <code>/home/thnhan301/Documents/PROJECT/GIT/truck-delay-prediction/wandb/run-20250830_123430-a43s85rt</code>"
      ],
      "text/plain": [
       "<IPython.core.display.HTML object>"
      ]
     },
     "metadata": {},
     "output_type": "display_data"
    },
    {
     "data": {
      "text/html": [
       "Syncing run <strong><a href='https://wandb.ai/nhanthien-sv-hcmute/truck-delay-classification/runs/a43s85rt' target=\"_blank\">denim-sweep-8</a></strong> to <a href='https://wandb.ai/nhanthien-sv-hcmute/truck-delay-classification' target=\"_blank\">Weights & Biases</a> (<a href='https://wandb.me/developer-guide' target=\"_blank\">docs</a>)<br>Sweep page: <a href='https://wandb.ai/nhanthien-sv-hcmute/truck-delay-classification/sweeps/ze0902xf' target=\"_blank\">https://wandb.ai/nhanthien-sv-hcmute/truck-delay-classification/sweeps/ze0902xf</a>"
      ],
      "text/plain": [
       "<IPython.core.display.HTML object>"
      ]
     },
     "metadata": {},
     "output_type": "display_data"
    },
    {
     "data": {
      "text/html": [
       " View project at <a href='https://wandb.ai/nhanthien-sv-hcmute/truck-delay-classification' target=\"_blank\">https://wandb.ai/nhanthien-sv-hcmute/truck-delay-classification</a>"
      ],
      "text/plain": [
       "<IPython.core.display.HTML object>"
      ]
     },
     "metadata": {},
     "output_type": "display_data"
    },
    {
     "data": {
      "text/html": [
       " View sweep at <a href='https://wandb.ai/nhanthien-sv-hcmute/truck-delay-classification/sweeps/ze0902xf' target=\"_blank\">https://wandb.ai/nhanthien-sv-hcmute/truck-delay-classification/sweeps/ze0902xf</a>"
      ],
      "text/plain": [
       "<IPython.core.display.HTML object>"
      ]
     },
     "metadata": {},
     "output_type": "display_data"
    },
    {
     "data": {
      "text/html": [
       " View run at <a href='https://wandb.ai/nhanthien-sv-hcmute/truck-delay-classification/runs/a43s85rt' target=\"_blank\">https://wandb.ai/nhanthien-sv-hcmute/truck-delay-classification/runs/a43s85rt</a>"
      ],
      "text/plain": [
       "<IPython.core.display.HTML object>"
      ]
     },
     "metadata": {},
     "output_type": "display_data"
    },
    {
     "name": "stderr",
     "output_type": "stream",
     "text": [
      "\u001b[34m\u001b[1mwandb\u001b[0m: \n",
      "\u001b[34m\u001b[1mwandb\u001b[0m: Plotting RandomForestClassifier.\n"
     ]
    },
    {
     "name": "stdout",
     "output_type": "stream",
     "text": [
      "F1_score Train: 0.9882\n",
      "F1_score Valid: 0.58\n",
      "F1_score Test: 0.6865\n"
     ]
    },
    {
     "name": "stderr",
     "output_type": "stream",
     "text": [
      "\u001b[34m\u001b[1mwandb\u001b[0m: Logged feature importances.\n",
      "\u001b[34m\u001b[1mwandb\u001b[0m: Logged confusion matrix.\n",
      "\u001b[34m\u001b[1mwandb\u001b[0m: Logged summary metrics.\n",
      "\u001b[34m\u001b[1mwandb\u001b[0m: Logged class proportions.\n",
      "\u001b[34m\u001b[1mwandb\u001b[0m: Logged calibration curve.\n",
      "\u001b[34m\u001b[1mwandb\u001b[0m: Logged roc curve.\n",
      "\u001b[34m\u001b[1mwandb\u001b[0m: Logged precision-recall curve.\n"
     ]
    },
    {
     "data": {
      "text/html": [],
      "text/plain": [
       "<IPython.core.display.HTML object>"
      ]
     },
     "metadata": {},
     "output_type": "display_data"
    },
    {
     "data": {
      "text/html": [
       "<br>    <style><br>        .wandb-row {<br>            display: flex;<br>            flex-direction: row;<br>            flex-wrap: wrap;<br>            justify-content: flex-start;<br>            width: 100%;<br>        }<br>        .wandb-col {<br>            display: flex;<br>            flex-direction: column;<br>            flex-basis: 100%;<br>            flex: 1;<br>            padding: 10px;<br>        }<br>    </style><br><div class=\"wandb-row\"><div class=\"wandb-col\"><h3>Run history:</h3><br/><table class=\"wandb\"><tr><td>f1_score</td><td>▁</td></tr><tr><td>f1_score_train</td><td>▁</td></tr><tr><td>f1_score_valid</td><td>▁</td></tr></table><br/></div><div class=\"wandb-col\"><h3>Run summary:</h3><br/><table class=\"wandb\"><tr><td>f1_score</td><td>0.68648</td></tr><tr><td>f1_score_train</td><td>0.9882</td></tr><tr><td>f1_score_valid</td><td>0.57997</td></tr></table><br/></div></div>"
      ],
      "text/plain": [
       "<IPython.core.display.HTML object>"
      ]
     },
     "metadata": {},
     "output_type": "display_data"
    },
    {
     "data": {
      "text/html": [
       " View run <strong style=\"color:#cdcd00\">denim-sweep-8</strong> at: <a href='https://wandb.ai/nhanthien-sv-hcmute/truck-delay-classification/runs/a43s85rt' target=\"_blank\">https://wandb.ai/nhanthien-sv-hcmute/truck-delay-classification/runs/a43s85rt</a><br> View project at: <a href='https://wandb.ai/nhanthien-sv-hcmute/truck-delay-classification' target=\"_blank\">https://wandb.ai/nhanthien-sv-hcmute/truck-delay-classification</a><br>Synced 5 W&B file(s), 7 media file(s), 16 artifact file(s) and 0 other file(s)"
      ],
      "text/plain": [
       "<IPython.core.display.HTML object>"
      ]
     },
     "metadata": {},
     "output_type": "display_data"
    },
    {
     "data": {
      "text/html": [
       "Find logs at: <code>./wandb/run-20250830_123430-a43s85rt/logs</code>"
      ],
      "text/plain": [
       "<IPython.core.display.HTML object>"
      ]
     },
     "metadata": {},
     "output_type": "display_data"
    },
    {
     "name": "stderr",
     "output_type": "stream",
     "text": [
      "\u001b[34m\u001b[1mwandb\u001b[0m: Agent Starting Run: vtj65jh3 with config:\n",
      "\u001b[34m\u001b[1mwandb\u001b[0m: \tmax_depth: None\n",
      "\u001b[34m\u001b[1mwandb\u001b[0m: \tmin_samples_split: 8\n",
      "\u001b[34m\u001b[1mwandb\u001b[0m: \tn_estimators: 8\n"
     ]
    },
    {
     "data": {
      "text/html": [
       "Changes to your `wandb` environment variables will be ignored because your `wandb` session has already started. For more information on how to modify your settings with `wandb.init()` arguments, please refer to <a href='https://wandb.me/wandb-init' target=\"_blank\">the W&B docs</a>."
      ],
      "text/plain": [
       "<IPython.core.display.HTML object>"
      ]
     },
     "metadata": {},
     "output_type": "display_data"
    },
    {
     "data": {
      "text/html": [
       "Ignoring project 'truck-delay-classification' when running a sweep."
      ],
      "text/plain": [
       "<IPython.core.display.HTML object>"
      ]
     },
     "metadata": {},
     "output_type": "display_data"
    },
    {
     "data": {
      "text/html": [
       "creating run (0.0s)"
      ],
      "text/plain": [
       "<IPython.core.display.HTML object>"
      ]
     },
     "metadata": {},
     "output_type": "display_data"
    },
    {
     "data": {
      "text/html": [
       "Tracking run with wandb version 0.21.2"
      ],
      "text/plain": [
       "<IPython.core.display.HTML object>"
      ]
     },
     "metadata": {},
     "output_type": "display_data"
    },
    {
     "data": {
      "text/html": [
       "Run data is saved locally in <code>/home/thnhan301/Documents/PROJECT/GIT/truck-delay-prediction/wandb/run-20250830_123451-vtj65jh3</code>"
      ],
      "text/plain": [
       "<IPython.core.display.HTML object>"
      ]
     },
     "metadata": {},
     "output_type": "display_data"
    },
    {
     "data": {
      "text/html": [
       "Syncing run <strong><a href='https://wandb.ai/nhanthien-sv-hcmute/truck-delay-classification/runs/vtj65jh3' target=\"_blank\">still-sweep-9</a></strong> to <a href='https://wandb.ai/nhanthien-sv-hcmute/truck-delay-classification' target=\"_blank\">Weights & Biases</a> (<a href='https://wandb.me/developer-guide' target=\"_blank\">docs</a>)<br>Sweep page: <a href='https://wandb.ai/nhanthien-sv-hcmute/truck-delay-classification/sweeps/ze0902xf' target=\"_blank\">https://wandb.ai/nhanthien-sv-hcmute/truck-delay-classification/sweeps/ze0902xf</a>"
      ],
      "text/plain": [
       "<IPython.core.display.HTML object>"
      ]
     },
     "metadata": {},
     "output_type": "display_data"
    },
    {
     "data": {
      "text/html": [
       " View project at <a href='https://wandb.ai/nhanthien-sv-hcmute/truck-delay-classification' target=\"_blank\">https://wandb.ai/nhanthien-sv-hcmute/truck-delay-classification</a>"
      ],
      "text/plain": [
       "<IPython.core.display.HTML object>"
      ]
     },
     "metadata": {},
     "output_type": "display_data"
    },
    {
     "data": {
      "text/html": [
       " View sweep at <a href='https://wandb.ai/nhanthien-sv-hcmute/truck-delay-classification/sweeps/ze0902xf' target=\"_blank\">https://wandb.ai/nhanthien-sv-hcmute/truck-delay-classification/sweeps/ze0902xf</a>"
      ],
      "text/plain": [
       "<IPython.core.display.HTML object>"
      ]
     },
     "metadata": {},
     "output_type": "display_data"
    },
    {
     "data": {
      "text/html": [
       " View run at <a href='https://wandb.ai/nhanthien-sv-hcmute/truck-delay-classification/runs/vtj65jh3' target=\"_blank\">https://wandb.ai/nhanthien-sv-hcmute/truck-delay-classification/runs/vtj65jh3</a>"
      ],
      "text/plain": [
       "<IPython.core.display.HTML object>"
      ]
     },
     "metadata": {},
     "output_type": "display_data"
    },
    {
     "name": "stderr",
     "output_type": "stream",
     "text": [
      "\u001b[34m\u001b[1mwandb\u001b[0m: \n",
      "\u001b[34m\u001b[1mwandb\u001b[0m: Plotting RandomForestClassifier.\n"
     ]
    },
    {
     "name": "stdout",
     "output_type": "stream",
     "text": [
      "F1_score Train: 0.9253\n",
      "F1_score Valid: 0.5478\n",
      "F1_score Test: 0.6457\n"
     ]
    },
    {
     "name": "stderr",
     "output_type": "stream",
     "text": [
      "\u001b[34m\u001b[1mwandb\u001b[0m: Logged feature importances.\n",
      "\u001b[34m\u001b[1mwandb\u001b[0m: Logged confusion matrix.\n",
      "\u001b[34m\u001b[1mwandb\u001b[0m: Logged summary metrics.\n",
      "\u001b[34m\u001b[1mwandb\u001b[0m: Logged class proportions.\n",
      "\u001b[34m\u001b[1mwandb\u001b[0m: Logged calibration curve.\n",
      "\u001b[34m\u001b[1mwandb\u001b[0m: Logged roc curve.\n",
      "\u001b[34m\u001b[1mwandb\u001b[0m: Logged precision-recall curve.\n"
     ]
    },
    {
     "data": {
      "text/html": [],
      "text/plain": [
       "<IPython.core.display.HTML object>"
      ]
     },
     "metadata": {},
     "output_type": "display_data"
    },
    {
     "data": {
      "text/html": [
       "<br>    <style><br>        .wandb-row {<br>            display: flex;<br>            flex-direction: row;<br>            flex-wrap: wrap;<br>            justify-content: flex-start;<br>            width: 100%;<br>        }<br>        .wandb-col {<br>            display: flex;<br>            flex-direction: column;<br>            flex-basis: 100%;<br>            flex: 1;<br>            padding: 10px;<br>        }<br>    </style><br><div class=\"wandb-row\"><div class=\"wandb-col\"><h3>Run history:</h3><br/><table class=\"wandb\"><tr><td>f1_score</td><td>▁</td></tr><tr><td>f1_score_train</td><td>▁</td></tr><tr><td>f1_score_valid</td><td>▁</td></tr></table><br/></div><div class=\"wandb-col\"><h3>Run summary:</h3><br/><table class=\"wandb\"><tr><td>f1_score</td><td>0.64568</td></tr><tr><td>f1_score_train</td><td>0.92534</td></tr><tr><td>f1_score_valid</td><td>0.54775</td></tr></table><br/></div></div>"
      ],
      "text/plain": [
       "<IPython.core.display.HTML object>"
      ]
     },
     "metadata": {},
     "output_type": "display_data"
    },
    {
     "data": {
      "text/html": [
       " View run <strong style=\"color:#cdcd00\">still-sweep-9</strong> at: <a href='https://wandb.ai/nhanthien-sv-hcmute/truck-delay-classification/runs/vtj65jh3' target=\"_blank\">https://wandb.ai/nhanthien-sv-hcmute/truck-delay-classification/runs/vtj65jh3</a><br> View project at: <a href='https://wandb.ai/nhanthien-sv-hcmute/truck-delay-classification' target=\"_blank\">https://wandb.ai/nhanthien-sv-hcmute/truck-delay-classification</a><br>Synced 5 W&B file(s), 7 media file(s), 16 artifact file(s) and 0 other file(s)"
      ],
      "text/plain": [
       "<IPython.core.display.HTML object>"
      ]
     },
     "metadata": {},
     "output_type": "display_data"
    },
    {
     "data": {
      "text/html": [
       "Find logs at: <code>./wandb/run-20250830_123451-vtj65jh3/logs</code>"
      ],
      "text/plain": [
       "<IPython.core.display.HTML object>"
      ]
     },
     "metadata": {},
     "output_type": "display_data"
    },
    {
     "name": "stderr",
     "output_type": "stream",
     "text": [
      "\u001b[34m\u001b[1mwandb\u001b[0m: Agent Starting Run: 3pg0zwyq with config:\n",
      "\u001b[34m\u001b[1mwandb\u001b[0m: \tmax_depth: None\n",
      "\u001b[34m\u001b[1mwandb\u001b[0m: \tmin_samples_split: 8\n",
      "\u001b[34m\u001b[1mwandb\u001b[0m: \tn_estimators: 12\n"
     ]
    },
    {
     "data": {
      "text/html": [
       "Changes to your `wandb` environment variables will be ignored because your `wandb` session has already started. For more information on how to modify your settings with `wandb.init()` arguments, please refer to <a href='https://wandb.me/wandb-init' target=\"_blank\">the W&B docs</a>."
      ],
      "text/plain": [
       "<IPython.core.display.HTML object>"
      ]
     },
     "metadata": {},
     "output_type": "display_data"
    },
    {
     "data": {
      "text/html": [
       "Ignoring project 'truck-delay-classification' when running a sweep."
      ],
      "text/plain": [
       "<IPython.core.display.HTML object>"
      ]
     },
     "metadata": {},
     "output_type": "display_data"
    },
    {
     "data": {
      "text/html": [
       "creating run (0.5s)"
      ],
      "text/plain": [
       "<IPython.core.display.HTML object>"
      ]
     },
     "metadata": {},
     "output_type": "display_data"
    },
    {
     "data": {
      "text/html": [
       "Tracking run with wandb version 0.21.2"
      ],
      "text/plain": [
       "<IPython.core.display.HTML object>"
      ]
     },
     "metadata": {},
     "output_type": "display_data"
    },
    {
     "data": {
      "text/html": [
       "Run data is saved locally in <code>/home/thnhan301/Documents/PROJECT/GIT/truck-delay-prediction/wandb/run-20250830_123513-3pg0zwyq</code>"
      ],
      "text/plain": [
       "<IPython.core.display.HTML object>"
      ]
     },
     "metadata": {},
     "output_type": "display_data"
    },
    {
     "data": {
      "text/html": [
       "Syncing run <strong><a href='https://wandb.ai/nhanthien-sv-hcmute/truck-delay-classification/runs/3pg0zwyq' target=\"_blank\">stoic-sweep-10</a></strong> to <a href='https://wandb.ai/nhanthien-sv-hcmute/truck-delay-classification' target=\"_blank\">Weights & Biases</a> (<a href='https://wandb.me/developer-guide' target=\"_blank\">docs</a>)<br>Sweep page: <a href='https://wandb.ai/nhanthien-sv-hcmute/truck-delay-classification/sweeps/ze0902xf' target=\"_blank\">https://wandb.ai/nhanthien-sv-hcmute/truck-delay-classification/sweeps/ze0902xf</a>"
      ],
      "text/plain": [
       "<IPython.core.display.HTML object>"
      ]
     },
     "metadata": {},
     "output_type": "display_data"
    },
    {
     "data": {
      "text/html": [
       " View project at <a href='https://wandb.ai/nhanthien-sv-hcmute/truck-delay-classification' target=\"_blank\">https://wandb.ai/nhanthien-sv-hcmute/truck-delay-classification</a>"
      ],
      "text/plain": [
       "<IPython.core.display.HTML object>"
      ]
     },
     "metadata": {},
     "output_type": "display_data"
    },
    {
     "data": {
      "text/html": [
       " View sweep at <a href='https://wandb.ai/nhanthien-sv-hcmute/truck-delay-classification/sweeps/ze0902xf' target=\"_blank\">https://wandb.ai/nhanthien-sv-hcmute/truck-delay-classification/sweeps/ze0902xf</a>"
      ],
      "text/plain": [
       "<IPython.core.display.HTML object>"
      ]
     },
     "metadata": {},
     "output_type": "display_data"
    },
    {
     "data": {
      "text/html": [
       " View run at <a href='https://wandb.ai/nhanthien-sv-hcmute/truck-delay-classification/runs/3pg0zwyq' target=\"_blank\">https://wandb.ai/nhanthien-sv-hcmute/truck-delay-classification/runs/3pg0zwyq</a>"
      ],
      "text/plain": [
       "<IPython.core.display.HTML object>"
      ]
     },
     "metadata": {},
     "output_type": "display_data"
    },
    {
     "name": "stderr",
     "output_type": "stream",
     "text": [
      "\u001b[34m\u001b[1mwandb\u001b[0m: \n",
      "\u001b[34m\u001b[1mwandb\u001b[0m: Plotting RandomForestClassifier.\n"
     ]
    },
    {
     "name": "stdout",
     "output_type": "stream",
     "text": [
      "F1_score Train: 0.9386\n",
      "F1_score Valid: 0.5774\n",
      "F1_score Test: 0.6676\n"
     ]
    },
    {
     "name": "stderr",
     "output_type": "stream",
     "text": [
      "\u001b[34m\u001b[1mwandb\u001b[0m: Logged feature importances.\n",
      "\u001b[34m\u001b[1mwandb\u001b[0m: Logged confusion matrix.\n",
      "\u001b[34m\u001b[1mwandb\u001b[0m: Logged summary metrics.\n",
      "\u001b[34m\u001b[1mwandb\u001b[0m: Logged class proportions.\n",
      "\u001b[34m\u001b[1mwandb\u001b[0m: Logged calibration curve.\n",
      "\u001b[34m\u001b[1mwandb\u001b[0m: Logged roc curve.\n",
      "\u001b[34m\u001b[1mwandb\u001b[0m: Logged precision-recall curve.\n"
     ]
    },
    {
     "data": {
      "text/html": [],
      "text/plain": [
       "<IPython.core.display.HTML object>"
      ]
     },
     "metadata": {},
     "output_type": "display_data"
    },
    {
     "data": {
      "text/html": [
       "<br>    <style><br>        .wandb-row {<br>            display: flex;<br>            flex-direction: row;<br>            flex-wrap: wrap;<br>            justify-content: flex-start;<br>            width: 100%;<br>        }<br>        .wandb-col {<br>            display: flex;<br>            flex-direction: column;<br>            flex-basis: 100%;<br>            flex: 1;<br>            padding: 10px;<br>        }<br>    </style><br><div class=\"wandb-row\"><div class=\"wandb-col\"><h3>Run history:</h3><br/><table class=\"wandb\"><tr><td>f1_score</td><td>▁</td></tr><tr><td>f1_score_train</td><td>▁</td></tr><tr><td>f1_score_valid</td><td>▁</td></tr></table><br/></div><div class=\"wandb-col\"><h3>Run summary:</h3><br/><table class=\"wandb\"><tr><td>f1_score</td><td>0.66763</td></tr><tr><td>f1_score_train</td><td>0.93862</td></tr><tr><td>f1_score_valid</td><td>0.57741</td></tr></table><br/></div></div>"
      ],
      "text/plain": [
       "<IPython.core.display.HTML object>"
      ]
     },
     "metadata": {},
     "output_type": "display_data"
    },
    {
     "data": {
      "text/html": [
       " View run <strong style=\"color:#cdcd00\">stoic-sweep-10</strong> at: <a href='https://wandb.ai/nhanthien-sv-hcmute/truck-delay-classification/runs/3pg0zwyq' target=\"_blank\">https://wandb.ai/nhanthien-sv-hcmute/truck-delay-classification/runs/3pg0zwyq</a><br> View project at: <a href='https://wandb.ai/nhanthien-sv-hcmute/truck-delay-classification' target=\"_blank\">https://wandb.ai/nhanthien-sv-hcmute/truck-delay-classification</a><br>Synced 5 W&B file(s), 7 media file(s), 16 artifact file(s) and 0 other file(s)"
      ],
      "text/plain": [
       "<IPython.core.display.HTML object>"
      ]
     },
     "metadata": {},
     "output_type": "display_data"
    },
    {
     "data": {
      "text/html": [
       "Find logs at: <code>./wandb/run-20250830_123513-3pg0zwyq/logs</code>"
      ],
      "text/plain": [
       "<IPython.core.display.HTML object>"
      ]
     },
     "metadata": {},
     "output_type": "display_data"
    },
    {
     "name": "stderr",
     "output_type": "stream",
     "text": [
      "\u001b[34m\u001b[1mwandb\u001b[0m: Agent Starting Run: ks4p0m6y with config:\n",
      "\u001b[34m\u001b[1mwandb\u001b[0m: \tmax_depth: None\n",
      "\u001b[34m\u001b[1mwandb\u001b[0m: \tmin_samples_split: 8\n",
      "\u001b[34m\u001b[1mwandb\u001b[0m: \tn_estimators: 16\n"
     ]
    },
    {
     "data": {
      "text/html": [
       "Changes to your `wandb` environment variables will be ignored because your `wandb` session has already started. For more information on how to modify your settings with `wandb.init()` arguments, please refer to <a href='https://wandb.me/wandb-init' target=\"_blank\">the W&B docs</a>."
      ],
      "text/plain": [
       "<IPython.core.display.HTML object>"
      ]
     },
     "metadata": {},
     "output_type": "display_data"
    },
    {
     "data": {
      "text/html": [
       "Ignoring project 'truck-delay-classification' when running a sweep."
      ],
      "text/plain": [
       "<IPython.core.display.HTML object>"
      ]
     },
     "metadata": {},
     "output_type": "display_data"
    },
    {
     "data": {
      "text/html": [
       "creating run (0.0s)"
      ],
      "text/plain": [
       "<IPython.core.display.HTML object>"
      ]
     },
     "metadata": {},
     "output_type": "display_data"
    },
    {
     "data": {
      "text/html": [
       "Tracking run with wandb version 0.21.2"
      ],
      "text/plain": [
       "<IPython.core.display.HTML object>"
      ]
     },
     "metadata": {},
     "output_type": "display_data"
    },
    {
     "data": {
      "text/html": [
       "Run data is saved locally in <code>/home/thnhan301/Documents/PROJECT/GIT/truck-delay-prediction/wandb/run-20250830_123534-ks4p0m6y</code>"
      ],
      "text/plain": [
       "<IPython.core.display.HTML object>"
      ]
     },
     "metadata": {},
     "output_type": "display_data"
    },
    {
     "data": {
      "text/html": [
       "Syncing run <strong><a href='https://wandb.ai/nhanthien-sv-hcmute/truck-delay-classification/runs/ks4p0m6y' target=\"_blank\">earthy-sweep-11</a></strong> to <a href='https://wandb.ai/nhanthien-sv-hcmute/truck-delay-classification' target=\"_blank\">Weights & Biases</a> (<a href='https://wandb.me/developer-guide' target=\"_blank\">docs</a>)<br>Sweep page: <a href='https://wandb.ai/nhanthien-sv-hcmute/truck-delay-classification/sweeps/ze0902xf' target=\"_blank\">https://wandb.ai/nhanthien-sv-hcmute/truck-delay-classification/sweeps/ze0902xf</a>"
      ],
      "text/plain": [
       "<IPython.core.display.HTML object>"
      ]
     },
     "metadata": {},
     "output_type": "display_data"
    },
    {
     "data": {
      "text/html": [
       " View project at <a href='https://wandb.ai/nhanthien-sv-hcmute/truck-delay-classification' target=\"_blank\">https://wandb.ai/nhanthien-sv-hcmute/truck-delay-classification</a>"
      ],
      "text/plain": [
       "<IPython.core.display.HTML object>"
      ]
     },
     "metadata": {},
     "output_type": "display_data"
    },
    {
     "data": {
      "text/html": [
       " View sweep at <a href='https://wandb.ai/nhanthien-sv-hcmute/truck-delay-classification/sweeps/ze0902xf' target=\"_blank\">https://wandb.ai/nhanthien-sv-hcmute/truck-delay-classification/sweeps/ze0902xf</a>"
      ],
      "text/plain": [
       "<IPython.core.display.HTML object>"
      ]
     },
     "metadata": {},
     "output_type": "display_data"
    },
    {
     "data": {
      "text/html": [
       " View run at <a href='https://wandb.ai/nhanthien-sv-hcmute/truck-delay-classification/runs/ks4p0m6y' target=\"_blank\">https://wandb.ai/nhanthien-sv-hcmute/truck-delay-classification/runs/ks4p0m6y</a>"
      ],
      "text/plain": [
       "<IPython.core.display.HTML object>"
      ]
     },
     "metadata": {},
     "output_type": "display_data"
    },
    {
     "name": "stderr",
     "output_type": "stream",
     "text": [
      "\u001b[34m\u001b[1mwandb\u001b[0m: \n",
      "\u001b[34m\u001b[1mwandb\u001b[0m: Plotting RandomForestClassifier.\n"
     ]
    },
    {
     "name": "stdout",
     "output_type": "stream",
     "text": [
      "F1_score Train: 0.9492\n",
      "F1_score Valid: 0.5942\n",
      "F1_score Test: 0.6871\n"
     ]
    },
    {
     "name": "stderr",
     "output_type": "stream",
     "text": [
      "\u001b[34m\u001b[1mwandb\u001b[0m: Logged feature importances.\n",
      "\u001b[34m\u001b[1mwandb\u001b[0m: Logged confusion matrix.\n",
      "\u001b[34m\u001b[1mwandb\u001b[0m: Logged summary metrics.\n",
      "\u001b[34m\u001b[1mwandb\u001b[0m: Logged class proportions.\n",
      "\u001b[34m\u001b[1mwandb\u001b[0m: Logged calibration curve.\n",
      "\u001b[34m\u001b[1mwandb\u001b[0m: Logged roc curve.\n",
      "\u001b[34m\u001b[1mwandb\u001b[0m: Logged precision-recall curve.\n"
     ]
    },
    {
     "data": {
      "text/html": [],
      "text/plain": [
       "<IPython.core.display.HTML object>"
      ]
     },
     "metadata": {},
     "output_type": "display_data"
    },
    {
     "data": {
      "text/html": [
       "<br>    <style><br>        .wandb-row {<br>            display: flex;<br>            flex-direction: row;<br>            flex-wrap: wrap;<br>            justify-content: flex-start;<br>            width: 100%;<br>        }<br>        .wandb-col {<br>            display: flex;<br>            flex-direction: column;<br>            flex-basis: 100%;<br>            flex: 1;<br>            padding: 10px;<br>        }<br>    </style><br><div class=\"wandb-row\"><div class=\"wandb-col\"><h3>Run history:</h3><br/><table class=\"wandb\"><tr><td>f1_score</td><td>▁</td></tr><tr><td>f1_score_train</td><td>▁</td></tr><tr><td>f1_score_valid</td><td>▁</td></tr></table><br/></div><div class=\"wandb-col\"><h3>Run summary:</h3><br/><table class=\"wandb\"><tr><td>f1_score</td><td>0.68709</td></tr><tr><td>f1_score_train</td><td>0.94922</td></tr><tr><td>f1_score_valid</td><td>0.59417</td></tr></table><br/></div></div>"
      ],
      "text/plain": [
       "<IPython.core.display.HTML object>"
      ]
     },
     "metadata": {},
     "output_type": "display_data"
    },
    {
     "data": {
      "text/html": [
       " View run <strong style=\"color:#cdcd00\">earthy-sweep-11</strong> at: <a href='https://wandb.ai/nhanthien-sv-hcmute/truck-delay-classification/runs/ks4p0m6y' target=\"_blank\">https://wandb.ai/nhanthien-sv-hcmute/truck-delay-classification/runs/ks4p0m6y</a><br> View project at: <a href='https://wandb.ai/nhanthien-sv-hcmute/truck-delay-classification' target=\"_blank\">https://wandb.ai/nhanthien-sv-hcmute/truck-delay-classification</a><br>Synced 5 W&B file(s), 7 media file(s), 16 artifact file(s) and 0 other file(s)"
      ],
      "text/plain": [
       "<IPython.core.display.HTML object>"
      ]
     },
     "metadata": {},
     "output_type": "display_data"
    },
    {
     "data": {
      "text/html": [
       "Find logs at: <code>./wandb/run-20250830_123534-ks4p0m6y/logs</code>"
      ],
      "text/plain": [
       "<IPython.core.display.HTML object>"
      ]
     },
     "metadata": {},
     "output_type": "display_data"
    },
    {
     "name": "stderr",
     "output_type": "stream",
     "text": [
      "\u001b[34m\u001b[1mwandb\u001b[0m: Agent Starting Run: 75dyt9jk with config:\n",
      "\u001b[34m\u001b[1mwandb\u001b[0m: \tmax_depth: None\n",
      "\u001b[34m\u001b[1mwandb\u001b[0m: \tmin_samples_split: 8\n",
      "\u001b[34m\u001b[1mwandb\u001b[0m: \tn_estimators: 20\n"
     ]
    },
    {
     "data": {
      "text/html": [
       "Changes to your `wandb` environment variables will be ignored because your `wandb` session has already started. For more information on how to modify your settings with `wandb.init()` arguments, please refer to <a href='https://wandb.me/wandb-init' target=\"_blank\">the W&B docs</a>."
      ],
      "text/plain": [
       "<IPython.core.display.HTML object>"
      ]
     },
     "metadata": {},
     "output_type": "display_data"
    },
    {
     "data": {
      "text/html": [
       "Ignoring project 'truck-delay-classification' when running a sweep."
      ],
      "text/plain": [
       "<IPython.core.display.HTML object>"
      ]
     },
     "metadata": {},
     "output_type": "display_data"
    },
    {
     "data": {
      "text/html": [
       "creating run (0.0s)"
      ],
      "text/plain": [
       "<IPython.core.display.HTML object>"
      ]
     },
     "metadata": {},
     "output_type": "display_data"
    },
    {
     "data": {
      "text/html": [
       "Tracking run with wandb version 0.21.2"
      ],
      "text/plain": [
       "<IPython.core.display.HTML object>"
      ]
     },
     "metadata": {},
     "output_type": "display_data"
    },
    {
     "data": {
      "text/html": [
       "Run data is saved locally in <code>/home/thnhan301/Documents/PROJECT/GIT/truck-delay-prediction/wandb/run-20250830_123555-75dyt9jk</code>"
      ],
      "text/plain": [
       "<IPython.core.display.HTML object>"
      ]
     },
     "metadata": {},
     "output_type": "display_data"
    },
    {
     "data": {
      "text/html": [
       "Syncing run <strong><a href='https://wandb.ai/nhanthien-sv-hcmute/truck-delay-classification/runs/75dyt9jk' target=\"_blank\">different-sweep-12</a></strong> to <a href='https://wandb.ai/nhanthien-sv-hcmute/truck-delay-classification' target=\"_blank\">Weights & Biases</a> (<a href='https://wandb.me/developer-guide' target=\"_blank\">docs</a>)<br>Sweep page: <a href='https://wandb.ai/nhanthien-sv-hcmute/truck-delay-classification/sweeps/ze0902xf' target=\"_blank\">https://wandb.ai/nhanthien-sv-hcmute/truck-delay-classification/sweeps/ze0902xf</a>"
      ],
      "text/plain": [
       "<IPython.core.display.HTML object>"
      ]
     },
     "metadata": {},
     "output_type": "display_data"
    },
    {
     "data": {
      "text/html": [
       " View project at <a href='https://wandb.ai/nhanthien-sv-hcmute/truck-delay-classification' target=\"_blank\">https://wandb.ai/nhanthien-sv-hcmute/truck-delay-classification</a>"
      ],
      "text/plain": [
       "<IPython.core.display.HTML object>"
      ]
     },
     "metadata": {},
     "output_type": "display_data"
    },
    {
     "data": {
      "text/html": [
       " View sweep at <a href='https://wandb.ai/nhanthien-sv-hcmute/truck-delay-classification/sweeps/ze0902xf' target=\"_blank\">https://wandb.ai/nhanthien-sv-hcmute/truck-delay-classification/sweeps/ze0902xf</a>"
      ],
      "text/plain": [
       "<IPython.core.display.HTML object>"
      ]
     },
     "metadata": {},
     "output_type": "display_data"
    },
    {
     "data": {
      "text/html": [
       " View run at <a href='https://wandb.ai/nhanthien-sv-hcmute/truck-delay-classification/runs/75dyt9jk' target=\"_blank\">https://wandb.ai/nhanthien-sv-hcmute/truck-delay-classification/runs/75dyt9jk</a>"
      ],
      "text/plain": [
       "<IPython.core.display.HTML object>"
      ]
     },
     "metadata": {},
     "output_type": "display_data"
    },
    {
     "name": "stderr",
     "output_type": "stream",
     "text": [
      "\u001b[34m\u001b[1mwandb\u001b[0m: \n",
      "\u001b[34m\u001b[1mwandb\u001b[0m: Plotting RandomForestClassifier.\n"
     ]
    },
    {
     "name": "stdout",
     "output_type": "stream",
     "text": [
      "F1_score Train: 0.9601\n",
      "F1_score Valid: 0.5957\n",
      "F1_score Test: 0.6915\n"
     ]
    },
    {
     "name": "stderr",
     "output_type": "stream",
     "text": [
      "\u001b[34m\u001b[1mwandb\u001b[0m: Logged feature importances.\n",
      "\u001b[34m\u001b[1mwandb\u001b[0m: Logged confusion matrix.\n",
      "\u001b[34m\u001b[1mwandb\u001b[0m: Logged summary metrics.\n",
      "\u001b[34m\u001b[1mwandb\u001b[0m: Logged class proportions.\n",
      "\u001b[34m\u001b[1mwandb\u001b[0m: Logged calibration curve.\n",
      "\u001b[34m\u001b[1mwandb\u001b[0m: Logged roc curve.\n",
      "\u001b[34m\u001b[1mwandb\u001b[0m: Logged precision-recall curve.\n"
     ]
    },
    {
     "data": {
      "text/html": [],
      "text/plain": [
       "<IPython.core.display.HTML object>"
      ]
     },
     "metadata": {},
     "output_type": "display_data"
    },
    {
     "data": {
      "text/html": [
       "<br>    <style><br>        .wandb-row {<br>            display: flex;<br>            flex-direction: row;<br>            flex-wrap: wrap;<br>            justify-content: flex-start;<br>            width: 100%;<br>        }<br>        .wandb-col {<br>            display: flex;<br>            flex-direction: column;<br>            flex-basis: 100%;<br>            flex: 1;<br>            padding: 10px;<br>        }<br>    </style><br><div class=\"wandb-row\"><div class=\"wandb-col\"><h3>Run history:</h3><br/><table class=\"wandb\"><tr><td>f1_score</td><td>▁</td></tr><tr><td>f1_score_train</td><td>▁</td></tr><tr><td>f1_score_valid</td><td>▁</td></tr></table><br/></div><div class=\"wandb-col\"><h3>Run summary:</h3><br/><table class=\"wandb\"><tr><td>f1_score</td><td>0.69152</td></tr><tr><td>f1_score_train</td><td>0.96014</td></tr><tr><td>f1_score_valid</td><td>0.59574</td></tr></table><br/></div></div>"
      ],
      "text/plain": [
       "<IPython.core.display.HTML object>"
      ]
     },
     "metadata": {},
     "output_type": "display_data"
    },
    {
     "data": {
      "text/html": [
       " View run <strong style=\"color:#cdcd00\">different-sweep-12</strong> at: <a href='https://wandb.ai/nhanthien-sv-hcmute/truck-delay-classification/runs/75dyt9jk' target=\"_blank\">https://wandb.ai/nhanthien-sv-hcmute/truck-delay-classification/runs/75dyt9jk</a><br> View project at: <a href='https://wandb.ai/nhanthien-sv-hcmute/truck-delay-classification' target=\"_blank\">https://wandb.ai/nhanthien-sv-hcmute/truck-delay-classification</a><br>Synced 5 W&B file(s), 7 media file(s), 16 artifact file(s) and 0 other file(s)"
      ],
      "text/plain": [
       "<IPython.core.display.HTML object>"
      ]
     },
     "metadata": {},
     "output_type": "display_data"
    },
    {
     "data": {
      "text/html": [
       "Find logs at: <code>./wandb/run-20250830_123555-75dyt9jk/logs</code>"
      ],
      "text/plain": [
       "<IPython.core.display.HTML object>"
      ]
     },
     "metadata": {},
     "output_type": "display_data"
    },
    {
     "name": "stderr",
     "output_type": "stream",
     "text": [
      "\u001b[34m\u001b[1mwandb\u001b[0m: Agent Starting Run: o2h4hkl6 with config:\n",
      "\u001b[34m\u001b[1mwandb\u001b[0m: \tmax_depth: None\n",
      "\u001b[34m\u001b[1mwandb\u001b[0m: \tmin_samples_split: 12\n",
      "\u001b[34m\u001b[1mwandb\u001b[0m: \tn_estimators: 8\n"
     ]
    },
    {
     "data": {
      "text/html": [
       "Changes to your `wandb` environment variables will be ignored because your `wandb` session has already started. For more information on how to modify your settings with `wandb.init()` arguments, please refer to <a href='https://wandb.me/wandb-init' target=\"_blank\">the W&B docs</a>."
      ],
      "text/plain": [
       "<IPython.core.display.HTML object>"
      ]
     },
     "metadata": {},
     "output_type": "display_data"
    },
    {
     "data": {
      "text/html": [
       "Ignoring project 'truck-delay-classification' when running a sweep."
      ],
      "text/plain": [
       "<IPython.core.display.HTML object>"
      ]
     },
     "metadata": {},
     "output_type": "display_data"
    },
    {
     "data": {
      "text/html": [
       "creating run (0.0s)"
      ],
      "text/plain": [
       "<IPython.core.display.HTML object>"
      ]
     },
     "metadata": {},
     "output_type": "display_data"
    },
    {
     "data": {
      "text/html": [
       "Tracking run with wandb version 0.21.2"
      ],
      "text/plain": [
       "<IPython.core.display.HTML object>"
      ]
     },
     "metadata": {},
     "output_type": "display_data"
    },
    {
     "data": {
      "text/html": [
       "Run data is saved locally in <code>/home/thnhan301/Documents/PROJECT/GIT/truck-delay-prediction/wandb/run-20250830_123617-o2h4hkl6</code>"
      ],
      "text/plain": [
       "<IPython.core.display.HTML object>"
      ]
     },
     "metadata": {},
     "output_type": "display_data"
    },
    {
     "data": {
      "text/html": [
       "Syncing run <strong><a href='https://wandb.ai/nhanthien-sv-hcmute/truck-delay-classification/runs/o2h4hkl6' target=\"_blank\">lyric-sweep-13</a></strong> to <a href='https://wandb.ai/nhanthien-sv-hcmute/truck-delay-classification' target=\"_blank\">Weights & Biases</a> (<a href='https://wandb.me/developer-guide' target=\"_blank\">docs</a>)<br>Sweep page: <a href='https://wandb.ai/nhanthien-sv-hcmute/truck-delay-classification/sweeps/ze0902xf' target=\"_blank\">https://wandb.ai/nhanthien-sv-hcmute/truck-delay-classification/sweeps/ze0902xf</a>"
      ],
      "text/plain": [
       "<IPython.core.display.HTML object>"
      ]
     },
     "metadata": {},
     "output_type": "display_data"
    },
    {
     "data": {
      "text/html": [
       " View project at <a href='https://wandb.ai/nhanthien-sv-hcmute/truck-delay-classification' target=\"_blank\">https://wandb.ai/nhanthien-sv-hcmute/truck-delay-classification</a>"
      ],
      "text/plain": [
       "<IPython.core.display.HTML object>"
      ]
     },
     "metadata": {},
     "output_type": "display_data"
    },
    {
     "data": {
      "text/html": [
       " View sweep at <a href='https://wandb.ai/nhanthien-sv-hcmute/truck-delay-classification/sweeps/ze0902xf' target=\"_blank\">https://wandb.ai/nhanthien-sv-hcmute/truck-delay-classification/sweeps/ze0902xf</a>"
      ],
      "text/plain": [
       "<IPython.core.display.HTML object>"
      ]
     },
     "metadata": {},
     "output_type": "display_data"
    },
    {
     "data": {
      "text/html": [
       " View run at <a href='https://wandb.ai/nhanthien-sv-hcmute/truck-delay-classification/runs/o2h4hkl6' target=\"_blank\">https://wandb.ai/nhanthien-sv-hcmute/truck-delay-classification/runs/o2h4hkl6</a>"
      ],
      "text/plain": [
       "<IPython.core.display.HTML object>"
      ]
     },
     "metadata": {},
     "output_type": "display_data"
    },
    {
     "name": "stderr",
     "output_type": "stream",
     "text": [
      "\u001b[34m\u001b[1mwandb\u001b[0m: \n",
      "\u001b[34m\u001b[1mwandb\u001b[0m: Plotting RandomForestClassifier.\n"
     ]
    },
    {
     "name": "stdout",
     "output_type": "stream",
     "text": [
      "F1_score Train: 0.8885\n",
      "F1_score Valid: 0.6048\n",
      "F1_score Test: 0.6685\n"
     ]
    },
    {
     "name": "stderr",
     "output_type": "stream",
     "text": [
      "\u001b[34m\u001b[1mwandb\u001b[0m: Logged feature importances.\n",
      "\u001b[34m\u001b[1mwandb\u001b[0m: Logged confusion matrix.\n",
      "\u001b[34m\u001b[1mwandb\u001b[0m: Logged summary metrics.\n",
      "\u001b[34m\u001b[1mwandb\u001b[0m: Logged class proportions.\n",
      "\u001b[34m\u001b[1mwandb\u001b[0m: Logged calibration curve.\n",
      "\u001b[34m\u001b[1mwandb\u001b[0m: Logged roc curve.\n",
      "\u001b[34m\u001b[1mwandb\u001b[0m: Logged precision-recall curve.\n"
     ]
    },
    {
     "data": {
      "text/html": [],
      "text/plain": [
       "<IPython.core.display.HTML object>"
      ]
     },
     "metadata": {},
     "output_type": "display_data"
    },
    {
     "data": {
      "text/html": [
       "<br>    <style><br>        .wandb-row {<br>            display: flex;<br>            flex-direction: row;<br>            flex-wrap: wrap;<br>            justify-content: flex-start;<br>            width: 100%;<br>        }<br>        .wandb-col {<br>            display: flex;<br>            flex-direction: column;<br>            flex-basis: 100%;<br>            flex: 1;<br>            padding: 10px;<br>        }<br>    </style><br><div class=\"wandb-row\"><div class=\"wandb-col\"><h3>Run history:</h3><br/><table class=\"wandb\"><tr><td>f1_score</td><td>▁</td></tr><tr><td>f1_score_train</td><td>▁</td></tr><tr><td>f1_score_valid</td><td>▁</td></tr></table><br/></div><div class=\"wandb-col\"><h3>Run summary:</h3><br/><table class=\"wandb\"><tr><td>f1_score</td><td>0.66854</td></tr><tr><td>f1_score_train</td><td>0.88854</td></tr><tr><td>f1_score_valid</td><td>0.6048</td></tr></table><br/></div></div>"
      ],
      "text/plain": [
       "<IPython.core.display.HTML object>"
      ]
     },
     "metadata": {},
     "output_type": "display_data"
    },
    {
     "data": {
      "text/html": [
       " View run <strong style=\"color:#cdcd00\">lyric-sweep-13</strong> at: <a href='https://wandb.ai/nhanthien-sv-hcmute/truck-delay-classification/runs/o2h4hkl6' target=\"_blank\">https://wandb.ai/nhanthien-sv-hcmute/truck-delay-classification/runs/o2h4hkl6</a><br> View project at: <a href='https://wandb.ai/nhanthien-sv-hcmute/truck-delay-classification' target=\"_blank\">https://wandb.ai/nhanthien-sv-hcmute/truck-delay-classification</a><br>Synced 5 W&B file(s), 7 media file(s), 16 artifact file(s) and 0 other file(s)"
      ],
      "text/plain": [
       "<IPython.core.display.HTML object>"
      ]
     },
     "metadata": {},
     "output_type": "display_data"
    },
    {
     "data": {
      "text/html": [
       "Find logs at: <code>./wandb/run-20250830_123617-o2h4hkl6/logs</code>"
      ],
      "text/plain": [
       "<IPython.core.display.HTML object>"
      ]
     },
     "metadata": {},
     "output_type": "display_data"
    },
    {
     "name": "stderr",
     "output_type": "stream",
     "text": [
      "\u001b[34m\u001b[1mwandb\u001b[0m: Agent Starting Run: gn3v92yb with config:\n",
      "\u001b[34m\u001b[1mwandb\u001b[0m: \tmax_depth: None\n",
      "\u001b[34m\u001b[1mwandb\u001b[0m: \tmin_samples_split: 12\n",
      "\u001b[34m\u001b[1mwandb\u001b[0m: \tn_estimators: 12\n"
     ]
    },
    {
     "data": {
      "text/html": [
       "Changes to your `wandb` environment variables will be ignored because your `wandb` session has already started. For more information on how to modify your settings with `wandb.init()` arguments, please refer to <a href='https://wandb.me/wandb-init' target=\"_blank\">the W&B docs</a>."
      ],
      "text/plain": [
       "<IPython.core.display.HTML object>"
      ]
     },
     "metadata": {},
     "output_type": "display_data"
    },
    {
     "data": {
      "text/html": [
       "Ignoring project 'truck-delay-classification' when running a sweep."
      ],
      "text/plain": [
       "<IPython.core.display.HTML object>"
      ]
     },
     "metadata": {},
     "output_type": "display_data"
    },
    {
     "data": {
      "text/html": [
       "creating run (0.0s)"
      ],
      "text/plain": [
       "<IPython.core.display.HTML object>"
      ]
     },
     "metadata": {},
     "output_type": "display_data"
    },
    {
     "data": {
      "text/html": [
       "Tracking run with wandb version 0.21.2"
      ],
      "text/plain": [
       "<IPython.core.display.HTML object>"
      ]
     },
     "metadata": {},
     "output_type": "display_data"
    },
    {
     "data": {
      "text/html": [
       "Run data is saved locally in <code>/home/thnhan301/Documents/PROJECT/GIT/truck-delay-prediction/wandb/run-20250830_123638-gn3v92yb</code>"
      ],
      "text/plain": [
       "<IPython.core.display.HTML object>"
      ]
     },
     "metadata": {},
     "output_type": "display_data"
    },
    {
     "data": {
      "text/html": [
       "Syncing run <strong><a href='https://wandb.ai/nhanthien-sv-hcmute/truck-delay-classification/runs/gn3v92yb' target=\"_blank\">earnest-sweep-14</a></strong> to <a href='https://wandb.ai/nhanthien-sv-hcmute/truck-delay-classification' target=\"_blank\">Weights & Biases</a> (<a href='https://wandb.me/developer-guide' target=\"_blank\">docs</a>)<br>Sweep page: <a href='https://wandb.ai/nhanthien-sv-hcmute/truck-delay-classification/sweeps/ze0902xf' target=\"_blank\">https://wandb.ai/nhanthien-sv-hcmute/truck-delay-classification/sweeps/ze0902xf</a>"
      ],
      "text/plain": [
       "<IPython.core.display.HTML object>"
      ]
     },
     "metadata": {},
     "output_type": "display_data"
    },
    {
     "data": {
      "text/html": [
       " View project at <a href='https://wandb.ai/nhanthien-sv-hcmute/truck-delay-classification' target=\"_blank\">https://wandb.ai/nhanthien-sv-hcmute/truck-delay-classification</a>"
      ],
      "text/plain": [
       "<IPython.core.display.HTML object>"
      ]
     },
     "metadata": {},
     "output_type": "display_data"
    },
    {
     "data": {
      "text/html": [
       " View sweep at <a href='https://wandb.ai/nhanthien-sv-hcmute/truck-delay-classification/sweeps/ze0902xf' target=\"_blank\">https://wandb.ai/nhanthien-sv-hcmute/truck-delay-classification/sweeps/ze0902xf</a>"
      ],
      "text/plain": [
       "<IPython.core.display.HTML object>"
      ]
     },
     "metadata": {},
     "output_type": "display_data"
    },
    {
     "data": {
      "text/html": [
       " View run at <a href='https://wandb.ai/nhanthien-sv-hcmute/truck-delay-classification/runs/gn3v92yb' target=\"_blank\">https://wandb.ai/nhanthien-sv-hcmute/truck-delay-classification/runs/gn3v92yb</a>"
      ],
      "text/plain": [
       "<IPython.core.display.HTML object>"
      ]
     },
     "metadata": {},
     "output_type": "display_data"
    },
    {
     "name": "stderr",
     "output_type": "stream",
     "text": [
      "\u001b[34m\u001b[1mwandb\u001b[0m: \n",
      "\u001b[34m\u001b[1mwandb\u001b[0m: Plotting RandomForestClassifier.\n"
     ]
    },
    {
     "name": "stdout",
     "output_type": "stream",
     "text": [
      "F1_score Train: 0.9062\n",
      "F1_score Valid: 0.6081\n",
      "F1_score Test: 0.68\n"
     ]
    },
    {
     "name": "stderr",
     "output_type": "stream",
     "text": [
      "\u001b[34m\u001b[1mwandb\u001b[0m: Logged feature importances.\n",
      "\u001b[34m\u001b[1mwandb\u001b[0m: Logged confusion matrix.\n",
      "\u001b[34m\u001b[1mwandb\u001b[0m: Logged summary metrics.\n",
      "\u001b[34m\u001b[1mwandb\u001b[0m: Logged class proportions.\n",
      "\u001b[34m\u001b[1mwandb\u001b[0m: Logged calibration curve.\n",
      "\u001b[34m\u001b[1mwandb\u001b[0m: Logged roc curve.\n",
      "\u001b[34m\u001b[1mwandb\u001b[0m: Logged precision-recall curve.\n"
     ]
    },
    {
     "data": {
      "text/html": [],
      "text/plain": [
       "<IPython.core.display.HTML object>"
      ]
     },
     "metadata": {},
     "output_type": "display_data"
    },
    {
     "data": {
      "text/html": [
       "<br>    <style><br>        .wandb-row {<br>            display: flex;<br>            flex-direction: row;<br>            flex-wrap: wrap;<br>            justify-content: flex-start;<br>            width: 100%;<br>        }<br>        .wandb-col {<br>            display: flex;<br>            flex-direction: column;<br>            flex-basis: 100%;<br>            flex: 1;<br>            padding: 10px;<br>        }<br>    </style><br><div class=\"wandb-row\"><div class=\"wandb-col\"><h3>Run history:</h3><br/><table class=\"wandb\"><tr><td>f1_score</td><td>▁</td></tr><tr><td>f1_score_train</td><td>▁</td></tr><tr><td>f1_score_valid</td><td>▁</td></tr></table><br/></div><div class=\"wandb-col\"><h3>Run summary:</h3><br/><table class=\"wandb\"><tr><td>f1_score</td><td>0.68003</td></tr><tr><td>f1_score_train</td><td>0.90615</td></tr><tr><td>f1_score_valid</td><td>0.60805</td></tr></table><br/></div></div>"
      ],
      "text/plain": [
       "<IPython.core.display.HTML object>"
      ]
     },
     "metadata": {},
     "output_type": "display_data"
    },
    {
     "data": {
      "text/html": [
       " View run <strong style=\"color:#cdcd00\">earnest-sweep-14</strong> at: <a href='https://wandb.ai/nhanthien-sv-hcmute/truck-delay-classification/runs/gn3v92yb' target=\"_blank\">https://wandb.ai/nhanthien-sv-hcmute/truck-delay-classification/runs/gn3v92yb</a><br> View project at: <a href='https://wandb.ai/nhanthien-sv-hcmute/truck-delay-classification' target=\"_blank\">https://wandb.ai/nhanthien-sv-hcmute/truck-delay-classification</a><br>Synced 5 W&B file(s), 7 media file(s), 16 artifact file(s) and 0 other file(s)"
      ],
      "text/plain": [
       "<IPython.core.display.HTML object>"
      ]
     },
     "metadata": {},
     "output_type": "display_data"
    },
    {
     "data": {
      "text/html": [
       "Find logs at: <code>./wandb/run-20250830_123638-gn3v92yb/logs</code>"
      ],
      "text/plain": [
       "<IPython.core.display.HTML object>"
      ]
     },
     "metadata": {},
     "output_type": "display_data"
    },
    {
     "name": "stderr",
     "output_type": "stream",
     "text": [
      "\u001b[34m\u001b[1mwandb\u001b[0m: Agent Starting Run: bf4rfom6 with config:\n",
      "\u001b[34m\u001b[1mwandb\u001b[0m: \tmax_depth: None\n",
      "\u001b[34m\u001b[1mwandb\u001b[0m: \tmin_samples_split: 12\n",
      "\u001b[34m\u001b[1mwandb\u001b[0m: \tn_estimators: 16\n"
     ]
    },
    {
     "data": {
      "text/html": [
       "Changes to your `wandb` environment variables will be ignored because your `wandb` session has already started. For more information on how to modify your settings with `wandb.init()` arguments, please refer to <a href='https://wandb.me/wandb-init' target=\"_blank\">the W&B docs</a>."
      ],
      "text/plain": [
       "<IPython.core.display.HTML object>"
      ]
     },
     "metadata": {},
     "output_type": "display_data"
    },
    {
     "data": {
      "text/html": [
       "Ignoring project 'truck-delay-classification' when running a sweep."
      ],
      "text/plain": [
       "<IPython.core.display.HTML object>"
      ]
     },
     "metadata": {},
     "output_type": "display_data"
    },
    {
     "data": {
      "text/html": [
       "creating run (0.0s)"
      ],
      "text/plain": [
       "<IPython.core.display.HTML object>"
      ]
     },
     "metadata": {},
     "output_type": "display_data"
    },
    {
     "data": {
      "text/html": [
       "Tracking run with wandb version 0.21.2"
      ],
      "text/plain": [
       "<IPython.core.display.HTML object>"
      ]
     },
     "metadata": {},
     "output_type": "display_data"
    },
    {
     "data": {
      "text/html": [
       "Run data is saved locally in <code>/home/thnhan301/Documents/PROJECT/GIT/truck-delay-prediction/wandb/run-20250830_123659-bf4rfom6</code>"
      ],
      "text/plain": [
       "<IPython.core.display.HTML object>"
      ]
     },
     "metadata": {},
     "output_type": "display_data"
    },
    {
     "data": {
      "text/html": [
       "Syncing run <strong><a href='https://wandb.ai/nhanthien-sv-hcmute/truck-delay-classification/runs/bf4rfom6' target=\"_blank\">stellar-sweep-15</a></strong> to <a href='https://wandb.ai/nhanthien-sv-hcmute/truck-delay-classification' target=\"_blank\">Weights & Biases</a> (<a href='https://wandb.me/developer-guide' target=\"_blank\">docs</a>)<br>Sweep page: <a href='https://wandb.ai/nhanthien-sv-hcmute/truck-delay-classification/sweeps/ze0902xf' target=\"_blank\">https://wandb.ai/nhanthien-sv-hcmute/truck-delay-classification/sweeps/ze0902xf</a>"
      ],
      "text/plain": [
       "<IPython.core.display.HTML object>"
      ]
     },
     "metadata": {},
     "output_type": "display_data"
    },
    {
     "data": {
      "text/html": [
       " View project at <a href='https://wandb.ai/nhanthien-sv-hcmute/truck-delay-classification' target=\"_blank\">https://wandb.ai/nhanthien-sv-hcmute/truck-delay-classification</a>"
      ],
      "text/plain": [
       "<IPython.core.display.HTML object>"
      ]
     },
     "metadata": {},
     "output_type": "display_data"
    },
    {
     "data": {
      "text/html": [
       " View sweep at <a href='https://wandb.ai/nhanthien-sv-hcmute/truck-delay-classification/sweeps/ze0902xf' target=\"_blank\">https://wandb.ai/nhanthien-sv-hcmute/truck-delay-classification/sweeps/ze0902xf</a>"
      ],
      "text/plain": [
       "<IPython.core.display.HTML object>"
      ]
     },
     "metadata": {},
     "output_type": "display_data"
    },
    {
     "data": {
      "text/html": [
       " View run at <a href='https://wandb.ai/nhanthien-sv-hcmute/truck-delay-classification/runs/bf4rfom6' target=\"_blank\">https://wandb.ai/nhanthien-sv-hcmute/truck-delay-classification/runs/bf4rfom6</a>"
      ],
      "text/plain": [
       "<IPython.core.display.HTML object>"
      ]
     },
     "metadata": {},
     "output_type": "display_data"
    },
    {
     "name": "stderr",
     "output_type": "stream",
     "text": [
      "\u001b[34m\u001b[1mwandb\u001b[0m: \n",
      "\u001b[34m\u001b[1mwandb\u001b[0m: Plotting RandomForestClassifier.\n"
     ]
    },
    {
     "name": "stdout",
     "output_type": "stream",
     "text": [
      "F1_score Train: 0.9153\n",
      "F1_score Valid: 0.6167\n",
      "F1_score Test: 0.7058\n"
     ]
    },
    {
     "name": "stderr",
     "output_type": "stream",
     "text": [
      "\u001b[34m\u001b[1mwandb\u001b[0m: Logged feature importances.\n",
      "\u001b[34m\u001b[1mwandb\u001b[0m: Logged confusion matrix.\n",
      "\u001b[34m\u001b[1mwandb\u001b[0m: Logged summary metrics.\n",
      "\u001b[34m\u001b[1mwandb\u001b[0m: Logged class proportions.\n",
      "\u001b[34m\u001b[1mwandb\u001b[0m: Logged calibration curve.\n",
      "\u001b[34m\u001b[1mwandb\u001b[0m: Logged roc curve.\n",
      "\u001b[34m\u001b[1mwandb\u001b[0m: Logged precision-recall curve.\n"
     ]
    },
    {
     "data": {
      "text/html": [],
      "text/plain": [
       "<IPython.core.display.HTML object>"
      ]
     },
     "metadata": {},
     "output_type": "display_data"
    },
    {
     "data": {
      "text/html": [
       "<br>    <style><br>        .wandb-row {<br>            display: flex;<br>            flex-direction: row;<br>            flex-wrap: wrap;<br>            justify-content: flex-start;<br>            width: 100%;<br>        }<br>        .wandb-col {<br>            display: flex;<br>            flex-direction: column;<br>            flex-basis: 100%;<br>            flex: 1;<br>            padding: 10px;<br>        }<br>    </style><br><div class=\"wandb-row\"><div class=\"wandb-col\"><h3>Run history:</h3><br/><table class=\"wandb\"><tr><td>f1_score</td><td>▁</td></tr><tr><td>f1_score_train</td><td>▁</td></tr><tr><td>f1_score_valid</td><td>▁</td></tr></table><br/></div><div class=\"wandb-col\"><h3>Run summary:</h3><br/><table class=\"wandb\"><tr><td>f1_score</td><td>0.7058</td></tr><tr><td>f1_score_train</td><td>0.91525</td></tr><tr><td>f1_score_valid</td><td>0.61666</td></tr></table><br/></div></div>"
      ],
      "text/plain": [
       "<IPython.core.display.HTML object>"
      ]
     },
     "metadata": {},
     "output_type": "display_data"
    },
    {
     "data": {
      "text/html": [
       " View run <strong style=\"color:#cdcd00\">stellar-sweep-15</strong> at: <a href='https://wandb.ai/nhanthien-sv-hcmute/truck-delay-classification/runs/bf4rfom6' target=\"_blank\">https://wandb.ai/nhanthien-sv-hcmute/truck-delay-classification/runs/bf4rfom6</a><br> View project at: <a href='https://wandb.ai/nhanthien-sv-hcmute/truck-delay-classification' target=\"_blank\">https://wandb.ai/nhanthien-sv-hcmute/truck-delay-classification</a><br>Synced 5 W&B file(s), 7 media file(s), 16 artifact file(s) and 0 other file(s)"
      ],
      "text/plain": [
       "<IPython.core.display.HTML object>"
      ]
     },
     "metadata": {},
     "output_type": "display_data"
    },
    {
     "data": {
      "text/html": [
       "Find logs at: <code>./wandb/run-20250830_123659-bf4rfom6/logs</code>"
      ],
      "text/plain": [
       "<IPython.core.display.HTML object>"
      ]
     },
     "metadata": {},
     "output_type": "display_data"
    },
    {
     "name": "stderr",
     "output_type": "stream",
     "text": [
      "\u001b[34m\u001b[1mwandb\u001b[0m: Agent Starting Run: ty70nyrq with config:\n",
      "\u001b[34m\u001b[1mwandb\u001b[0m: \tmax_depth: None\n",
      "\u001b[34m\u001b[1mwandb\u001b[0m: \tmin_samples_split: 12\n",
      "\u001b[34m\u001b[1mwandb\u001b[0m: \tn_estimators: 20\n"
     ]
    },
    {
     "data": {
      "text/html": [
       "Changes to your `wandb` environment variables will be ignored because your `wandb` session has already started. For more information on how to modify your settings with `wandb.init()` arguments, please refer to <a href='https://wandb.me/wandb-init' target=\"_blank\">the W&B docs</a>."
      ],
      "text/plain": [
       "<IPython.core.display.HTML object>"
      ]
     },
     "metadata": {},
     "output_type": "display_data"
    },
    {
     "data": {
      "text/html": [
       "Ignoring project 'truck-delay-classification' when running a sweep."
      ],
      "text/plain": [
       "<IPython.core.display.HTML object>"
      ]
     },
     "metadata": {},
     "output_type": "display_data"
    },
    {
     "data": {
      "text/html": [
       "creating run (0.0s)"
      ],
      "text/plain": [
       "<IPython.core.display.HTML object>"
      ]
     },
     "metadata": {},
     "output_type": "display_data"
    },
    {
     "data": {
      "text/html": [
       "Tracking run with wandb version 0.21.2"
      ],
      "text/plain": [
       "<IPython.core.display.HTML object>"
      ]
     },
     "metadata": {},
     "output_type": "display_data"
    },
    {
     "data": {
      "text/html": [
       "Run data is saved locally in <code>/home/thnhan301/Documents/PROJECT/GIT/truck-delay-prediction/wandb/run-20250830_123720-ty70nyrq</code>"
      ],
      "text/plain": [
       "<IPython.core.display.HTML object>"
      ]
     },
     "metadata": {},
     "output_type": "display_data"
    },
    {
     "data": {
      "text/html": [
       "Syncing run <strong><a href='https://wandb.ai/nhanthien-sv-hcmute/truck-delay-classification/runs/ty70nyrq' target=\"_blank\">honest-sweep-16</a></strong> to <a href='https://wandb.ai/nhanthien-sv-hcmute/truck-delay-classification' target=\"_blank\">Weights & Biases</a> (<a href='https://wandb.me/developer-guide' target=\"_blank\">docs</a>)<br>Sweep page: <a href='https://wandb.ai/nhanthien-sv-hcmute/truck-delay-classification/sweeps/ze0902xf' target=\"_blank\">https://wandb.ai/nhanthien-sv-hcmute/truck-delay-classification/sweeps/ze0902xf</a>"
      ],
      "text/plain": [
       "<IPython.core.display.HTML object>"
      ]
     },
     "metadata": {},
     "output_type": "display_data"
    },
    {
     "data": {
      "text/html": [
       " View project at <a href='https://wandb.ai/nhanthien-sv-hcmute/truck-delay-classification' target=\"_blank\">https://wandb.ai/nhanthien-sv-hcmute/truck-delay-classification</a>"
      ],
      "text/plain": [
       "<IPython.core.display.HTML object>"
      ]
     },
     "metadata": {},
     "output_type": "display_data"
    },
    {
     "data": {
      "text/html": [
       " View sweep at <a href='https://wandb.ai/nhanthien-sv-hcmute/truck-delay-classification/sweeps/ze0902xf' target=\"_blank\">https://wandb.ai/nhanthien-sv-hcmute/truck-delay-classification/sweeps/ze0902xf</a>"
      ],
      "text/plain": [
       "<IPython.core.display.HTML object>"
      ]
     },
     "metadata": {},
     "output_type": "display_data"
    },
    {
     "data": {
      "text/html": [
       " View run at <a href='https://wandb.ai/nhanthien-sv-hcmute/truck-delay-classification/runs/ty70nyrq' target=\"_blank\">https://wandb.ai/nhanthien-sv-hcmute/truck-delay-classification/runs/ty70nyrq</a>"
      ],
      "text/plain": [
       "<IPython.core.display.HTML object>"
      ]
     },
     "metadata": {},
     "output_type": "display_data"
    },
    {
     "name": "stderr",
     "output_type": "stream",
     "text": [
      "\u001b[34m\u001b[1mwandb\u001b[0m: \n",
      "\u001b[34m\u001b[1mwandb\u001b[0m: Plotting RandomForestClassifier.\n"
     ]
    },
    {
     "name": "stdout",
     "output_type": "stream",
     "text": [
      "F1_score Train: 0.9262\n",
      "F1_score Valid: 0.6263\n",
      "F1_score Test: 0.7143\n"
     ]
    },
    {
     "name": "stderr",
     "output_type": "stream",
     "text": [
      "\u001b[34m\u001b[1mwandb\u001b[0m: Logged feature importances.\n",
      "\u001b[34m\u001b[1mwandb\u001b[0m: Logged confusion matrix.\n",
      "\u001b[34m\u001b[1mwandb\u001b[0m: Logged summary metrics.\n",
      "\u001b[34m\u001b[1mwandb\u001b[0m: Logged class proportions.\n",
      "\u001b[34m\u001b[1mwandb\u001b[0m: Logged calibration curve.\n",
      "\u001b[34m\u001b[1mwandb\u001b[0m: Logged roc curve.\n",
      "\u001b[34m\u001b[1mwandb\u001b[0m: Logged precision-recall curve.\n"
     ]
    },
    {
     "data": {
      "text/html": [],
      "text/plain": [
       "<IPython.core.display.HTML object>"
      ]
     },
     "metadata": {},
     "output_type": "display_data"
    },
    {
     "data": {
      "text/html": [
       "<br>    <style><br>        .wandb-row {<br>            display: flex;<br>            flex-direction: row;<br>            flex-wrap: wrap;<br>            justify-content: flex-start;<br>            width: 100%;<br>        }<br>        .wandb-col {<br>            display: flex;<br>            flex-direction: column;<br>            flex-basis: 100%;<br>            flex: 1;<br>            padding: 10px;<br>        }<br>    </style><br><div class=\"wandb-row\"><div class=\"wandb-col\"><h3>Run history:</h3><br/><table class=\"wandb\"><tr><td>f1_score</td><td>▁</td></tr><tr><td>f1_score_train</td><td>▁</td></tr><tr><td>f1_score_valid</td><td>▁</td></tr></table><br/></div><div class=\"wandb-col\"><h3>Run summary:</h3><br/><table class=\"wandb\"><tr><td>f1_score</td><td>0.71429</td></tr><tr><td>f1_score_train</td><td>0.92616</td></tr><tr><td>f1_score_valid</td><td>0.62629</td></tr></table><br/></div></div>"
      ],
      "text/plain": [
       "<IPython.core.display.HTML object>"
      ]
     },
     "metadata": {},
     "output_type": "display_data"
    },
    {
     "data": {
      "text/html": [
       " View run <strong style=\"color:#cdcd00\">honest-sweep-16</strong> at: <a href='https://wandb.ai/nhanthien-sv-hcmute/truck-delay-classification/runs/ty70nyrq' target=\"_blank\">https://wandb.ai/nhanthien-sv-hcmute/truck-delay-classification/runs/ty70nyrq</a><br> View project at: <a href='https://wandb.ai/nhanthien-sv-hcmute/truck-delay-classification' target=\"_blank\">https://wandb.ai/nhanthien-sv-hcmute/truck-delay-classification</a><br>Synced 5 W&B file(s), 7 media file(s), 16 artifact file(s) and 0 other file(s)"
      ],
      "text/plain": [
       "<IPython.core.display.HTML object>"
      ]
     },
     "metadata": {},
     "output_type": "display_data"
    },
    {
     "data": {
      "text/html": [
       "Find logs at: <code>./wandb/run-20250830_123720-ty70nyrq/logs</code>"
      ],
      "text/plain": [
       "<IPython.core.display.HTML object>"
      ]
     },
     "metadata": {},
     "output_type": "display_data"
    },
    {
     "name": "stderr",
     "output_type": "stream",
     "text": [
      "\u001b[34m\u001b[1mwandb\u001b[0m: Agent Starting Run: h18vssz7 with config:\n",
      "\u001b[34m\u001b[1mwandb\u001b[0m: \tmax_depth: 5\n",
      "\u001b[34m\u001b[1mwandb\u001b[0m: \tmin_samples_split: 2\n",
      "\u001b[34m\u001b[1mwandb\u001b[0m: \tn_estimators: 8\n"
     ]
    },
    {
     "data": {
      "text/html": [
       "Changes to your `wandb` environment variables will be ignored because your `wandb` session has already started. For more information on how to modify your settings with `wandb.init()` arguments, please refer to <a href='https://wandb.me/wandb-init' target=\"_blank\">the W&B docs</a>."
      ],
      "text/plain": [
       "<IPython.core.display.HTML object>"
      ]
     },
     "metadata": {},
     "output_type": "display_data"
    },
    {
     "data": {
      "text/html": [
       "Ignoring project 'truck-delay-classification' when running a sweep."
      ],
      "text/plain": [
       "<IPython.core.display.HTML object>"
      ]
     },
     "metadata": {},
     "output_type": "display_data"
    },
    {
     "data": {
      "text/html": [
       "creating run (0.0s)"
      ],
      "text/plain": [
       "<IPython.core.display.HTML object>"
      ]
     },
     "metadata": {},
     "output_type": "display_data"
    },
    {
     "data": {
      "text/html": [
       "Tracking run with wandb version 0.21.2"
      ],
      "text/plain": [
       "<IPython.core.display.HTML object>"
      ]
     },
     "metadata": {},
     "output_type": "display_data"
    },
    {
     "data": {
      "text/html": [
       "Run data is saved locally in <code>/home/thnhan301/Documents/PROJECT/GIT/truck-delay-prediction/wandb/run-20250830_123742-h18vssz7</code>"
      ],
      "text/plain": [
       "<IPython.core.display.HTML object>"
      ]
     },
     "metadata": {},
     "output_type": "display_data"
    },
    {
     "data": {
      "text/html": [
       "Syncing run <strong><a href='https://wandb.ai/nhanthien-sv-hcmute/truck-delay-classification/runs/h18vssz7' target=\"_blank\">zany-sweep-17</a></strong> to <a href='https://wandb.ai/nhanthien-sv-hcmute/truck-delay-classification' target=\"_blank\">Weights & Biases</a> (<a href='https://wandb.me/developer-guide' target=\"_blank\">docs</a>)<br>Sweep page: <a href='https://wandb.ai/nhanthien-sv-hcmute/truck-delay-classification/sweeps/ze0902xf' target=\"_blank\">https://wandb.ai/nhanthien-sv-hcmute/truck-delay-classification/sweeps/ze0902xf</a>"
      ],
      "text/plain": [
       "<IPython.core.display.HTML object>"
      ]
     },
     "metadata": {},
     "output_type": "display_data"
    },
    {
     "data": {
      "text/html": [
       " View project at <a href='https://wandb.ai/nhanthien-sv-hcmute/truck-delay-classification' target=\"_blank\">https://wandb.ai/nhanthien-sv-hcmute/truck-delay-classification</a>"
      ],
      "text/plain": [
       "<IPython.core.display.HTML object>"
      ]
     },
     "metadata": {},
     "output_type": "display_data"
    },
    {
     "data": {
      "text/html": [
       " View sweep at <a href='https://wandb.ai/nhanthien-sv-hcmute/truck-delay-classification/sweeps/ze0902xf' target=\"_blank\">https://wandb.ai/nhanthien-sv-hcmute/truck-delay-classification/sweeps/ze0902xf</a>"
      ],
      "text/plain": [
       "<IPython.core.display.HTML object>"
      ]
     },
     "metadata": {},
     "output_type": "display_data"
    },
    {
     "data": {
      "text/html": [
       " View run at <a href='https://wandb.ai/nhanthien-sv-hcmute/truck-delay-classification/runs/h18vssz7' target=\"_blank\">https://wandb.ai/nhanthien-sv-hcmute/truck-delay-classification/runs/h18vssz7</a>"
      ],
      "text/plain": [
       "<IPython.core.display.HTML object>"
      ]
     },
     "metadata": {},
     "output_type": "display_data"
    },
    {
     "name": "stderr",
     "output_type": "stream",
     "text": [
      "\u001b[34m\u001b[1mwandb\u001b[0m: \n",
      "\u001b[34m\u001b[1mwandb\u001b[0m: Plotting RandomForestClassifier.\n"
     ]
    },
    {
     "name": "stdout",
     "output_type": "stream",
     "text": [
      "F1_score Train: 0.5937\n",
      "F1_score Valid: 0.6327\n",
      "F1_score Test: 0.7523\n"
     ]
    },
    {
     "name": "stderr",
     "output_type": "stream",
     "text": [
      "\u001b[34m\u001b[1mwandb\u001b[0m: Logged feature importances.\n",
      "\u001b[34m\u001b[1mwandb\u001b[0m: Logged confusion matrix.\n",
      "\u001b[34m\u001b[1mwandb\u001b[0m: Logged summary metrics.\n",
      "\u001b[34m\u001b[1mwandb\u001b[0m: Logged class proportions.\n",
      "\u001b[34m\u001b[1mwandb\u001b[0m: Logged calibration curve.\n",
      "\u001b[34m\u001b[1mwandb\u001b[0m: Logged roc curve.\n",
      "\u001b[34m\u001b[1mwandb\u001b[0m: Logged precision-recall curve.\n"
     ]
    },
    {
     "data": {
      "text/html": [],
      "text/plain": [
       "<IPython.core.display.HTML object>"
      ]
     },
     "metadata": {},
     "output_type": "display_data"
    },
    {
     "data": {
      "text/html": [
       "<br>    <style><br>        .wandb-row {<br>            display: flex;<br>            flex-direction: row;<br>            flex-wrap: wrap;<br>            justify-content: flex-start;<br>            width: 100%;<br>        }<br>        .wandb-col {<br>            display: flex;<br>            flex-direction: column;<br>            flex-basis: 100%;<br>            flex: 1;<br>            padding: 10px;<br>        }<br>    </style><br><div class=\"wandb-row\"><div class=\"wandb-col\"><h3>Run history:</h3><br/><table class=\"wandb\"><tr><td>f1_score</td><td>▁</td></tr><tr><td>f1_score_train</td><td>▁</td></tr><tr><td>f1_score_valid</td><td>▁</td></tr></table><br/></div><div class=\"wandb-col\"><h3>Run summary:</h3><br/><table class=\"wandb\"><tr><td>f1_score</td><td>0.75233</td></tr><tr><td>f1_score_train</td><td>0.59369</td></tr><tr><td>f1_score_valid</td><td>0.63274</td></tr></table><br/></div></div>"
      ],
      "text/plain": [
       "<IPython.core.display.HTML object>"
      ]
     },
     "metadata": {},
     "output_type": "display_data"
    },
    {
     "data": {
      "text/html": [
       " View run <strong style=\"color:#cdcd00\">zany-sweep-17</strong> at: <a href='https://wandb.ai/nhanthien-sv-hcmute/truck-delay-classification/runs/h18vssz7' target=\"_blank\">https://wandb.ai/nhanthien-sv-hcmute/truck-delay-classification/runs/h18vssz7</a><br> View project at: <a href='https://wandb.ai/nhanthien-sv-hcmute/truck-delay-classification' target=\"_blank\">https://wandb.ai/nhanthien-sv-hcmute/truck-delay-classification</a><br>Synced 5 W&B file(s), 7 media file(s), 16 artifact file(s) and 0 other file(s)"
      ],
      "text/plain": [
       "<IPython.core.display.HTML object>"
      ]
     },
     "metadata": {},
     "output_type": "display_data"
    },
    {
     "data": {
      "text/html": [
       "Find logs at: <code>./wandb/run-20250830_123742-h18vssz7/logs</code>"
      ],
      "text/plain": [
       "<IPython.core.display.HTML object>"
      ]
     },
     "metadata": {},
     "output_type": "display_data"
    },
    {
     "name": "stderr",
     "output_type": "stream",
     "text": [
      "\u001b[34m\u001b[1mwandb\u001b[0m: Agent Starting Run: w6shzdgj with config:\n",
      "\u001b[34m\u001b[1mwandb\u001b[0m: \tmax_depth: 5\n",
      "\u001b[34m\u001b[1mwandb\u001b[0m: \tmin_samples_split: 2\n",
      "\u001b[34m\u001b[1mwandb\u001b[0m: \tn_estimators: 12\n"
     ]
    },
    {
     "data": {
      "text/html": [
       "Changes to your `wandb` environment variables will be ignored because your `wandb` session has already started. For more information on how to modify your settings with `wandb.init()` arguments, please refer to <a href='https://wandb.me/wandb-init' target=\"_blank\">the W&B docs</a>."
      ],
      "text/plain": [
       "<IPython.core.display.HTML object>"
      ]
     },
     "metadata": {},
     "output_type": "display_data"
    },
    {
     "data": {
      "text/html": [
       "Ignoring project 'truck-delay-classification' when running a sweep."
      ],
      "text/plain": [
       "<IPython.core.display.HTML object>"
      ]
     },
     "metadata": {},
     "output_type": "display_data"
    },
    {
     "data": {
      "text/html": [
       "creating run (0.0s)"
      ],
      "text/plain": [
       "<IPython.core.display.HTML object>"
      ]
     },
     "metadata": {},
     "output_type": "display_data"
    },
    {
     "data": {
      "text/html": [
       "Tracking run with wandb version 0.21.2"
      ],
      "text/plain": [
       "<IPython.core.display.HTML object>"
      ]
     },
     "metadata": {},
     "output_type": "display_data"
    },
    {
     "data": {
      "text/html": [
       "Run data is saved locally in <code>/home/thnhan301/Documents/PROJECT/GIT/truck-delay-prediction/wandb/run-20250830_123803-w6shzdgj</code>"
      ],
      "text/plain": [
       "<IPython.core.display.HTML object>"
      ]
     },
     "metadata": {},
     "output_type": "display_data"
    },
    {
     "data": {
      "text/html": [
       "Syncing run <strong><a href='https://wandb.ai/nhanthien-sv-hcmute/truck-delay-classification/runs/w6shzdgj' target=\"_blank\">eternal-sweep-18</a></strong> to <a href='https://wandb.ai/nhanthien-sv-hcmute/truck-delay-classification' target=\"_blank\">Weights & Biases</a> (<a href='https://wandb.me/developer-guide' target=\"_blank\">docs</a>)<br>Sweep page: <a href='https://wandb.ai/nhanthien-sv-hcmute/truck-delay-classification/sweeps/ze0902xf' target=\"_blank\">https://wandb.ai/nhanthien-sv-hcmute/truck-delay-classification/sweeps/ze0902xf</a>"
      ],
      "text/plain": [
       "<IPython.core.display.HTML object>"
      ]
     },
     "metadata": {},
     "output_type": "display_data"
    },
    {
     "data": {
      "text/html": [
       " View project at <a href='https://wandb.ai/nhanthien-sv-hcmute/truck-delay-classification' target=\"_blank\">https://wandb.ai/nhanthien-sv-hcmute/truck-delay-classification</a>"
      ],
      "text/plain": [
       "<IPython.core.display.HTML object>"
      ]
     },
     "metadata": {},
     "output_type": "display_data"
    },
    {
     "data": {
      "text/html": [
       " View sweep at <a href='https://wandb.ai/nhanthien-sv-hcmute/truck-delay-classification/sweeps/ze0902xf' target=\"_blank\">https://wandb.ai/nhanthien-sv-hcmute/truck-delay-classification/sweeps/ze0902xf</a>"
      ],
      "text/plain": [
       "<IPython.core.display.HTML object>"
      ]
     },
     "metadata": {},
     "output_type": "display_data"
    },
    {
     "data": {
      "text/html": [
       " View run at <a href='https://wandb.ai/nhanthien-sv-hcmute/truck-delay-classification/runs/w6shzdgj' target=\"_blank\">https://wandb.ai/nhanthien-sv-hcmute/truck-delay-classification/runs/w6shzdgj</a>"
      ],
      "text/plain": [
       "<IPython.core.display.HTML object>"
      ]
     },
     "metadata": {},
     "output_type": "display_data"
    },
    {
     "name": "stderr",
     "output_type": "stream",
     "text": [
      "\u001b[34m\u001b[1mwandb\u001b[0m: \n",
      "\u001b[34m\u001b[1mwandb\u001b[0m: Plotting RandomForestClassifier.\n"
     ]
    },
    {
     "name": "stdout",
     "output_type": "stream",
     "text": [
      "F1_score Train: 0.5724\n",
      "F1_score Valid: 0.6622\n",
      "F1_score Test: 0.7579\n"
     ]
    },
    {
     "name": "stderr",
     "output_type": "stream",
     "text": [
      "\u001b[34m\u001b[1mwandb\u001b[0m: Logged feature importances.\n",
      "\u001b[34m\u001b[1mwandb\u001b[0m: Logged confusion matrix.\n",
      "\u001b[34m\u001b[1mwandb\u001b[0m: Logged summary metrics.\n",
      "\u001b[34m\u001b[1mwandb\u001b[0m: Logged class proportions.\n",
      "\u001b[34m\u001b[1mwandb\u001b[0m: Logged calibration curve.\n",
      "\u001b[34m\u001b[1mwandb\u001b[0m: Logged roc curve.\n",
      "\u001b[34m\u001b[1mwandb\u001b[0m: Logged precision-recall curve.\n"
     ]
    },
    {
     "data": {
      "text/html": [],
      "text/plain": [
       "<IPython.core.display.HTML object>"
      ]
     },
     "metadata": {},
     "output_type": "display_data"
    },
    {
     "data": {
      "text/html": [
       "<br>    <style><br>        .wandb-row {<br>            display: flex;<br>            flex-direction: row;<br>            flex-wrap: wrap;<br>            justify-content: flex-start;<br>            width: 100%;<br>        }<br>        .wandb-col {<br>            display: flex;<br>            flex-direction: column;<br>            flex-basis: 100%;<br>            flex: 1;<br>            padding: 10px;<br>        }<br>    </style><br><div class=\"wandb-row\"><div class=\"wandb-col\"><h3>Run history:</h3><br/><table class=\"wandb\"><tr><td>f1_score</td><td>▁</td></tr><tr><td>f1_score_train</td><td>▁</td></tr><tr><td>f1_score_valid</td><td>▁</td></tr></table><br/></div><div class=\"wandb-col\"><h3>Run summary:</h3><br/><table class=\"wandb\"><tr><td>f1_score</td><td>0.75791</td></tr><tr><td>f1_score_train</td><td>0.57235</td></tr><tr><td>f1_score_valid</td><td>0.66224</td></tr></table><br/></div></div>"
      ],
      "text/plain": [
       "<IPython.core.display.HTML object>"
      ]
     },
     "metadata": {},
     "output_type": "display_data"
    },
    {
     "data": {
      "text/html": [
       " View run <strong style=\"color:#cdcd00\">eternal-sweep-18</strong> at: <a href='https://wandb.ai/nhanthien-sv-hcmute/truck-delay-classification/runs/w6shzdgj' target=\"_blank\">https://wandb.ai/nhanthien-sv-hcmute/truck-delay-classification/runs/w6shzdgj</a><br> View project at: <a href='https://wandb.ai/nhanthien-sv-hcmute/truck-delay-classification' target=\"_blank\">https://wandb.ai/nhanthien-sv-hcmute/truck-delay-classification</a><br>Synced 5 W&B file(s), 7 media file(s), 16 artifact file(s) and 0 other file(s)"
      ],
      "text/plain": [
       "<IPython.core.display.HTML object>"
      ]
     },
     "metadata": {},
     "output_type": "display_data"
    },
    {
     "data": {
      "text/html": [
       "Find logs at: <code>./wandb/run-20250830_123803-w6shzdgj/logs</code>"
      ],
      "text/plain": [
       "<IPython.core.display.HTML object>"
      ]
     },
     "metadata": {},
     "output_type": "display_data"
    },
    {
     "name": "stderr",
     "output_type": "stream",
     "text": [
      "\u001b[34m\u001b[1mwandb\u001b[0m: Agent Starting Run: e8lky1bo with config:\n",
      "\u001b[34m\u001b[1mwandb\u001b[0m: \tmax_depth: 5\n",
      "\u001b[34m\u001b[1mwandb\u001b[0m: \tmin_samples_split: 2\n",
      "\u001b[34m\u001b[1mwandb\u001b[0m: \tn_estimators: 16\n"
     ]
    },
    {
     "data": {
      "text/html": [
       "Changes to your `wandb` environment variables will be ignored because your `wandb` session has already started. For more information on how to modify your settings with `wandb.init()` arguments, please refer to <a href='https://wandb.me/wandb-init' target=\"_blank\">the W&B docs</a>."
      ],
      "text/plain": [
       "<IPython.core.display.HTML object>"
      ]
     },
     "metadata": {},
     "output_type": "display_data"
    },
    {
     "data": {
      "text/html": [
       "Ignoring project 'truck-delay-classification' when running a sweep."
      ],
      "text/plain": [
       "<IPython.core.display.HTML object>"
      ]
     },
     "metadata": {},
     "output_type": "display_data"
    },
    {
     "data": {
      "text/html": [
       "creating run (0.0s)"
      ],
      "text/plain": [
       "<IPython.core.display.HTML object>"
      ]
     },
     "metadata": {},
     "output_type": "display_data"
    },
    {
     "data": {
      "text/html": [
       "Tracking run with wandb version 0.21.2"
      ],
      "text/plain": [
       "<IPython.core.display.HTML object>"
      ]
     },
     "metadata": {},
     "output_type": "display_data"
    },
    {
     "data": {
      "text/html": [
       "Run data is saved locally in <code>/home/thnhan301/Documents/PROJECT/GIT/truck-delay-prediction/wandb/run-20250830_123824-e8lky1bo</code>"
      ],
      "text/plain": [
       "<IPython.core.display.HTML object>"
      ]
     },
     "metadata": {},
     "output_type": "display_data"
    },
    {
     "data": {
      "text/html": [
       "Syncing run <strong><a href='https://wandb.ai/nhanthien-sv-hcmute/truck-delay-classification/runs/e8lky1bo' target=\"_blank\">neat-sweep-19</a></strong> to <a href='https://wandb.ai/nhanthien-sv-hcmute/truck-delay-classification' target=\"_blank\">Weights & Biases</a> (<a href='https://wandb.me/developer-guide' target=\"_blank\">docs</a>)<br>Sweep page: <a href='https://wandb.ai/nhanthien-sv-hcmute/truck-delay-classification/sweeps/ze0902xf' target=\"_blank\">https://wandb.ai/nhanthien-sv-hcmute/truck-delay-classification/sweeps/ze0902xf</a>"
      ],
      "text/plain": [
       "<IPython.core.display.HTML object>"
      ]
     },
     "metadata": {},
     "output_type": "display_data"
    },
    {
     "data": {
      "text/html": [
       " View project at <a href='https://wandb.ai/nhanthien-sv-hcmute/truck-delay-classification' target=\"_blank\">https://wandb.ai/nhanthien-sv-hcmute/truck-delay-classification</a>"
      ],
      "text/plain": [
       "<IPython.core.display.HTML object>"
      ]
     },
     "metadata": {},
     "output_type": "display_data"
    },
    {
     "data": {
      "text/html": [
       " View sweep at <a href='https://wandb.ai/nhanthien-sv-hcmute/truck-delay-classification/sweeps/ze0902xf' target=\"_blank\">https://wandb.ai/nhanthien-sv-hcmute/truck-delay-classification/sweeps/ze0902xf</a>"
      ],
      "text/plain": [
       "<IPython.core.display.HTML object>"
      ]
     },
     "metadata": {},
     "output_type": "display_data"
    },
    {
     "data": {
      "text/html": [
       " View run at <a href='https://wandb.ai/nhanthien-sv-hcmute/truck-delay-classification/runs/e8lky1bo' target=\"_blank\">https://wandb.ai/nhanthien-sv-hcmute/truck-delay-classification/runs/e8lky1bo</a>"
      ],
      "text/plain": [
       "<IPython.core.display.HTML object>"
      ]
     },
     "metadata": {},
     "output_type": "display_data"
    },
    {
     "name": "stderr",
     "output_type": "stream",
     "text": [
      "\u001b[34m\u001b[1mwandb\u001b[0m: \n",
      "\u001b[34m\u001b[1mwandb\u001b[0m: Plotting RandomForestClassifier.\n"
     ]
    },
    {
     "name": "stdout",
     "output_type": "stream",
     "text": [
      "F1_score Train: 0.5791\n",
      "F1_score Valid: 0.6582\n",
      "F1_score Test: 0.7638\n"
     ]
    },
    {
     "name": "stderr",
     "output_type": "stream",
     "text": [
      "\u001b[34m\u001b[1mwandb\u001b[0m: Logged feature importances.\n",
      "\u001b[34m\u001b[1mwandb\u001b[0m: Logged confusion matrix.\n",
      "\u001b[34m\u001b[1mwandb\u001b[0m: Logged summary metrics.\n",
      "\u001b[34m\u001b[1mwandb\u001b[0m: Logged class proportions.\n",
      "\u001b[34m\u001b[1mwandb\u001b[0m: Logged calibration curve.\n",
      "\u001b[34m\u001b[1mwandb\u001b[0m: Logged roc curve.\n",
      "\u001b[34m\u001b[1mwandb\u001b[0m: Logged precision-recall curve.\n"
     ]
    },
    {
     "data": {
      "text/html": [],
      "text/plain": [
       "<IPython.core.display.HTML object>"
      ]
     },
     "metadata": {},
     "output_type": "display_data"
    },
    {
     "data": {
      "text/html": [
       "<br>    <style><br>        .wandb-row {<br>            display: flex;<br>            flex-direction: row;<br>            flex-wrap: wrap;<br>            justify-content: flex-start;<br>            width: 100%;<br>        }<br>        .wandb-col {<br>            display: flex;<br>            flex-direction: column;<br>            flex-basis: 100%;<br>            flex: 1;<br>            padding: 10px;<br>        }<br>    </style><br><div class=\"wandb-row\"><div class=\"wandb-col\"><h3>Run history:</h3><br/><table class=\"wandb\"><tr><td>f1_score</td><td>▁</td></tr><tr><td>f1_score_train</td><td>▁</td></tr><tr><td>f1_score_valid</td><td>▁</td></tr></table><br/></div><div class=\"wandb-col\"><h3>Run summary:</h3><br/><table class=\"wandb\"><tr><td>f1_score</td><td>0.76377</td></tr><tr><td>f1_score_train</td><td>0.57905</td></tr><tr><td>f1_score_valid</td><td>0.65817</td></tr></table><br/></div></div>"
      ],
      "text/plain": [
       "<IPython.core.display.HTML object>"
      ]
     },
     "metadata": {},
     "output_type": "display_data"
    },
    {
     "data": {
      "text/html": [
       " View run <strong style=\"color:#cdcd00\">neat-sweep-19</strong> at: <a href='https://wandb.ai/nhanthien-sv-hcmute/truck-delay-classification/runs/e8lky1bo' target=\"_blank\">https://wandb.ai/nhanthien-sv-hcmute/truck-delay-classification/runs/e8lky1bo</a><br> View project at: <a href='https://wandb.ai/nhanthien-sv-hcmute/truck-delay-classification' target=\"_blank\">https://wandb.ai/nhanthien-sv-hcmute/truck-delay-classification</a><br>Synced 5 W&B file(s), 7 media file(s), 16 artifact file(s) and 0 other file(s)"
      ],
      "text/plain": [
       "<IPython.core.display.HTML object>"
      ]
     },
     "metadata": {},
     "output_type": "display_data"
    },
    {
     "data": {
      "text/html": [
       "Find logs at: <code>./wandb/run-20250830_123824-e8lky1bo/logs</code>"
      ],
      "text/plain": [
       "<IPython.core.display.HTML object>"
      ]
     },
     "metadata": {},
     "output_type": "display_data"
    },
    {
     "name": "stderr",
     "output_type": "stream",
     "text": [
      "\u001b[34m\u001b[1mwandb\u001b[0m: Agent Starting Run: 8aep33j2 with config:\n",
      "\u001b[34m\u001b[1mwandb\u001b[0m: \tmax_depth: 5\n",
      "\u001b[34m\u001b[1mwandb\u001b[0m: \tmin_samples_split: 2\n",
      "\u001b[34m\u001b[1mwandb\u001b[0m: \tn_estimators: 20\n"
     ]
    },
    {
     "data": {
      "text/html": [
       "Changes to your `wandb` environment variables will be ignored because your `wandb` session has already started. For more information on how to modify your settings with `wandb.init()` arguments, please refer to <a href='https://wandb.me/wandb-init' target=\"_blank\">the W&B docs</a>."
      ],
      "text/plain": [
       "<IPython.core.display.HTML object>"
      ]
     },
     "metadata": {},
     "output_type": "display_data"
    },
    {
     "data": {
      "text/html": [
       "Ignoring project 'truck-delay-classification' when running a sweep."
      ],
      "text/plain": [
       "<IPython.core.display.HTML object>"
      ]
     },
     "metadata": {},
     "output_type": "display_data"
    },
    {
     "data": {
      "text/html": [
       "creating run (0.0s)"
      ],
      "text/plain": [
       "<IPython.core.display.HTML object>"
      ]
     },
     "metadata": {},
     "output_type": "display_data"
    },
    {
     "data": {
      "text/html": [
       "Tracking run with wandb version 0.21.2"
      ],
      "text/plain": [
       "<IPython.core.display.HTML object>"
      ]
     },
     "metadata": {},
     "output_type": "display_data"
    },
    {
     "data": {
      "text/html": [
       "Run data is saved locally in <code>/home/thnhan301/Documents/PROJECT/GIT/truck-delay-prediction/wandb/run-20250830_123845-8aep33j2</code>"
      ],
      "text/plain": [
       "<IPython.core.display.HTML object>"
      ]
     },
     "metadata": {},
     "output_type": "display_data"
    },
    {
     "data": {
      "text/html": [
       "Syncing run <strong><a href='https://wandb.ai/nhanthien-sv-hcmute/truck-delay-classification/runs/8aep33j2' target=\"_blank\">scarlet-sweep-20</a></strong> to <a href='https://wandb.ai/nhanthien-sv-hcmute/truck-delay-classification' target=\"_blank\">Weights & Biases</a> (<a href='https://wandb.me/developer-guide' target=\"_blank\">docs</a>)<br>Sweep page: <a href='https://wandb.ai/nhanthien-sv-hcmute/truck-delay-classification/sweeps/ze0902xf' target=\"_blank\">https://wandb.ai/nhanthien-sv-hcmute/truck-delay-classification/sweeps/ze0902xf</a>"
      ],
      "text/plain": [
       "<IPython.core.display.HTML object>"
      ]
     },
     "metadata": {},
     "output_type": "display_data"
    },
    {
     "data": {
      "text/html": [
       " View project at <a href='https://wandb.ai/nhanthien-sv-hcmute/truck-delay-classification' target=\"_blank\">https://wandb.ai/nhanthien-sv-hcmute/truck-delay-classification</a>"
      ],
      "text/plain": [
       "<IPython.core.display.HTML object>"
      ]
     },
     "metadata": {},
     "output_type": "display_data"
    },
    {
     "data": {
      "text/html": [
       " View sweep at <a href='https://wandb.ai/nhanthien-sv-hcmute/truck-delay-classification/sweeps/ze0902xf' target=\"_blank\">https://wandb.ai/nhanthien-sv-hcmute/truck-delay-classification/sweeps/ze0902xf</a>"
      ],
      "text/plain": [
       "<IPython.core.display.HTML object>"
      ]
     },
     "metadata": {},
     "output_type": "display_data"
    },
    {
     "data": {
      "text/html": [
       " View run at <a href='https://wandb.ai/nhanthien-sv-hcmute/truck-delay-classification/runs/8aep33j2' target=\"_blank\">https://wandb.ai/nhanthien-sv-hcmute/truck-delay-classification/runs/8aep33j2</a>"
      ],
      "text/plain": [
       "<IPython.core.display.HTML object>"
      ]
     },
     "metadata": {},
     "output_type": "display_data"
    },
    {
     "name": "stderr",
     "output_type": "stream",
     "text": [
      "\u001b[34m\u001b[1mwandb\u001b[0m: \n",
      "\u001b[34m\u001b[1mwandb\u001b[0m: Plotting RandomForestClassifier.\n"
     ]
    },
    {
     "name": "stdout",
     "output_type": "stream",
     "text": [
      "F1_score Train: 0.5806\n",
      "F1_score Valid: 0.6571\n",
      "F1_score Test: 0.7633\n"
     ]
    },
    {
     "name": "stderr",
     "output_type": "stream",
     "text": [
      "\u001b[34m\u001b[1mwandb\u001b[0m: Logged feature importances.\n",
      "\u001b[34m\u001b[1mwandb\u001b[0m: Logged confusion matrix.\n",
      "\u001b[34m\u001b[1mwandb\u001b[0m: Logged summary metrics.\n",
      "\u001b[34m\u001b[1mwandb\u001b[0m: Logged class proportions.\n",
      "\u001b[34m\u001b[1mwandb\u001b[0m: Logged calibration curve.\n",
      "\u001b[34m\u001b[1mwandb\u001b[0m: Logged roc curve.\n",
      "\u001b[34m\u001b[1mwandb\u001b[0m: Logged precision-recall curve.\n"
     ]
    },
    {
     "data": {
      "text/html": [
       "uploading artifact run-8aep33j2-precision_recall_table (2.5s)<br>uploading artifact RandomForestClassifier (1.4s)<br>  ↳ random_f_tuned.pkl 95.9KB/95.9KB (0.0s)<br>uploading output.log 459B/459B (0.7s)<br>uploading config.yaml 5.7KB/5.7KB (0.3s)"
      ],
      "text/plain": [
       "<IPython.core.display.HTML object>"
      ]
     },
     "metadata": {},
     "output_type": "display_data"
    },
    {
     "name": "stderr",
     "output_type": "stream",
     "text": [
      "\u001b[34m\u001b[1mwandb\u001b[0m: Ctrl + C detected. Stopping sweep.\n"
     ]
    },
    {
     "name": "stderr",
     "output_type": "stream",
     "text": [
      "\u001b[34m\u001b[1mwandb\u001b[0m: \u001b[32m\u001b[41mERROR\u001b[0m Problem finishing run\n",
      "Traceback (most recent call last):\n",
      "  File \"/home/thnhan301/anaconda3/envs/llm/lib/python3.10/site-packages/wandb/agents/pyagent.py\", line 297, in _run_job\n",
      "    self._function()\n",
      "  File \"/tmp/ipykernel_11687/92056521.py\", line 6, in train_rf_model\n",
      "    with wandb.init(\n",
      "  File \"/home/thnhan301/anaconda3/envs/llm/lib/python3.10/site-packages/wandb/sdk/wandb_run.py\", line 3626, in __exit__\n",
      "    self._finish(exit_code=exit_code)\n",
      "  File \"/home/thnhan301/anaconda3/envs/llm/lib/python3.10/site-packages/wandb/sdk/wandb_run.py\", line 399, in wrapper\n",
      "    return func(self, *args, **kwargs)\n",
      "  File \"/home/thnhan301/anaconda3/envs/llm/lib/python3.10/site-packages/wandb/sdk/wandb_run.py\", line 2276, in _finish\n",
      "    self._atexit_cleanup(exit_code=exit_code)\n",
      "  File \"/home/thnhan301/anaconda3/envs/llm/lib/python3.10/site-packages/wandb/sdk/wandb_run.py\", line 2471, in _atexit_cleanup\n",
      "    self._on_finish()\n",
      "  File \"/home/thnhan301/anaconda3/envs/llm/lib/python3.10/site-packages/wandb/sdk/wandb_run.py\", line 2723, in _on_finish\n",
      "    wait_with_progress(\n",
      "  File \"/home/thnhan301/anaconda3/envs/llm/lib/python3.10/site-packages/wandb/sdk/mailbox/wait_with_progress.py\", line 23, in wait_with_progress\n",
      "    return wait_all_with_progress(\n",
      "  File \"/home/thnhan301/anaconda3/envs/llm/lib/python3.10/site-packages/wandb/sdk/mailbox/wait_with_progress.py\", line 77, in wait_all_with_progress\n",
      "    return asyncer.run(progress_loop_with_timeout)\n",
      "  File \"/home/thnhan301/anaconda3/envs/llm/lib/python3.10/site-packages/wandb/sdk/lib/asyncio_manager.py\", line 136, in run\n",
      "    return future.result()\n",
      "  File \"/home/thnhan301/anaconda3/envs/llm/lib/python3.10/concurrent/futures/_base.py\", line 458, in result\n",
      "    return self.__get_result()\n",
      "  File \"/home/thnhan301/anaconda3/envs/llm/lib/python3.10/concurrent/futures/_base.py\", line 403, in __get_result\n",
      "    raise self._exception\n",
      "  File \"/home/thnhan301/anaconda3/envs/llm/lib/python3.10/site-packages/wandb/sdk/lib/asyncio_manager.py\", line 219, in _wrap\n",
      "    return await fn()\n",
      "  File \"/home/thnhan301/anaconda3/envs/llm/lib/python3.10/site-packages/wandb/sdk/mailbox/wait_with_progress.py\", line 72, in progress_loop_with_timeout\n",
      "    return await _wait_handles_async(\n",
      "  File \"/home/thnhan301/anaconda3/envs/llm/lib/python3.10/site-packages/wandb/sdk/mailbox/wait_with_progress.py\", line 95, in _wait_handles_async\n",
      "    async with asyncio_compat.open_task_group() as task_group:\n",
      "  File \"/home/thnhan301/anaconda3/envs/llm/lib/python3.10/contextlib.py\", line 206, in __aexit__\n",
      "    await anext(self.gen)\n",
      "  File \"/home/thnhan301/anaconda3/envs/llm/lib/python3.10/site-packages/wandb/sdk/lib/asyncio_compat.py\", line 192, in open_task_group\n",
      "    await task_group._wait_all()\n",
      "  File \"/home/thnhan301/anaconda3/envs/llm/lib/python3.10/site-packages/wandb/sdk/lib/asyncio_compat.py\", line 163, in _wait_all\n",
      "    raise exc\n",
      "  File \"/home/thnhan301/anaconda3/envs/llm/lib/python3.10/site-packages/wandb/sdk/mailbox/wait_with_progress.py\", line 93, in wait_single\n",
      "    results[index] = await handle.wait_async(timeout=timeout)\n",
      "  File \"/home/thnhan301/anaconda3/envs/llm/lib/python3.10/site-packages/wandb/sdk/mailbox/mailbox_handle.py\", line 131, in wait_async\n",
      "    response = await self._handle.wait_async(timeout=timeout)\n",
      "  File \"/home/thnhan301/anaconda3/envs/llm/lib/python3.10/site-packages/wandb/sdk/mailbox/response_handle.py\", line 99, in wait_async\n",
      "    raise HandleAbandonedError()\n",
      "wandb.sdk.mailbox.mailbox_handle.HandleAbandonedError\n",
      "\n"
     ]
    }
   ],
   "source": [
    "sweep_configs = {\n",
    "    \"method\": \"grid\",\n",
    "    \"metric\": {\n",
    "        \"name\": \"f1_score\",\n",
    "        \"goal\": \"maximize\"\n",
    "    },\n",
    "    \"parameters\": {\n",
    "        \"n_estimators\": {\n",
    "            \"values\": [8, 12, 16,20]\n",
    "        },\n",
    "        \"max_depth\": {\n",
    "            \"values\": [None, 5, 10, 15, 20]\n",
    "        },\n",
    "        \"min_samples_split\": {\n",
    "            \"values\": [2, 4, 8, 12]\n",
    "        }\n",
    "    }\n",
    "}\n",
    "\n",
    "sweep_id = wandb.sweep(\n",
    "    sweep=sweep_configs,\n",
    "    project=PROJECT_NAME\n",
    ")\n",
    "\n",
    "\n",
    "\n",
    "wandb.agent(\n",
    "    project=PROJECT_NAME,\n",
    "    sweep_id=sweep_id,\n",
    "    function=train_rf_model\n",
    ")"
   ]
  },
  {
   "cell_type": "code",
   "execution_count": null,
   "id": "484a1580",
   "metadata": {},
   "outputs": [],
   "source": []
  },
  {
   "cell_type": "code",
   "execution_count": null,
   "id": "aee151f4",
   "metadata": {},
   "outputs": [],
   "source": []
  }
 ],
 "metadata": {
  "kernelspec": {
   "display_name": "llm",
   "language": "python",
   "name": "python3"
  },
  "language_info": {
   "codemirror_mode": {
    "name": "ipython",
    "version": 3
   },
   "file_extension": ".py",
   "mimetype": "text/x-python",
   "name": "python",
   "nbconvert_exporter": "python",
   "pygments_lexer": "ipython3",
   "version": "3.10.18"
  }
 },
 "nbformat": 4,
 "nbformat_minor": 5
}
