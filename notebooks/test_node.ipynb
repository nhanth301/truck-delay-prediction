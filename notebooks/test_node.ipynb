{
 "cells": [
  {
   "cell_type": "code",
   "execution_count": 1,
   "id": "f4f98d44",
   "metadata": {},
   "outputs": [],
   "source": [
    "from pipeline.utils import load_config\n",
    "config = load_config()"
   ]
  },
  {
   "cell_type": "code",
   "execution_count": null,
   "id": "669dd8b6",
   "metadata": {},
   "outputs": [],
   "source": [
    "from pipeline.data_prep import create_postgres_connection, read_data, create_mysql_connection"
   ]
  },
  {
   "cell_type": "code",
   "execution_count": 3,
   "id": "2549f645",
   "metadata": {},
   "outputs": [
    {
     "name": "stdout",
     "output_type": "stream",
     "text": [
      "Connected to MySQL database successfully!\n"
     ]
    }
   ],
   "source": [
    "p_conn = create_postgres_connection(config)\n",
    "m_conn = create_mysql_connection(config)"
   ]
  },
  {
   "cell_type": "code",
   "execution_count": 4,
   "id": "e873f1ec",
   "metadata": {},
   "outputs": [
    {
     "name": "stderr",
     "output_type": "stream",
     "text": [
      "UserWarning: pandas only supports SQLAlchemy connectable (engine/connection) or database string URI or sqlite3 DBAPI2 connection. Other DBAPI2 objects are not tested. Please consider using SQLAlchemy.\n"
     ]
    }
   ],
   "source": [
    "res = read_data(p_conn, '\"CONSTANT\"').iloc[0].to_dict()"
   ]
  },
  {
   "cell_type": "code",
   "execution_count": 5,
   "id": "04730c14",
   "metadata": {},
   "outputs": [],
   "source": [
    "from dataclasses import dataclass\n",
    "from datetime import date\n",
    "import datetime\n",
    "@dataclass\n",
    "class State:\n",
    "    date: date\n",
    "    dayofweek: int"
   ]
  },
  {
   "cell_type": "code",
   "execution_count": 6,
   "id": "90504da6",
   "metadata": {},
   "outputs": [
    {
     "data": {
      "text/plain": [
       "State(date=datetime.date(2023, 2, 15), dayofweek=1)"
      ]
     },
     "execution_count": 6,
     "metadata": {},
     "output_type": "execute_result"
    }
   ],
   "source": [
    "state = State(date=res['date'],dayofweek=res['dayofweek'])\n",
    "state"
   ]
  },
  {
   "cell_type": "code",
   "execution_count": 7,
   "id": "4788df11",
   "metadata": {},
   "outputs": [],
   "source": [
    "mysql_tables = ['traffic_details', 'truck_schedule_data', 'city_weather']\n",
    "postgres_tables = ['routes_weather']"
   ]
  },
  {
   "cell_type": "code",
   "execution_count": 8,
   "id": "25a81a6b",
   "metadata": {},
   "outputs": [],
   "source": [
    "traffic_df = read_data(m_conn,mysql_tables[0])\n",
    "truck_schedule_df = read_data(m_conn,mysql_tables[1])\n",
    "city_weather_df = read_data(m_conn,mysql_tables[2])\n",
    "route_weather_df = read_data(p_conn,postgres_tables[0])"
   ]
  },
  {
   "cell_type": "code",
   "execution_count": 9,
   "id": "a661eb52",
   "metadata": {},
   "outputs": [
    {
     "data": {
      "text/html": [
       "<div>\n",
       "<style scoped>\n",
       "    .dataframe tbody tr th:only-of-type {\n",
       "        vertical-align: middle;\n",
       "    }\n",
       "\n",
       "    .dataframe tbody tr th {\n",
       "        vertical-align: top;\n",
       "    }\n",
       "\n",
       "    .dataframe thead th {\n",
       "        text-align: right;\n",
       "    }\n",
       "</style>\n",
       "<table border=\"1\" class=\"dataframe\">\n",
       "  <thead>\n",
       "    <tr style=\"text-align: right;\">\n",
       "      <th></th>\n",
       "      <th>route_id</th>\n",
       "      <th>date</th>\n",
       "      <th>hour</th>\n",
       "      <th>no_of_vehicles</th>\n",
       "      <th>accident</th>\n",
       "    </tr>\n",
       "  </thead>\n",
       "  <tbody>\n",
       "    <tr>\n",
       "      <th>0</th>\n",
       "      <td>R-ada2a391</td>\n",
       "      <td>2019-01-01</td>\n",
       "      <td>0</td>\n",
       "      <td>669.0</td>\n",
       "      <td>0</td>\n",
       "    </tr>\n",
       "  </tbody>\n",
       "</table>\n",
       "</div>"
      ],
      "text/plain": [
       "     route_id        date  hour  no_of_vehicles  accident\n",
       "0  R-ada2a391  2019-01-01     0           669.0         0"
      ]
     },
     "execution_count": 9,
     "metadata": {},
     "output_type": "execute_result"
    }
   ],
   "source": [
    "traffic_df.head(1)"
   ]
  },
  {
   "cell_type": "code",
   "execution_count": 10,
   "id": "a29e8d32",
   "metadata": {},
   "outputs": [
    {
     "data": {
      "text/html": [
       "<div>\n",
       "<style scoped>\n",
       "    .dataframe tbody tr th:only-of-type {\n",
       "        vertical-align: middle;\n",
       "    }\n",
       "\n",
       "    .dataframe tbody tr th {\n",
       "        vertical-align: top;\n",
       "    }\n",
       "\n",
       "    .dataframe thead th {\n",
       "        text-align: right;\n",
       "    }\n",
       "</style>\n",
       "<table border=\"1\" class=\"dataframe\">\n",
       "  <thead>\n",
       "    <tr style=\"text-align: right;\">\n",
       "      <th></th>\n",
       "      <th>truck_id</th>\n",
       "      <th>route_id</th>\n",
       "      <th>departure_date</th>\n",
       "      <th>estimated_arrival</th>\n",
       "      <th>delay</th>\n",
       "    </tr>\n",
       "  </thead>\n",
       "  <tbody>\n",
       "    <tr>\n",
       "      <th>0</th>\n",
       "      <td>30312694</td>\n",
       "      <td>R-b236e347</td>\n",
       "      <td>2019-01-01 07:00:00</td>\n",
       "      <td>2019-01-01 13:13:12.</td>\n",
       "      <td>0</td>\n",
       "    </tr>\n",
       "  </tbody>\n",
       "</table>\n",
       "</div>"
      ],
      "text/plain": [
       "   truck_id    route_id      departure_date     estimated_arrival  delay\n",
       "0  30312694  R-b236e347 2019-01-01 07:00:00  2019-01-01 13:13:12.      0"
      ]
     },
     "execution_count": 10,
     "metadata": {},
     "output_type": "execute_result"
    }
   ],
   "source": [
    "truck_schedule_df.head(1)"
   ]
  },
  {
   "cell_type": "code",
   "execution_count": 11,
   "id": "8c573459",
   "metadata": {},
   "outputs": [
    {
     "data": {
      "text/html": [
       "<div>\n",
       "<style scoped>\n",
       "    .dataframe tbody tr th:only-of-type {\n",
       "        vertical-align: middle;\n",
       "    }\n",
       "\n",
       "    .dataframe tbody tr th {\n",
       "        vertical-align: top;\n",
       "    }\n",
       "\n",
       "    .dataframe thead th {\n",
       "        text-align: right;\n",
       "    }\n",
       "</style>\n",
       "<table border=\"1\" class=\"dataframe\">\n",
       "  <thead>\n",
       "    <tr style=\"text-align: right;\">\n",
       "      <th></th>\n",
       "      <th>city_id</th>\n",
       "      <th>date</th>\n",
       "      <th>hour</th>\n",
       "      <th>temp</th>\n",
       "      <th>wind_speed</th>\n",
       "      <th>description</th>\n",
       "      <th>precip</th>\n",
       "      <th>humidity</th>\n",
       "      <th>visibility</th>\n",
       "      <th>pressure</th>\n",
       "      <th>chanceofrain</th>\n",
       "      <th>chanceoffog</th>\n",
       "      <th>chanceofsnow</th>\n",
       "      <th>chanceofthunder</th>\n",
       "    </tr>\n",
       "  </thead>\n",
       "  <tbody>\n",
       "    <tr>\n",
       "      <th>0</th>\n",
       "      <td>C-927ceb5e</td>\n",
       "      <td>2019-01-01</td>\n",
       "      <td>0</td>\n",
       "      <td>30.0</td>\n",
       "      <td>11.0</td>\n",
       "      <td>Light snow</td>\n",
       "      <td>0.0</td>\n",
       "      <td>86</td>\n",
       "      <td>6.0</td>\n",
       "      <td>1019.0</td>\n",
       "      <td>0.0</td>\n",
       "      <td>0.0</td>\n",
       "      <td>0.0</td>\n",
       "      <td>0.0</td>\n",
       "    </tr>\n",
       "  </tbody>\n",
       "</table>\n",
       "</div>"
      ],
      "text/plain": [
       "      city_id        date  hour  temp  wind_speed description  precip  \\\n",
       "0  C-927ceb5e  2019-01-01     0  30.0        11.0  Light snow     0.0   \n",
       "\n",
       "   humidity  visibility  pressure  chanceofrain  chanceoffog  chanceofsnow  \\\n",
       "0        86         6.0    1019.0           0.0          0.0           0.0   \n",
       "\n",
       "   chanceofthunder  \n",
       "0              0.0  "
      ]
     },
     "execution_count": 11,
     "metadata": {},
     "output_type": "execute_result"
    }
   ],
   "source": [
    "city_weather_df.head(1)"
   ]
  },
  {
   "cell_type": "code",
   "execution_count": 12,
   "id": "1e6ad115",
   "metadata": {},
   "outputs": [
    {
     "data": {
      "text/html": [
       "<div>\n",
       "<style scoped>\n",
       "    .dataframe tbody tr th:only-of-type {\n",
       "        vertical-align: middle;\n",
       "    }\n",
       "\n",
       "    .dataframe tbody tr th {\n",
       "        vertical-align: top;\n",
       "    }\n",
       "\n",
       "    .dataframe thead th {\n",
       "        text-align: right;\n",
       "    }\n",
       "</style>\n",
       "<table border=\"1\" class=\"dataframe\">\n",
       "  <thead>\n",
       "    <tr style=\"text-align: right;\">\n",
       "      <th></th>\n",
       "      <th>route_id</th>\n",
       "      <th>Date</th>\n",
       "      <th>temp</th>\n",
       "      <th>wind_speed</th>\n",
       "      <th>description</th>\n",
       "      <th>precip</th>\n",
       "      <th>humidity</th>\n",
       "      <th>visibility</th>\n",
       "      <th>pressure</th>\n",
       "      <th>chanceofrain</th>\n",
       "      <th>chanceoffog</th>\n",
       "      <th>chanceofsnow</th>\n",
       "      <th>chanceofthunder</th>\n",
       "    </tr>\n",
       "  </thead>\n",
       "  <tbody>\n",
       "    <tr>\n",
       "      <th>0</th>\n",
       "      <td>R-ada2a391</td>\n",
       "      <td>2019-01-01</td>\n",
       "      <td>30.0</td>\n",
       "      <td>11.0</td>\n",
       "      <td>Heavy snow</td>\n",
       "      <td>0.0</td>\n",
       "      <td>90</td>\n",
       "      <td>1.0</td>\n",
       "      <td>1010</td>\n",
       "      <td>0</td>\n",
       "      <td>0</td>\n",
       "      <td>0</td>\n",
       "      <td>0</td>\n",
       "    </tr>\n",
       "  </tbody>\n",
       "</table>\n",
       "</div>"
      ],
      "text/plain": [
       "     route_id       Date  temp  wind_speed description  precip  humidity  \\\n",
       "0  R-ada2a391 2019-01-01  30.0        11.0  Heavy snow     0.0        90   \n",
       "\n",
       "   visibility  pressure  chanceofrain  chanceoffog  chanceofsnow  \\\n",
       "0         1.0      1010             0            0             0   \n",
       "\n",
       "   chanceofthunder  \n",
       "0                0  "
      ]
     },
     "execution_count": 12,
     "metadata": {},
     "output_type": "execute_result"
    }
   ],
   "source": [
    "route_weather_df.head(1)"
   ]
  },
  {
   "cell_type": "code",
   "execution_count": 13,
   "id": "4fe69455",
   "metadata": {},
   "outputs": [],
   "source": [
    "def filter(df,date,is_route_weather=False):\n",
    "    if is_route_weather:\n",
    "        return df[df['Date'] > date]\n",
    "    else:\n",
    "        return df[df['date'] > date]"
   ]
  },
  {
   "cell_type": "code",
   "execution_count": 14,
   "id": "2725aba5",
   "metadata": {},
   "outputs": [],
   "source": [
    "new_df = filter(city_weather_df,datetime.date(2019,2,1))"
   ]
  },
  {
   "cell_type": "code",
   "execution_count": 15,
   "id": "d7a5f068",
   "metadata": {},
   "outputs": [],
   "source": [
    "from evidently.test_suite import TestSuite\n",
    "from evidently.tests.base_test import generate_column_tests\n",
    "from evidently.tests import *"
   ]
  },
  {
   "cell_type": "code",
   "execution_count": null,
   "id": "c647dbc3",
   "metadata": {},
   "outputs": [],
   "source": [
    "def run_data_quality_check(reference_data, current_data):\n",
    "    tests = TestSuite(tests=[\n",
    "        TestNumberOfRowsWithMissingValues(),\n",
    "        TestNumberOfDuplicatedRows(),\n",
    "        TestNumberOfDuplicatedColumns(),\n",
    "        TestColumnsType()\n",
    "    ])\n",
    "    tests.run(reference_data=reference_data, current_data=current_data)\n",
    "    return tests, tests.json()"
   ]
  },
  {
   "cell_type": "code",
   "execution_count": 19,
   "id": "4218da5e",
   "metadata": {},
   "outputs": [],
   "source": [
    "tests, tests_json = run_data_quality_check(city_weather_df,new_df)"
   ]
  },
  {
   "cell_type": "code",
   "execution_count": 53,
   "id": "2011f69c",
   "metadata": {},
   "outputs": [],
   "source": [
    "def assert_quality_passed(suite):\n",
    "    failed_tests = [t for t in suite['tests'] if t['status'] == \"FAIL\"]\n",
    "\n",
    "    if failed_tests:\n",
    "        names = [t.name for t in failed_tests]\n",
    "        raise ValueError(f\"❌ Data Quality Check Failed: {names}\")\n",
    "    print(\"✅ All Data Quality Tests Passed\")"
   ]
  },
  {
   "cell_type": "code",
   "execution_count": 54,
   "id": "a3afdce4",
   "metadata": {},
   "outputs": [
    {
     "name": "stdout",
     "output_type": "stream",
     "text": [
      "✅ All Data Quality Tests Passed\n"
     ]
    }
   ],
   "source": [
    "assert_quality_passed(json.loads(tests_json))"
   ]
  }
 ],
 "metadata": {
  "kernelspec": {
   "display_name": "llm",
   "language": "python",
   "name": "python3"
  },
  "language_info": {
   "codemirror_mode": {
    "name": "ipython",
    "version": 3
   },
   "file_extension": ".py",
   "mimetype": "text/x-python",
   "name": "python",
   "nbconvert_exporter": "python",
   "pygments_lexer": "ipython3",
   "version": "3.10.18"
  }
 },
 "nbformat": 4,
 "nbformat_minor": 5
}
