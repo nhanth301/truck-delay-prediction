{
 "cells": [
  {
   "cell_type": "code",
   "execution_count": 1,
   "id": "1d197672",
   "metadata": {},
   "outputs": [],
   "source": [
    "from pipeline.utils import load_config"
   ]
  },
  {
   "cell_type": "code",
   "execution_count": 2,
   "id": "9c30123c",
   "metadata": {},
   "outputs": [],
   "source": [
    "config = load_config()"
   ]
  },
  {
   "cell_type": "code",
   "execution_count": 3,
   "id": "5174f8fc",
   "metadata": {},
   "outputs": [],
   "source": [
    "from pipeline.modeling import train_logistic_model, train_xgb_model"
   ]
  },
  {
   "cell_type": "code",
   "execution_count": 4,
   "id": "035b351e",
   "metadata": {},
   "outputs": [
    {
     "data": {
      "text/plain": [
       "'TEST_PROJECT'"
      ]
     },
     "execution_count": 4,
     "metadata": {},
     "output_type": "execute_result"
    }
   ],
   "source": [
    "PROJECT_NAME = config['wandb']['wandb_project']\n",
    "PROJECT_NAME"
   ]
  },
  {
   "cell_type": "code",
   "execution_count": 5,
   "id": "48f07758",
   "metadata": {},
   "outputs": [
    {
     "data": {
      "text/plain": [
       "'1ca4863960a56bf5d8857889ada1e5116021eea6'"
      ]
     },
     "execution_count": 5,
     "metadata": {},
     "output_type": "execute_result"
    }
   ],
   "source": [
    "config['wandb']['wandb_api_key']"
   ]
  },
  {
   "cell_type": "code",
   "execution_count": 6,
   "id": "791906aa",
   "metadata": {},
   "outputs": [],
   "source": [
    "import os\n",
    "import wandb\n",
    "os.environ[\"WANDB_API_KEY\"] = config['wandb']['wandb_api_key']\n",
    "# wandb.login(key=os.environ[\"WANDB_API_KEY\"])"
   ]
  },
  {
   "cell_type": "code",
   "execution_count": 7,
   "id": "1e2e2e94",
   "metadata": {},
   "outputs": [],
   "source": [
    "from sklearn.datasets import load_iris\n",
    "from sklearn.model_selection import train_test_split\n",
    "\n",
    "iris = load_iris(as_frame=True)\n",
    "X = iris.data\n",
    "y = (iris.target == 0).astype(int) \n",
    "\n",
    "X_train, X_temp, y_train, y_temp = train_test_split(X, y, test_size=0.3, random_state=42, stratify=y)\n",
    "X_valid, X_test, y_valid, y_test = train_test_split(X_temp, y_temp, test_size=0.5, random_state=42, stratify=y_temp)"
   ]
  },
  {
   "cell_type": "code",
   "execution_count": 8,
   "id": "19c4b921",
   "metadata": {},
   "outputs": [],
   "source": [
    "import numpy as np\n",
    "from sklearn.utils.class_weight import compute_class_weight\n",
    "classes = np.unique(y_train)\n",
    "weights = compute_class_weight(\"balanced\", classes=classes, y=y_train)\n",
    "class_weights = {i: w for i, w in enumerate(weights)}"
   ]
  },
  {
   "cell_type": "code",
   "execution_count": 9,
   "id": "73ae31ab",
   "metadata": {},
   "outputs": [],
   "source": [
    "sweep_config = config['sweep']"
   ]
  },
  {
   "cell_type": "code",
   "execution_count": 10,
   "id": "513f94a6",
   "metadata": {},
   "outputs": [
    {
     "name": "stdout",
     "output_type": "stream",
     "text": [
      "2025-09-02 15:32:36,472 INFO: Preparing sweep configuration...\n",
      "2025-09-02 15:32:36,473 INFO: Initializing W&B sweep...\n",
      "Create sweep with ID: vcop48ti\n",
      "Sweep URL: https://wandb.ai/nhanthien-sv-hcmute/TEST_PROJECT/sweeps/vcop48ti\n",
      "2025-09-02 15:32:37,161 INFO: Sweep created with ID: vcop48ti\n"
     ]
    },
    {
     "name": "stderr",
     "output_type": "stream",
     "text": [
      "\u001b[34m\u001b[1mwandb\u001b[0m: Agent Starting Run: vqjafsd9 with config:\n",
      "\u001b[34m\u001b[1mwandb\u001b[0m: \tC: 0.01\n",
      "\u001b[34m\u001b[1mwandb\u001b[0m: \tpenalty: l1\n",
      "\u001b[34m\u001b[1mwandb\u001b[0m: Currently logged in as: \u001b[33mnhanthien-sv\u001b[0m (\u001b[33mnhanthien-sv-hcmute\u001b[0m) to \u001b[32mhttps://api.wandb.ai\u001b[0m. Use \u001b[1m`wandb login --relogin`\u001b[0m to force relogin\n"
     ]
    },
    {
     "data": {
      "text/html": [
       "Changes to your `wandb` environment variables will be ignored because your `wandb` session has already started. For more information on how to modify your settings with `wandb.init()` arguments, please refer to <a href='https://wandb.me/wandb-init' target=\"_blank\">the W&B docs</a>."
      ],
      "text/plain": [
       "<IPython.core.display.HTML object>"
      ]
     },
     "metadata": {},
     "output_type": "display_data"
    },
    {
     "data": {
      "text/html": [
       "Ignoring project 'TEST_PROJECT' when running a sweep."
      ],
      "text/plain": [
       "<IPython.core.display.HTML object>"
      ]
     },
     "metadata": {},
     "output_type": "display_data"
    },
    {
     "data": {
      "text/html": [
       "creating run (0.0s)"
      ],
      "text/plain": [
       "<IPython.core.display.HTML object>"
      ]
     },
     "metadata": {},
     "output_type": "display_data"
    },
    {
     "data": {
      "text/html": [
       "Tracking run with wandb version 0.21.2"
      ],
      "text/plain": [
       "<IPython.core.display.HTML object>"
      ]
     },
     "metadata": {},
     "output_type": "display_data"
    },
    {
     "data": {
      "text/html": [
       "Run data is saved locally in <code>/home/thnhan301/Documents/PROJECT/GIT/truck-delay-prediction/wandb/run-20250902_153238-vqjafsd9</code>"
      ],
      "text/plain": [
       "<IPython.core.display.HTML object>"
      ]
     },
     "metadata": {},
     "output_type": "display_data"
    },
    {
     "data": {
      "text/html": [
       "Syncing run <strong><a href='https://wandb.ai/nhanthien-sv-hcmute/TEST_PROJECT/runs/vqjafsd9' target=\"_blank\">lucky-sweep-1</a></strong> to <a href='https://wandb.ai/nhanthien-sv-hcmute/TEST_PROJECT' target=\"_blank\">Weights & Biases</a> (<a href='https://wandb.me/developer-guide' target=\"_blank\">docs</a>)<br>Sweep page: <a href='https://wandb.ai/nhanthien-sv-hcmute/TEST_PROJECT/sweeps/vcop48ti' target=\"_blank\">https://wandb.ai/nhanthien-sv-hcmute/TEST_PROJECT/sweeps/vcop48ti</a>"
      ],
      "text/plain": [
       "<IPython.core.display.HTML object>"
      ]
     },
     "metadata": {},
     "output_type": "display_data"
    },
    {
     "data": {
      "text/html": [
       " View project at <a href='https://wandb.ai/nhanthien-sv-hcmute/TEST_PROJECT' target=\"_blank\">https://wandb.ai/nhanthien-sv-hcmute/TEST_PROJECT</a>"
      ],
      "text/plain": [
       "<IPython.core.display.HTML object>"
      ]
     },
     "metadata": {},
     "output_type": "display_data"
    },
    {
     "data": {
      "text/html": [
       " View sweep at <a href='https://wandb.ai/nhanthien-sv-hcmute/TEST_PROJECT/sweeps/vcop48ti' target=\"_blank\">https://wandb.ai/nhanthien-sv-hcmute/TEST_PROJECT/sweeps/vcop48ti</a>"
      ],
      "text/plain": [
       "<IPython.core.display.HTML object>"
      ]
     },
     "metadata": {},
     "output_type": "display_data"
    },
    {
     "data": {
      "text/html": [
       " View run at <a href='https://wandb.ai/nhanthien-sv-hcmute/TEST_PROJECT/runs/vqjafsd9' target=\"_blank\">https://wandb.ai/nhanthien-sv-hcmute/TEST_PROJECT/runs/vqjafsd9</a>"
      ],
      "text/plain": [
       "<IPython.core.display.HTML object>"
      ]
     },
     "metadata": {},
     "output_type": "display_data"
    },
    {
     "name": "stdout",
     "output_type": "stream",
     "text": [
      "2025-09-02 15:32:40,027 INFO: Starting training with config: {'C': 0.01, 'penalty': 'l1'}\n",
      "2025-09-02 15:32:40,028 INFO: Fitting Logistic Regression model...\n",
      "2025-09-02 15:32:40,037 INFO: Making predictions...\n",
      "2025-09-02 15:32:40,054 INFO: Scores: {'f1_score_train': 0.0, 'f1_score_valid': 0.0, 'f1_score_test': 0.0}\n"
     ]
    },
    {
     "name": "stderr",
     "output_type": "stream",
     "text": [
      "\u001b[34m\u001b[1mwandb\u001b[0m: \n",
      "\u001b[34m\u001b[1mwandb\u001b[0m: Plotting LogisticRegression.\n",
      "UserWarning: X does not have valid feature names, but LogisticRegression was fitted with feature names\n",
      "\u001b[34m\u001b[1mwandb\u001b[0m: Logged feature importances.\n",
      "\u001b[34m\u001b[1mwandb\u001b[0m: Logged confusion matrix.\n",
      "UserWarning: X does not have valid feature names, but LogisticRegression was fitted with feature names\n",
      "UndefinedMetricWarning: Precision is ill-defined and being set to 0.0 in labels with no predicted samples. Use `zero_division` parameter to control this behavior.\n",
      "\u001b[34m\u001b[1mwandb\u001b[0m: Logged summary metrics.\n",
      "\u001b[34m\u001b[1mwandb\u001b[0m: Logged class proportions.\n",
      "UserWarning: X does not have valid feature names, but LogisticRegression was fitted with feature names\n",
      "\u001b[34m\u001b[1mwandb\u001b[0m: Logged calibration curve.\n",
      "\u001b[34m\u001b[1mwandb\u001b[0m: Logged roc curve.\n",
      "\u001b[34m\u001b[1mwandb\u001b[0m: Logged precision-recall curve.\n"
     ]
    },
    {
     "name": "stdout",
     "output_type": "stream",
     "text": [
      "2025-09-02 15:32:47,224 INFO: Saving trained model...\n",
      "2025-09-02 15:32:48,081 INFO: Training run completed successfully.\n"
     ]
    },
    {
     "data": {
      "text/html": [],
      "text/plain": [
       "<IPython.core.display.HTML object>"
      ]
     },
     "metadata": {},
     "output_type": "display_data"
    },
    {
     "data": {
      "text/html": [
       "<br>    <style><br>        .wandb-row {<br>            display: flex;<br>            flex-direction: row;<br>            flex-wrap: wrap;<br>            justify-content: flex-start;<br>            width: 100%;<br>        }<br>        .wandb-col {<br>            display: flex;<br>            flex-direction: column;<br>            flex-basis: 100%;<br>            flex: 1;<br>            padding: 10px;<br>        }<br>    </style><br><div class=\"wandb-row\"><div class=\"wandb-col\"><h3>Run history:</h3><br/><table class=\"wandb\"><tr><td>f1_score_test</td><td>▁</td></tr><tr><td>f1_score_train</td><td>▁</td></tr><tr><td>f1_score_valid</td><td>▁</td></tr></table><br/></div><div class=\"wandb-col\"><h3>Run summary:</h3><br/><table class=\"wandb\"><tr><td>f1_score_test</td><td>0</td></tr><tr><td>f1_score_train</td><td>0</td></tr><tr><td>f1_score_valid</td><td>0</td></tr></table><br/></div></div>"
      ],
      "text/plain": [
       "<IPython.core.display.HTML object>"
      ]
     },
     "metadata": {},
     "output_type": "display_data"
    },
    {
     "data": {
      "text/html": [
       " View run <strong style=\"color:#cdcd00\">lucky-sweep-1</strong> at: <a href='https://wandb.ai/nhanthien-sv-hcmute/TEST_PROJECT/runs/vqjafsd9' target=\"_blank\">https://wandb.ai/nhanthien-sv-hcmute/TEST_PROJECT/runs/vqjafsd9</a><br> View project at: <a href='https://wandb.ai/nhanthien-sv-hcmute/TEST_PROJECT' target=\"_blank\">https://wandb.ai/nhanthien-sv-hcmute/TEST_PROJECT</a><br>Synced 5 W&B file(s), 7 media file(s), 16 artifact file(s) and 0 other file(s)"
      ],
      "text/plain": [
       "<IPython.core.display.HTML object>"
      ]
     },
     "metadata": {},
     "output_type": "display_data"
    },
    {
     "data": {
      "text/html": [
       "Find logs at: <code>./wandb/run-20250902_153238-vqjafsd9/logs</code>"
      ],
      "text/plain": [
       "<IPython.core.display.HTML object>"
      ]
     },
     "metadata": {},
     "output_type": "display_data"
    },
    {
     "name": "stderr",
     "output_type": "stream",
     "text": [
      "\u001b[34m\u001b[1mwandb\u001b[0m: Agent Starting Run: jlefcvdf with config:\n",
      "\u001b[34m\u001b[1mwandb\u001b[0m: \tC: 0.01\n",
      "\u001b[34m\u001b[1mwandb\u001b[0m: \tpenalty: l2\n"
     ]
    },
    {
     "data": {
      "text/html": [
       "Changes to your `wandb` environment variables will be ignored because your `wandb` session has already started. For more information on how to modify your settings with `wandb.init()` arguments, please refer to <a href='https://wandb.me/wandb-init' target=\"_blank\">the W&B docs</a>."
      ],
      "text/plain": [
       "<IPython.core.display.HTML object>"
      ]
     },
     "metadata": {},
     "output_type": "display_data"
    },
    {
     "data": {
      "text/html": [
       "Ignoring project 'TEST_PROJECT' when running a sweep."
      ],
      "text/plain": [
       "<IPython.core.display.HTML object>"
      ]
     },
     "metadata": {},
     "output_type": "display_data"
    },
    {
     "data": {
      "text/html": [
       "creating run (0.0s)"
      ],
      "text/plain": [
       "<IPython.core.display.HTML object>"
      ]
     },
     "metadata": {},
     "output_type": "display_data"
    },
    {
     "data": {
      "text/html": [
       "Tracking run with wandb version 0.21.2"
      ],
      "text/plain": [
       "<IPython.core.display.HTML object>"
      ]
     },
     "metadata": {},
     "output_type": "display_data"
    },
    {
     "data": {
      "text/html": [
       "Run data is saved locally in <code>/home/thnhan301/Documents/PROJECT/GIT/truck-delay-prediction/wandb/run-20250902_153254-jlefcvdf</code>"
      ],
      "text/plain": [
       "<IPython.core.display.HTML object>"
      ]
     },
     "metadata": {},
     "output_type": "display_data"
    },
    {
     "data": {
      "text/html": [
       "Syncing run <strong><a href='https://wandb.ai/nhanthien-sv-hcmute/TEST_PROJECT/runs/jlefcvdf' target=\"_blank\">breezy-sweep-2</a></strong> to <a href='https://wandb.ai/nhanthien-sv-hcmute/TEST_PROJECT' target=\"_blank\">Weights & Biases</a> (<a href='https://wandb.me/developer-guide' target=\"_blank\">docs</a>)<br>Sweep page: <a href='https://wandb.ai/nhanthien-sv-hcmute/TEST_PROJECT/sweeps/vcop48ti' target=\"_blank\">https://wandb.ai/nhanthien-sv-hcmute/TEST_PROJECT/sweeps/vcop48ti</a>"
      ],
      "text/plain": [
       "<IPython.core.display.HTML object>"
      ]
     },
     "metadata": {},
     "output_type": "display_data"
    },
    {
     "data": {
      "text/html": [
       " View project at <a href='https://wandb.ai/nhanthien-sv-hcmute/TEST_PROJECT' target=\"_blank\">https://wandb.ai/nhanthien-sv-hcmute/TEST_PROJECT</a>"
      ],
      "text/plain": [
       "<IPython.core.display.HTML object>"
      ]
     },
     "metadata": {},
     "output_type": "display_data"
    },
    {
     "data": {
      "text/html": [
       " View sweep at <a href='https://wandb.ai/nhanthien-sv-hcmute/TEST_PROJECT/sweeps/vcop48ti' target=\"_blank\">https://wandb.ai/nhanthien-sv-hcmute/TEST_PROJECT/sweeps/vcop48ti</a>"
      ],
      "text/plain": [
       "<IPython.core.display.HTML object>"
      ]
     },
     "metadata": {},
     "output_type": "display_data"
    },
    {
     "data": {
      "text/html": [
       " View run at <a href='https://wandb.ai/nhanthien-sv-hcmute/TEST_PROJECT/runs/jlefcvdf' target=\"_blank\">https://wandb.ai/nhanthien-sv-hcmute/TEST_PROJECT/runs/jlefcvdf</a>"
      ],
      "text/plain": [
       "<IPython.core.display.HTML object>"
      ]
     },
     "metadata": {},
     "output_type": "display_data"
    },
    {
     "name": "stdout",
     "output_type": "stream",
     "text": [
      "2025-09-02 15:32:55,904 INFO: Starting training with config: {'C': 0.01, 'penalty': 'l2'}\n",
      "2025-09-02 15:32:55,906 INFO: Fitting Logistic Regression model...\n",
      "2025-09-02 15:32:55,910 INFO: Making predictions...\n",
      "2025-09-02 15:32:55,928 INFO: Scores: {'f1_score_train': 1.0, 'f1_score_valid': 1.0, 'f1_score_test': 1.0}\n"
     ]
    },
    {
     "name": "stderr",
     "output_type": "stream",
     "text": [
      "\u001b[34m\u001b[1mwandb\u001b[0m: \n",
      "\u001b[34m\u001b[1mwandb\u001b[0m: Plotting LogisticRegression.\n",
      "UserWarning: X does not have valid feature names, but LogisticRegression was fitted with feature names\n",
      "\u001b[34m\u001b[1mwandb\u001b[0m: Logged feature importances.\n",
      "\u001b[34m\u001b[1mwandb\u001b[0m: Logged confusion matrix.\n",
      "UserWarning: X does not have valid feature names, but LogisticRegression was fitted with feature names\n",
      "\u001b[34m\u001b[1mwandb\u001b[0m: Logged summary metrics.\n",
      "\u001b[34m\u001b[1mwandb\u001b[0m: Logged class proportions.\n",
      "UserWarning: X does not have valid feature names, but LogisticRegression was fitted with feature names\n",
      "\u001b[34m\u001b[1mwandb\u001b[0m: Logged calibration curve.\n",
      "\u001b[34m\u001b[1mwandb\u001b[0m: Logged roc curve.\n",
      "\u001b[34m\u001b[1mwandb\u001b[0m: Logged precision-recall curve.\n"
     ]
    },
    {
     "name": "stdout",
     "output_type": "stream",
     "text": [
      "2025-09-02 15:33:02,478 INFO: Saving trained model...\n",
      "2025-09-02 15:33:03,361 INFO: Training run completed successfully.\n"
     ]
    },
    {
     "data": {
      "text/html": [],
      "text/plain": [
       "<IPython.core.display.HTML object>"
      ]
     },
     "metadata": {},
     "output_type": "display_data"
    },
    {
     "data": {
      "text/html": [
       "<br>    <style><br>        .wandb-row {<br>            display: flex;<br>            flex-direction: row;<br>            flex-wrap: wrap;<br>            justify-content: flex-start;<br>            width: 100%;<br>        }<br>        .wandb-col {<br>            display: flex;<br>            flex-direction: column;<br>            flex-basis: 100%;<br>            flex: 1;<br>            padding: 10px;<br>        }<br>    </style><br><div class=\"wandb-row\"><div class=\"wandb-col\"><h3>Run history:</h3><br/><table class=\"wandb\"><tr><td>f1_score_test</td><td>▁</td></tr><tr><td>f1_score_train</td><td>▁</td></tr><tr><td>f1_score_valid</td><td>▁</td></tr></table><br/></div><div class=\"wandb-col\"><h3>Run summary:</h3><br/><table class=\"wandb\"><tr><td>f1_score_test</td><td>1</td></tr><tr><td>f1_score_train</td><td>1</td></tr><tr><td>f1_score_valid</td><td>1</td></tr></table><br/></div></div>"
      ],
      "text/plain": [
       "<IPython.core.display.HTML object>"
      ]
     },
     "metadata": {},
     "output_type": "display_data"
    },
    {
     "data": {
      "text/html": [
       " View run <strong style=\"color:#cdcd00\">breezy-sweep-2</strong> at: <a href='https://wandb.ai/nhanthien-sv-hcmute/TEST_PROJECT/runs/jlefcvdf' target=\"_blank\">https://wandb.ai/nhanthien-sv-hcmute/TEST_PROJECT/runs/jlefcvdf</a><br> View project at: <a href='https://wandb.ai/nhanthien-sv-hcmute/TEST_PROJECT' target=\"_blank\">https://wandb.ai/nhanthien-sv-hcmute/TEST_PROJECT</a><br>Synced 5 W&B file(s), 7 media file(s), 16 artifact file(s) and 0 other file(s)"
      ],
      "text/plain": [
       "<IPython.core.display.HTML object>"
      ]
     },
     "metadata": {},
     "output_type": "display_data"
    },
    {
     "data": {
      "text/html": [
       "Find logs at: <code>./wandb/run-20250902_153254-jlefcvdf/logs</code>"
      ],
      "text/plain": [
       "<IPython.core.display.HTML object>"
      ]
     },
     "metadata": {},
     "output_type": "display_data"
    },
    {
     "name": "stderr",
     "output_type": "stream",
     "text": [
      "\u001b[34m\u001b[1mwandb\u001b[0m: Agent Starting Run: ubzykpar with config:\n",
      "\u001b[34m\u001b[1mwandb\u001b[0m: \tC: 0.1\n",
      "\u001b[34m\u001b[1mwandb\u001b[0m: \tpenalty: l1\n"
     ]
    },
    {
     "data": {
      "text/html": [
       "Changes to your `wandb` environment variables will be ignored because your `wandb` session has already started. For more information on how to modify your settings with `wandb.init()` arguments, please refer to <a href='https://wandb.me/wandb-init' target=\"_blank\">the W&B docs</a>."
      ],
      "text/plain": [
       "<IPython.core.display.HTML object>"
      ]
     },
     "metadata": {},
     "output_type": "display_data"
    },
    {
     "data": {
      "text/html": [
       "Ignoring project 'TEST_PROJECT' when running a sweep."
      ],
      "text/plain": [
       "<IPython.core.display.HTML object>"
      ]
     },
     "metadata": {},
     "output_type": "display_data"
    },
    {
     "data": {
      "text/html": [
       "creating run (0.1s)"
      ],
      "text/plain": [
       "<IPython.core.display.HTML object>"
      ]
     },
     "metadata": {},
     "output_type": "display_data"
    },
    {
     "data": {
      "text/html": [
       "Tracking run with wandb version 0.21.2"
      ],
      "text/plain": [
       "<IPython.core.display.HTML object>"
      ]
     },
     "metadata": {},
     "output_type": "display_data"
    },
    {
     "data": {
      "text/html": [
       "Run data is saved locally in <code>/home/thnhan301/Documents/PROJECT/GIT/truck-delay-prediction/wandb/run-20250902_153310-ubzykpar</code>"
      ],
      "text/plain": [
       "<IPython.core.display.HTML object>"
      ]
     },
     "metadata": {},
     "output_type": "display_data"
    },
    {
     "data": {
      "text/html": [
       "Syncing run <strong><a href='https://wandb.ai/nhanthien-sv-hcmute/TEST_PROJECT/runs/ubzykpar' target=\"_blank\">kind-sweep-3</a></strong> to <a href='https://wandb.ai/nhanthien-sv-hcmute/TEST_PROJECT' target=\"_blank\">Weights & Biases</a> (<a href='https://wandb.me/developer-guide' target=\"_blank\">docs</a>)<br>Sweep page: <a href='https://wandb.ai/nhanthien-sv-hcmute/TEST_PROJECT/sweeps/vcop48ti' target=\"_blank\">https://wandb.ai/nhanthien-sv-hcmute/TEST_PROJECT/sweeps/vcop48ti</a>"
      ],
      "text/plain": [
       "<IPython.core.display.HTML object>"
      ]
     },
     "metadata": {},
     "output_type": "display_data"
    },
    {
     "data": {
      "text/html": [
       " View project at <a href='https://wandb.ai/nhanthien-sv-hcmute/TEST_PROJECT' target=\"_blank\">https://wandb.ai/nhanthien-sv-hcmute/TEST_PROJECT</a>"
      ],
      "text/plain": [
       "<IPython.core.display.HTML object>"
      ]
     },
     "metadata": {},
     "output_type": "display_data"
    },
    {
     "data": {
      "text/html": [
       " View sweep at <a href='https://wandb.ai/nhanthien-sv-hcmute/TEST_PROJECT/sweeps/vcop48ti' target=\"_blank\">https://wandb.ai/nhanthien-sv-hcmute/TEST_PROJECT/sweeps/vcop48ti</a>"
      ],
      "text/plain": [
       "<IPython.core.display.HTML object>"
      ]
     },
     "metadata": {},
     "output_type": "display_data"
    },
    {
     "data": {
      "text/html": [
       " View run at <a href='https://wandb.ai/nhanthien-sv-hcmute/TEST_PROJECT/runs/ubzykpar' target=\"_blank\">https://wandb.ai/nhanthien-sv-hcmute/TEST_PROJECT/runs/ubzykpar</a>"
      ],
      "text/plain": [
       "<IPython.core.display.HTML object>"
      ]
     },
     "metadata": {},
     "output_type": "display_data"
    },
    {
     "name": "stdout",
     "output_type": "stream",
     "text": [
      "2025-09-02 15:33:11,787 INFO: Starting training with config: {'C': 0.1, 'penalty': 'l1'}\n",
      "2025-09-02 15:33:11,789 INFO: Fitting Logistic Regression model...\n",
      "2025-09-02 15:33:11,793 INFO: Making predictions...\n",
      "2025-09-02 15:33:11,811 INFO: Scores: {'f1_score_train': 1.0, 'f1_score_valid': 1.0, 'f1_score_test': 1.0}\n"
     ]
    },
    {
     "name": "stderr",
     "output_type": "stream",
     "text": [
      "\u001b[34m\u001b[1mwandb\u001b[0m: \n",
      "\u001b[34m\u001b[1mwandb\u001b[0m: Plotting LogisticRegression.\n",
      "UserWarning: X does not have valid feature names, but LogisticRegression was fitted with feature names\n",
      "\u001b[34m\u001b[1mwandb\u001b[0m: Logged feature importances.\n",
      "\u001b[34m\u001b[1mwandb\u001b[0m: Logged confusion matrix.\n",
      "UserWarning: X does not have valid feature names, but LogisticRegression was fitted with feature names\n",
      "\u001b[34m\u001b[1mwandb\u001b[0m: Logged summary metrics.\n",
      "\u001b[34m\u001b[1mwandb\u001b[0m: Logged class proportions.\n",
      "UserWarning: X does not have valid feature names, but LogisticRegression was fitted with feature names\n",
      "\u001b[34m\u001b[1mwandb\u001b[0m: Logged calibration curve.\n",
      "\u001b[34m\u001b[1mwandb\u001b[0m: Logged roc curve.\n",
      "\u001b[34m\u001b[1mwandb\u001b[0m: Logged precision-recall curve.\n"
     ]
    },
    {
     "name": "stdout",
     "output_type": "stream",
     "text": [
      "2025-09-02 15:33:18,242 INFO: Saving trained model...\n",
      "2025-09-02 15:33:19,283 INFO: Training run completed successfully.\n"
     ]
    },
    {
     "data": {
      "text/html": [],
      "text/plain": [
       "<IPython.core.display.HTML object>"
      ]
     },
     "metadata": {},
     "output_type": "display_data"
    },
    {
     "data": {
      "text/html": [
       "<br>    <style><br>        .wandb-row {<br>            display: flex;<br>            flex-direction: row;<br>            flex-wrap: wrap;<br>            justify-content: flex-start;<br>            width: 100%;<br>        }<br>        .wandb-col {<br>            display: flex;<br>            flex-direction: column;<br>            flex-basis: 100%;<br>            flex: 1;<br>            padding: 10px;<br>        }<br>    </style><br><div class=\"wandb-row\"><div class=\"wandb-col\"><h3>Run history:</h3><br/><table class=\"wandb\"><tr><td>f1_score_test</td><td>▁</td></tr><tr><td>f1_score_train</td><td>▁</td></tr><tr><td>f1_score_valid</td><td>▁</td></tr></table><br/></div><div class=\"wandb-col\"><h3>Run summary:</h3><br/><table class=\"wandb\"><tr><td>f1_score_test</td><td>1</td></tr><tr><td>f1_score_train</td><td>1</td></tr><tr><td>f1_score_valid</td><td>1</td></tr></table><br/></div></div>"
      ],
      "text/plain": [
       "<IPython.core.display.HTML object>"
      ]
     },
     "metadata": {},
     "output_type": "display_data"
    },
    {
     "data": {
      "text/html": [
       " View run <strong style=\"color:#cdcd00\">kind-sweep-3</strong> at: <a href='https://wandb.ai/nhanthien-sv-hcmute/TEST_PROJECT/runs/ubzykpar' target=\"_blank\">https://wandb.ai/nhanthien-sv-hcmute/TEST_PROJECT/runs/ubzykpar</a><br> View project at: <a href='https://wandb.ai/nhanthien-sv-hcmute/TEST_PROJECT' target=\"_blank\">https://wandb.ai/nhanthien-sv-hcmute/TEST_PROJECT</a><br>Synced 5 W&B file(s), 7 media file(s), 16 artifact file(s) and 0 other file(s)"
      ],
      "text/plain": [
       "<IPython.core.display.HTML object>"
      ]
     },
     "metadata": {},
     "output_type": "display_data"
    },
    {
     "data": {
      "text/html": [
       "Find logs at: <code>./wandb/run-20250902_153310-ubzykpar/logs</code>"
      ],
      "text/plain": [
       "<IPython.core.display.HTML object>"
      ]
     },
     "metadata": {},
     "output_type": "display_data"
    },
    {
     "name": "stderr",
     "output_type": "stream",
     "text": [
      "\u001b[34m\u001b[1mwandb\u001b[0m: Agent Starting Run: qb6s63lq with config:\n",
      "\u001b[34m\u001b[1mwandb\u001b[0m: \tC: 0.1\n",
      "\u001b[34m\u001b[1mwandb\u001b[0m: \tpenalty: l2\n"
     ]
    },
    {
     "data": {
      "text/html": [
       "Changes to your `wandb` environment variables will be ignored because your `wandb` session has already started. For more information on how to modify your settings with `wandb.init()` arguments, please refer to <a href='https://wandb.me/wandb-init' target=\"_blank\">the W&B docs</a>."
      ],
      "text/plain": [
       "<IPython.core.display.HTML object>"
      ]
     },
     "metadata": {},
     "output_type": "display_data"
    },
    {
     "data": {
      "text/html": [
       "Ignoring project 'TEST_PROJECT' when running a sweep."
      ],
      "text/plain": [
       "<IPython.core.display.HTML object>"
      ]
     },
     "metadata": {},
     "output_type": "display_data"
    },
    {
     "data": {
      "text/html": [
       "creating run (0.0s)"
      ],
      "text/plain": [
       "<IPython.core.display.HTML object>"
      ]
     },
     "metadata": {},
     "output_type": "display_data"
    },
    {
     "data": {
      "text/html": [
       "Tracking run with wandb version 0.21.2"
      ],
      "text/plain": [
       "<IPython.core.display.HTML object>"
      ]
     },
     "metadata": {},
     "output_type": "display_data"
    },
    {
     "data": {
      "text/html": [
       "Run data is saved locally in <code>/home/thnhan301/Documents/PROJECT/GIT/truck-delay-prediction/wandb/run-20250902_153326-qb6s63lq</code>"
      ],
      "text/plain": [
       "<IPython.core.display.HTML object>"
      ]
     },
     "metadata": {},
     "output_type": "display_data"
    },
    {
     "data": {
      "text/html": [
       "Syncing run <strong><a href='https://wandb.ai/nhanthien-sv-hcmute/TEST_PROJECT/runs/qb6s63lq' target=\"_blank\">volcanic-sweep-4</a></strong> to <a href='https://wandb.ai/nhanthien-sv-hcmute/TEST_PROJECT' target=\"_blank\">Weights & Biases</a> (<a href='https://wandb.me/developer-guide' target=\"_blank\">docs</a>)<br>Sweep page: <a href='https://wandb.ai/nhanthien-sv-hcmute/TEST_PROJECT/sweeps/vcop48ti' target=\"_blank\">https://wandb.ai/nhanthien-sv-hcmute/TEST_PROJECT/sweeps/vcop48ti</a>"
      ],
      "text/plain": [
       "<IPython.core.display.HTML object>"
      ]
     },
     "metadata": {},
     "output_type": "display_data"
    },
    {
     "data": {
      "text/html": [
       " View project at <a href='https://wandb.ai/nhanthien-sv-hcmute/TEST_PROJECT' target=\"_blank\">https://wandb.ai/nhanthien-sv-hcmute/TEST_PROJECT</a>"
      ],
      "text/plain": [
       "<IPython.core.display.HTML object>"
      ]
     },
     "metadata": {},
     "output_type": "display_data"
    },
    {
     "data": {
      "text/html": [
       " View sweep at <a href='https://wandb.ai/nhanthien-sv-hcmute/TEST_PROJECT/sweeps/vcop48ti' target=\"_blank\">https://wandb.ai/nhanthien-sv-hcmute/TEST_PROJECT/sweeps/vcop48ti</a>"
      ],
      "text/plain": [
       "<IPython.core.display.HTML object>"
      ]
     },
     "metadata": {},
     "output_type": "display_data"
    },
    {
     "data": {
      "text/html": [
       " View run at <a href='https://wandb.ai/nhanthien-sv-hcmute/TEST_PROJECT/runs/qb6s63lq' target=\"_blank\">https://wandb.ai/nhanthien-sv-hcmute/TEST_PROJECT/runs/qb6s63lq</a>"
      ],
      "text/plain": [
       "<IPython.core.display.HTML object>"
      ]
     },
     "metadata": {},
     "output_type": "display_data"
    },
    {
     "name": "stdout",
     "output_type": "stream",
     "text": [
      "2025-09-02 15:33:28,006 INFO: Starting training with config: {'C': 0.1, 'penalty': 'l2'}\n",
      "2025-09-02 15:33:28,008 INFO: Fitting Logistic Regression model...\n",
      "2025-09-02 15:33:28,012 INFO: Making predictions...\n",
      "2025-09-02 15:33:28,028 INFO: Scores: {'f1_score_train': 1.0, 'f1_score_valid': 1.0, 'f1_score_test': 1.0}\n"
     ]
    },
    {
     "name": "stderr",
     "output_type": "stream",
     "text": [
      "\u001b[34m\u001b[1mwandb\u001b[0m: \n",
      "\u001b[34m\u001b[1mwandb\u001b[0m: Plotting LogisticRegression.\n",
      "UserWarning: X does not have valid feature names, but LogisticRegression was fitted with feature names\n",
      "\u001b[34m\u001b[1mwandb\u001b[0m: Logged feature importances.\n",
      "\u001b[34m\u001b[1mwandb\u001b[0m: Logged confusion matrix.\n",
      "UserWarning: X does not have valid feature names, but LogisticRegression was fitted with feature names\n",
      "\u001b[34m\u001b[1mwandb\u001b[0m: Logged summary metrics.\n",
      "\u001b[34m\u001b[1mwandb\u001b[0m: Logged class proportions.\n",
      "UserWarning: X does not have valid feature names, but LogisticRegression was fitted with feature names\n",
      "\u001b[34m\u001b[1mwandb\u001b[0m: Logged calibration curve.\n",
      "\u001b[34m\u001b[1mwandb\u001b[0m: Logged roc curve.\n",
      "\u001b[34m\u001b[1mwandb\u001b[0m: Logged precision-recall curve.\n"
     ]
    },
    {
     "name": "stdout",
     "output_type": "stream",
     "text": [
      "2025-09-02 15:33:34,497 INFO: Saving trained model...\n",
      "2025-09-02 15:33:35,372 INFO: Training run completed successfully.\n"
     ]
    },
    {
     "data": {
      "text/html": [],
      "text/plain": [
       "<IPython.core.display.HTML object>"
      ]
     },
     "metadata": {},
     "output_type": "display_data"
    },
    {
     "data": {
      "text/html": [
       "<br>    <style><br>        .wandb-row {<br>            display: flex;<br>            flex-direction: row;<br>            flex-wrap: wrap;<br>            justify-content: flex-start;<br>            width: 100%;<br>        }<br>        .wandb-col {<br>            display: flex;<br>            flex-direction: column;<br>            flex-basis: 100%;<br>            flex: 1;<br>            padding: 10px;<br>        }<br>    </style><br><div class=\"wandb-row\"><div class=\"wandb-col\"><h3>Run history:</h3><br/><table class=\"wandb\"><tr><td>f1_score_test</td><td>▁</td></tr><tr><td>f1_score_train</td><td>▁</td></tr><tr><td>f1_score_valid</td><td>▁</td></tr></table><br/></div><div class=\"wandb-col\"><h3>Run summary:</h3><br/><table class=\"wandb\"><tr><td>f1_score_test</td><td>1</td></tr><tr><td>f1_score_train</td><td>1</td></tr><tr><td>f1_score_valid</td><td>1</td></tr></table><br/></div></div>"
      ],
      "text/plain": [
       "<IPython.core.display.HTML object>"
      ]
     },
     "metadata": {},
     "output_type": "display_data"
    },
    {
     "data": {
      "text/html": [
       " View run <strong style=\"color:#cdcd00\">volcanic-sweep-4</strong> at: <a href='https://wandb.ai/nhanthien-sv-hcmute/TEST_PROJECT/runs/qb6s63lq' target=\"_blank\">https://wandb.ai/nhanthien-sv-hcmute/TEST_PROJECT/runs/qb6s63lq</a><br> View project at: <a href='https://wandb.ai/nhanthien-sv-hcmute/TEST_PROJECT' target=\"_blank\">https://wandb.ai/nhanthien-sv-hcmute/TEST_PROJECT</a><br>Synced 5 W&B file(s), 7 media file(s), 16 artifact file(s) and 0 other file(s)"
      ],
      "text/plain": [
       "<IPython.core.display.HTML object>"
      ]
     },
     "metadata": {},
     "output_type": "display_data"
    },
    {
     "data": {
      "text/html": [
       "Find logs at: <code>./wandb/run-20250902_153326-qb6s63lq/logs</code>"
      ],
      "text/plain": [
       "<IPython.core.display.HTML object>"
      ]
     },
     "metadata": {},
     "output_type": "display_data"
    },
    {
     "name": "stderr",
     "output_type": "stream",
     "text": [
      "\u001b[34m\u001b[1mwandb\u001b[0m: Agent Starting Run: xxj7uqfo with config:\n",
      "\u001b[34m\u001b[1mwandb\u001b[0m: \tC: 1\n",
      "\u001b[34m\u001b[1mwandb\u001b[0m: \tpenalty: l1\n"
     ]
    },
    {
     "data": {
      "text/html": [
       "Changes to your `wandb` environment variables will be ignored because your `wandb` session has already started. For more information on how to modify your settings with `wandb.init()` arguments, please refer to <a href='https://wandb.me/wandb-init' target=\"_blank\">the W&B docs</a>."
      ],
      "text/plain": [
       "<IPython.core.display.HTML object>"
      ]
     },
     "metadata": {},
     "output_type": "display_data"
    },
    {
     "data": {
      "text/html": [
       "Ignoring project 'TEST_PROJECT' when running a sweep."
      ],
      "text/plain": [
       "<IPython.core.display.HTML object>"
      ]
     },
     "metadata": {},
     "output_type": "display_data"
    },
    {
     "data": {
      "text/html": [
       "creating run (0.0s)"
      ],
      "text/plain": [
       "<IPython.core.display.HTML object>"
      ]
     },
     "metadata": {},
     "output_type": "display_data"
    },
    {
     "data": {
      "text/html": [
       "Tracking run with wandb version 0.21.2"
      ],
      "text/plain": [
       "<IPython.core.display.HTML object>"
      ]
     },
     "metadata": {},
     "output_type": "display_data"
    },
    {
     "data": {
      "text/html": [
       "Run data is saved locally in <code>/home/thnhan301/Documents/PROJECT/GIT/truck-delay-prediction/wandb/run-20250902_153342-xxj7uqfo</code>"
      ],
      "text/plain": [
       "<IPython.core.display.HTML object>"
      ]
     },
     "metadata": {},
     "output_type": "display_data"
    },
    {
     "data": {
      "text/html": [
       "Syncing run <strong><a href='https://wandb.ai/nhanthien-sv-hcmute/TEST_PROJECT/runs/xxj7uqfo' target=\"_blank\">comfy-sweep-5</a></strong> to <a href='https://wandb.ai/nhanthien-sv-hcmute/TEST_PROJECT' target=\"_blank\">Weights & Biases</a> (<a href='https://wandb.me/developer-guide' target=\"_blank\">docs</a>)<br>Sweep page: <a href='https://wandb.ai/nhanthien-sv-hcmute/TEST_PROJECT/sweeps/vcop48ti' target=\"_blank\">https://wandb.ai/nhanthien-sv-hcmute/TEST_PROJECT/sweeps/vcop48ti</a>"
      ],
      "text/plain": [
       "<IPython.core.display.HTML object>"
      ]
     },
     "metadata": {},
     "output_type": "display_data"
    },
    {
     "data": {
      "text/html": [
       " View project at <a href='https://wandb.ai/nhanthien-sv-hcmute/TEST_PROJECT' target=\"_blank\">https://wandb.ai/nhanthien-sv-hcmute/TEST_PROJECT</a>"
      ],
      "text/plain": [
       "<IPython.core.display.HTML object>"
      ]
     },
     "metadata": {},
     "output_type": "display_data"
    },
    {
     "data": {
      "text/html": [
       " View sweep at <a href='https://wandb.ai/nhanthien-sv-hcmute/TEST_PROJECT/sweeps/vcop48ti' target=\"_blank\">https://wandb.ai/nhanthien-sv-hcmute/TEST_PROJECT/sweeps/vcop48ti</a>"
      ],
      "text/plain": [
       "<IPython.core.display.HTML object>"
      ]
     },
     "metadata": {},
     "output_type": "display_data"
    },
    {
     "data": {
      "text/html": [
       " View run at <a href='https://wandb.ai/nhanthien-sv-hcmute/TEST_PROJECT/runs/xxj7uqfo' target=\"_blank\">https://wandb.ai/nhanthien-sv-hcmute/TEST_PROJECT/runs/xxj7uqfo</a>"
      ],
      "text/plain": [
       "<IPython.core.display.HTML object>"
      ]
     },
     "metadata": {},
     "output_type": "display_data"
    },
    {
     "name": "stdout",
     "output_type": "stream",
     "text": [
      "2025-09-02 15:33:44,002 INFO: Starting training with config: {'C': 1, 'penalty': 'l1'}\n",
      "2025-09-02 15:33:44,003 INFO: Fitting Logistic Regression model...\n",
      "2025-09-02 15:33:44,007 INFO: Making predictions...\n",
      "2025-09-02 15:33:44,025 INFO: Scores: {'f1_score_train': 1.0, 'f1_score_valid': 1.0, 'f1_score_test': 1.0}\n"
     ]
    },
    {
     "name": "stderr",
     "output_type": "stream",
     "text": [
      "\u001b[34m\u001b[1mwandb\u001b[0m: \n",
      "\u001b[34m\u001b[1mwandb\u001b[0m: Plotting LogisticRegression.\n",
      "UserWarning: X does not have valid feature names, but LogisticRegression was fitted with feature names\n",
      "\u001b[34m\u001b[1mwandb\u001b[0m: Logged feature importances.\n",
      "\u001b[34m\u001b[1mwandb\u001b[0m: Logged confusion matrix.\n",
      "UserWarning: X does not have valid feature names, but LogisticRegression was fitted with feature names\n",
      "\u001b[34m\u001b[1mwandb\u001b[0m: Logged summary metrics.\n",
      "\u001b[34m\u001b[1mwandb\u001b[0m: Logged class proportions.\n",
      "UserWarning: X does not have valid feature names, but LogisticRegression was fitted with feature names\n",
      "\u001b[34m\u001b[1mwandb\u001b[0m: Logged calibration curve.\n",
      "\u001b[34m\u001b[1mwandb\u001b[0m: Logged roc curve.\n",
      "\u001b[34m\u001b[1mwandb\u001b[0m: Logged precision-recall curve.\n"
     ]
    },
    {
     "name": "stdout",
     "output_type": "stream",
     "text": [
      "2025-09-02 15:33:50,516 INFO: Saving trained model...\n",
      "2025-09-02 15:33:51,400 INFO: Training run completed successfully.\n"
     ]
    },
    {
     "data": {
      "text/html": [],
      "text/plain": [
       "<IPython.core.display.HTML object>"
      ]
     },
     "metadata": {},
     "output_type": "display_data"
    },
    {
     "data": {
      "text/html": [
       "<br>    <style><br>        .wandb-row {<br>            display: flex;<br>            flex-direction: row;<br>            flex-wrap: wrap;<br>            justify-content: flex-start;<br>            width: 100%;<br>        }<br>        .wandb-col {<br>            display: flex;<br>            flex-direction: column;<br>            flex-basis: 100%;<br>            flex: 1;<br>            padding: 10px;<br>        }<br>    </style><br><div class=\"wandb-row\"><div class=\"wandb-col\"><h3>Run history:</h3><br/><table class=\"wandb\"><tr><td>f1_score_test</td><td>▁</td></tr><tr><td>f1_score_train</td><td>▁</td></tr><tr><td>f1_score_valid</td><td>▁</td></tr></table><br/></div><div class=\"wandb-col\"><h3>Run summary:</h3><br/><table class=\"wandb\"><tr><td>f1_score_test</td><td>1</td></tr><tr><td>f1_score_train</td><td>1</td></tr><tr><td>f1_score_valid</td><td>1</td></tr></table><br/></div></div>"
      ],
      "text/plain": [
       "<IPython.core.display.HTML object>"
      ]
     },
     "metadata": {},
     "output_type": "display_data"
    },
    {
     "data": {
      "text/html": [
       " View run <strong style=\"color:#cdcd00\">comfy-sweep-5</strong> at: <a href='https://wandb.ai/nhanthien-sv-hcmute/TEST_PROJECT/runs/xxj7uqfo' target=\"_blank\">https://wandb.ai/nhanthien-sv-hcmute/TEST_PROJECT/runs/xxj7uqfo</a><br> View project at: <a href='https://wandb.ai/nhanthien-sv-hcmute/TEST_PROJECT' target=\"_blank\">https://wandb.ai/nhanthien-sv-hcmute/TEST_PROJECT</a><br>Synced 5 W&B file(s), 7 media file(s), 16 artifact file(s) and 0 other file(s)"
      ],
      "text/plain": [
       "<IPython.core.display.HTML object>"
      ]
     },
     "metadata": {},
     "output_type": "display_data"
    },
    {
     "data": {
      "text/html": [
       "Find logs at: <code>./wandb/run-20250902_153342-xxj7uqfo/logs</code>"
      ],
      "text/plain": [
       "<IPython.core.display.HTML object>"
      ]
     },
     "metadata": {},
     "output_type": "display_data"
    },
    {
     "name": "stderr",
     "output_type": "stream",
     "text": [
      "\u001b[34m\u001b[1mwandb\u001b[0m: Agent Starting Run: ff00080f with config:\n",
      "\u001b[34m\u001b[1mwandb\u001b[0m: \tC: 1\n",
      "\u001b[34m\u001b[1mwandb\u001b[0m: \tpenalty: l2\n"
     ]
    },
    {
     "data": {
      "text/html": [
       "Changes to your `wandb` environment variables will be ignored because your `wandb` session has already started. For more information on how to modify your settings with `wandb.init()` arguments, please refer to <a href='https://wandb.me/wandb-init' target=\"_blank\">the W&B docs</a>."
      ],
      "text/plain": [
       "<IPython.core.display.HTML object>"
      ]
     },
     "metadata": {},
     "output_type": "display_data"
    },
    {
     "data": {
      "text/html": [
       "Ignoring project 'TEST_PROJECT' when running a sweep."
      ],
      "text/plain": [
       "<IPython.core.display.HTML object>"
      ]
     },
     "metadata": {},
     "output_type": "display_data"
    },
    {
     "data": {
      "text/html": [
       "creating run (0.1s)"
      ],
      "text/plain": [
       "<IPython.core.display.HTML object>"
      ]
     },
     "metadata": {},
     "output_type": "display_data"
    },
    {
     "data": {
      "text/html": [
       "Tracking run with wandb version 0.21.2"
      ],
      "text/plain": [
       "<IPython.core.display.HTML object>"
      ]
     },
     "metadata": {},
     "output_type": "display_data"
    },
    {
     "data": {
      "text/html": [
       "Run data is saved locally in <code>/home/thnhan301/Documents/PROJECT/GIT/truck-delay-prediction/wandb/run-20250902_153358-ff00080f</code>"
      ],
      "text/plain": [
       "<IPython.core.display.HTML object>"
      ]
     },
     "metadata": {},
     "output_type": "display_data"
    },
    {
     "data": {
      "text/html": [
       "Syncing run <strong><a href='https://wandb.ai/nhanthien-sv-hcmute/TEST_PROJECT/runs/ff00080f' target=\"_blank\">fine-sweep-6</a></strong> to <a href='https://wandb.ai/nhanthien-sv-hcmute/TEST_PROJECT' target=\"_blank\">Weights & Biases</a> (<a href='https://wandb.me/developer-guide' target=\"_blank\">docs</a>)<br>Sweep page: <a href='https://wandb.ai/nhanthien-sv-hcmute/TEST_PROJECT/sweeps/vcop48ti' target=\"_blank\">https://wandb.ai/nhanthien-sv-hcmute/TEST_PROJECT/sweeps/vcop48ti</a>"
      ],
      "text/plain": [
       "<IPython.core.display.HTML object>"
      ]
     },
     "metadata": {},
     "output_type": "display_data"
    },
    {
     "data": {
      "text/html": [
       " View project at <a href='https://wandb.ai/nhanthien-sv-hcmute/TEST_PROJECT' target=\"_blank\">https://wandb.ai/nhanthien-sv-hcmute/TEST_PROJECT</a>"
      ],
      "text/plain": [
       "<IPython.core.display.HTML object>"
      ]
     },
     "metadata": {},
     "output_type": "display_data"
    },
    {
     "data": {
      "text/html": [
       " View sweep at <a href='https://wandb.ai/nhanthien-sv-hcmute/TEST_PROJECT/sweeps/vcop48ti' target=\"_blank\">https://wandb.ai/nhanthien-sv-hcmute/TEST_PROJECT/sweeps/vcop48ti</a>"
      ],
      "text/plain": [
       "<IPython.core.display.HTML object>"
      ]
     },
     "metadata": {},
     "output_type": "display_data"
    },
    {
     "data": {
      "text/html": [
       " View run at <a href='https://wandb.ai/nhanthien-sv-hcmute/TEST_PROJECT/runs/ff00080f' target=\"_blank\">https://wandb.ai/nhanthien-sv-hcmute/TEST_PROJECT/runs/ff00080f</a>"
      ],
      "text/plain": [
       "<IPython.core.display.HTML object>"
      ]
     },
     "metadata": {},
     "output_type": "display_data"
    },
    {
     "name": "stdout",
     "output_type": "stream",
     "text": [
      "2025-09-02 15:33:59,793 INFO: Starting training with config: {'C': 1, 'penalty': 'l2'}\n",
      "2025-09-02 15:33:59,794 INFO: Fitting Logistic Regression model...\n",
      "2025-09-02 15:33:59,798 INFO: Making predictions...\n",
      "2025-09-02 15:33:59,824 INFO: Scores: {'f1_score_train': 1.0, 'f1_score_valid': 1.0, 'f1_score_test': 1.0}\n"
     ]
    },
    {
     "name": "stderr",
     "output_type": "stream",
     "text": [
      "\u001b[34m\u001b[1mwandb\u001b[0m: \n",
      "\u001b[34m\u001b[1mwandb\u001b[0m: Plotting LogisticRegression.\n",
      "UserWarning: X does not have valid feature names, but LogisticRegression was fitted with feature names\n",
      "\u001b[34m\u001b[1mwandb\u001b[0m: Logged feature importances.\n",
      "\u001b[34m\u001b[1mwandb\u001b[0m: Logged confusion matrix.\n",
      "UserWarning: X does not have valid feature names, but LogisticRegression was fitted with feature names\n",
      "\u001b[34m\u001b[1mwandb\u001b[0m: Logged summary metrics.\n",
      "\u001b[34m\u001b[1mwandb\u001b[0m: Logged class proportions.\n",
      "UserWarning: X does not have valid feature names, but LogisticRegression was fitted with feature names\n",
      "\u001b[34m\u001b[1mwandb\u001b[0m: Logged calibration curve.\n",
      "\u001b[34m\u001b[1mwandb\u001b[0m: Logged roc curve.\n",
      "\u001b[34m\u001b[1mwandb\u001b[0m: Logged precision-recall curve.\n"
     ]
    },
    {
     "name": "stdout",
     "output_type": "stream",
     "text": [
      "2025-09-02 15:34:06,181 INFO: Saving trained model...\n",
      "2025-09-02 15:34:07,049 INFO: Training run completed successfully.\n"
     ]
    },
    {
     "data": {
      "text/html": [],
      "text/plain": [
       "<IPython.core.display.HTML object>"
      ]
     },
     "metadata": {},
     "output_type": "display_data"
    },
    {
     "data": {
      "text/html": [
       "<br>    <style><br>        .wandb-row {<br>            display: flex;<br>            flex-direction: row;<br>            flex-wrap: wrap;<br>            justify-content: flex-start;<br>            width: 100%;<br>        }<br>        .wandb-col {<br>            display: flex;<br>            flex-direction: column;<br>            flex-basis: 100%;<br>            flex: 1;<br>            padding: 10px;<br>        }<br>    </style><br><div class=\"wandb-row\"><div class=\"wandb-col\"><h3>Run history:</h3><br/><table class=\"wandb\"><tr><td>f1_score_test</td><td>▁</td></tr><tr><td>f1_score_train</td><td>▁</td></tr><tr><td>f1_score_valid</td><td>▁</td></tr></table><br/></div><div class=\"wandb-col\"><h3>Run summary:</h3><br/><table class=\"wandb\"><tr><td>f1_score_test</td><td>1</td></tr><tr><td>f1_score_train</td><td>1</td></tr><tr><td>f1_score_valid</td><td>1</td></tr></table><br/></div></div>"
      ],
      "text/plain": [
       "<IPython.core.display.HTML object>"
      ]
     },
     "metadata": {},
     "output_type": "display_data"
    },
    {
     "data": {
      "text/html": [
       " View run <strong style=\"color:#cdcd00\">fine-sweep-6</strong> at: <a href='https://wandb.ai/nhanthien-sv-hcmute/TEST_PROJECT/runs/ff00080f' target=\"_blank\">https://wandb.ai/nhanthien-sv-hcmute/TEST_PROJECT/runs/ff00080f</a><br> View project at: <a href='https://wandb.ai/nhanthien-sv-hcmute/TEST_PROJECT' target=\"_blank\">https://wandb.ai/nhanthien-sv-hcmute/TEST_PROJECT</a><br>Synced 5 W&B file(s), 7 media file(s), 16 artifact file(s) and 0 other file(s)"
      ],
      "text/plain": [
       "<IPython.core.display.HTML object>"
      ]
     },
     "metadata": {},
     "output_type": "display_data"
    },
    {
     "data": {
      "text/html": [
       "Find logs at: <code>./wandb/run-20250902_153358-ff00080f/logs</code>"
      ],
      "text/plain": [
       "<IPython.core.display.HTML object>"
      ]
     },
     "metadata": {},
     "output_type": "display_data"
    },
    {
     "name": "stderr",
     "output_type": "stream",
     "text": [
      "\u001b[34m\u001b[1mwandb\u001b[0m: Agent Starting Run: ha3rk3v4 with config:\n",
      "\u001b[34m\u001b[1mwandb\u001b[0m: \tC: 10\n",
      "\u001b[34m\u001b[1mwandb\u001b[0m: \tpenalty: l1\n"
     ]
    },
    {
     "data": {
      "text/html": [
       "Changes to your `wandb` environment variables will be ignored because your `wandb` session has already started. For more information on how to modify your settings with `wandb.init()` arguments, please refer to <a href='https://wandb.me/wandb-init' target=\"_blank\">the W&B docs</a>."
      ],
      "text/plain": [
       "<IPython.core.display.HTML object>"
      ]
     },
     "metadata": {},
     "output_type": "display_data"
    },
    {
     "data": {
      "text/html": [
       "Ignoring project 'TEST_PROJECT' when running a sweep."
      ],
      "text/plain": [
       "<IPython.core.display.HTML object>"
      ]
     },
     "metadata": {},
     "output_type": "display_data"
    },
    {
     "data": {
      "text/html": [
       "creating run (0.0s)"
      ],
      "text/plain": [
       "<IPython.core.display.HTML object>"
      ]
     },
     "metadata": {},
     "output_type": "display_data"
    },
    {
     "data": {
      "text/html": [
       "Tracking run with wandb version 0.21.2"
      ],
      "text/plain": [
       "<IPython.core.display.HTML object>"
      ]
     },
     "metadata": {},
     "output_type": "display_data"
    },
    {
     "data": {
      "text/html": [
       "Run data is saved locally in <code>/home/thnhan301/Documents/PROJECT/GIT/truck-delay-prediction/wandb/run-20250902_153414-ha3rk3v4</code>"
      ],
      "text/plain": [
       "<IPython.core.display.HTML object>"
      ]
     },
     "metadata": {},
     "output_type": "display_data"
    },
    {
     "data": {
      "text/html": [
       "Syncing run <strong><a href='https://wandb.ai/nhanthien-sv-hcmute/TEST_PROJECT/runs/ha3rk3v4' target=\"_blank\">iconic-sweep-7</a></strong> to <a href='https://wandb.ai/nhanthien-sv-hcmute/TEST_PROJECT' target=\"_blank\">Weights & Biases</a> (<a href='https://wandb.me/developer-guide' target=\"_blank\">docs</a>)<br>Sweep page: <a href='https://wandb.ai/nhanthien-sv-hcmute/TEST_PROJECT/sweeps/vcop48ti' target=\"_blank\">https://wandb.ai/nhanthien-sv-hcmute/TEST_PROJECT/sweeps/vcop48ti</a>"
      ],
      "text/plain": [
       "<IPython.core.display.HTML object>"
      ]
     },
     "metadata": {},
     "output_type": "display_data"
    },
    {
     "data": {
      "text/html": [
       " View project at <a href='https://wandb.ai/nhanthien-sv-hcmute/TEST_PROJECT' target=\"_blank\">https://wandb.ai/nhanthien-sv-hcmute/TEST_PROJECT</a>"
      ],
      "text/plain": [
       "<IPython.core.display.HTML object>"
      ]
     },
     "metadata": {},
     "output_type": "display_data"
    },
    {
     "data": {
      "text/html": [
       " View sweep at <a href='https://wandb.ai/nhanthien-sv-hcmute/TEST_PROJECT/sweeps/vcop48ti' target=\"_blank\">https://wandb.ai/nhanthien-sv-hcmute/TEST_PROJECT/sweeps/vcop48ti</a>"
      ],
      "text/plain": [
       "<IPython.core.display.HTML object>"
      ]
     },
     "metadata": {},
     "output_type": "display_data"
    },
    {
     "data": {
      "text/html": [
       " View run at <a href='https://wandb.ai/nhanthien-sv-hcmute/TEST_PROJECT/runs/ha3rk3v4' target=\"_blank\">https://wandb.ai/nhanthien-sv-hcmute/TEST_PROJECT/runs/ha3rk3v4</a>"
      ],
      "text/plain": [
       "<IPython.core.display.HTML object>"
      ]
     },
     "metadata": {},
     "output_type": "display_data"
    },
    {
     "name": "stdout",
     "output_type": "stream",
     "text": [
      "2025-09-02 15:34:15,878 INFO: Starting training with config: {'C': 10, 'penalty': 'l1'}\n",
      "2025-09-02 15:34:15,880 INFO: Fitting Logistic Regression model...\n",
      "2025-09-02 15:34:15,885 INFO: Making predictions...\n",
      "2025-09-02 15:34:15,903 INFO: Scores: {'f1_score_train': 1.0, 'f1_score_valid': 1.0, 'f1_score_test': 1.0}\n"
     ]
    },
    {
     "name": "stderr",
     "output_type": "stream",
     "text": [
      "\u001b[34m\u001b[1mwandb\u001b[0m: \n",
      "\u001b[34m\u001b[1mwandb\u001b[0m: Plotting LogisticRegression.\n",
      "UserWarning: X does not have valid feature names, but LogisticRegression was fitted with feature names\n",
      "\u001b[34m\u001b[1mwandb\u001b[0m: Logged feature importances.\n",
      "\u001b[34m\u001b[1mwandb\u001b[0m: Logged confusion matrix.\n",
      "UserWarning: X does not have valid feature names, but LogisticRegression was fitted with feature names\n",
      "\u001b[34m\u001b[1mwandb\u001b[0m: Logged summary metrics.\n",
      "\u001b[34m\u001b[1mwandb\u001b[0m: Logged class proportions.\n",
      "UserWarning: X does not have valid feature names, but LogisticRegression was fitted with feature names\n",
      "\u001b[34m\u001b[1mwandb\u001b[0m: Logged calibration curve.\n",
      "\u001b[34m\u001b[1mwandb\u001b[0m: Logged roc curve.\n",
      "\u001b[34m\u001b[1mwandb\u001b[0m: Logged precision-recall curve.\n"
     ]
    },
    {
     "name": "stdout",
     "output_type": "stream",
     "text": [
      "2025-09-02 15:34:22,380 INFO: Saving trained model...\n",
      "2025-09-02 15:34:23,293 INFO: Training run completed successfully.\n"
     ]
    },
    {
     "data": {
      "text/html": [],
      "text/plain": [
       "<IPython.core.display.HTML object>"
      ]
     },
     "metadata": {},
     "output_type": "display_data"
    },
    {
     "data": {
      "text/html": [
       "<br>    <style><br>        .wandb-row {<br>            display: flex;<br>            flex-direction: row;<br>            flex-wrap: wrap;<br>            justify-content: flex-start;<br>            width: 100%;<br>        }<br>        .wandb-col {<br>            display: flex;<br>            flex-direction: column;<br>            flex-basis: 100%;<br>            flex: 1;<br>            padding: 10px;<br>        }<br>    </style><br><div class=\"wandb-row\"><div class=\"wandb-col\"><h3>Run history:</h3><br/><table class=\"wandb\"><tr><td>f1_score_test</td><td>▁</td></tr><tr><td>f1_score_train</td><td>▁</td></tr><tr><td>f1_score_valid</td><td>▁</td></tr></table><br/></div><div class=\"wandb-col\"><h3>Run summary:</h3><br/><table class=\"wandb\"><tr><td>f1_score_test</td><td>1</td></tr><tr><td>f1_score_train</td><td>1</td></tr><tr><td>f1_score_valid</td><td>1</td></tr></table><br/></div></div>"
      ],
      "text/plain": [
       "<IPython.core.display.HTML object>"
      ]
     },
     "metadata": {},
     "output_type": "display_data"
    },
    {
     "data": {
      "text/html": [
       " View run <strong style=\"color:#cdcd00\">iconic-sweep-7</strong> at: <a href='https://wandb.ai/nhanthien-sv-hcmute/TEST_PROJECT/runs/ha3rk3v4' target=\"_blank\">https://wandb.ai/nhanthien-sv-hcmute/TEST_PROJECT/runs/ha3rk3v4</a><br> View project at: <a href='https://wandb.ai/nhanthien-sv-hcmute/TEST_PROJECT' target=\"_blank\">https://wandb.ai/nhanthien-sv-hcmute/TEST_PROJECT</a><br>Synced 5 W&B file(s), 7 media file(s), 16 artifact file(s) and 0 other file(s)"
      ],
      "text/plain": [
       "<IPython.core.display.HTML object>"
      ]
     },
     "metadata": {},
     "output_type": "display_data"
    },
    {
     "data": {
      "text/html": [
       "Find logs at: <code>./wandb/run-20250902_153414-ha3rk3v4/logs</code>"
      ],
      "text/plain": [
       "<IPython.core.display.HTML object>"
      ]
     },
     "metadata": {},
     "output_type": "display_data"
    },
    {
     "name": "stderr",
     "output_type": "stream",
     "text": [
      "\u001b[34m\u001b[1mwandb\u001b[0m: Agent Starting Run: 14o289pi with config:\n",
      "\u001b[34m\u001b[1mwandb\u001b[0m: \tC: 10\n",
      "\u001b[34m\u001b[1mwandb\u001b[0m: \tpenalty: l2\n"
     ]
    },
    {
     "data": {
      "text/html": [
       "Changes to your `wandb` environment variables will be ignored because your `wandb` session has already started. For more information on how to modify your settings with `wandb.init()` arguments, please refer to <a href='https://wandb.me/wandb-init' target=\"_blank\">the W&B docs</a>."
      ],
      "text/plain": [
       "<IPython.core.display.HTML object>"
      ]
     },
     "metadata": {},
     "output_type": "display_data"
    },
    {
     "data": {
      "text/html": [
       "Ignoring project 'TEST_PROJECT' when running a sweep."
      ],
      "text/plain": [
       "<IPython.core.display.HTML object>"
      ]
     },
     "metadata": {},
     "output_type": "display_data"
    },
    {
     "data": {
      "text/html": [
       "creating run (0.0s)"
      ],
      "text/plain": [
       "<IPython.core.display.HTML object>"
      ]
     },
     "metadata": {},
     "output_type": "display_data"
    },
    {
     "data": {
      "text/html": [
       "Tracking run with wandb version 0.21.2"
      ],
      "text/plain": [
       "<IPython.core.display.HTML object>"
      ]
     },
     "metadata": {},
     "output_type": "display_data"
    },
    {
     "data": {
      "text/html": [
       "Run data is saved locally in <code>/home/thnhan301/Documents/PROJECT/GIT/truck-delay-prediction/wandb/run-20250902_153430-14o289pi</code>"
      ],
      "text/plain": [
       "<IPython.core.display.HTML object>"
      ]
     },
     "metadata": {},
     "output_type": "display_data"
    },
    {
     "data": {
      "text/html": [
       "Syncing run <strong><a href='https://wandb.ai/nhanthien-sv-hcmute/TEST_PROJECT/runs/14o289pi' target=\"_blank\">exalted-sweep-8</a></strong> to <a href='https://wandb.ai/nhanthien-sv-hcmute/TEST_PROJECT' target=\"_blank\">Weights & Biases</a> (<a href='https://wandb.me/developer-guide' target=\"_blank\">docs</a>)<br>Sweep page: <a href='https://wandb.ai/nhanthien-sv-hcmute/TEST_PROJECT/sweeps/vcop48ti' target=\"_blank\">https://wandb.ai/nhanthien-sv-hcmute/TEST_PROJECT/sweeps/vcop48ti</a>"
      ],
      "text/plain": [
       "<IPython.core.display.HTML object>"
      ]
     },
     "metadata": {},
     "output_type": "display_data"
    },
    {
     "data": {
      "text/html": [
       " View project at <a href='https://wandb.ai/nhanthien-sv-hcmute/TEST_PROJECT' target=\"_blank\">https://wandb.ai/nhanthien-sv-hcmute/TEST_PROJECT</a>"
      ],
      "text/plain": [
       "<IPython.core.display.HTML object>"
      ]
     },
     "metadata": {},
     "output_type": "display_data"
    },
    {
     "data": {
      "text/html": [
       " View sweep at <a href='https://wandb.ai/nhanthien-sv-hcmute/TEST_PROJECT/sweeps/vcop48ti' target=\"_blank\">https://wandb.ai/nhanthien-sv-hcmute/TEST_PROJECT/sweeps/vcop48ti</a>"
      ],
      "text/plain": [
       "<IPython.core.display.HTML object>"
      ]
     },
     "metadata": {},
     "output_type": "display_data"
    },
    {
     "data": {
      "text/html": [
       " View run at <a href='https://wandb.ai/nhanthien-sv-hcmute/TEST_PROJECT/runs/14o289pi' target=\"_blank\">https://wandb.ai/nhanthien-sv-hcmute/TEST_PROJECT/runs/14o289pi</a>"
      ],
      "text/plain": [
       "<IPython.core.display.HTML object>"
      ]
     },
     "metadata": {},
     "output_type": "display_data"
    },
    {
     "name": "stdout",
     "output_type": "stream",
     "text": [
      "2025-09-02 15:34:31,896 INFO: Starting training with config: {'C': 10, 'penalty': 'l2'}\n",
      "2025-09-02 15:34:31,898 INFO: Fitting Logistic Regression model...\n",
      "2025-09-02 15:34:31,903 INFO: Making predictions...\n",
      "2025-09-02 15:34:31,923 INFO: Scores: {'f1_score_train': 1.0, 'f1_score_valid': 1.0, 'f1_score_test': 1.0}\n"
     ]
    },
    {
     "name": "stderr",
     "output_type": "stream",
     "text": [
      "\u001b[34m\u001b[1mwandb\u001b[0m: \n",
      "\u001b[34m\u001b[1mwandb\u001b[0m: Plotting LogisticRegression.\n",
      "UserWarning: X does not have valid feature names, but LogisticRegression was fitted with feature names\n",
      "\u001b[34m\u001b[1mwandb\u001b[0m: Logged feature importances.\n",
      "\u001b[34m\u001b[1mwandb\u001b[0m: Logged confusion matrix.\n",
      "UserWarning: X does not have valid feature names, but LogisticRegression was fitted with feature names\n",
      "\u001b[34m\u001b[1mwandb\u001b[0m: Logged summary metrics.\n",
      "\u001b[34m\u001b[1mwandb\u001b[0m: Logged class proportions.\n",
      "UserWarning: X does not have valid feature names, but LogisticRegression was fitted with feature names\n",
      "\u001b[34m\u001b[1mwandb\u001b[0m: Logged calibration curve.\n",
      "\u001b[34m\u001b[1mwandb\u001b[0m: Logged roc curve.\n",
      "\u001b[34m\u001b[1mwandb\u001b[0m: Logged precision-recall curve.\n"
     ]
    },
    {
     "name": "stdout",
     "output_type": "stream",
     "text": [
      "2025-09-02 15:34:38,513 INFO: Saving trained model...\n",
      "2025-09-02 15:34:39,416 INFO: Training run completed successfully.\n"
     ]
    },
    {
     "data": {
      "text/html": [],
      "text/plain": [
       "<IPython.core.display.HTML object>"
      ]
     },
     "metadata": {},
     "output_type": "display_data"
    },
    {
     "data": {
      "text/html": [
       "<br>    <style><br>        .wandb-row {<br>            display: flex;<br>            flex-direction: row;<br>            flex-wrap: wrap;<br>            justify-content: flex-start;<br>            width: 100%;<br>        }<br>        .wandb-col {<br>            display: flex;<br>            flex-direction: column;<br>            flex-basis: 100%;<br>            flex: 1;<br>            padding: 10px;<br>        }<br>    </style><br><div class=\"wandb-row\"><div class=\"wandb-col\"><h3>Run history:</h3><br/><table class=\"wandb\"><tr><td>f1_score_test</td><td>▁</td></tr><tr><td>f1_score_train</td><td>▁</td></tr><tr><td>f1_score_valid</td><td>▁</td></tr></table><br/></div><div class=\"wandb-col\"><h3>Run summary:</h3><br/><table class=\"wandb\"><tr><td>f1_score_test</td><td>1</td></tr><tr><td>f1_score_train</td><td>1</td></tr><tr><td>f1_score_valid</td><td>1</td></tr></table><br/></div></div>"
      ],
      "text/plain": [
       "<IPython.core.display.HTML object>"
      ]
     },
     "metadata": {},
     "output_type": "display_data"
    },
    {
     "data": {
      "text/html": [
       " View run <strong style=\"color:#cdcd00\">exalted-sweep-8</strong> at: <a href='https://wandb.ai/nhanthien-sv-hcmute/TEST_PROJECT/runs/14o289pi' target=\"_blank\">https://wandb.ai/nhanthien-sv-hcmute/TEST_PROJECT/runs/14o289pi</a><br> View project at: <a href='https://wandb.ai/nhanthien-sv-hcmute/TEST_PROJECT' target=\"_blank\">https://wandb.ai/nhanthien-sv-hcmute/TEST_PROJECT</a><br>Synced 5 W&B file(s), 7 media file(s), 16 artifact file(s) and 0 other file(s)"
      ],
      "text/plain": [
       "<IPython.core.display.HTML object>"
      ]
     },
     "metadata": {},
     "output_type": "display_data"
    },
    {
     "data": {
      "text/html": [
       "Find logs at: <code>./wandb/run-20250902_153430-14o289pi/logs</code>"
      ],
      "text/plain": [
       "<IPython.core.display.HTML object>"
      ]
     },
     "metadata": {},
     "output_type": "display_data"
    },
    {
     "name": "stderr",
     "output_type": "stream",
     "text": [
      "\u001b[34m\u001b[1mwandb\u001b[0m: Sweep Agent: Waiting for job.\n",
      "\u001b[34m\u001b[1mwandb\u001b[0m: Sweep Agent: Exiting.\n"
     ]
    }
   ],
   "source": [
    "train_logistic_model(X_train, y_train, X_valid, y_valid, X_test, y_test, class_weights, sweep_config, PROJECT_NAME)"
   ]
  },
  {
   "cell_type": "code",
   "execution_count": 10,
   "id": "e86b725f",
   "metadata": {},
   "outputs": [
    {
     "name": "stdout",
     "output_type": "stream",
     "text": [
      "2025-09-02 16:54:04,718 INFO: Preparing sweep configuration...\n",
      "2025-09-02 16:54:04,720 INFO: Initializing W&B sweep...\n",
      "Create sweep with ID: i16wvccx\n",
      "Sweep URL: https://wandb.ai/nhanthien-sv-hcmute/TEST_PROJECT/sweeps/i16wvccx\n",
      "2025-09-02 16:54:20,820 INFO: Sweep created with ID: i16wvccx\n"
     ]
    },
    {
     "name": "stderr",
     "output_type": "stream",
     "text": [
      "\u001b[34m\u001b[1mwandb\u001b[0m: Agent Starting Run: smegb73o with config:\n",
      "\u001b[34m\u001b[1mwandb\u001b[0m: \tlearning_rate: 0.01\n",
      "\u001b[34m\u001b[1mwandb\u001b[0m: \tmax_depth_xgb: 3\n",
      "\u001b[34m\u001b[1mwandb\u001b[0m: \tn_estimators_xgb: 50\n",
      "\u001b[34m\u001b[1mwandb\u001b[0m: Currently logged in as: \u001b[33mnhanthien-sv\u001b[0m (\u001b[33mnhanthien-sv-hcmute\u001b[0m) to \u001b[32mhttps://api.wandb.ai\u001b[0m. Use \u001b[1m`wandb login --relogin`\u001b[0m to force relogin\n"
     ]
    },
    {
     "data": {
      "text/html": [
       "Changes to your `wandb` environment variables will be ignored because your `wandb` session has already started. For more information on how to modify your settings with `wandb.init()` arguments, please refer to <a href='https://wandb.me/wandb-init' target=\"_blank\">the W&B docs</a>."
      ],
      "text/plain": [
       "<IPython.core.display.HTML object>"
      ]
     },
     "metadata": {},
     "output_type": "display_data"
    },
    {
     "data": {
      "text/html": [
       "Ignoring project 'TEST_PROJECT' when running a sweep."
      ],
      "text/plain": [
       "<IPython.core.display.HTML object>"
      ]
     },
     "metadata": {},
     "output_type": "display_data"
    },
    {
     "data": {
      "text/html": [
       "creating run (0.1s)"
      ],
      "text/plain": [
       "<IPython.core.display.HTML object>"
      ]
     },
     "metadata": {},
     "output_type": "display_data"
    },
    {
     "data": {
      "text/html": [
       "Tracking run with wandb version 0.21.2"
      ],
      "text/plain": [
       "<IPython.core.display.HTML object>"
      ]
     },
     "metadata": {},
     "output_type": "display_data"
    },
    {
     "data": {
      "text/html": [
       "Run data is saved locally in <code>/home/thnhan301/Documents/PROJECT/GIT/truck-delay-prediction/wandb/run-20250902_165422-smegb73o</code>"
      ],
      "text/plain": [
       "<IPython.core.display.HTML object>"
      ]
     },
     "metadata": {},
     "output_type": "display_data"
    },
    {
     "data": {
      "text/html": [
       "Syncing run <strong><a href='https://wandb.ai/nhanthien-sv-hcmute/TEST_PROJECT/runs/smegb73o' target=\"_blank\">fancy-sweep-1</a></strong> to <a href='https://wandb.ai/nhanthien-sv-hcmute/TEST_PROJECT' target=\"_blank\">Weights & Biases</a> (<a href='https://wandb.me/developer-guide' target=\"_blank\">docs</a>)<br>Sweep page: <a href='https://wandb.ai/nhanthien-sv-hcmute/TEST_PROJECT/sweeps/i16wvccx' target=\"_blank\">https://wandb.ai/nhanthien-sv-hcmute/TEST_PROJECT/sweeps/i16wvccx</a>"
      ],
      "text/plain": [
       "<IPython.core.display.HTML object>"
      ]
     },
     "metadata": {},
     "output_type": "display_data"
    },
    {
     "data": {
      "text/html": [
       " View project at <a href='https://wandb.ai/nhanthien-sv-hcmute/TEST_PROJECT' target=\"_blank\">https://wandb.ai/nhanthien-sv-hcmute/TEST_PROJECT</a>"
      ],
      "text/plain": [
       "<IPython.core.display.HTML object>"
      ]
     },
     "metadata": {},
     "output_type": "display_data"
    },
    {
     "data": {
      "text/html": [
       " View sweep at <a href='https://wandb.ai/nhanthien-sv-hcmute/TEST_PROJECT/sweeps/i16wvccx' target=\"_blank\">https://wandb.ai/nhanthien-sv-hcmute/TEST_PROJECT/sweeps/i16wvccx</a>"
      ],
      "text/plain": [
       "<IPython.core.display.HTML object>"
      ]
     },
     "metadata": {},
     "output_type": "display_data"
    },
    {
     "data": {
      "text/html": [
       " View run at <a href='https://wandb.ai/nhanthien-sv-hcmute/TEST_PROJECT/runs/smegb73o' target=\"_blank\">https://wandb.ai/nhanthien-sv-hcmute/TEST_PROJECT/runs/smegb73o</a>"
      ],
      "text/plain": [
       "<IPython.core.display.HTML object>"
      ]
     },
     "metadata": {},
     "output_type": "display_data"
    },
    {
     "name": "stdout",
     "output_type": "stream",
     "text": [
      "2025-09-02 16:54:24,062 INFO: Starting training with config: {'learning_rate': 0.01, 'max_depth_xgb': 3, 'n_estimators_xgb': 50}\n",
      "2025-09-02 16:54:24,354 INFO: Making predictions...\n",
      "2025-09-02 16:54:24,376 INFO: Scores: {'f1_score_train': 1.0, 'f1_score_valid': 1.0, 'f1_score_test': 0.9570508863215451}\n"
     ]
    },
    {
     "name": "stderr",
     "output_type": "stream",
     "text": [
      "\u001b[34m\u001b[1mwandb\u001b[0m: \n",
      "\u001b[34m\u001b[1mwandb\u001b[0m: Plotting XGBoost.\n",
      "\u001b[34m\u001b[1mwandb\u001b[0m: Logged feature importances.\n",
      "\u001b[34m\u001b[1mwandb\u001b[0m: Logged confusion matrix.\n",
      "\u001b[34m\u001b[1mwandb\u001b[0m: Logged summary metrics.\n",
      "\u001b[34m\u001b[1mwandb\u001b[0m: Logged class proportions.\n",
      "\u001b[34m\u001b[1mwandb\u001b[0m: Logged calibration curve.\n",
      "\u001b[34m\u001b[1mwandb\u001b[0m: Logged roc curve.\n",
      "\u001b[34m\u001b[1mwandb\u001b[0m: Logged precision-recall curve.\n"
     ]
    },
    {
     "name": "stdout",
     "output_type": "stream",
     "text": [
      "2025-09-02 16:54:32,037 INFO: Saving trained model...\n",
      "2025-09-02 16:54:32,912 INFO: Training run completed successfully.\n"
     ]
    },
    {
     "data": {
      "text/html": [],
      "text/plain": [
       "<IPython.core.display.HTML object>"
      ]
     },
     "metadata": {},
     "output_type": "display_data"
    },
    {
     "data": {
      "text/html": [
       "<br>    <style><br>        .wandb-row {<br>            display: flex;<br>            flex-direction: row;<br>            flex-wrap: wrap;<br>            justify-content: flex-start;<br>            width: 100%;<br>        }<br>        .wandb-col {<br>            display: flex;<br>            flex-direction: column;<br>            flex-basis: 100%;<br>            flex: 1;<br>            padding: 10px;<br>        }<br>    </style><br><div class=\"wandb-row\"><div class=\"wandb-col\"><h3>Run history:</h3><br/><table class=\"wandb\"><tr><td>f1_score_test</td><td>▁</td></tr><tr><td>f1_score_train</td><td>▁</td></tr><tr><td>f1_score_valid</td><td>▁</td></tr></table><br/></div><div class=\"wandb-col\"><h3>Run summary:</h3><br/><table class=\"wandb\"><tr><td>f1_score_test</td><td>0.95705</td></tr><tr><td>f1_score_train</td><td>1</td></tr><tr><td>f1_score_valid</td><td>1</td></tr></table><br/></div></div>"
      ],
      "text/plain": [
       "<IPython.core.display.HTML object>"
      ]
     },
     "metadata": {},
     "output_type": "display_data"
    },
    {
     "data": {
      "text/html": [
       " View run <strong style=\"color:#cdcd00\">fancy-sweep-1</strong> at: <a href='https://wandb.ai/nhanthien-sv-hcmute/TEST_PROJECT/runs/smegb73o' target=\"_blank\">https://wandb.ai/nhanthien-sv-hcmute/TEST_PROJECT/runs/smegb73o</a><br> View project at: <a href='https://wandb.ai/nhanthien-sv-hcmute/TEST_PROJECT' target=\"_blank\">https://wandb.ai/nhanthien-sv-hcmute/TEST_PROJECT</a><br>Synced 5 W&B file(s), 7 media file(s), 16 artifact file(s) and 0 other file(s)"
      ],
      "text/plain": [
       "<IPython.core.display.HTML object>"
      ]
     },
     "metadata": {},
     "output_type": "display_data"
    },
    {
     "data": {
      "text/html": [
       "Find logs at: <code>./wandb/run-20250902_165422-smegb73o/logs</code>"
      ],
      "text/plain": [
       "<IPython.core.display.HTML object>"
      ]
     },
     "metadata": {},
     "output_type": "display_data"
    },
    {
     "name": "stderr",
     "output_type": "stream",
     "text": [
      "\u001b[34m\u001b[1mwandb\u001b[0m: Agent Starting Run: 4lwamszd with config:\n",
      "\u001b[34m\u001b[1mwandb\u001b[0m: \tlearning_rate: 0.1\n",
      "\u001b[34m\u001b[1mwandb\u001b[0m: \tmax_depth_xgb: 3\n",
      "\u001b[34m\u001b[1mwandb\u001b[0m: \tn_estimators_xgb: 50\n"
     ]
    },
    {
     "data": {
      "text/html": [
       "Changes to your `wandb` environment variables will be ignored because your `wandb` session has already started. For more information on how to modify your settings with `wandb.init()` arguments, please refer to <a href='https://wandb.me/wandb-init' target=\"_blank\">the W&B docs</a>."
      ],
      "text/plain": [
       "<IPython.core.display.HTML object>"
      ]
     },
     "metadata": {},
     "output_type": "display_data"
    },
    {
     "data": {
      "text/html": [
       "Ignoring project 'TEST_PROJECT' when running a sweep."
      ],
      "text/plain": [
       "<IPython.core.display.HTML object>"
      ]
     },
     "metadata": {},
     "output_type": "display_data"
    },
    {
     "data": {
      "text/html": [
       "creating run (0.1s)"
      ],
      "text/plain": [
       "<IPython.core.display.HTML object>"
      ]
     },
     "metadata": {},
     "output_type": "display_data"
    },
    {
     "data": {
      "text/html": [
       "Tracking run with wandb version 0.21.2"
      ],
      "text/plain": [
       "<IPython.core.display.HTML object>"
      ]
     },
     "metadata": {},
     "output_type": "display_data"
    },
    {
     "data": {
      "text/html": [
       "Run data is saved locally in <code>/home/thnhan301/Documents/PROJECT/GIT/truck-delay-prediction/wandb/run-20250902_165438-4lwamszd</code>"
      ],
      "text/plain": [
       "<IPython.core.display.HTML object>"
      ]
     },
     "metadata": {},
     "output_type": "display_data"
    },
    {
     "data": {
      "text/html": [
       "Syncing run <strong><a href='https://wandb.ai/nhanthien-sv-hcmute/TEST_PROJECT/runs/4lwamszd' target=\"_blank\">neat-sweep-2</a></strong> to <a href='https://wandb.ai/nhanthien-sv-hcmute/TEST_PROJECT' target=\"_blank\">Weights & Biases</a> (<a href='https://wandb.me/developer-guide' target=\"_blank\">docs</a>)<br>Sweep page: <a href='https://wandb.ai/nhanthien-sv-hcmute/TEST_PROJECT/sweeps/i16wvccx' target=\"_blank\">https://wandb.ai/nhanthien-sv-hcmute/TEST_PROJECT/sweeps/i16wvccx</a>"
      ],
      "text/plain": [
       "<IPython.core.display.HTML object>"
      ]
     },
     "metadata": {},
     "output_type": "display_data"
    },
    {
     "data": {
      "text/html": [
       " View project at <a href='https://wandb.ai/nhanthien-sv-hcmute/TEST_PROJECT' target=\"_blank\">https://wandb.ai/nhanthien-sv-hcmute/TEST_PROJECT</a>"
      ],
      "text/plain": [
       "<IPython.core.display.HTML object>"
      ]
     },
     "metadata": {},
     "output_type": "display_data"
    },
    {
     "data": {
      "text/html": [
       " View sweep at <a href='https://wandb.ai/nhanthien-sv-hcmute/TEST_PROJECT/sweeps/i16wvccx' target=\"_blank\">https://wandb.ai/nhanthien-sv-hcmute/TEST_PROJECT/sweeps/i16wvccx</a>"
      ],
      "text/plain": [
       "<IPython.core.display.HTML object>"
      ]
     },
     "metadata": {},
     "output_type": "display_data"
    },
    {
     "data": {
      "text/html": [
       " View run at <a href='https://wandb.ai/nhanthien-sv-hcmute/TEST_PROJECT/runs/4lwamszd' target=\"_blank\">https://wandb.ai/nhanthien-sv-hcmute/TEST_PROJECT/runs/4lwamszd</a>"
      ],
      "text/plain": [
       "<IPython.core.display.HTML object>"
      ]
     },
     "metadata": {},
     "output_type": "display_data"
    },
    {
     "name": "stdout",
     "output_type": "stream",
     "text": [
      "2025-09-02 16:54:39,917 INFO: Starting training with config: {'learning_rate': 0.1, 'max_depth_xgb': 3, 'n_estimators_xgb': 50}\n",
      "2025-09-02 16:54:39,973 INFO: Making predictions...\n",
      "2025-09-02 16:54:39,995 INFO: Scores: {'f1_score_train': 1.0, 'f1_score_valid': 1.0, 'f1_score_test': 0.9570508863215451}\n"
     ]
    },
    {
     "name": "stderr",
     "output_type": "stream",
     "text": [
      "\u001b[34m\u001b[1mwandb\u001b[0m: \n",
      "\u001b[34m\u001b[1mwandb\u001b[0m: Plotting XGBoost.\n",
      "\u001b[34m\u001b[1mwandb\u001b[0m: Logged feature importances.\n",
      "\u001b[34m\u001b[1mwandb\u001b[0m: Logged confusion matrix.\n",
      "\u001b[34m\u001b[1mwandb\u001b[0m: Logged summary metrics.\n",
      "\u001b[34m\u001b[1mwandb\u001b[0m: Logged class proportions.\n",
      "\u001b[34m\u001b[1mwandb\u001b[0m: Logged calibration curve.\n",
      "\u001b[34m\u001b[1mwandb\u001b[0m: Logged roc curve.\n",
      "\u001b[34m\u001b[1mwandb\u001b[0m: Logged precision-recall curve.\n"
     ]
    },
    {
     "name": "stdout",
     "output_type": "stream",
     "text": [
      "2025-09-02 16:54:46,624 INFO: Saving trained model...\n",
      "2025-09-02 16:54:47,479 INFO: Training run completed successfully.\n"
     ]
    },
    {
     "data": {
      "text/html": [],
      "text/plain": [
       "<IPython.core.display.HTML object>"
      ]
     },
     "metadata": {},
     "output_type": "display_data"
    },
    {
     "data": {
      "text/html": [
       "<br>    <style><br>        .wandb-row {<br>            display: flex;<br>            flex-direction: row;<br>            flex-wrap: wrap;<br>            justify-content: flex-start;<br>            width: 100%;<br>        }<br>        .wandb-col {<br>            display: flex;<br>            flex-direction: column;<br>            flex-basis: 100%;<br>            flex: 1;<br>            padding: 10px;<br>        }<br>    </style><br><div class=\"wandb-row\"><div class=\"wandb-col\"><h3>Run history:</h3><br/><table class=\"wandb\"><tr><td>f1_score_test</td><td>▁</td></tr><tr><td>f1_score_train</td><td>▁</td></tr><tr><td>f1_score_valid</td><td>▁</td></tr></table><br/></div><div class=\"wandb-col\"><h3>Run summary:</h3><br/><table class=\"wandb\"><tr><td>f1_score_test</td><td>0.95705</td></tr><tr><td>f1_score_train</td><td>1</td></tr><tr><td>f1_score_valid</td><td>1</td></tr></table><br/></div></div>"
      ],
      "text/plain": [
       "<IPython.core.display.HTML object>"
      ]
     },
     "metadata": {},
     "output_type": "display_data"
    },
    {
     "data": {
      "text/html": [
       " View run <strong style=\"color:#cdcd00\">neat-sweep-2</strong> at: <a href='https://wandb.ai/nhanthien-sv-hcmute/TEST_PROJECT/runs/4lwamszd' target=\"_blank\">https://wandb.ai/nhanthien-sv-hcmute/TEST_PROJECT/runs/4lwamszd</a><br> View project at: <a href='https://wandb.ai/nhanthien-sv-hcmute/TEST_PROJECT' target=\"_blank\">https://wandb.ai/nhanthien-sv-hcmute/TEST_PROJECT</a><br>Synced 5 W&B file(s), 7 media file(s), 16 artifact file(s) and 0 other file(s)"
      ],
      "text/plain": [
       "<IPython.core.display.HTML object>"
      ]
     },
     "metadata": {},
     "output_type": "display_data"
    },
    {
     "data": {
      "text/html": [
       "Find logs at: <code>./wandb/run-20250902_165438-4lwamszd/logs</code>"
      ],
      "text/plain": [
       "<IPython.core.display.HTML object>"
      ]
     },
     "metadata": {},
     "output_type": "display_data"
    },
    {
     "name": "stderr",
     "output_type": "stream",
     "text": [
      "\u001b[34m\u001b[1mwandb\u001b[0m: Sweep Agent: Waiting for job.\n",
      "\u001b[34m\u001b[1mwandb\u001b[0m: Sweep Agent: Exiting.\n"
     ]
    }
   ],
   "source": [
    "train_xgb_model(X_train, y_train, X_valid, y_valid, X_test, y_test, class_weights, sweep_config, PROJECT_NAME)"
   ]
  },
  {
   "cell_type": "code",
   "execution_count": 12,
   "id": "893e510b",
   "metadata": {},
   "outputs": [],
   "source": [
    "api = wandb.Api()"
   ]
  },
  {
   "cell_type": "code",
   "execution_count": 13,
   "id": "09243371",
   "metadata": {},
   "outputs": [],
   "source": [
    "sweep_runs = api.runs(\"TEST_PROJECT\")"
   ]
  },
  {
   "cell_type": "code",
   "execution_count": 15,
   "id": "2a3c841f",
   "metadata": {},
   "outputs": [],
   "source": [
    "best_run = max(sweep_runs, key=lambda run: run.summary.get(\"f1_score_test\", 0))"
   ]
  },
  {
   "cell_type": "code",
   "execution_count": 16,
   "id": "66bda508",
   "metadata": {},
   "outputs": [
    {
     "name": "stdout",
     "output_type": "stream",
     "text": [
      "Best run: fluent-sweep-4 3hllg0ct\n",
      "Best config: {'C': 0.1, 'penalty': 'l2'}\n"
     ]
    }
   ],
   "source": [
    "print(\"Best run:\", best_run.name, best_run.id)\n",
    "print(\"Best config:\", best_run.config)"
   ]
  },
  {
   "cell_type": "code",
   "execution_count": null,
   "id": "05393bea",
   "metadata": {},
   "outputs": [
    {
     "name": "stderr",
     "output_type": "stream",
     "text": [
      "\u001b[34m\u001b[1mwandb\u001b[0m:   1 of 1 files downloaded.  \n"
     ]
    },
    {
     "name": "stdout",
     "output_type": "stream",
     "text": [
      "Artifact downloaded to: /home/thnhan301/Documents/PROJECT/GIT/truck-delay-prediction/artifacts/LogisticRegression:v1\n"
     ]
    }
   ],
   "source": [
    "model_artifact = None\n",
    "for artifact in best_run.logged_artifacts():\n",
    "    if artifact.type == 'model': \n",
    "        model_artifact = artifact\n",
    "        break\n",
    "\n",
    "if model_artifact:\n",
    "    artifact_dir = model_artifact.download()\n",
    "    print(f\"Artifact downloaded to: {artifact_dir}\")\n",
    "else:\n",
    "    print(\"No model artifact found for the best run.\")"
   ]
  }
 ],
 "metadata": {
  "kernelspec": {
   "display_name": "llm",
   "language": "python",
   "name": "python3"
  },
  "language_info": {
   "codemirror_mode": {
    "name": "ipython",
    "version": 3
   },
   "file_extension": ".py",
   "mimetype": "text/x-python",
   "name": "python",
   "nbconvert_exporter": "python",
   "pygments_lexer": "ipython3",
   "version": "3.10.18"
  }
 },
 "nbformat": 4,
 "nbformat_minor": 5
}
